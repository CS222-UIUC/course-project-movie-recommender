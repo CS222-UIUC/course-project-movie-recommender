{
  "nbformat": 4,
  "nbformat_minor": 0,
  "metadata": {
    "colab": {
      "provenance": [],
      "include_colab_link": true
    },
    "kernelspec": {
      "name": "python3",
      "display_name": "Python 3"
    },
    "language_info": {
      "name": "python"
    }
  },
  "cells": [
    {
      "cell_type": "markdown",
      "metadata": {
        "id": "view-in-github",
        "colab_type": "text"
      },
      "source": [
        "<a href=\"https://colab.research.google.com/github/CS222-UIUC/course-project-movie-recommender/blob/hojoony2/CS222_Set_Up.ipynb\" target=\"_parent\"><img src=\"https://colab.research.google.com/assets/colab-badge.svg\" alt=\"Open In Colab\"/></a>"
      ]
    },
    {
      "cell_type": "code",
      "execution_count": 1,
      "metadata": {
        "id": "HEPMmvu3Qm-y"
      },
      "outputs": [],
      "source": [
        "import numpy as np\n",
        "import tensorflow as ts\n",
        "import pandas as pd"
      ]
    },
    {
      "cell_type": "code",
      "source": [
        "print(\"hi this is cs222\")"
      ],
      "metadata": {
        "id": "DX30IUj7RofR",
        "colab": {
          "base_uri": "https://localhost:8080/"
        },
        "outputId": "e388db59-63b1-448f-b01e-dde4d0104ef2"
      },
      "execution_count": 2,
      "outputs": [
        {
          "output_type": "stream",
          "name": "stdout",
          "text": [
            "hi this is cs222\n"
          ]
        }
      ]
    },
    {
      "cell_type": "code",
      "source": [
        "mydata= pd.read_csv(\"movies.csv\")\n",
        "print(mydata)"
      ],
      "metadata": {
        "colab": {
          "base_uri": "https://localhost:8080/"
        },
        "id": "LLI6DRsd3-lj",
        "outputId": "840b2bfe-6b4d-4003-c489-6131d3d3cf70"
      },
      "execution_count": 11,
      "outputs": [
        {
          "output_type": "stream",
          "name": "stdout",
          "text": [
            "            id                           title  \\\n",
            "0       646389                           Plane   \n",
            "1       631842              Knock at the Cabin   \n",
            "2       315162    Puss in Boots: The Last Wish   \n",
            "3       505642  Black Panther: Wakanda Forever   \n",
            "4       956101               The Eighth Clause   \n",
            "...        ...                             ...   \n",
            "723915  770041                  Vendado y frío   \n",
            "723916  832928            ISTO NAO É. UMA MUSA   \n",
            "723917  780676                       Red Panda   \n",
            "723918  937880             Complementary Cubes   \n",
            "723919  968161                   Gising Sining   \n",
            "\n",
            "                                  genres original_language  \\\n",
            "0              Action-Adventure-Thriller                en   \n",
            "1                Horror-Mystery-Thriller                en   \n",
            "2             Animation-Adventure-Comedy                en   \n",
            "3       Action-Adventure-Science Fiction                en   \n",
            "4                               Thriller                la   \n",
            "...                                  ...               ...   \n",
            "723915                     Comedy-Horror                es   \n",
            "723916                               NaN                en   \n",
            "723917                               NaN                fa   \n",
            "723918                               NaN                en   \n",
            "723919                               NaN                tl   \n",
            "\n",
            "                                                 overview  popularity  \\\n",
            "0       After a heroic job of successfully landing his...    3337.265   \n",
            "1       While vacationing at a remote cabin a young gi...    3287.614   \n",
            "2       Puss in Boots discovers that his passion for a...    2682.103   \n",
            "3       Queen Ramonda Shuri M’Baku Okoye and the Dora ...    2605.020   \n",
            "4       Kat and Borja appear to be a perfect couple bu...    2259.303   \n",
            "...                                                   ...         ...   \n",
            "723915                                                NaN       0.600   \n",
            "723916  This is not. A Muse is a film directed by Thaí...       0.600   \n",
            "723917  a driver who has always dreamed of going to De...       0.600   \n",
            "723918  \"This footage was originally written for the f...       0.600   \n",
            "723919  In a country where fascism foolishness of peop...       0.600   \n",
            "\n",
            "                                     production_companies release_date  \\\n",
            "0       Di Bonaventura Pictures-MadRiver Pictures-Rive...   2023-01-12   \n",
            "1       Blinding Edge Pictures-Universal Pictures-Film...   2023-02-01   \n",
            "2                 DreamWorks Animation-Universal Pictures   2022-12-07   \n",
            "3                                          Marvel Studios   2022-11-09   \n",
            "4                            SDB Films-El Hombre Orquesta   2022-04-29   \n",
            "...                                                   ...          ...   \n",
            "723915                                                NaN   1999-06-07   \n",
            "723916                                                NaN          NaN   \n",
            "723917                                                NaN          NaN   \n",
            "723918                                                NaN   1975-05-29   \n",
            "723919                                          Studio RD          NaN   \n",
            "\n",
            "             budget      revenue  runtime    status  \\\n",
            "0        25000000.0   46000000.0    107.0  Released   \n",
            "1        20000000.0   52000000.0    100.0  Released   \n",
            "2        90000000.0  442000000.0    103.0  Released   \n",
            "3       250000000.0  855099029.0    162.0  Released   \n",
            "4               0.0          0.0      0.0  Released   \n",
            "...             ...          ...      ...       ...   \n",
            "723915          0.0          0.0      0.0  Released   \n",
            "723916          0.0          0.0     30.0  Released   \n",
            "723917          0.0          0.0     15.0  Released   \n",
            "723918          0.0          0.0      6.0  Released   \n",
            "723919          0.0          0.0     19.0  Released   \n",
            "\n",
            "                                                  tagline  vote_average  \\\n",
            "0                          Survive together or die alone.         6.858   \n",
            "1       Save your family or save humanity. Make the ch...         6.531   \n",
            "2                         Say hola to his little friends.         8.457   \n",
            "3                                                Forever.         7.407   \n",
            "4                                                     NaN         4.600   \n",
            "...                                                   ...           ...   \n",
            "723915                                                NaN         0.000   \n",
            "723916  This is not. A Muse is a film directed by Thaí...         0.000   \n",
            "723917                                          Red panda         0.000   \n",
            "723918                                                NaN         0.000   \n",
            "723919                                                NaN         0.000   \n",
            "\n",
            "        vote_count                                            credits  \\\n",
            "0            668.0  Gerard Butler-Mike Colter-Yoson An-Tony Goldwy...   \n",
            "1            611.0  Dave Bautista-Jonathan Groff-Ben Aldridge-Kris...   \n",
            "2           4094.0  Antonio Banderas-Salma Hayek-Harvey Guillén-Wa...   \n",
            "3           3661.0  Letitia Wright-Lupita Nyong'o-Danai Gurira-Win...   \n",
            "4             10.0  Maite Perroni-Manuel Vega-Óscar Jaenada-Jessic...   \n",
            "...            ...                                                ...   \n",
            "723915         0.0  Nicolás Abeles-Paulino Andrada-Darío Pedro Bil...   \n",
            "723916         0.0                                                NaN   \n",
            "723917         0.0                       ehsan mansouri-amirali elyas   \n",
            "723918         0.0                                                NaN   \n",
            "723919         0.0                               Ruka Azuma-Mel Perez   \n",
            "\n",
            "                                                 keywords  \\\n",
            "0       pilot-airplane-philippines-held hostage-plane ...   \n",
            "1       based on novel or book-sacrifice-cabin-faith-e...   \n",
            "2       fairy tale-talking dog-spin off-aftercreditsst...   \n",
            "3       loss of loved one-hero-sequel-superhero-based ...   \n",
            "4                                                     NaN   \n",
            "...                                                   ...   \n",
            "723915                                                NaN   \n",
            "723916                                                NaN   \n",
            "723917                                                NaN   \n",
            "723918                                                NaN   \n",
            "723919                                                NaN   \n",
            "\n",
            "                             poster_path                     backdrop_path  \\\n",
            "0       /qi9r5xBgcc9KTxlOLjssEbDgO0J.jpg  /9Rq14Eyrf7Tu1xk0Pl7VcNbNh1n.jpg   \n",
            "1       /dm06L9pxDOL9jNSK4Cb6y139rrG.jpg  /sANUefL2v8VI6fSfK3gWAG3XBt4.jpg   \n",
            "2       /kuf6dutpsT0vSVehic3EZIqkOBt.jpg  /b1Y8SUb12gPHCSSSNlbX4nB3IKy.jpg   \n",
            "3       /sv1xJUazXeYqALzczSZ3O6nkH75.jpg  /xDMIl84Qo5Tsu62c9DGWhmPI67A.jpg   \n",
            "4       /8tc8eMFAX2SDC1TRu987qFQy8Cl.jpg  /kLnqNE9Af5QHyvUxw8cDGhF1ilv.jpg   \n",
            "...                                  ...                               ...   \n",
            "723915  /A6cRfScb5fJE0eSTWgALijILQnJ.jpg  /8HNgv3dyesq1SilpUuRvY5tVZtD.jpg   \n",
            "723916                               NaN                               NaN   \n",
            "723917  /wfZ8v8Eq2HmppO3h9ctumhPeK6I.jpg                               NaN   \n",
            "723918                               NaN                               NaN   \n",
            "723919   /jv34KgS7D997H5kbVYxKLJRScg.jpg                               NaN   \n",
            "\n",
            "                                          recommendations  \n",
            "0       937278-536554-653851-615777-9740-593643-555604...  \n",
            "1                                                     NaN  \n",
            "2       536554-76600-816904-653851-899112-985335-83078...  \n",
            "3       436270-829280-76600-56969-312634-1037858-238-5...  \n",
            "4                                                     NaN  \n",
            "...                                                   ...  \n",
            "723915                                                NaN  \n",
            "723916                                                NaN  \n",
            "723917                                                NaN  \n",
            "723918                                                NaN  \n",
            "723919                                                NaN  \n",
            "\n",
            "[723920 rows x 20 columns]\n"
          ]
        }
      ]
    }
  ]
}