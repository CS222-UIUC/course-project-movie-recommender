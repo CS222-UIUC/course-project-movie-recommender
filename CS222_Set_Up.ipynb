{
  "nbformat": 4,
  "nbformat_minor": 0,
  "metadata": {
    "colab": {
      "provenance": [],
      "include_colab_link": true
    },
    "kernelspec": {
      "name": "python3",
      "display_name": "Python 3"
    },
    "language_info": {
      "name": "python"
    }
  },
  "cells": [
    {
      "cell_type": "markdown",
      "metadata": {
        "id": "view-in-github",
        "colab_type": "text"
      },
      "source": [
        "<a href=\"https://colab.research.google.com/github/CS222-UIUC/course-project-movie-recommender/blob/main/CS222_Set_Up.ipynb\" target=\"_parent\"><img src=\"https://colab.research.google.com/assets/colab-badge.svg\" alt=\"Open In Colab\"/></a>"
      ]
    },
    {
      "cell_type": "code",
      "execution_count": null,
      "metadata": {
        "id": "HEPMmvu3Qm-y"
      },
      "outputs": [],
      "source": [
        "import numpy as np\n",
        "import tensorflow as ts\n",
        "import pandas as pd"
      ]
    },
    {
      "cell_type": "code",
      "source": [
        "print(\"hi this is cs222\")"
      ],
      "metadata": {
        "id": "DX30IUj7RofR",
        "colab": {
          "base_uri": "https://localhost:8080/"
        },
        "outputId": "6c1a0a80-9b24-4839-aa8b-283f76db0b09"
      },
      "execution_count": null,
      "outputs": [
        {
          "output_type": "stream",
          "name": "stdout",
          "text": [
            "hi this is cs222\n"
          ]
        }
      ]
    },
    {
      "cell_type": "code",
      "source": [],
      "metadata": {
        "id": "P8h-cjoWUz5R"
      },
      "execution_count": null,
      "outputs": []
    }
  ]
}