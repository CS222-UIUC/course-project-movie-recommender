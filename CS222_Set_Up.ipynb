{
  "nbformat": 4,
  "nbformat_minor": 0,
  "metadata": {
    "colab": {
      "provenance": [],
      "include_colab_link": true
    },
    "kernelspec": {
      "name": "python3",
      "display_name": "Python 3"
    },
    "language_info": {
      "name": "python"
    }
  },
  "cells": [
    {
      "cell_type": "markdown",
      "metadata": {
        "id": "view-in-github",
        "colab_type": "text"
      },
      "source": [
        "<a href=\"https://colab.research.google.com/github/CS222-UIUC/course-project-movie-recommender/blob/main/CS222_Set_Up.ipynb\" target=\"_parent\"><img src=\"https://colab.research.google.com/assets/colab-badge.svg\" alt=\"Open In Colab\"/></a>"
      ]
    },
    {
      "cell_type": "code",
      "execution_count": 31,
      "metadata": {
        "id": "HEPMmvu3Qm-y"
      },
      "outputs": [],
      "source": [
        "import numpy as np\n",
        "import tensorflow as ts\n",
        "import pandas as pd\n",
        "import matplotlib.pyplot as plt"
      ]
    },
    {
      "cell_type": "code",
      "source": [
        "print(\"hi this is cs222\")"
      ],
      "metadata": {
        "id": "DX30IUj7RofR",
        "colab": {
          "base_uri": "https://localhost:8080/"
        },
        "outputId": "01758ed1-87cd-408e-c870-1c0c4231f9f3"
      },
      "execution_count": 3,
      "outputs": [
        {
          "output_type": "stream",
          "name": "stdout",
          "text": [
            "hi this is cs222\n"
          ]
        }
      ]
    },
    {
      "cell_type": "code",
      "source": [
        "df = pd.read_csv(\"movies.csv\")\n"
      ],
      "metadata": {
        "id": "LLI6DRsd3-lj"
      },
      "execution_count": 8,
      "outputs": []
    },
    {
      "cell_type": "code",
      "source": [
        "upda = df.head(200)\n",
        "upda"
      ],
      "metadata": {
        "id": "k36ur0daCqDy",
        "outputId": "4c500992-eca1-4a1f-a79f-9ad70ec5ff02",
        "colab": {
          "base_uri": "https://localhost:8080/",
          "height": 1000
        }
      },
      "execution_count": 9,
      "outputs": [
        {
          "output_type": "execute_result",
          "data": {
            "text/plain": [
              "         id                           title                            genres  \\\n",
              "0    646389                           Plane         Action-Adventure-Thriller   \n",
              "1    631842              Knock at the Cabin           Horror-Mystery-Thriller   \n",
              "2    315162    Puss in Boots: The Last Wish        Animation-Adventure-Comedy   \n",
              "3    505642  Black Panther: Wakanda Forever  Action-Adventure-Science Fiction   \n",
              "4    956101               The Eighth Clause                          Thriller   \n",
              "..      ...                             ...                               ...   \n",
              "195  708471                 The Last Zombie                            Horror   \n",
              "196  879538                      Crawlspace                          Thriller   \n",
              "197  874705                      Ash & Dust                    Crime-Thriller   \n",
              "198  216015            Fifty Shades of Grey            Drama-Romance-Thriller   \n",
              "199  821489          All My Friends Hate Me            Comedy-Thriller-Horror   \n",
              "\n",
              "    original_language                                           overview  \\\n",
              "0                  en  After a heroic job of successfully landing his...   \n",
              "1                  en  While vacationing at a remote cabin a young gi...   \n",
              "2                  en  Puss in Boots discovers that his passion for a...   \n",
              "3                  en  Queen Ramonda Shuri M’Baku Okoye and the Dora ...   \n",
              "4                  la  Kat and Borja appear to be a perfect couple bu...   \n",
              "..                ...                                                ...   \n",
              "195                es  A genetics specialist is sent to stay in a coa...   \n",
              "196                en  After witnessing a brutal murder in a cabin a ...   \n",
              "197                en  The film is set in a small town where two mode...   \n",
              "198                en  When college senior Anastasia Steele steps in ...   \n",
              "199                en  Genuine but increasingly insecure Pete is caut...   \n",
              "\n",
              "     popularity                               production_companies  \\\n",
              "0      3337.265  Di Bonaventura Pictures-MadRiver Pictures-Rive...   \n",
              "1      3287.614  Blinding Edge Pictures-Universal Pictures-Film...   \n",
              "2      2682.103            DreamWorks Animation-Universal Pictures   \n",
              "3      2605.020                                     Marvel Studios   \n",
              "4      2259.303                       SDB Films-El Hombre Orquesta   \n",
              "..          ...                                                ...   \n",
              "195     181.048                                       Clase B Cine   \n",
              "196     180.879  Front Street Pictures-Wonder Street-SP Media G...   \n",
              "197     180.103                         Dystopian Films-Grimehouse   \n",
              "198     179.788  Trigger Street Productions-Focus Features-Mich...   \n",
              "199     178.792                                   Endeavor Content   \n",
              "\n",
              "    release_date       budget      revenue  runtime    status  \\\n",
              "0     2023-01-12   25000000.0   46000000.0    107.0  Released   \n",
              "1     2023-02-01   20000000.0   52000000.0    100.0  Released   \n",
              "2     2022-12-07   90000000.0  442000000.0    103.0  Released   \n",
              "3     2022-11-09  250000000.0  855099029.0    162.0  Released   \n",
              "4     2022-04-29          0.0          0.0      0.0  Released   \n",
              "..           ...          ...          ...      ...       ...   \n",
              "195   2021-12-02          0.0          0.0     85.0  Released   \n",
              "196   2022-03-31          0.0          0.0     90.0  Released   \n",
              "197   2022-03-11          0.0          0.0     85.0  Released   \n",
              "198   2015-02-11   40000000.0  571006128.0    125.0  Released   \n",
              "199   2022-03-11          0.0          0.0     93.0  Released   \n",
              "\n",
              "                                               tagline  vote_average  \\\n",
              "0                       Survive together or die alone.         6.858   \n",
              "1    Save your family or save humanity. Make the ch...         6.531   \n",
              "2                      Say hola to his little friends.         8.457   \n",
              "3                                             Forever.         7.407   \n",
              "4                                                  NaN         4.600   \n",
              "..                                                 ...           ...   \n",
              "195                             Soon we will all be...         5.700   \n",
              "196                                                NaN         6.600   \n",
              "197  Before you embark on a journey of revenge, dig...         4.000   \n",
              "198                                   Are you curious?         5.890   \n",
              "199                                                NaN         6.100   \n",
              "\n",
              "     vote_count                                            credits  \\\n",
              "0         668.0  Gerard Butler-Mike Colter-Yoson An-Tony Goldwy...   \n",
              "1         611.0  Dave Bautista-Jonathan Groff-Ben Aldridge-Kris...   \n",
              "2        4094.0  Antonio Banderas-Salma Hayek-Harvey Guillén-Wa...   \n",
              "3        3661.0  Letitia Wright-Lupita Nyong'o-Danai Gurira-Win...   \n",
              "4          10.0  Maite Perroni-Manuel Vega-Óscar Jaenada-Jessic...   \n",
              "..          ...                                                ...   \n",
              "195         3.0  Matías Desiderio-Tony Lestingi-Adriana Ferrer-...   \n",
              "196        81.0  Henry Thomas-Bradley Stryker-C. Ernst Harth-Je...   \n",
              "197         8.0  Michael Swatton-Blake Canning-Kayla Meyer-Nick...   \n",
              "198     10726.0  Dakota Johnson-Jamie Dornan-Jennifer Ehle-Eloi...   \n",
              "199        60.0  Tom Stourton-Georgina Campbell-Charly Clive-An...   \n",
              "\n",
              "                                              keywords  \\\n",
              "0    pilot-airplane-philippines-held hostage-plane ...   \n",
              "1    based on novel or book-sacrifice-cabin-faith-e...   \n",
              "2    fairy tale-talking dog-spin off-aftercreditsst...   \n",
              "3    loss of loved one-hero-sequel-superhero-based ...   \n",
              "4                                                  NaN   \n",
              "..                                                 ...   \n",
              "195                                                NaN   \n",
              "196  small town-plumber-murder-drugs-trapped-illega...   \n",
              "197                                                NaN   \n",
              "198  based on novel or book-eroticism-bad smell-per...   \n",
              "199                                                NaN   \n",
              "\n",
              "                          poster_path                     backdrop_path  \\\n",
              "0    /qi9r5xBgcc9KTxlOLjssEbDgO0J.jpg  /9Rq14Eyrf7Tu1xk0Pl7VcNbNh1n.jpg   \n",
              "1    /dm06L9pxDOL9jNSK4Cb6y139rrG.jpg  /sANUefL2v8VI6fSfK3gWAG3XBt4.jpg   \n",
              "2    /kuf6dutpsT0vSVehic3EZIqkOBt.jpg  /b1Y8SUb12gPHCSSSNlbX4nB3IKy.jpg   \n",
              "3    /sv1xJUazXeYqALzczSZ3O6nkH75.jpg  /xDMIl84Qo5Tsu62c9DGWhmPI67A.jpg   \n",
              "4    /8tc8eMFAX2SDC1TRu987qFQy8Cl.jpg  /kLnqNE9Af5QHyvUxw8cDGhF1ilv.jpg   \n",
              "..                                ...                               ...   \n",
              "195  /yM8a1dDRsJUhq1xKxq1UNdWXpod.jpg  /eHRtXoPDAUUX7LWXvQfFAK2nFkG.jpg   \n",
              "196  /yZVByCjWvKdSWcYLacoFmnOoSpm.jpg  /60UN7vvcWWggLe0Uz9EFZJx718P.jpg   \n",
              "197  /rCGirSx2C7phjwHoaiqihnGx63p.jpg  /AftVaxgPrKh6BdxdqDZ3Pxh9hNP.jpg   \n",
              "198  /63kGofUkt1Mx0SIL4XI4Z5AoSgt.jpg  /mgY8An5qVCgLh97KOWeJVJarskL.jpg   \n",
              "199  /7j5ZLDGWQ4U3iAD2wLNhs0CjpuQ.jpg  /2OCmjWbuZwBVZpf2QIrbDg2oqTk.jpg   \n",
              "\n",
              "                                       recommendations  \n",
              "0    937278-536554-653851-615777-9740-593643-555604...  \n",
              "1                                                  NaN  \n",
              "2    536554-76600-816904-653851-899112-985335-83078...  \n",
              "3    436270-829280-76600-56969-312634-1037858-238-5...  \n",
              "4                                                  NaN  \n",
              "..                                                 ...  \n",
              "195                                             778855  \n",
              "196  629015-839678-756681-854467-944477-877816-9825...  \n",
              "197                                                NaN  \n",
              "198  341174-337167-982549-207780-222935-812340-8966...  \n",
              "199  674324-110402-15390-880841-942890-200630-71199...  \n",
              "\n",
              "[200 rows x 20 columns]"
            ],
            "text/html": [
              "\n",
              "  <div id=\"df-daea74ea-cec6-4089-a034-9095d12d320c\">\n",
              "    <div class=\"colab-df-container\">\n",
              "      <div>\n",
              "<style scoped>\n",
              "    .dataframe tbody tr th:only-of-type {\n",
              "        vertical-align: middle;\n",
              "    }\n",
              "\n",
              "    .dataframe tbody tr th {\n",
              "        vertical-align: top;\n",
              "    }\n",
              "\n",
              "    .dataframe thead th {\n",
              "        text-align: right;\n",
              "    }\n",
              "</style>\n",
              "<table border=\"1\" class=\"dataframe\">\n",
              "  <thead>\n",
              "    <tr style=\"text-align: right;\">\n",
              "      <th></th>\n",
              "      <th>id</th>\n",
              "      <th>title</th>\n",
              "      <th>genres</th>\n",
              "      <th>original_language</th>\n",
              "      <th>overview</th>\n",
              "      <th>popularity</th>\n",
              "      <th>production_companies</th>\n",
              "      <th>release_date</th>\n",
              "      <th>budget</th>\n",
              "      <th>revenue</th>\n",
              "      <th>runtime</th>\n",
              "      <th>status</th>\n",
              "      <th>tagline</th>\n",
              "      <th>vote_average</th>\n",
              "      <th>vote_count</th>\n",
              "      <th>credits</th>\n",
              "      <th>keywords</th>\n",
              "      <th>poster_path</th>\n",
              "      <th>backdrop_path</th>\n",
              "      <th>recommendations</th>\n",
              "    </tr>\n",
              "  </thead>\n",
              "  <tbody>\n",
              "    <tr>\n",
              "      <th>0</th>\n",
              "      <td>646389</td>\n",
              "      <td>Plane</td>\n",
              "      <td>Action-Adventure-Thriller</td>\n",
              "      <td>en</td>\n",
              "      <td>After a heroic job of successfully landing his...</td>\n",
              "      <td>3337.265</td>\n",
              "      <td>Di Bonaventura Pictures-MadRiver Pictures-Rive...</td>\n",
              "      <td>2023-01-12</td>\n",
              "      <td>25000000.0</td>\n",
              "      <td>46000000.0</td>\n",
              "      <td>107.0</td>\n",
              "      <td>Released</td>\n",
              "      <td>Survive together or die alone.</td>\n",
              "      <td>6.858</td>\n",
              "      <td>668.0</td>\n",
              "      <td>Gerard Butler-Mike Colter-Yoson An-Tony Goldwy...</td>\n",
              "      <td>pilot-airplane-philippines-held hostage-plane ...</td>\n",
              "      <td>/qi9r5xBgcc9KTxlOLjssEbDgO0J.jpg</td>\n",
              "      <td>/9Rq14Eyrf7Tu1xk0Pl7VcNbNh1n.jpg</td>\n",
              "      <td>937278-536554-653851-615777-9740-593643-555604...</td>\n",
              "    </tr>\n",
              "    <tr>\n",
              "      <th>1</th>\n",
              "      <td>631842</td>\n",
              "      <td>Knock at the Cabin</td>\n",
              "      <td>Horror-Mystery-Thriller</td>\n",
              "      <td>en</td>\n",
              "      <td>While vacationing at a remote cabin a young gi...</td>\n",
              "      <td>3287.614</td>\n",
              "      <td>Blinding Edge Pictures-Universal Pictures-Film...</td>\n",
              "      <td>2023-02-01</td>\n",
              "      <td>20000000.0</td>\n",
              "      <td>52000000.0</td>\n",
              "      <td>100.0</td>\n",
              "      <td>Released</td>\n",
              "      <td>Save your family or save humanity. Make the ch...</td>\n",
              "      <td>6.531</td>\n",
              "      <td>611.0</td>\n",
              "      <td>Dave Bautista-Jonathan Groff-Ben Aldridge-Kris...</td>\n",
              "      <td>based on novel or book-sacrifice-cabin-faith-e...</td>\n",
              "      <td>/dm06L9pxDOL9jNSK4Cb6y139rrG.jpg</td>\n",
              "      <td>/sANUefL2v8VI6fSfK3gWAG3XBt4.jpg</td>\n",
              "      <td>NaN</td>\n",
              "    </tr>\n",
              "    <tr>\n",
              "      <th>2</th>\n",
              "      <td>315162</td>\n",
              "      <td>Puss in Boots: The Last Wish</td>\n",
              "      <td>Animation-Adventure-Comedy</td>\n",
              "      <td>en</td>\n",
              "      <td>Puss in Boots discovers that his passion for a...</td>\n",
              "      <td>2682.103</td>\n",
              "      <td>DreamWorks Animation-Universal Pictures</td>\n",
              "      <td>2022-12-07</td>\n",
              "      <td>90000000.0</td>\n",
              "      <td>442000000.0</td>\n",
              "      <td>103.0</td>\n",
              "      <td>Released</td>\n",
              "      <td>Say hola to his little friends.</td>\n",
              "      <td>8.457</td>\n",
              "      <td>4094.0</td>\n",
              "      <td>Antonio Banderas-Salma Hayek-Harvey Guillén-Wa...</td>\n",
              "      <td>fairy tale-talking dog-spin off-aftercreditsst...</td>\n",
              "      <td>/kuf6dutpsT0vSVehic3EZIqkOBt.jpg</td>\n",
              "      <td>/b1Y8SUb12gPHCSSSNlbX4nB3IKy.jpg</td>\n",
              "      <td>536554-76600-816904-653851-899112-985335-83078...</td>\n",
              "    </tr>\n",
              "    <tr>\n",
              "      <th>3</th>\n",
              "      <td>505642</td>\n",
              "      <td>Black Panther: Wakanda Forever</td>\n",
              "      <td>Action-Adventure-Science Fiction</td>\n",
              "      <td>en</td>\n",
              "      <td>Queen Ramonda Shuri M’Baku Okoye and the Dora ...</td>\n",
              "      <td>2605.020</td>\n",
              "      <td>Marvel Studios</td>\n",
              "      <td>2022-11-09</td>\n",
              "      <td>250000000.0</td>\n",
              "      <td>855099029.0</td>\n",
              "      <td>162.0</td>\n",
              "      <td>Released</td>\n",
              "      <td>Forever.</td>\n",
              "      <td>7.407</td>\n",
              "      <td>3661.0</td>\n",
              "      <td>Letitia Wright-Lupita Nyong'o-Danai Gurira-Win...</td>\n",
              "      <td>loss of loved one-hero-sequel-superhero-based ...</td>\n",
              "      <td>/sv1xJUazXeYqALzczSZ3O6nkH75.jpg</td>\n",
              "      <td>/xDMIl84Qo5Tsu62c9DGWhmPI67A.jpg</td>\n",
              "      <td>436270-829280-76600-56969-312634-1037858-238-5...</td>\n",
              "    </tr>\n",
              "    <tr>\n",
              "      <th>4</th>\n",
              "      <td>956101</td>\n",
              "      <td>The Eighth Clause</td>\n",
              "      <td>Thriller</td>\n",
              "      <td>la</td>\n",
              "      <td>Kat and Borja appear to be a perfect couple bu...</td>\n",
              "      <td>2259.303</td>\n",
              "      <td>SDB Films-El Hombre Orquesta</td>\n",
              "      <td>2022-04-29</td>\n",
              "      <td>0.0</td>\n",
              "      <td>0.0</td>\n",
              "      <td>0.0</td>\n",
              "      <td>Released</td>\n",
              "      <td>NaN</td>\n",
              "      <td>4.600</td>\n",
              "      <td>10.0</td>\n",
              "      <td>Maite Perroni-Manuel Vega-Óscar Jaenada-Jessic...</td>\n",
              "      <td>NaN</td>\n",
              "      <td>/8tc8eMFAX2SDC1TRu987qFQy8Cl.jpg</td>\n",
              "      <td>/kLnqNE9Af5QHyvUxw8cDGhF1ilv.jpg</td>\n",
              "      <td>NaN</td>\n",
              "    </tr>\n",
              "    <tr>\n",
              "      <th>...</th>\n",
              "      <td>...</td>\n",
              "      <td>...</td>\n",
              "      <td>...</td>\n",
              "      <td>...</td>\n",
              "      <td>...</td>\n",
              "      <td>...</td>\n",
              "      <td>...</td>\n",
              "      <td>...</td>\n",
              "      <td>...</td>\n",
              "      <td>...</td>\n",
              "      <td>...</td>\n",
              "      <td>...</td>\n",
              "      <td>...</td>\n",
              "      <td>...</td>\n",
              "      <td>...</td>\n",
              "      <td>...</td>\n",
              "      <td>...</td>\n",
              "      <td>...</td>\n",
              "      <td>...</td>\n",
              "      <td>...</td>\n",
              "    </tr>\n",
              "    <tr>\n",
              "      <th>195</th>\n",
              "      <td>708471</td>\n",
              "      <td>The Last Zombie</td>\n",
              "      <td>Horror</td>\n",
              "      <td>es</td>\n",
              "      <td>A genetics specialist is sent to stay in a coa...</td>\n",
              "      <td>181.048</td>\n",
              "      <td>Clase B Cine</td>\n",
              "      <td>2021-12-02</td>\n",
              "      <td>0.0</td>\n",
              "      <td>0.0</td>\n",
              "      <td>85.0</td>\n",
              "      <td>Released</td>\n",
              "      <td>Soon we will all be...</td>\n",
              "      <td>5.700</td>\n",
              "      <td>3.0</td>\n",
              "      <td>Matías Desiderio-Tony Lestingi-Adriana Ferrer-...</td>\n",
              "      <td>NaN</td>\n",
              "      <td>/yM8a1dDRsJUhq1xKxq1UNdWXpod.jpg</td>\n",
              "      <td>/eHRtXoPDAUUX7LWXvQfFAK2nFkG.jpg</td>\n",
              "      <td>778855</td>\n",
              "    </tr>\n",
              "    <tr>\n",
              "      <th>196</th>\n",
              "      <td>879538</td>\n",
              "      <td>Crawlspace</td>\n",
              "      <td>Thriller</td>\n",
              "      <td>en</td>\n",
              "      <td>After witnessing a brutal murder in a cabin a ...</td>\n",
              "      <td>180.879</td>\n",
              "      <td>Front Street Pictures-Wonder Street-SP Media G...</td>\n",
              "      <td>2022-03-31</td>\n",
              "      <td>0.0</td>\n",
              "      <td>0.0</td>\n",
              "      <td>90.0</td>\n",
              "      <td>Released</td>\n",
              "      <td>NaN</td>\n",
              "      <td>6.600</td>\n",
              "      <td>81.0</td>\n",
              "      <td>Henry Thomas-Bradley Stryker-C. Ernst Harth-Je...</td>\n",
              "      <td>small town-plumber-murder-drugs-trapped-illega...</td>\n",
              "      <td>/yZVByCjWvKdSWcYLacoFmnOoSpm.jpg</td>\n",
              "      <td>/60UN7vvcWWggLe0Uz9EFZJx718P.jpg</td>\n",
              "      <td>629015-839678-756681-854467-944477-877816-9825...</td>\n",
              "    </tr>\n",
              "    <tr>\n",
              "      <th>197</th>\n",
              "      <td>874705</td>\n",
              "      <td>Ash &amp; Dust</td>\n",
              "      <td>Crime-Thriller</td>\n",
              "      <td>en</td>\n",
              "      <td>The film is set in a small town where two mode...</td>\n",
              "      <td>180.103</td>\n",
              "      <td>Dystopian Films-Grimehouse</td>\n",
              "      <td>2022-03-11</td>\n",
              "      <td>0.0</td>\n",
              "      <td>0.0</td>\n",
              "      <td>85.0</td>\n",
              "      <td>Released</td>\n",
              "      <td>Before you embark on a journey of revenge, dig...</td>\n",
              "      <td>4.000</td>\n",
              "      <td>8.0</td>\n",
              "      <td>Michael Swatton-Blake Canning-Kayla Meyer-Nick...</td>\n",
              "      <td>NaN</td>\n",
              "      <td>/rCGirSx2C7phjwHoaiqihnGx63p.jpg</td>\n",
              "      <td>/AftVaxgPrKh6BdxdqDZ3Pxh9hNP.jpg</td>\n",
              "      <td>NaN</td>\n",
              "    </tr>\n",
              "    <tr>\n",
              "      <th>198</th>\n",
              "      <td>216015</td>\n",
              "      <td>Fifty Shades of Grey</td>\n",
              "      <td>Drama-Romance-Thriller</td>\n",
              "      <td>en</td>\n",
              "      <td>When college senior Anastasia Steele steps in ...</td>\n",
              "      <td>179.788</td>\n",
              "      <td>Trigger Street Productions-Focus Features-Mich...</td>\n",
              "      <td>2015-02-11</td>\n",
              "      <td>40000000.0</td>\n",
              "      <td>571006128.0</td>\n",
              "      <td>125.0</td>\n",
              "      <td>Released</td>\n",
              "      <td>Are you curious?</td>\n",
              "      <td>5.890</td>\n",
              "      <td>10726.0</td>\n",
              "      <td>Dakota Johnson-Jamie Dornan-Jennifer Ehle-Eloi...</td>\n",
              "      <td>based on novel or book-eroticism-bad smell-per...</td>\n",
              "      <td>/63kGofUkt1Mx0SIL4XI4Z5AoSgt.jpg</td>\n",
              "      <td>/mgY8An5qVCgLh97KOWeJVJarskL.jpg</td>\n",
              "      <td>341174-337167-982549-207780-222935-812340-8966...</td>\n",
              "    </tr>\n",
              "    <tr>\n",
              "      <th>199</th>\n",
              "      <td>821489</td>\n",
              "      <td>All My Friends Hate Me</td>\n",
              "      <td>Comedy-Thriller-Horror</td>\n",
              "      <td>en</td>\n",
              "      <td>Genuine but increasingly insecure Pete is caut...</td>\n",
              "      <td>178.792</td>\n",
              "      <td>Endeavor Content</td>\n",
              "      <td>2022-03-11</td>\n",
              "      <td>0.0</td>\n",
              "      <td>0.0</td>\n",
              "      <td>93.0</td>\n",
              "      <td>Released</td>\n",
              "      <td>NaN</td>\n",
              "      <td>6.100</td>\n",
              "      <td>60.0</td>\n",
              "      <td>Tom Stourton-Georgina Campbell-Charly Clive-An...</td>\n",
              "      <td>NaN</td>\n",
              "      <td>/7j5ZLDGWQ4U3iAD2wLNhs0CjpuQ.jpg</td>\n",
              "      <td>/2OCmjWbuZwBVZpf2QIrbDg2oqTk.jpg</td>\n",
              "      <td>674324-110402-15390-880841-942890-200630-71199...</td>\n",
              "    </tr>\n",
              "  </tbody>\n",
              "</table>\n",
              "<p>200 rows × 20 columns</p>\n",
              "</div>\n",
              "      <button class=\"colab-df-convert\" onclick=\"convertToInteractive('df-daea74ea-cec6-4089-a034-9095d12d320c')\"\n",
              "              title=\"Convert this dataframe to an interactive table.\"\n",
              "              style=\"display:none;\">\n",
              "        \n",
              "  <svg xmlns=\"http://www.w3.org/2000/svg\" height=\"24px\"viewBox=\"0 0 24 24\"\n",
              "       width=\"24px\">\n",
              "    <path d=\"M0 0h24v24H0V0z\" fill=\"none\"/>\n",
              "    <path d=\"M18.56 5.44l.94 2.06.94-2.06 2.06-.94-2.06-.94-.94-2.06-.94 2.06-2.06.94zm-11 1L8.5 8.5l.94-2.06 2.06-.94-2.06-.94L8.5 2.5l-.94 2.06-2.06.94zm10 10l.94 2.06.94-2.06 2.06-.94-2.06-.94-.94-2.06-.94 2.06-2.06.94z\"/><path d=\"M17.41 7.96l-1.37-1.37c-.4-.4-.92-.59-1.43-.59-.52 0-1.04.2-1.43.59L10.3 9.45l-7.72 7.72c-.78.78-.78 2.05 0 2.83L4 21.41c.39.39.9.59 1.41.59.51 0 1.02-.2 1.41-.59l7.78-7.78 2.81-2.81c.8-.78.8-2.07 0-2.86zM5.41 20L4 18.59l7.72-7.72 1.47 1.35L5.41 20z\"/>\n",
              "  </svg>\n",
              "      </button>\n",
              "      \n",
              "  <style>\n",
              "    .colab-df-container {\n",
              "      display:flex;\n",
              "      flex-wrap:wrap;\n",
              "      gap: 12px;\n",
              "    }\n",
              "\n",
              "    .colab-df-convert {\n",
              "      background-color: #E8F0FE;\n",
              "      border: none;\n",
              "      border-radius: 50%;\n",
              "      cursor: pointer;\n",
              "      display: none;\n",
              "      fill: #1967D2;\n",
              "      height: 32px;\n",
              "      padding: 0 0 0 0;\n",
              "      width: 32px;\n",
              "    }\n",
              "\n",
              "    .colab-df-convert:hover {\n",
              "      background-color: #E2EBFA;\n",
              "      box-shadow: 0px 1px 2px rgba(60, 64, 67, 0.3), 0px 1px 3px 1px rgba(60, 64, 67, 0.15);\n",
              "      fill: #174EA6;\n",
              "    }\n",
              "\n",
              "    [theme=dark] .colab-df-convert {\n",
              "      background-color: #3B4455;\n",
              "      fill: #D2E3FC;\n",
              "    }\n",
              "\n",
              "    [theme=dark] .colab-df-convert:hover {\n",
              "      background-color: #434B5C;\n",
              "      box-shadow: 0px 1px 3px 1px rgba(0, 0, 0, 0.15);\n",
              "      filter: drop-shadow(0px 1px 2px rgba(0, 0, 0, 0.3));\n",
              "      fill: #FFFFFF;\n",
              "    }\n",
              "  </style>\n",
              "\n",
              "      <script>\n",
              "        const buttonEl =\n",
              "          document.querySelector('#df-daea74ea-cec6-4089-a034-9095d12d320c button.colab-df-convert');\n",
              "        buttonEl.style.display =\n",
              "          google.colab.kernel.accessAllowed ? 'block' : 'none';\n",
              "\n",
              "        async function convertToInteractive(key) {\n",
              "          const element = document.querySelector('#df-daea74ea-cec6-4089-a034-9095d12d320c');\n",
              "          const dataTable =\n",
              "            await google.colab.kernel.invokeFunction('convertToInteractive',\n",
              "                                                     [key], {});\n",
              "          if (!dataTable) return;\n",
              "\n",
              "          const docLinkHtml = 'Like what you see? Visit the ' +\n",
              "            '<a target=\"_blank\" href=https://colab.research.google.com/notebooks/data_table.ipynb>data table notebook</a>'\n",
              "            + ' to learn more about interactive tables.';\n",
              "          element.innerHTML = '';\n",
              "          dataTable['output_type'] = 'display_data';\n",
              "          await google.colab.output.renderOutput(dataTable, element);\n",
              "          const docLink = document.createElement('div');\n",
              "          docLink.innerHTML = docLinkHtml;\n",
              "          element.appendChild(docLink);\n",
              "        }\n",
              "      </script>\n",
              "    </div>\n",
              "  </div>\n",
              "  "
            ]
          },
          "metadata": {},
          "execution_count": 9
        }
      ]
    },
    {
      "cell_type": "code",
      "source": [
        "print(df.shape)"
      ],
      "metadata": {
        "id": "iRBGIMhcIa6z",
        "outputId": "1a3d8259-d616-4692-becb-0753bbb11097",
        "colab": {
          "base_uri": "https://localhost:8080/"
        }
      },
      "execution_count": 45,
      "outputs": [
        {
          "output_type": "stream",
          "name": "stdout",
          "text": [
            "(723920, 20)\n"
          ]
        }
      ]
    },
    {
      "cell_type": "code",
      "source": [
        "df.info()"
      ],
      "metadata": {
        "id": "WD9rlAy9IgYD",
        "outputId": "655c33e7-1d0a-452e-aa92-cd308719aa59",
        "colab": {
          "base_uri": "https://localhost:8080/"
        }
      },
      "execution_count": 46,
      "outputs": [
        {
          "output_type": "stream",
          "name": "stdout",
          "text": [
            "<class 'pandas.core.frame.DataFrame'>\n",
            "RangeIndex: 723920 entries, 0 to 723919\n",
            "Data columns (total 20 columns):\n",
            " #   Column                Non-Null Count   Dtype  \n",
            "---  ------                --------------   -----  \n",
            " 0   id                    723920 non-null  int64  \n",
            " 1   title                 723916 non-null  object \n",
            " 2   genres                512340 non-null  object \n",
            " 3   original_language     723920 non-null  object \n",
            " 4   overview              605023 non-null  object \n",
            " 5   popularity            723920 non-null  float64\n",
            " 6   production_companies  337401 non-null  object \n",
            " 7   release_date          670848 non-null  object \n",
            " 8   budget                723920 non-null  float64\n",
            " 9   revenue               723920 non-null  float64\n",
            " 10  runtime               689248 non-null  float64\n",
            " 11  status                723920 non-null  object \n",
            " 12  tagline               108075 non-null  object \n",
            " 13  vote_average          723920 non-null  float64\n",
            " 14  vote_count            723920 non-null  float64\n",
            " 15  credits               498473 non-null  object \n",
            " 16  keywords              210398 non-null  object \n",
            " 17  poster_path           537950 non-null  object \n",
            " 18  backdrop_path         222540 non-null  object \n",
            " 19  recommendations       34711 non-null   object \n",
            "dtypes: float64(6), int64(1), object(13)\n",
            "memory usage: 110.5+ MB\n"
          ]
        }
      ]
    },
    {
      "cell_type": "code",
      "source": [
        "df.isnull().sum()"
      ],
      "metadata": {
        "id": "W4fKlhx6ImmK",
        "outputId": "e9b93367-6e78-41d8-96fb-2c602adf4d61",
        "colab": {
          "base_uri": "https://localhost:8080/"
        }
      },
      "execution_count": 47,
      "outputs": [
        {
          "output_type": "execute_result",
          "data": {
            "text/plain": [
              "id                           0\n",
              "title                        4\n",
              "genres                  211580\n",
              "original_language            0\n",
              "overview                118897\n",
              "popularity                   0\n",
              "production_companies    386519\n",
              "release_date             53072\n",
              "budget                       0\n",
              "revenue                      0\n",
              "runtime                  34672\n",
              "status                       0\n",
              "tagline                 615845\n",
              "vote_average                 0\n",
              "vote_count                   0\n",
              "credits                 225447\n",
              "keywords                513522\n",
              "poster_path             185970\n",
              "backdrop_path           501380\n",
              "recommendations         689209\n",
              "dtype: int64"
            ]
          },
          "metadata": {},
          "execution_count": 47
        }
      ]
    },
    {
      "cell_type": "code",
      "source": [
        "# check for duplicate values\n",
        "df.duplicated().sum()\n"
      ],
      "metadata": {
        "id": "8-yjez6QIsfF",
        "outputId": "25602fd0-c081-4d59-8a90-3eb5d68a7c6a",
        "colab": {
          "base_uri": "https://localhost:8080/"
        }
      },
      "execution_count": 48,
      "outputs": [
        {
          "output_type": "execute_result",
          "data": {
            "text/plain": [
              "96"
            ]
          },
          "metadata": {},
          "execution_count": 48
        }
      ]
    },
    {
      "cell_type": "code",
      "source": [
        "gen = df[\"genres\"]\n",
        "vote_avg = df[\"vote_average\"]\n",
        "gen\n",
        "# print(type(gen))"
      ],
      "metadata": {
        "id": "1IYRPIjq8_ux",
        "outputId": "d69fd6f9-a835-4bc4-8304-d729f1ab1b9c",
        "colab": {
          "base_uri": "https://localhost:8080/"
        }
      },
      "execution_count": 37,
      "outputs": [
        {
          "output_type": "execute_result",
          "data": {
            "text/plain": [
              "0                Action-Adventure-Thriller\n",
              "1                  Horror-Mystery-Thriller\n",
              "2               Animation-Adventure-Comedy\n",
              "3         Action-Adventure-Science Fiction\n",
              "4                                 Thriller\n",
              "                        ...               \n",
              "723915                       Comedy-Horror\n",
              "723916                                 NaN\n",
              "723917                                 NaN\n",
              "723918                                 NaN\n",
              "723919                                 NaN\n",
              "Name: genres, Length: 723920, dtype: object"
            ]
          },
          "metadata": {},
          "execution_count": 37
        }
      ]
    },
    {
      "cell_type": "code",
      "source": [
        "print(gen[0])\n",
        "print(type(gen[0]))"
      ],
      "metadata": {
        "id": "u_jWccBHEOEH",
        "outputId": "2304ad88-858c-434b-f8f9-f96d2229e59a",
        "colab": {
          "base_uri": "https://localhost:8080/"
        }
      },
      "execution_count": 38,
      "outputs": [
        {
          "output_type": "stream",
          "name": "stdout",
          "text": [
            "Action-Adventure-Thriller\n",
            "<class 'str'>\n"
          ]
        }
      ]
    },
    {
      "cell_type": "code",
      "source": [
        "for i in range(len(vote_avg)):\n",
        "  vote_avg[i] = int(vote_avg[i])"
      ],
      "metadata": {
        "id": "ixX_ywRoGbfh",
        "outputId": "62daac31-1826-4fea-cc11-9ddace99dbeb",
        "colab": {
          "base_uri": "https://localhost:8080/",
          "height": 426
        }
      },
      "execution_count": 43,
      "outputs": [
        {
          "output_type": "stream",
          "name": "stderr",
          "text": [
            "<ipython-input-43-7a00daefad50>:2: SettingWithCopyWarning: \n",
            "A value is trying to be set on a copy of a slice from a DataFrame\n",
            "\n",
            "See the caveats in the documentation: https://pandas.pydata.org/pandas-docs/stable/user_guide/indexing.html#returning-a-view-versus-a-copy\n",
            "  vote_avg[i] = int(vote_avg[i])\n"
          ]
        },
        {
          "output_type": "error",
          "ename": "KeyboardInterrupt",
          "evalue": "ignored",
          "traceback": [
            "\u001b[0;31m---------------------------------------------------------------------------\u001b[0m",
            "\u001b[0;31mKeyboardInterrupt\u001b[0m                         Traceback (most recent call last)",
            "\u001b[0;32m<ipython-input-43-7a00daefad50>\u001b[0m in \u001b[0;36m<module>\u001b[0;34m\u001b[0m\n\u001b[1;32m      1\u001b[0m \u001b[0;32mfor\u001b[0m \u001b[0mi\u001b[0m \u001b[0;32min\u001b[0m \u001b[0mrange\u001b[0m\u001b[0;34m(\u001b[0m\u001b[0mlen\u001b[0m\u001b[0;34m(\u001b[0m\u001b[0mvote_avg\u001b[0m\u001b[0;34m)\u001b[0m\u001b[0;34m)\u001b[0m\u001b[0;34m:\u001b[0m\u001b[0;34m\u001b[0m\u001b[0;34m\u001b[0m\u001b[0m\n\u001b[0;32m----> 2\u001b[0;31m   \u001b[0mvote_avg\u001b[0m\u001b[0;34m[\u001b[0m\u001b[0mi\u001b[0m\u001b[0;34m]\u001b[0m \u001b[0;34m=\u001b[0m \u001b[0mint\u001b[0m\u001b[0;34m(\u001b[0m\u001b[0mvote_avg\u001b[0m\u001b[0;34m[\u001b[0m\u001b[0mi\u001b[0m\u001b[0;34m]\u001b[0m\u001b[0;34m)\u001b[0m\u001b[0;34m\u001b[0m\u001b[0;34m\u001b[0m\u001b[0m\n\u001b[0m",
            "\u001b[0;32m/usr/local/lib/python3.8/dist-packages/pandas/core/series.py\u001b[0m in \u001b[0;36m__setitem__\u001b[0;34m(self, key, value)\u001b[0m\n\u001b[1;32m   1054\u001b[0m     \u001b[0;32mdef\u001b[0m \u001b[0m__setitem__\u001b[0m\u001b[0;34m(\u001b[0m\u001b[0mself\u001b[0m\u001b[0;34m,\u001b[0m \u001b[0mkey\u001b[0m\u001b[0;34m,\u001b[0m \u001b[0mvalue\u001b[0m\u001b[0;34m)\u001b[0m \u001b[0;34m->\u001b[0m \u001b[0;32mNone\u001b[0m\u001b[0;34m:\u001b[0m\u001b[0;34m\u001b[0m\u001b[0;34m\u001b[0m\u001b[0m\n\u001b[1;32m   1055\u001b[0m         \u001b[0mkey\u001b[0m \u001b[0;34m=\u001b[0m \u001b[0mcom\u001b[0m\u001b[0;34m.\u001b[0m\u001b[0mapply_if_callable\u001b[0m\u001b[0;34m(\u001b[0m\u001b[0mkey\u001b[0m\u001b[0;34m,\u001b[0m \u001b[0mself\u001b[0m\u001b[0;34m)\u001b[0m\u001b[0;34m\u001b[0m\u001b[0;34m\u001b[0m\u001b[0m\n\u001b[0;32m-> 1056\u001b[0;31m         \u001b[0mcacher_needs_updating\u001b[0m \u001b[0;34m=\u001b[0m \u001b[0mself\u001b[0m\u001b[0;34m.\u001b[0m\u001b[0m_check_is_chained_assignment_possible\u001b[0m\u001b[0;34m(\u001b[0m\u001b[0;34m)\u001b[0m\u001b[0;34m\u001b[0m\u001b[0;34m\u001b[0m\u001b[0m\n\u001b[0m\u001b[1;32m   1057\u001b[0m \u001b[0;34m\u001b[0m\u001b[0m\n\u001b[1;32m   1058\u001b[0m         \u001b[0;32mif\u001b[0m \u001b[0mkey\u001b[0m \u001b[0;32mis\u001b[0m \u001b[0mEllipsis\u001b[0m\u001b[0;34m:\u001b[0m\u001b[0;34m\u001b[0m\u001b[0;34m\u001b[0m\u001b[0m\n",
            "\u001b[0;32m/usr/local/lib/python3.8/dist-packages/pandas/core/series.py\u001b[0m in \u001b[0;36m_check_is_chained_assignment_possible\u001b[0;34m(self)\u001b[0m\n\u001b[1;32m   1209\u001b[0m         \u001b[0;32mif\u001b[0m \u001b[0mself\u001b[0m\u001b[0;34m.\u001b[0m\u001b[0m_is_view\u001b[0m \u001b[0;32mand\u001b[0m \u001b[0mself\u001b[0m\u001b[0;34m.\u001b[0m\u001b[0m_is_cached\u001b[0m\u001b[0;34m:\u001b[0m\u001b[0;34m\u001b[0m\u001b[0;34m\u001b[0m\u001b[0m\n\u001b[1;32m   1210\u001b[0m             \u001b[0mref\u001b[0m \u001b[0;34m=\u001b[0m \u001b[0mself\u001b[0m\u001b[0;34m.\u001b[0m\u001b[0m_get_cacher\u001b[0m\u001b[0;34m(\u001b[0m\u001b[0;34m)\u001b[0m\u001b[0;34m\u001b[0m\u001b[0;34m\u001b[0m\u001b[0m\n\u001b[0;32m-> 1211\u001b[0;31m             \u001b[0;32mif\u001b[0m \u001b[0mref\u001b[0m \u001b[0;32mis\u001b[0m \u001b[0;32mnot\u001b[0m \u001b[0;32mNone\u001b[0m \u001b[0;32mand\u001b[0m \u001b[0mref\u001b[0m\u001b[0;34m.\u001b[0m\u001b[0m_is_mixed_type\u001b[0m\u001b[0;34m:\u001b[0m\u001b[0;34m\u001b[0m\u001b[0;34m\u001b[0m\u001b[0m\n\u001b[0m\u001b[1;32m   1212\u001b[0m                 \u001b[0mself\u001b[0m\u001b[0;34m.\u001b[0m\u001b[0m_check_setitem_copy\u001b[0m\u001b[0;34m(\u001b[0m\u001b[0mstacklevel\u001b[0m\u001b[0;34m=\u001b[0m\u001b[0;36m4\u001b[0m\u001b[0;34m,\u001b[0m \u001b[0mt\u001b[0m\u001b[0;34m=\u001b[0m\u001b[0;34m\"referent\"\u001b[0m\u001b[0;34m,\u001b[0m \u001b[0mforce\u001b[0m\u001b[0;34m=\u001b[0m\u001b[0;32mTrue\u001b[0m\u001b[0;34m)\u001b[0m\u001b[0;34m\u001b[0m\u001b[0;34m\u001b[0m\u001b[0m\n\u001b[1;32m   1213\u001b[0m             \u001b[0;32mreturn\u001b[0m \u001b[0;32mTrue\u001b[0m\u001b[0;34m\u001b[0m\u001b[0;34m\u001b[0m\u001b[0m\n",
            "\u001b[0;32m/usr/local/lib/python3.8/dist-packages/pandas/core/generic.py\u001b[0m in \u001b[0;36m_is_mixed_type\u001b[0;34m(self)\u001b[0m\n\u001b[1;32m   5590\u001b[0m             \u001b[0;32mreturn\u001b[0m \u001b[0;32mTrue\u001b[0m\u001b[0;34m\u001b[0m\u001b[0;34m\u001b[0m\u001b[0m\n\u001b[1;32m   5591\u001b[0m \u001b[0;34m\u001b[0m\u001b[0m\n\u001b[0;32m-> 5592\u001b[0;31m         \u001b[0;32mreturn\u001b[0m \u001b[0mself\u001b[0m\u001b[0;34m.\u001b[0m\u001b[0mdtypes\u001b[0m\u001b[0;34m.\u001b[0m\u001b[0mnunique\u001b[0m\u001b[0;34m(\u001b[0m\u001b[0;34m)\u001b[0m \u001b[0;34m>\u001b[0m \u001b[0;36m1\u001b[0m\u001b[0;34m\u001b[0m\u001b[0;34m\u001b[0m\u001b[0m\n\u001b[0m\u001b[1;32m   5593\u001b[0m \u001b[0;34m\u001b[0m\u001b[0m\n\u001b[1;32m   5594\u001b[0m     \u001b[0;34m@\u001b[0m\u001b[0mfinal\u001b[0m\u001b[0;34m\u001b[0m\u001b[0;34m\u001b[0m\u001b[0m\n",
            "\u001b[0;32m/usr/local/lib/python3.8/dist-packages/pandas/core/base.py\u001b[0m in \u001b[0;36mnunique\u001b[0;34m(self, dropna)\u001b[0m\n\u001b[1;32m   1015\u001b[0m         \u001b[0;36m4\u001b[0m\u001b[0;34m\u001b[0m\u001b[0;34m\u001b[0m\u001b[0m\n\u001b[1;32m   1016\u001b[0m         \"\"\"\n\u001b[0;32m-> 1017\u001b[0;31m         \u001b[0muniqs\u001b[0m \u001b[0;34m=\u001b[0m \u001b[0mself\u001b[0m\u001b[0;34m.\u001b[0m\u001b[0munique\u001b[0m\u001b[0;34m(\u001b[0m\u001b[0;34m)\u001b[0m\u001b[0;34m\u001b[0m\u001b[0;34m\u001b[0m\u001b[0m\n\u001b[0m\u001b[1;32m   1018\u001b[0m         \u001b[0;32mif\u001b[0m \u001b[0mdropna\u001b[0m\u001b[0;34m:\u001b[0m\u001b[0;34m\u001b[0m\u001b[0;34m\u001b[0m\u001b[0m\n\u001b[1;32m   1019\u001b[0m             \u001b[0muniqs\u001b[0m \u001b[0;34m=\u001b[0m \u001b[0mremove_na_arraylike\u001b[0m\u001b[0;34m(\u001b[0m\u001b[0muniqs\u001b[0m\u001b[0;34m)\u001b[0m\u001b[0;34m\u001b[0m\u001b[0;34m\u001b[0m\u001b[0m\n",
            "\u001b[0;32m/usr/local/lib/python3.8/dist-packages/pandas/core/series.py\u001b[0m in \u001b[0;36munique\u001b[0;34m(self)\u001b[0m\n\u001b[1;32m   2037\u001b[0m         \u001b[0mCategories\u001b[0m \u001b[0;34m(\u001b[0m\u001b[0;36m3\u001b[0m\u001b[0;34m,\u001b[0m \u001b[0mobject\u001b[0m\u001b[0;34m)\u001b[0m\u001b[0;34m:\u001b[0m \u001b[0;34m[\u001b[0m\u001b[0;34m'a'\u001b[0m \u001b[0;34m<\u001b[0m \u001b[0;34m'b'\u001b[0m \u001b[0;34m<\u001b[0m \u001b[0;34m'c'\u001b[0m\u001b[0;34m]\u001b[0m\u001b[0;34m\u001b[0m\u001b[0;34m\u001b[0m\u001b[0m\n\u001b[1;32m   2038\u001b[0m         \"\"\"\n\u001b[0;32m-> 2039\u001b[0;31m         \u001b[0;32mreturn\u001b[0m \u001b[0msuper\u001b[0m\u001b[0;34m(\u001b[0m\u001b[0;34m)\u001b[0m\u001b[0;34m.\u001b[0m\u001b[0munique\u001b[0m\u001b[0;34m(\u001b[0m\u001b[0;34m)\u001b[0m\u001b[0;34m\u001b[0m\u001b[0;34m\u001b[0m\u001b[0m\n\u001b[0m\u001b[1;32m   2040\u001b[0m \u001b[0;34m\u001b[0m\u001b[0m\n\u001b[1;32m   2041\u001b[0m     \u001b[0;34m@\u001b[0m\u001b[0moverload\u001b[0m\u001b[0;34m\u001b[0m\u001b[0;34m\u001b[0m\u001b[0m\n",
            "\u001b[0;32m/usr/local/lib/python3.8/dist-packages/pandas/core/base.py\u001b[0m in \u001b[0;36munique\u001b[0;34m(self)\u001b[0m\n\u001b[1;32m    977\u001b[0m                     \u001b[0mresult\u001b[0m \u001b[0;34m=\u001b[0m \u001b[0mnp\u001b[0m\u001b[0;34m.\u001b[0m\u001b[0masarray\u001b[0m\u001b[0;34m(\u001b[0m\u001b[0mresult\u001b[0m\u001b[0;34m)\u001b[0m\u001b[0;34m\u001b[0m\u001b[0;34m\u001b[0m\u001b[0m\n\u001b[1;32m    978\u001b[0m         \u001b[0;32melse\u001b[0m\u001b[0;34m:\u001b[0m\u001b[0;34m\u001b[0m\u001b[0;34m\u001b[0m\u001b[0m\n\u001b[0;32m--> 979\u001b[0;31m             \u001b[0mresult\u001b[0m \u001b[0;34m=\u001b[0m \u001b[0munique1d\u001b[0m\u001b[0;34m(\u001b[0m\u001b[0mvalues\u001b[0m\u001b[0;34m)\u001b[0m\u001b[0;34m\u001b[0m\u001b[0;34m\u001b[0m\u001b[0m\n\u001b[0m\u001b[1;32m    980\u001b[0m \u001b[0;34m\u001b[0m\u001b[0m\n\u001b[1;32m    981\u001b[0m         \u001b[0;32mreturn\u001b[0m \u001b[0mresult\u001b[0m\u001b[0;34m\u001b[0m\u001b[0;34m\u001b[0m\u001b[0m\n",
            "\u001b[0;32m/usr/local/lib/python3.8/dist-packages/pandas/core/algorithms.py\u001b[0m in \u001b[0;36munique\u001b[0;34m(values)\u001b[0m\n\u001b[1;32m    426\u001b[0m \u001b[0;34m\u001b[0m\u001b[0m\n\u001b[1;32m    427\u001b[0m     \u001b[0moriginal\u001b[0m \u001b[0;34m=\u001b[0m \u001b[0mvalues\u001b[0m\u001b[0;34m\u001b[0m\u001b[0;34m\u001b[0m\u001b[0m\n\u001b[0;32m--> 428\u001b[0;31m     \u001b[0mhtable\u001b[0m\u001b[0;34m,\u001b[0m \u001b[0mvalues\u001b[0m \u001b[0;34m=\u001b[0m \u001b[0m_get_hashtable_algo\u001b[0m\u001b[0;34m(\u001b[0m\u001b[0mvalues\u001b[0m\u001b[0;34m)\u001b[0m\u001b[0;34m\u001b[0m\u001b[0;34m\u001b[0m\u001b[0m\n\u001b[0m\u001b[1;32m    429\u001b[0m \u001b[0;34m\u001b[0m\u001b[0m\n\u001b[1;32m    430\u001b[0m     \u001b[0mtable\u001b[0m \u001b[0;34m=\u001b[0m \u001b[0mhtable\u001b[0m\u001b[0;34m(\u001b[0m\u001b[0mlen\u001b[0m\u001b[0;34m(\u001b[0m\u001b[0mvalues\u001b[0m\u001b[0;34m)\u001b[0m\u001b[0;34m)\u001b[0m\u001b[0;34m\u001b[0m\u001b[0;34m\u001b[0m\u001b[0m\n",
            "\u001b[0;32m/usr/local/lib/python3.8/dist-packages/pandas/core/algorithms.py\u001b[0m in \u001b[0;36m_get_hashtable_algo\u001b[0;34m(values)\u001b[0m\n\u001b[1;32m    272\u001b[0m     \u001b[0mvalues\u001b[0m\u001b[0;34m,\u001b[0m \u001b[0m_\u001b[0m \u001b[0;34m=\u001b[0m \u001b[0m_ensure_data\u001b[0m\u001b[0;34m(\u001b[0m\u001b[0mvalues\u001b[0m\u001b[0;34m)\u001b[0m\u001b[0;34m\u001b[0m\u001b[0;34m\u001b[0m\u001b[0m\n\u001b[1;32m    273\u001b[0m \u001b[0;34m\u001b[0m\u001b[0m\n\u001b[0;32m--> 274\u001b[0;31m     \u001b[0mndtype\u001b[0m \u001b[0;34m=\u001b[0m \u001b[0m_check_object_for_strings\u001b[0m\u001b[0;34m(\u001b[0m\u001b[0mvalues\u001b[0m\u001b[0;34m)\u001b[0m\u001b[0;34m\u001b[0m\u001b[0;34m\u001b[0m\u001b[0m\n\u001b[0m\u001b[1;32m    275\u001b[0m     \u001b[0mhtable\u001b[0m \u001b[0;34m=\u001b[0m \u001b[0m_hashtables\u001b[0m\u001b[0;34m[\u001b[0m\u001b[0mndtype\u001b[0m\u001b[0;34m]\u001b[0m\u001b[0;34m\u001b[0m\u001b[0;34m\u001b[0m\u001b[0m\n\u001b[1;32m    276\u001b[0m     \u001b[0;32mreturn\u001b[0m \u001b[0mhtable\u001b[0m\u001b[0;34m,\u001b[0m \u001b[0mvalues\u001b[0m\u001b[0;34m\u001b[0m\u001b[0;34m\u001b[0m\u001b[0m\n",
            "\u001b[0;32m/usr/local/lib/python3.8/dist-packages/pandas/core/algorithms.py\u001b[0m in \u001b[0;36m_check_object_for_strings\u001b[0;34m(values)\u001b[0m\n\u001b[1;32m    316\u001b[0m         \u001b[0;31m# including nulls because that is the only difference between\u001b[0m\u001b[0;34m\u001b[0m\u001b[0;34m\u001b[0m\u001b[0;34m\u001b[0m\u001b[0m\n\u001b[1;32m    317\u001b[0m         \u001b[0;31m# StringHashTable and ObjectHashtable\u001b[0m\u001b[0;34m\u001b[0m\u001b[0;34m\u001b[0m\u001b[0;34m\u001b[0m\u001b[0m\n\u001b[0;32m--> 318\u001b[0;31m         \u001b[0;32mif\u001b[0m \u001b[0mlib\u001b[0m\u001b[0;34m.\u001b[0m\u001b[0minfer_dtype\u001b[0m\u001b[0;34m(\u001b[0m\u001b[0mvalues\u001b[0m\u001b[0;34m,\u001b[0m \u001b[0mskipna\u001b[0m\u001b[0;34m=\u001b[0m\u001b[0;32mFalse\u001b[0m\u001b[0;34m)\u001b[0m \u001b[0;32min\u001b[0m \u001b[0;34m[\u001b[0m\u001b[0;34m\"string\"\u001b[0m\u001b[0;34m]\u001b[0m\u001b[0;34m:\u001b[0m\u001b[0;34m\u001b[0m\u001b[0;34m\u001b[0m\u001b[0m\n\u001b[0m\u001b[1;32m    319\u001b[0m             \u001b[0mndtype\u001b[0m \u001b[0;34m=\u001b[0m \u001b[0;34m\"string\"\u001b[0m\u001b[0;34m\u001b[0m\u001b[0;34m\u001b[0m\u001b[0m\n\u001b[1;32m    320\u001b[0m     \u001b[0;32mreturn\u001b[0m \u001b[0mndtype\u001b[0m\u001b[0;34m\u001b[0m\u001b[0;34m\u001b[0m\u001b[0m\n",
            "\u001b[0;31mKeyboardInterrupt\u001b[0m: "
          ]
        }
      ]
    },
    {
      "cell_type": "code",
      "source": [
        "plt.figure(figsize = (8,8))\n",
        "plt.scatter(gen, vote_avg)"
      ],
      "metadata": {
        "id": "8M1CTDd3FpuB"
      },
      "execution_count": null,
      "outputs": []
    },
    {
      "cell_type": "code",
      "source": [
        "# categ = []\n",
        "# for i in gen:\n",
        "#     div = gen[i]\n",
        "#     categ.append(div)\n",
        "# categ"
      ],
      "metadata": {
        "id": "kH57zCnDCiWl",
        "outputId": "62faa467-3c56-4898-b990-30cb0c0e552c",
        "colab": {
          "base_uri": "https://localhost:8080/",
          "height": 390
        }
      },
      "execution_count": 26,
      "outputs": [
        {
          "output_type": "error",
          "ename": "KeyError",
          "evalue": "ignored",
          "traceback": [
            "\u001b[0;31m---------------------------------------------------------------------------\u001b[0m",
            "\u001b[0;31mKeyError\u001b[0m                                  Traceback (most recent call last)",
            "\u001b[0;32m<ipython-input-26-a5bc97cbb568>\u001b[0m in \u001b[0;36m<module>\u001b[0;34m\u001b[0m\n\u001b[1;32m      1\u001b[0m \u001b[0mcateg\u001b[0m \u001b[0;34m=\u001b[0m \u001b[0;34m[\u001b[0m\u001b[0;34m]\u001b[0m\u001b[0;34m\u001b[0m\u001b[0;34m\u001b[0m\u001b[0m\n\u001b[1;32m      2\u001b[0m \u001b[0;32mfor\u001b[0m \u001b[0mi\u001b[0m \u001b[0;32min\u001b[0m \u001b[0mgen\u001b[0m\u001b[0;34m:\u001b[0m\u001b[0;34m\u001b[0m\u001b[0;34m\u001b[0m\u001b[0m\n\u001b[0;32m----> 3\u001b[0;31m     \u001b[0mdiv\u001b[0m \u001b[0;34m=\u001b[0m \u001b[0mgen\u001b[0m\u001b[0;34m[\u001b[0m\u001b[0mi\u001b[0m\u001b[0;34m]\u001b[0m\u001b[0;34m\u001b[0m\u001b[0;34m\u001b[0m\u001b[0m\n\u001b[0m\u001b[1;32m      4\u001b[0m     \u001b[0mcateg\u001b[0m\u001b[0;34m.\u001b[0m\u001b[0mappend\u001b[0m\u001b[0;34m(\u001b[0m\u001b[0mdiv\u001b[0m\u001b[0;34m)\u001b[0m\u001b[0;34m\u001b[0m\u001b[0;34m\u001b[0m\u001b[0m\n\u001b[1;32m      5\u001b[0m \u001b[0mcateg\u001b[0m\u001b[0;34m\u001b[0m\u001b[0;34m\u001b[0m\u001b[0m\n",
            "\u001b[0;32m/usr/local/lib/python3.8/dist-packages/pandas/core/series.py\u001b[0m in \u001b[0;36m__getitem__\u001b[0;34m(self, key)\u001b[0m\n\u001b[1;32m    940\u001b[0m \u001b[0;34m\u001b[0m\u001b[0m\n\u001b[1;32m    941\u001b[0m         \u001b[0;32melif\u001b[0m \u001b[0mkey_is_scalar\u001b[0m\u001b[0;34m:\u001b[0m\u001b[0;34m\u001b[0m\u001b[0;34m\u001b[0m\u001b[0m\n\u001b[0;32m--> 942\u001b[0;31m             \u001b[0;32mreturn\u001b[0m \u001b[0mself\u001b[0m\u001b[0;34m.\u001b[0m\u001b[0m_get_value\u001b[0m\u001b[0;34m(\u001b[0m\u001b[0mkey\u001b[0m\u001b[0;34m)\u001b[0m\u001b[0;34m\u001b[0m\u001b[0;34m\u001b[0m\u001b[0m\n\u001b[0m\u001b[1;32m    943\u001b[0m \u001b[0;34m\u001b[0m\u001b[0m\n\u001b[1;32m    944\u001b[0m         \u001b[0;32mif\u001b[0m \u001b[0mis_hashable\u001b[0m\u001b[0;34m(\u001b[0m\u001b[0mkey\u001b[0m\u001b[0;34m)\u001b[0m\u001b[0;34m:\u001b[0m\u001b[0;34m\u001b[0m\u001b[0;34m\u001b[0m\u001b[0m\n",
            "\u001b[0;32m/usr/local/lib/python3.8/dist-packages/pandas/core/series.py\u001b[0m in \u001b[0;36m_get_value\u001b[0;34m(self, label, takeable)\u001b[0m\n\u001b[1;32m   1049\u001b[0m \u001b[0;34m\u001b[0m\u001b[0m\n\u001b[1;32m   1050\u001b[0m         \u001b[0;31m# Similar to Index.get_value, but we do not fall back to positional\u001b[0m\u001b[0;34m\u001b[0m\u001b[0;34m\u001b[0m\u001b[0;34m\u001b[0m\u001b[0m\n\u001b[0;32m-> 1051\u001b[0;31m         \u001b[0mloc\u001b[0m \u001b[0;34m=\u001b[0m \u001b[0mself\u001b[0m\u001b[0;34m.\u001b[0m\u001b[0mindex\u001b[0m\u001b[0;34m.\u001b[0m\u001b[0mget_loc\u001b[0m\u001b[0;34m(\u001b[0m\u001b[0mlabel\u001b[0m\u001b[0;34m)\u001b[0m\u001b[0;34m\u001b[0m\u001b[0;34m\u001b[0m\u001b[0m\n\u001b[0m\u001b[1;32m   1052\u001b[0m         \u001b[0;32mreturn\u001b[0m \u001b[0mself\u001b[0m\u001b[0;34m.\u001b[0m\u001b[0mindex\u001b[0m\u001b[0;34m.\u001b[0m\u001b[0m_get_values_for_loc\u001b[0m\u001b[0;34m(\u001b[0m\u001b[0mself\u001b[0m\u001b[0;34m,\u001b[0m \u001b[0mloc\u001b[0m\u001b[0;34m,\u001b[0m \u001b[0mlabel\u001b[0m\u001b[0;34m)\u001b[0m\u001b[0;34m\u001b[0m\u001b[0;34m\u001b[0m\u001b[0m\n\u001b[1;32m   1053\u001b[0m \u001b[0;34m\u001b[0m\u001b[0m\n",
            "\u001b[0;32m/usr/local/lib/python3.8/dist-packages/pandas/core/indexes/range.py\u001b[0m in \u001b[0;36mget_loc\u001b[0;34m(self, key, method, tolerance)\u001b[0m\n\u001b[1;32m    386\u001b[0m                 \u001b[0;32mexcept\u001b[0m \u001b[0mValueError\u001b[0m \u001b[0;32mas\u001b[0m \u001b[0merr\u001b[0m\u001b[0;34m:\u001b[0m\u001b[0;34m\u001b[0m\u001b[0;34m\u001b[0m\u001b[0m\n\u001b[1;32m    387\u001b[0m                     \u001b[0;32mraise\u001b[0m \u001b[0mKeyError\u001b[0m\u001b[0;34m(\u001b[0m\u001b[0mkey\u001b[0m\u001b[0;34m)\u001b[0m \u001b[0;32mfrom\u001b[0m \u001b[0merr\u001b[0m\u001b[0;34m\u001b[0m\u001b[0;34m\u001b[0m\u001b[0m\n\u001b[0;32m--> 388\u001b[0;31m             \u001b[0;32mraise\u001b[0m \u001b[0mKeyError\u001b[0m\u001b[0;34m(\u001b[0m\u001b[0mkey\u001b[0m\u001b[0;34m)\u001b[0m\u001b[0;34m\u001b[0m\u001b[0;34m\u001b[0m\u001b[0m\n\u001b[0m\u001b[1;32m    389\u001b[0m         \u001b[0;32mreturn\u001b[0m \u001b[0msuper\u001b[0m\u001b[0;34m(\u001b[0m\u001b[0;34m)\u001b[0m\u001b[0;34m.\u001b[0m\u001b[0mget_loc\u001b[0m\u001b[0;34m(\u001b[0m\u001b[0mkey\u001b[0m\u001b[0;34m,\u001b[0m \u001b[0mmethod\u001b[0m\u001b[0;34m=\u001b[0m\u001b[0mmethod\u001b[0m\u001b[0;34m,\u001b[0m \u001b[0mtolerance\u001b[0m\u001b[0;34m=\u001b[0m\u001b[0mtolerance\u001b[0m\u001b[0;34m)\u001b[0m\u001b[0;34m\u001b[0m\u001b[0;34m\u001b[0m\u001b[0m\n\u001b[1;32m    390\u001b[0m \u001b[0;34m\u001b[0m\u001b[0m\n",
            "\u001b[0;31mKeyError\u001b[0m: 'Action-Adventure-Thriller'"
          ]
        }
      ]
    },
    {
      "cell_type": "code",
      "source": [],
      "metadata": {
        "id": "nV457EQbDkFT"
      },
      "execution_count": null,
      "outputs": []
    }
  ]
}