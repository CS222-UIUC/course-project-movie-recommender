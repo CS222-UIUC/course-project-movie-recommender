{
  "nbformat": 4,
  "nbformat_minor": 0,
  "metadata": {
    "colab": {
      "provenance": [],
      "include_colab_link": true
    },
    "kernelspec": {
      "name": "python3",
      "display_name": "Python 3"
    },
    "language_info": {
      "name": "python"
    }
  },
  "cells": [
    {
      "cell_type": "markdown",
      "metadata": {
        "id": "view-in-github",
        "colab_type": "text"
      },
      "source": [
        "<a href=\"https://colab.research.google.com/github/CS222-UIUC/course-project-movie-recommender/blob/cpere20/CS222_Set_Up.ipynb\" target=\"_parent\"><img src=\"https://colab.research.google.com/assets/colab-badge.svg\" alt=\"Open In Colab\"/></a>"
      ]
    },
    {
      "cell_type": "code",
      "execution_count": 2,
      "metadata": {
        "id": "HEPMmvu3Qm-y"
      },
      "outputs": [],
      "source": [
        "import numpy as np\n",
        "import tensorflow as ts\n",
        "import pandas as pd\n",
        "import matplotlib.pyplot as plt"
      ]
    },
    {
      "cell_type": "code",
      "source": [
        "print(\"hi this is cs222\")"
      ],
      "metadata": {
        "id": "DX30IUj7RofR",
        "colab": {
          "base_uri": "https://localhost:8080/"
        },
        "outputId": "62ae5ea5-c04f-41b6-d148-42bae966d37d"
      },
      "execution_count": 3,
      "outputs": [
        {
          "output_type": "stream",
          "name": "stdout",
          "text": [
            "hi this is cs222\n"
          ]
        }
      ]
    },
    {
      "cell_type": "code",
      "source": [
        "# Read movie data file\n",
        "df = pd.read_csv(\"movies_metadata.csv\")\n"
      ],
      "metadata": {
        "id": "LLI6DRsd3-lj",
        "outputId": "6c659669-e8ae-4c58-ec73-68a776520a0e",
        "colab": {
          "base_uri": "https://localhost:8080/"
        }
      },
      "execution_count": 5,
      "outputs": [
        {
          "output_type": "stream",
          "name": "stderr",
          "text": [
            "/usr/local/lib/python3.9/dist-packages/IPython/core/interactiveshell.py:3326: DtypeWarning: Columns (10) have mixed types.Specify dtype option on import or set low_memory=False.\n",
            "  exec(code_obj, self.user_global_ns, self.user_ns)\n"
          ]
        }
      ]
    },
    {
      "cell_type": "code",
      "source": [
        "# Display movie data\n",
        "movie_data = df.head(200)\n",
        "movie_data"
      ],
      "metadata": {
        "id": "k36ur0daCqDy",
        "outputId": "f1fbab3e-a6b7-4e24-add4-3060876184e7",
        "colab": {
          "base_uri": "https://localhost:8080/",
          "height": 1000
        }
      },
      "execution_count": 28,
      "outputs": [
        {
          "output_type": "execute_result",
          "data": {
            "text/plain": [
              "     adult                              belongs_to_collection    budget  \\\n",
              "0    False  {'id': 10194, 'name': 'Toy Story Collection', ...  30000000   \n",
              "1    False                                                NaN  65000000   \n",
              "2    False  {'id': 119050, 'name': 'Grumpy Old Men Collect...         0   \n",
              "3    False                                                NaN  16000000   \n",
              "4    False  {'id': 96871, 'name': 'Father of the Bride Col...         0   \n",
              "..     ...                                                ...       ...   \n",
              "195  False                                                NaN  42000000   \n",
              "196  False                                                NaN         0   \n",
              "197  False                                                NaN  14000000   \n",
              "198  False                                                NaN         0   \n",
              "199  False                                                NaN         0   \n",
              "\n",
              "                                                genres  \\\n",
              "0    [{'id': 16, 'name': 'Animation'}, {'id': 35, '...   \n",
              "1    [{'id': 12, 'name': 'Adventure'}, {'id': 14, '...   \n",
              "2    [{'id': 10749, 'name': 'Romance'}, {'id': 35, ...   \n",
              "3    [{'id': 35, 'name': 'Comedy'}, {'id': 18, 'nam...   \n",
              "4                       [{'id': 35, 'name': 'Comedy'}]   \n",
              "..                                                 ...   \n",
              "195  [{'id': 80, 'name': 'Crime'}, {'id': 18, 'name...   \n",
              "196  [{'id': 18, 'name': 'Drama'}, {'id': 10749, 'n...   \n",
              "197                   [{'id': 53, 'name': 'Thriller'}]   \n",
              "198  [{'id': 18, 'name': 'Drama'}, {'id': 14, 'name...   \n",
              "199  [{'id': 18, 'name': 'Drama'}, {'id': 10749, 'n...   \n",
              "\n",
              "                                 homepage     id    imdb_id original_language  \\\n",
              "0    http://toystory.disney.com/toy-story    862  tt0114709                en   \n",
              "1                                     NaN   8844  tt0113497                en   \n",
              "2                                     NaN  15602  tt0113228                en   \n",
              "3                                     NaN  31357  tt0114885                en   \n",
              "4                                     NaN  11862  tt0113041                en   \n",
              "..                                    ...    ...        ...               ...   \n",
              "195           http://www.strange-days.com    281  tt0114558                en   \n",
              "196                                   NaN   5967  tt0058450                fr   \n",
              "197                                   NaN  79593  tt0114666                en   \n",
              "198                                   NaN  47939  tt0114663                en   \n",
              "199                                   NaN  36834  tt0114702                en   \n",
              "\n",
              "                  original_title  \\\n",
              "0                      Toy Story   \n",
              "1                        Jumanji   \n",
              "2               Grumpier Old Men   \n",
              "3              Waiting to Exhale   \n",
              "4    Father of the Bride Part II   \n",
              "..                           ...   \n",
              "195                 Strange Days   \n",
              "196  Les parapluies de Cherbourg   \n",
              "197           The Tie That Binds   \n",
              "198                 Three Wishes   \n",
              "199                Total Eclipse   \n",
              "\n",
              "                                              overview  ... release_date  \\\n",
              "0    Led by Woody, Andy's toys live happily in his ...  ...   1995-10-30   \n",
              "1    When siblings Judy and Peter discover an encha...  ...   1995-12-15   \n",
              "2    A family wedding reignites the ancient feud be...  ...   1995-12-22   \n",
              "3    Cheated on, mistreated and stepped on, the wom...  ...   1995-12-22   \n",
              "4    Just when George Banks has recovered from his ...  ...   1995-02-10   \n",
              "..                                                 ...  ...          ...   \n",
              "195  Set in the year 1999 during the last days of t...  ...   1995-10-13   \n",
              "196  This simple romantic tragedy begins in 1957. G...  ...   1964-02-19   \n",
              "197  John Netherwood and his wife Leann are fugitiv...  ...   1995-09-08   \n",
              "198  While Jane Holman (Mastrantonio) is driving wi...  ...   1995-10-27   \n",
              "199  Young, wild poet Arthur Rimbaud and his mentor...  ...   1995-11-02   \n",
              "\n",
              "         revenue runtime                                   spoken_languages  \\\n",
              "0    373554033.0    81.0           [{'iso_639_1': 'en', 'name': 'English'}]   \n",
              "1    262797249.0   104.0  [{'iso_639_1': 'en', 'name': 'English'}, {'iso...   \n",
              "2            0.0   101.0           [{'iso_639_1': 'en', 'name': 'English'}]   \n",
              "3     81452156.0   127.0           [{'iso_639_1': 'en', 'name': 'English'}]   \n",
              "4     76578911.0   106.0           [{'iso_639_1': 'en', 'name': 'English'}]   \n",
              "..           ...     ...                                                ...   \n",
              "195    7959291.0   145.0           [{'iso_639_1': 'en', 'name': 'English'}]   \n",
              "196          0.0    91.0          [{'iso_639_1': 'fr', 'name': 'Français'}]   \n",
              "197    5780000.0    99.0           [{'iso_639_1': 'en', 'name': 'English'}]   \n",
              "198    7025496.0   115.0           [{'iso_639_1': 'en', 'name': 'English'}]   \n",
              "199     339889.0   111.0           [{'iso_639_1': 'en', 'name': 'English'}]   \n",
              "\n",
              "       status                                            tagline  \\\n",
              "0    Released                                                NaN   \n",
              "1    Released          Roll the dice and unleash the excitement!   \n",
              "2    Released  Still Yelling. Still Fighting. Still Ready for...   \n",
              "3    Released  Friends are the people who let you be yourself...   \n",
              "4    Released  Just When His World Is Back To Normal... He's ...   \n",
              "..        ...                                                ...   \n",
              "195  Released                              You know you want it.   \n",
              "196  Released       a film for all the young lovers of the world   \n",
              "197  Released                                                NaN   \n",
              "198  Released         If you really believe, magic will find you   \n",
              "199  Released  Touched by Genius. Cursed by Madness. Blinded ...   \n",
              "\n",
              "                           title  video vote_average vote_count  \n",
              "0                      Toy Story  False          7.0     5415.0  \n",
              "1                        Jumanji  False          6.0     2413.0  \n",
              "2               Grumpier Old Men  False          6.0       92.0  \n",
              "3              Waiting to Exhale  False          6.0       34.0  \n",
              "4    Father of the Bride Part II  False          5.0      173.0  \n",
              "..                           ...    ...          ...        ...  \n",
              "195                 Strange Days  False          6.0      334.0  \n",
              "196   The Umbrellas of Cherbourg  False          7.0      119.0  \n",
              "197           The Tie That Binds  False          4.0        9.0  \n",
              "198                 Three Wishes  False          6.0       18.0  \n",
              "199                Total Eclipse  False          6.0      112.0  \n",
              "\n",
              "[200 rows x 24 columns]"
            ],
            "text/html": [
              "\n",
              "  <div id=\"df-1d56fe67-fdb5-4ee2-8878-c9baa723769f\">\n",
              "    <div class=\"colab-df-container\">\n",
              "      <div>\n",
              "<style scoped>\n",
              "    .dataframe tbody tr th:only-of-type {\n",
              "        vertical-align: middle;\n",
              "    }\n",
              "\n",
              "    .dataframe tbody tr th {\n",
              "        vertical-align: top;\n",
              "    }\n",
              "\n",
              "    .dataframe thead th {\n",
              "        text-align: right;\n",
              "    }\n",
              "</style>\n",
              "<table border=\"1\" class=\"dataframe\">\n",
              "  <thead>\n",
              "    <tr style=\"text-align: right;\">\n",
              "      <th></th>\n",
              "      <th>adult</th>\n",
              "      <th>belongs_to_collection</th>\n",
              "      <th>budget</th>\n",
              "      <th>genres</th>\n",
              "      <th>homepage</th>\n",
              "      <th>id</th>\n",
              "      <th>imdb_id</th>\n",
              "      <th>original_language</th>\n",
              "      <th>original_title</th>\n",
              "      <th>overview</th>\n",
              "      <th>...</th>\n",
              "      <th>release_date</th>\n",
              "      <th>revenue</th>\n",
              "      <th>runtime</th>\n",
              "      <th>spoken_languages</th>\n",
              "      <th>status</th>\n",
              "      <th>tagline</th>\n",
              "      <th>title</th>\n",
              "      <th>video</th>\n",
              "      <th>vote_average</th>\n",
              "      <th>vote_count</th>\n",
              "    </tr>\n",
              "  </thead>\n",
              "  <tbody>\n",
              "    <tr>\n",
              "      <th>0</th>\n",
              "      <td>False</td>\n",
              "      <td>{'id': 10194, 'name': 'Toy Story Collection', ...</td>\n",
              "      <td>30000000</td>\n",
              "      <td>[{'id': 16, 'name': 'Animation'}, {'id': 35, '...</td>\n",
              "      <td>http://toystory.disney.com/toy-story</td>\n",
              "      <td>862</td>\n",
              "      <td>tt0114709</td>\n",
              "      <td>en</td>\n",
              "      <td>Toy Story</td>\n",
              "      <td>Led by Woody, Andy's toys live happily in his ...</td>\n",
              "      <td>...</td>\n",
              "      <td>1995-10-30</td>\n",
              "      <td>373554033.0</td>\n",
              "      <td>81.0</td>\n",
              "      <td>[{'iso_639_1': 'en', 'name': 'English'}]</td>\n",
              "      <td>Released</td>\n",
              "      <td>NaN</td>\n",
              "      <td>Toy Story</td>\n",
              "      <td>False</td>\n",
              "      <td>7.0</td>\n",
              "      <td>5415.0</td>\n",
              "    </tr>\n",
              "    <tr>\n",
              "      <th>1</th>\n",
              "      <td>False</td>\n",
              "      <td>NaN</td>\n",
              "      <td>65000000</td>\n",
              "      <td>[{'id': 12, 'name': 'Adventure'}, {'id': 14, '...</td>\n",
              "      <td>NaN</td>\n",
              "      <td>8844</td>\n",
              "      <td>tt0113497</td>\n",
              "      <td>en</td>\n",
              "      <td>Jumanji</td>\n",
              "      <td>When siblings Judy and Peter discover an encha...</td>\n",
              "      <td>...</td>\n",
              "      <td>1995-12-15</td>\n",
              "      <td>262797249.0</td>\n",
              "      <td>104.0</td>\n",
              "      <td>[{'iso_639_1': 'en', 'name': 'English'}, {'iso...</td>\n",
              "      <td>Released</td>\n",
              "      <td>Roll the dice and unleash the excitement!</td>\n",
              "      <td>Jumanji</td>\n",
              "      <td>False</td>\n",
              "      <td>6.0</td>\n",
              "      <td>2413.0</td>\n",
              "    </tr>\n",
              "    <tr>\n",
              "      <th>2</th>\n",
              "      <td>False</td>\n",
              "      <td>{'id': 119050, 'name': 'Grumpy Old Men Collect...</td>\n",
              "      <td>0</td>\n",
              "      <td>[{'id': 10749, 'name': 'Romance'}, {'id': 35, ...</td>\n",
              "      <td>NaN</td>\n",
              "      <td>15602</td>\n",
              "      <td>tt0113228</td>\n",
              "      <td>en</td>\n",
              "      <td>Grumpier Old Men</td>\n",
              "      <td>A family wedding reignites the ancient feud be...</td>\n",
              "      <td>...</td>\n",
              "      <td>1995-12-22</td>\n",
              "      <td>0.0</td>\n",
              "      <td>101.0</td>\n",
              "      <td>[{'iso_639_1': 'en', 'name': 'English'}]</td>\n",
              "      <td>Released</td>\n",
              "      <td>Still Yelling. Still Fighting. Still Ready for...</td>\n",
              "      <td>Grumpier Old Men</td>\n",
              "      <td>False</td>\n",
              "      <td>6.0</td>\n",
              "      <td>92.0</td>\n",
              "    </tr>\n",
              "    <tr>\n",
              "      <th>3</th>\n",
              "      <td>False</td>\n",
              "      <td>NaN</td>\n",
              "      <td>16000000</td>\n",
              "      <td>[{'id': 35, 'name': 'Comedy'}, {'id': 18, 'nam...</td>\n",
              "      <td>NaN</td>\n",
              "      <td>31357</td>\n",
              "      <td>tt0114885</td>\n",
              "      <td>en</td>\n",
              "      <td>Waiting to Exhale</td>\n",
              "      <td>Cheated on, mistreated and stepped on, the wom...</td>\n",
              "      <td>...</td>\n",
              "      <td>1995-12-22</td>\n",
              "      <td>81452156.0</td>\n",
              "      <td>127.0</td>\n",
              "      <td>[{'iso_639_1': 'en', 'name': 'English'}]</td>\n",
              "      <td>Released</td>\n",
              "      <td>Friends are the people who let you be yourself...</td>\n",
              "      <td>Waiting to Exhale</td>\n",
              "      <td>False</td>\n",
              "      <td>6.0</td>\n",
              "      <td>34.0</td>\n",
              "    </tr>\n",
              "    <tr>\n",
              "      <th>4</th>\n",
              "      <td>False</td>\n",
              "      <td>{'id': 96871, 'name': 'Father of the Bride Col...</td>\n",
              "      <td>0</td>\n",
              "      <td>[{'id': 35, 'name': 'Comedy'}]</td>\n",
              "      <td>NaN</td>\n",
              "      <td>11862</td>\n",
              "      <td>tt0113041</td>\n",
              "      <td>en</td>\n",
              "      <td>Father of the Bride Part II</td>\n",
              "      <td>Just when George Banks has recovered from his ...</td>\n",
              "      <td>...</td>\n",
              "      <td>1995-02-10</td>\n",
              "      <td>76578911.0</td>\n",
              "      <td>106.0</td>\n",
              "      <td>[{'iso_639_1': 'en', 'name': 'English'}]</td>\n",
              "      <td>Released</td>\n",
              "      <td>Just When His World Is Back To Normal... He's ...</td>\n",
              "      <td>Father of the Bride Part II</td>\n",
              "      <td>False</td>\n",
              "      <td>5.0</td>\n",
              "      <td>173.0</td>\n",
              "    </tr>\n",
              "    <tr>\n",
              "      <th>...</th>\n",
              "      <td>...</td>\n",
              "      <td>...</td>\n",
              "      <td>...</td>\n",
              "      <td>...</td>\n",
              "      <td>...</td>\n",
              "      <td>...</td>\n",
              "      <td>...</td>\n",
              "      <td>...</td>\n",
              "      <td>...</td>\n",
              "      <td>...</td>\n",
              "      <td>...</td>\n",
              "      <td>...</td>\n",
              "      <td>...</td>\n",
              "      <td>...</td>\n",
              "      <td>...</td>\n",
              "      <td>...</td>\n",
              "      <td>...</td>\n",
              "      <td>...</td>\n",
              "      <td>...</td>\n",
              "      <td>...</td>\n",
              "      <td>...</td>\n",
              "    </tr>\n",
              "    <tr>\n",
              "      <th>195</th>\n",
              "      <td>False</td>\n",
              "      <td>NaN</td>\n",
              "      <td>42000000</td>\n",
              "      <td>[{'id': 80, 'name': 'Crime'}, {'id': 18, 'name...</td>\n",
              "      <td>http://www.strange-days.com</td>\n",
              "      <td>281</td>\n",
              "      <td>tt0114558</td>\n",
              "      <td>en</td>\n",
              "      <td>Strange Days</td>\n",
              "      <td>Set in the year 1999 during the last days of t...</td>\n",
              "      <td>...</td>\n",
              "      <td>1995-10-13</td>\n",
              "      <td>7959291.0</td>\n",
              "      <td>145.0</td>\n",
              "      <td>[{'iso_639_1': 'en', 'name': 'English'}]</td>\n",
              "      <td>Released</td>\n",
              "      <td>You know you want it.</td>\n",
              "      <td>Strange Days</td>\n",
              "      <td>False</td>\n",
              "      <td>6.0</td>\n",
              "      <td>334.0</td>\n",
              "    </tr>\n",
              "    <tr>\n",
              "      <th>196</th>\n",
              "      <td>False</td>\n",
              "      <td>NaN</td>\n",
              "      <td>0</td>\n",
              "      <td>[{'id': 18, 'name': 'Drama'}, {'id': 10749, 'n...</td>\n",
              "      <td>NaN</td>\n",
              "      <td>5967</td>\n",
              "      <td>tt0058450</td>\n",
              "      <td>fr</td>\n",
              "      <td>Les parapluies de Cherbourg</td>\n",
              "      <td>This simple romantic tragedy begins in 1957. G...</td>\n",
              "      <td>...</td>\n",
              "      <td>1964-02-19</td>\n",
              "      <td>0.0</td>\n",
              "      <td>91.0</td>\n",
              "      <td>[{'iso_639_1': 'fr', 'name': 'Français'}]</td>\n",
              "      <td>Released</td>\n",
              "      <td>a film for all the young lovers of the world</td>\n",
              "      <td>The Umbrellas of Cherbourg</td>\n",
              "      <td>False</td>\n",
              "      <td>7.0</td>\n",
              "      <td>119.0</td>\n",
              "    </tr>\n",
              "    <tr>\n",
              "      <th>197</th>\n",
              "      <td>False</td>\n",
              "      <td>NaN</td>\n",
              "      <td>14000000</td>\n",
              "      <td>[{'id': 53, 'name': 'Thriller'}]</td>\n",
              "      <td>NaN</td>\n",
              "      <td>79593</td>\n",
              "      <td>tt0114666</td>\n",
              "      <td>en</td>\n",
              "      <td>The Tie That Binds</td>\n",
              "      <td>John Netherwood and his wife Leann are fugitiv...</td>\n",
              "      <td>...</td>\n",
              "      <td>1995-09-08</td>\n",
              "      <td>5780000.0</td>\n",
              "      <td>99.0</td>\n",
              "      <td>[{'iso_639_1': 'en', 'name': 'English'}]</td>\n",
              "      <td>Released</td>\n",
              "      <td>NaN</td>\n",
              "      <td>The Tie That Binds</td>\n",
              "      <td>False</td>\n",
              "      <td>4.0</td>\n",
              "      <td>9.0</td>\n",
              "    </tr>\n",
              "    <tr>\n",
              "      <th>198</th>\n",
              "      <td>False</td>\n",
              "      <td>NaN</td>\n",
              "      <td>0</td>\n",
              "      <td>[{'id': 18, 'name': 'Drama'}, {'id': 14, 'name...</td>\n",
              "      <td>NaN</td>\n",
              "      <td>47939</td>\n",
              "      <td>tt0114663</td>\n",
              "      <td>en</td>\n",
              "      <td>Three Wishes</td>\n",
              "      <td>While Jane Holman (Mastrantonio) is driving wi...</td>\n",
              "      <td>...</td>\n",
              "      <td>1995-10-27</td>\n",
              "      <td>7025496.0</td>\n",
              "      <td>115.0</td>\n",
              "      <td>[{'iso_639_1': 'en', 'name': 'English'}]</td>\n",
              "      <td>Released</td>\n",
              "      <td>If you really believe, magic will find you</td>\n",
              "      <td>Three Wishes</td>\n",
              "      <td>False</td>\n",
              "      <td>6.0</td>\n",
              "      <td>18.0</td>\n",
              "    </tr>\n",
              "    <tr>\n",
              "      <th>199</th>\n",
              "      <td>False</td>\n",
              "      <td>NaN</td>\n",
              "      <td>0</td>\n",
              "      <td>[{'id': 18, 'name': 'Drama'}, {'id': 10749, 'n...</td>\n",
              "      <td>NaN</td>\n",
              "      <td>36834</td>\n",
              "      <td>tt0114702</td>\n",
              "      <td>en</td>\n",
              "      <td>Total Eclipse</td>\n",
              "      <td>Young, wild poet Arthur Rimbaud and his mentor...</td>\n",
              "      <td>...</td>\n",
              "      <td>1995-11-02</td>\n",
              "      <td>339889.0</td>\n",
              "      <td>111.0</td>\n",
              "      <td>[{'iso_639_1': 'en', 'name': 'English'}]</td>\n",
              "      <td>Released</td>\n",
              "      <td>Touched by Genius. Cursed by Madness. Blinded ...</td>\n",
              "      <td>Total Eclipse</td>\n",
              "      <td>False</td>\n",
              "      <td>6.0</td>\n",
              "      <td>112.0</td>\n",
              "    </tr>\n",
              "  </tbody>\n",
              "</table>\n",
              "<p>200 rows × 24 columns</p>\n",
              "</div>\n",
              "      <button class=\"colab-df-convert\" onclick=\"convertToInteractive('df-1d56fe67-fdb5-4ee2-8878-c9baa723769f')\"\n",
              "              title=\"Convert this dataframe to an interactive table.\"\n",
              "              style=\"display:none;\">\n",
              "        \n",
              "  <svg xmlns=\"http://www.w3.org/2000/svg\" height=\"24px\"viewBox=\"0 0 24 24\"\n",
              "       width=\"24px\">\n",
              "    <path d=\"M0 0h24v24H0V0z\" fill=\"none\"/>\n",
              "    <path d=\"M18.56 5.44l.94 2.06.94-2.06 2.06-.94-2.06-.94-.94-2.06-.94 2.06-2.06.94zm-11 1L8.5 8.5l.94-2.06 2.06-.94-2.06-.94L8.5 2.5l-.94 2.06-2.06.94zm10 10l.94 2.06.94-2.06 2.06-.94-2.06-.94-.94-2.06-.94 2.06-2.06.94z\"/><path d=\"M17.41 7.96l-1.37-1.37c-.4-.4-.92-.59-1.43-.59-.52 0-1.04.2-1.43.59L10.3 9.45l-7.72 7.72c-.78.78-.78 2.05 0 2.83L4 21.41c.39.39.9.59 1.41.59.51 0 1.02-.2 1.41-.59l7.78-7.78 2.81-2.81c.8-.78.8-2.07 0-2.86zM5.41 20L4 18.59l7.72-7.72 1.47 1.35L5.41 20z\"/>\n",
              "  </svg>\n",
              "      </button>\n",
              "      \n",
              "  <style>\n",
              "    .colab-df-container {\n",
              "      display:flex;\n",
              "      flex-wrap:wrap;\n",
              "      gap: 12px;\n",
              "    }\n",
              "\n",
              "    .colab-df-convert {\n",
              "      background-color: #E8F0FE;\n",
              "      border: none;\n",
              "      border-radius: 50%;\n",
              "      cursor: pointer;\n",
              "      display: none;\n",
              "      fill: #1967D2;\n",
              "      height: 32px;\n",
              "      padding: 0 0 0 0;\n",
              "      width: 32px;\n",
              "    }\n",
              "\n",
              "    .colab-df-convert:hover {\n",
              "      background-color: #E2EBFA;\n",
              "      box-shadow: 0px 1px 2px rgba(60, 64, 67, 0.3), 0px 1px 3px 1px rgba(60, 64, 67, 0.15);\n",
              "      fill: #174EA6;\n",
              "    }\n",
              "\n",
              "    [theme=dark] .colab-df-convert {\n",
              "      background-color: #3B4455;\n",
              "      fill: #D2E3FC;\n",
              "    }\n",
              "\n",
              "    [theme=dark] .colab-df-convert:hover {\n",
              "      background-color: #434B5C;\n",
              "      box-shadow: 0px 1px 3px 1px rgba(0, 0, 0, 0.15);\n",
              "      filter: drop-shadow(0px 1px 2px rgba(0, 0, 0, 0.3));\n",
              "      fill: #FFFFFF;\n",
              "    }\n",
              "  </style>\n",
              "\n",
              "      <script>\n",
              "        const buttonEl =\n",
              "          document.querySelector('#df-1d56fe67-fdb5-4ee2-8878-c9baa723769f button.colab-df-convert');\n",
              "        buttonEl.style.display =\n",
              "          google.colab.kernel.accessAllowed ? 'block' : 'none';\n",
              "\n",
              "        async function convertToInteractive(key) {\n",
              "          const element = document.querySelector('#df-1d56fe67-fdb5-4ee2-8878-c9baa723769f');\n",
              "          const dataTable =\n",
              "            await google.colab.kernel.invokeFunction('convertToInteractive',\n",
              "                                                     [key], {});\n",
              "          if (!dataTable) return;\n",
              "\n",
              "          const docLinkHtml = 'Like what you see? Visit the ' +\n",
              "            '<a target=\"_blank\" href=https://colab.research.google.com/notebooks/data_table.ipynb>data table notebook</a>'\n",
              "            + ' to learn more about interactive tables.';\n",
              "          element.innerHTML = '';\n",
              "          dataTable['output_type'] = 'display_data';\n",
              "          await google.colab.output.renderOutput(dataTable, element);\n",
              "          const docLink = document.createElement('div');\n",
              "          docLink.innerHTML = docLinkHtml;\n",
              "          element.appendChild(docLink);\n",
              "        }\n",
              "      </script>\n",
              "    </div>\n",
              "  </div>\n",
              "  "
            ]
          },
          "metadata": {},
          "execution_count": 28
        }
      ]
    },
    {
      "cell_type": "code",
      "source": [
        "# View list of all columns to make it easier to see what is being stored in the CSV file\n",
        "movie_data.columns\n",
        "\n"
      ],
      "metadata": {
        "id": "UFLNgDLHQs2z",
        "outputId": "d9242708-d92d-4486-dea8-599d0a613bd5",
        "colab": {
          "base_uri": "https://localhost:8080/"
        }
      },
      "execution_count": 29,
      "outputs": [
        {
          "output_type": "execute_result",
          "data": {
            "text/plain": [
              "Index(['adult', 'belongs_to_collection', 'budget', 'genres', 'homepage', 'id',\n",
              "       'imdb_id', 'original_language', 'original_title', 'overview',\n",
              "       'popularity', 'poster_path', 'production_companies',\n",
              "       'production_countries', 'release_date', 'revenue', 'runtime',\n",
              "       'spoken_languages', 'status', 'tagline', 'title', 'video',\n",
              "       'vote_average', 'vote_count'],\n",
              "      dtype='object')"
            ]
          },
          "metadata": {},
          "execution_count": 29
        }
      ]
    },
    {
      "cell_type": "code",
      "source": [
        "# created new data with only the important columns\n",
        "movies = movie_data[['genres', 'tagline', 'title', 'production_companies']]\n",
        "movies"
      ],
      "metadata": {
        "id": "QzWPqiy3VXaW",
        "outputId": "aa672cd4-2738-4983-9e22-914cc3974610",
        "colab": {
          "base_uri": "https://localhost:8080/",
          "height": 424
        }
      },
      "execution_count": 32,
      "outputs": [
        {
          "output_type": "execute_result",
          "data": {
            "text/plain": [
              "                                                genres  \\\n",
              "0    [{'id': 16, 'name': 'Animation'}, {'id': 35, '...   \n",
              "1    [{'id': 12, 'name': 'Adventure'}, {'id': 14, '...   \n",
              "2    [{'id': 10749, 'name': 'Romance'}, {'id': 35, ...   \n",
              "3    [{'id': 35, 'name': 'Comedy'}, {'id': 18, 'nam...   \n",
              "4                       [{'id': 35, 'name': 'Comedy'}]   \n",
              "..                                                 ...   \n",
              "195  [{'id': 80, 'name': 'Crime'}, {'id': 18, 'name...   \n",
              "196  [{'id': 18, 'name': 'Drama'}, {'id': 10749, 'n...   \n",
              "197                   [{'id': 53, 'name': 'Thriller'}]   \n",
              "198  [{'id': 18, 'name': 'Drama'}, {'id': 14, 'name...   \n",
              "199  [{'id': 18, 'name': 'Drama'}, {'id': 10749, 'n...   \n",
              "\n",
              "                                               tagline  \\\n",
              "0                                                  NaN   \n",
              "1            Roll the dice and unleash the excitement!   \n",
              "2    Still Yelling. Still Fighting. Still Ready for...   \n",
              "3    Friends are the people who let you be yourself...   \n",
              "4    Just When His World Is Back To Normal... He's ...   \n",
              "..                                                 ...   \n",
              "195                              You know you want it.   \n",
              "196       a film for all the young lovers of the world   \n",
              "197                                                NaN   \n",
              "198         If you really believe, magic will find you   \n",
              "199  Touched by Genius. Cursed by Madness. Blinded ...   \n",
              "\n",
              "                           title  \\\n",
              "0                      Toy Story   \n",
              "1                        Jumanji   \n",
              "2               Grumpier Old Men   \n",
              "3              Waiting to Exhale   \n",
              "4    Father of the Bride Part II   \n",
              "..                           ...   \n",
              "195                 Strange Days   \n",
              "196   The Umbrellas of Cherbourg   \n",
              "197           The Tie That Binds   \n",
              "198                 Three Wishes   \n",
              "199                Total Eclipse   \n",
              "\n",
              "                                  production_companies  \n",
              "0       [{'name': 'Pixar Animation Studios', 'id': 3}]  \n",
              "1    [{'name': 'TriStar Pictures', 'id': 559}, {'na...  \n",
              "2    [{'name': 'Warner Bros.', 'id': 6194}, {'name'...  \n",
              "3    [{'name': 'Twentieth Century Fox Film Corporat...  \n",
              "4    [{'name': 'Sandollar Productions', 'id': 5842}...  \n",
              "..                                                 ...  \n",
              "195  [{'name': 'Lightstorm Entertainment', 'id': 574}]  \n",
              "196  [{'name': 'Beta Film', 'id': 1080}, {'name': '...  \n",
              "197  [{'name': 'Hollywood Pictures', 'id': 915}, {'...  \n",
              "198          [{'name': 'Savoy Pictures', 'id': 11308}]  \n",
              "199  [{'name': 'Société Française de Production (SF...  \n",
              "\n",
              "[200 rows x 4 columns]"
            ],
            "text/html": [
              "\n",
              "  <div id=\"df-ce9ae98b-ae48-4c12-a642-ca587df538f0\">\n",
              "    <div class=\"colab-df-container\">\n",
              "      <div>\n",
              "<style scoped>\n",
              "    .dataframe tbody tr th:only-of-type {\n",
              "        vertical-align: middle;\n",
              "    }\n",
              "\n",
              "    .dataframe tbody tr th {\n",
              "        vertical-align: top;\n",
              "    }\n",
              "\n",
              "    .dataframe thead th {\n",
              "        text-align: right;\n",
              "    }\n",
              "</style>\n",
              "<table border=\"1\" class=\"dataframe\">\n",
              "  <thead>\n",
              "    <tr style=\"text-align: right;\">\n",
              "      <th></th>\n",
              "      <th>genres</th>\n",
              "      <th>tagline</th>\n",
              "      <th>title</th>\n",
              "      <th>production_companies</th>\n",
              "    </tr>\n",
              "  </thead>\n",
              "  <tbody>\n",
              "    <tr>\n",
              "      <th>0</th>\n",
              "      <td>[{'id': 16, 'name': 'Animation'}, {'id': 35, '...</td>\n",
              "      <td>NaN</td>\n",
              "      <td>Toy Story</td>\n",
              "      <td>[{'name': 'Pixar Animation Studios', 'id': 3}]</td>\n",
              "    </tr>\n",
              "    <tr>\n",
              "      <th>1</th>\n",
              "      <td>[{'id': 12, 'name': 'Adventure'}, {'id': 14, '...</td>\n",
              "      <td>Roll the dice and unleash the excitement!</td>\n",
              "      <td>Jumanji</td>\n",
              "      <td>[{'name': 'TriStar Pictures', 'id': 559}, {'na...</td>\n",
              "    </tr>\n",
              "    <tr>\n",
              "      <th>2</th>\n",
              "      <td>[{'id': 10749, 'name': 'Romance'}, {'id': 35, ...</td>\n",
              "      <td>Still Yelling. Still Fighting. Still Ready for...</td>\n",
              "      <td>Grumpier Old Men</td>\n",
              "      <td>[{'name': 'Warner Bros.', 'id': 6194}, {'name'...</td>\n",
              "    </tr>\n",
              "    <tr>\n",
              "      <th>3</th>\n",
              "      <td>[{'id': 35, 'name': 'Comedy'}, {'id': 18, 'nam...</td>\n",
              "      <td>Friends are the people who let you be yourself...</td>\n",
              "      <td>Waiting to Exhale</td>\n",
              "      <td>[{'name': 'Twentieth Century Fox Film Corporat...</td>\n",
              "    </tr>\n",
              "    <tr>\n",
              "      <th>4</th>\n",
              "      <td>[{'id': 35, 'name': 'Comedy'}]</td>\n",
              "      <td>Just When His World Is Back To Normal... He's ...</td>\n",
              "      <td>Father of the Bride Part II</td>\n",
              "      <td>[{'name': 'Sandollar Productions', 'id': 5842}...</td>\n",
              "    </tr>\n",
              "    <tr>\n",
              "      <th>...</th>\n",
              "      <td>...</td>\n",
              "      <td>...</td>\n",
              "      <td>...</td>\n",
              "      <td>...</td>\n",
              "    </tr>\n",
              "    <tr>\n",
              "      <th>195</th>\n",
              "      <td>[{'id': 80, 'name': 'Crime'}, {'id': 18, 'name...</td>\n",
              "      <td>You know you want it.</td>\n",
              "      <td>Strange Days</td>\n",
              "      <td>[{'name': 'Lightstorm Entertainment', 'id': 574}]</td>\n",
              "    </tr>\n",
              "    <tr>\n",
              "      <th>196</th>\n",
              "      <td>[{'id': 18, 'name': 'Drama'}, {'id': 10749, 'n...</td>\n",
              "      <td>a film for all the young lovers of the world</td>\n",
              "      <td>The Umbrellas of Cherbourg</td>\n",
              "      <td>[{'name': 'Beta Film', 'id': 1080}, {'name': '...</td>\n",
              "    </tr>\n",
              "    <tr>\n",
              "      <th>197</th>\n",
              "      <td>[{'id': 53, 'name': 'Thriller'}]</td>\n",
              "      <td>NaN</td>\n",
              "      <td>The Tie That Binds</td>\n",
              "      <td>[{'name': 'Hollywood Pictures', 'id': 915}, {'...</td>\n",
              "    </tr>\n",
              "    <tr>\n",
              "      <th>198</th>\n",
              "      <td>[{'id': 18, 'name': 'Drama'}, {'id': 14, 'name...</td>\n",
              "      <td>If you really believe, magic will find you</td>\n",
              "      <td>Three Wishes</td>\n",
              "      <td>[{'name': 'Savoy Pictures', 'id': 11308}]</td>\n",
              "    </tr>\n",
              "    <tr>\n",
              "      <th>199</th>\n",
              "      <td>[{'id': 18, 'name': 'Drama'}, {'id': 10749, 'n...</td>\n",
              "      <td>Touched by Genius. Cursed by Madness. Blinded ...</td>\n",
              "      <td>Total Eclipse</td>\n",
              "      <td>[{'name': 'Société Française de Production (SF...</td>\n",
              "    </tr>\n",
              "  </tbody>\n",
              "</table>\n",
              "<p>200 rows × 4 columns</p>\n",
              "</div>\n",
              "      <button class=\"colab-df-convert\" onclick=\"convertToInteractive('df-ce9ae98b-ae48-4c12-a642-ca587df538f0')\"\n",
              "              title=\"Convert this dataframe to an interactive table.\"\n",
              "              style=\"display:none;\">\n",
              "        \n",
              "  <svg xmlns=\"http://www.w3.org/2000/svg\" height=\"24px\"viewBox=\"0 0 24 24\"\n",
              "       width=\"24px\">\n",
              "    <path d=\"M0 0h24v24H0V0z\" fill=\"none\"/>\n",
              "    <path d=\"M18.56 5.44l.94 2.06.94-2.06 2.06-.94-2.06-.94-.94-2.06-.94 2.06-2.06.94zm-11 1L8.5 8.5l.94-2.06 2.06-.94-2.06-.94L8.5 2.5l-.94 2.06-2.06.94zm10 10l.94 2.06.94-2.06 2.06-.94-2.06-.94-.94-2.06-.94 2.06-2.06.94z\"/><path d=\"M17.41 7.96l-1.37-1.37c-.4-.4-.92-.59-1.43-.59-.52 0-1.04.2-1.43.59L10.3 9.45l-7.72 7.72c-.78.78-.78 2.05 0 2.83L4 21.41c.39.39.9.59 1.41.59.51 0 1.02-.2 1.41-.59l7.78-7.78 2.81-2.81c.8-.78.8-2.07 0-2.86zM5.41 20L4 18.59l7.72-7.72 1.47 1.35L5.41 20z\"/>\n",
              "  </svg>\n",
              "      </button>\n",
              "      \n",
              "  <style>\n",
              "    .colab-df-container {\n",
              "      display:flex;\n",
              "      flex-wrap:wrap;\n",
              "      gap: 12px;\n",
              "    }\n",
              "\n",
              "    .colab-df-convert {\n",
              "      background-color: #E8F0FE;\n",
              "      border: none;\n",
              "      border-radius: 50%;\n",
              "      cursor: pointer;\n",
              "      display: none;\n",
              "      fill: #1967D2;\n",
              "      height: 32px;\n",
              "      padding: 0 0 0 0;\n",
              "      width: 32px;\n",
              "    }\n",
              "\n",
              "    .colab-df-convert:hover {\n",
              "      background-color: #E2EBFA;\n",
              "      box-shadow: 0px 1px 2px rgba(60, 64, 67, 0.3), 0px 1px 3px 1px rgba(60, 64, 67, 0.15);\n",
              "      fill: #174EA6;\n",
              "    }\n",
              "\n",
              "    [theme=dark] .colab-df-convert {\n",
              "      background-color: #3B4455;\n",
              "      fill: #D2E3FC;\n",
              "    }\n",
              "\n",
              "    [theme=dark] .colab-df-convert:hover {\n",
              "      background-color: #434B5C;\n",
              "      box-shadow: 0px 1px 3px 1px rgba(0, 0, 0, 0.15);\n",
              "      filter: drop-shadow(0px 1px 2px rgba(0, 0, 0, 0.3));\n",
              "      fill: #FFFFFF;\n",
              "    }\n",
              "  </style>\n",
              "\n",
              "      <script>\n",
              "        const buttonEl =\n",
              "          document.querySelector('#df-ce9ae98b-ae48-4c12-a642-ca587df538f0 button.colab-df-convert');\n",
              "        buttonEl.style.display =\n",
              "          google.colab.kernel.accessAllowed ? 'block' : 'none';\n",
              "\n",
              "        async function convertToInteractive(key) {\n",
              "          const element = document.querySelector('#df-ce9ae98b-ae48-4c12-a642-ca587df538f0');\n",
              "          const dataTable =\n",
              "            await google.colab.kernel.invokeFunction('convertToInteractive',\n",
              "                                                     [key], {});\n",
              "          if (!dataTable) return;\n",
              "\n",
              "          const docLinkHtml = 'Like what you see? Visit the ' +\n",
              "            '<a target=\"_blank\" href=https://colab.research.google.com/notebooks/data_table.ipynb>data table notebook</a>'\n",
              "            + ' to learn more about interactive tables.';\n",
              "          element.innerHTML = '';\n",
              "          dataTable['output_type'] = 'display_data';\n",
              "          await google.colab.output.renderOutput(dataTable, element);\n",
              "          const docLink = document.createElement('div');\n",
              "          docLink.innerHTML = docLinkHtml;\n",
              "          element.appendChild(docLink);\n",
              "        }\n",
              "      </script>\n",
              "    </div>\n",
              "  </div>\n",
              "  "
            ]
          },
          "metadata": {},
          "execution_count": 32
        }
      ]
    },
    {
      "cell_type": "code",
      "source": [],
      "metadata": {
        "id": "OropLWMWX6bm",
        "outputId": "85ae1275-f689-4206-9eee-cf21647fee6b",
        "colab": {
          "base_uri": "https://localhost:8080/"
        }
      },
      "execution_count": 33,
      "outputs": [
        {
          "output_type": "execute_result",
          "data": {
            "text/plain": [
              "<bound method DataFrame.info of                                                 genres  \\\n",
              "0    [{'id': 16, 'name': 'Animation'}, {'id': 35, '...   \n",
              "1    [{'id': 12, 'name': 'Adventure'}, {'id': 14, '...   \n",
              "2    [{'id': 10749, 'name': 'Romance'}, {'id': 35, ...   \n",
              "3    [{'id': 35, 'name': 'Comedy'}, {'id': 18, 'nam...   \n",
              "4                       [{'id': 35, 'name': 'Comedy'}]   \n",
              "..                                                 ...   \n",
              "195  [{'id': 80, 'name': 'Crime'}, {'id': 18, 'name...   \n",
              "196  [{'id': 18, 'name': 'Drama'}, {'id': 10749, 'n...   \n",
              "197                   [{'id': 53, 'name': 'Thriller'}]   \n",
              "198  [{'id': 18, 'name': 'Drama'}, {'id': 14, 'name...   \n",
              "199  [{'id': 18, 'name': 'Drama'}, {'id': 10749, 'n...   \n",
              "\n",
              "                                               tagline  \\\n",
              "0                                                  NaN   \n",
              "1            Roll the dice and unleash the excitement!   \n",
              "2    Still Yelling. Still Fighting. Still Ready for...   \n",
              "3    Friends are the people who let you be yourself...   \n",
              "4    Just When His World Is Back To Normal... He's ...   \n",
              "..                                                 ...   \n",
              "195                              You know you want it.   \n",
              "196       a film for all the young lovers of the world   \n",
              "197                                                NaN   \n",
              "198         If you really believe, magic will find you   \n",
              "199  Touched by Genius. Cursed by Madness. Blinded ...   \n",
              "\n",
              "                           title  \\\n",
              "0                      Toy Story   \n",
              "1                        Jumanji   \n",
              "2               Grumpier Old Men   \n",
              "3              Waiting to Exhale   \n",
              "4    Father of the Bride Part II   \n",
              "..                           ...   \n",
              "195                 Strange Days   \n",
              "196   The Umbrellas of Cherbourg   \n",
              "197           The Tie That Binds   \n",
              "198                 Three Wishes   \n",
              "199                Total Eclipse   \n",
              "\n",
              "                                  production_companies  \n",
              "0       [{'name': 'Pixar Animation Studios', 'id': 3}]  \n",
              "1    [{'name': 'TriStar Pictures', 'id': 559}, {'na...  \n",
              "2    [{'name': 'Warner Bros.', 'id': 6194}, {'name'...  \n",
              "3    [{'name': 'Twentieth Century Fox Film Corporat...  \n",
              "4    [{'name': 'Sandollar Productions', 'id': 5842}...  \n",
              "..                                                 ...  \n",
              "195  [{'name': 'Lightstorm Entertainment', 'id': 574}]  \n",
              "196  [{'name': 'Beta Film', 'id': 1080}, {'name': '...  \n",
              "197  [{'name': 'Hollywood Pictures', 'id': 915}, {'...  \n",
              "198          [{'name': 'Savoy Pictures', 'id': 11308}]  \n",
              "199  [{'name': 'Société Française de Production (SF...  \n",
              "\n",
              "[200 rows x 4 columns]>"
            ]
          },
          "metadata": {},
          "execution_count": 33
        }
      ]
    },
    {
      "cell_type": "code",
      "source": [],
      "metadata": {
        "id": "iRBGIMhcIa6z",
        "outputId": "ef8a40d3-a015-4463-944e-c72aa27f68ff",
        "colab": {
          "base_uri": "https://localhost:8080/"
        }
      },
      "execution_count": 7,
      "outputs": [
        {
          "output_type": "stream",
          "name": "stdout",
          "text": [
            "(45466, 24)\n"
          ]
        }
      ]
    },
    {
      "cell_type": "code",
      "source": [
        "df.info()"
      ],
      "metadata": {
        "id": "WD9rlAy9IgYD",
        "outputId": "ad0346e1-ff37-41dd-8f50-d85485404f83",
        "colab": {
          "base_uri": "https://localhost:8080/"
        }
      },
      "execution_count": 8,
      "outputs": [
        {
          "output_type": "stream",
          "name": "stdout",
          "text": [
            "<class 'pandas.core.frame.DataFrame'>\n",
            "RangeIndex: 45466 entries, 0 to 45465\n",
            "Data columns (total 24 columns):\n",
            " #   Column                 Non-Null Count  Dtype  \n",
            "---  ------                 --------------  -----  \n",
            " 0   adult                  45466 non-null  object \n",
            " 1   belongs_to_collection  4494 non-null   object \n",
            " 2   budget                 45466 non-null  object \n",
            " 3   genres                 45466 non-null  object \n",
            " 4   homepage               7782 non-null   object \n",
            " 5   id                     45466 non-null  object \n",
            " 6   imdb_id                45449 non-null  object \n",
            " 7   original_language      45455 non-null  object \n",
            " 8   original_title         45466 non-null  object \n",
            " 9   overview               44512 non-null  object \n",
            " 10  popularity             45461 non-null  object \n",
            " 11  poster_path            45080 non-null  object \n",
            " 12  production_companies   45463 non-null  object \n",
            " 13  production_countries   45463 non-null  object \n",
            " 14  release_date           45379 non-null  object \n",
            " 15  revenue                45460 non-null  float64\n",
            " 16  runtime                45203 non-null  float64\n",
            " 17  spoken_languages       45460 non-null  object \n",
            " 18  status                 45379 non-null  object \n",
            " 19  tagline                20412 non-null  object \n",
            " 20  title                  45460 non-null  object \n",
            " 21  video                  45460 non-null  object \n",
            " 22  vote_average           45460 non-null  float64\n",
            " 23  vote_count             45460 non-null  float64\n",
            "dtypes: float64(4), object(20)\n",
            "memory usage: 8.3+ MB\n"
          ]
        }
      ]
    },
    {
      "cell_type": "code",
      "source": [
        "# check for any null values\n",
        "df.isnull().sum()"
      ],
      "metadata": {
        "id": "W4fKlhx6ImmK",
        "outputId": "a9c06359-e4f5-46cc-f00b-3430bac5a8d5",
        "colab": {
          "base_uri": "https://localhost:8080/"
        }
      },
      "execution_count": 9,
      "outputs": [
        {
          "output_type": "execute_result",
          "data": {
            "text/plain": [
              "adult                        0\n",
              "belongs_to_collection    40972\n",
              "budget                       0\n",
              "genres                       0\n",
              "homepage                 37684\n",
              "id                           0\n",
              "imdb_id                     17\n",
              "original_language           11\n",
              "original_title               0\n",
              "overview                   954\n",
              "popularity                   5\n",
              "poster_path                386\n",
              "production_companies         3\n",
              "production_countries         3\n",
              "release_date                87\n",
              "revenue                      6\n",
              "runtime                    263\n",
              "spoken_languages             6\n",
              "status                      87\n",
              "tagline                  25054\n",
              "title                        6\n",
              "video                        6\n",
              "vote_average                 6\n",
              "vote_count                   6\n",
              "dtype: int64"
            ]
          },
          "metadata": {},
          "execution_count": 9
        }
      ]
    },
    {
      "cell_type": "code",
      "source": [
        "# check for duplicate values\n",
        "df.duplicated().sum()\n"
      ],
      "metadata": {
        "id": "8-yjez6QIsfF",
        "outputId": "ff35daf6-dc6d-47c3-9ac2-60e742fad032",
        "colab": {
          "base_uri": "https://localhost:8080/"
        }
      },
      "execution_count": 34,
      "outputs": [
        {
          "output_type": "execute_result",
          "data": {
            "text/plain": [
              "10"
            ]
          },
          "metadata": {},
          "execution_count": 34
        }
      ]
    },
    {
      "cell_type": "code",
      "source": [
        "# Created a column that concatnates all the data from a row into one single column\n",
        "movies['grouped_data'] = movies['genres'] +' '+ movies['tagline'] +' '+ movies['title'] +' '+ movies['production_companies']\n",
        "movies.head()\n",
        "movies.iloc[1]['grouped_data']"
      ],
      "metadata": {
        "id": "djOHkB9kYu7W",
        "outputId": "4654afd2-dafc-4861-c188-348b95355241",
        "colab": {
          "base_uri": "https://localhost:8080/",
          "height": 157
        }
      },
      "execution_count": 45,
      "outputs": [
        {
          "output_type": "stream",
          "name": "stderr",
          "text": [
            "<ipython-input-45-9614b4ee1ca5>:2: SettingWithCopyWarning: \n",
            "A value is trying to be set on a copy of a slice from a DataFrame.\n",
            "Try using .loc[row_indexer,col_indexer] = value instead\n",
            "\n",
            "See the caveats in the documentation: https://pandas.pydata.org/pandas-docs/stable/user_guide/indexing.html#returning-a-view-versus-a-copy\n",
            "  movies['grouped_data'] = movies['genres'] +' '+ movies['tagline'] +' '+ movies['title'] +' '+ movies['production_companies']\n"
          ]
        },
        {
          "output_type": "execute_result",
          "data": {
            "text/plain": [
              "\"[{'id': 12, 'name': 'Adventure'}, {'id': 14, 'name': 'Fantasy'}, {'id': 10751, 'name': 'Family'}] Roll the dice and unleash the excitement! Jumanji [{'name': 'TriStar Pictures', 'id': 559}, {'name': 'Teitler Film', 'id': 2550}, {'name': 'Interscope Communications', 'id': 10201}]\""
            ],
            "application/vnd.google.colaboratory.intrinsic+json": {
              "type": "string"
            }
          },
          "metadata": {},
          "execution_count": 45
        }
      ]
    },
    {
      "cell_type": "code",
      "source": [
        "gen = df[\"genres\"]\n",
        "vote_avg = df[\"vote_average\"]\n",
        "gen\n",
        "# print(type(gen))"
      ],
      "metadata": {
        "id": "1IYRPIjq8_ux",
        "outputId": "0cd17aa6-2fb7-4f54-ce60-a333c6c8ae20",
        "colab": {
          "base_uri": "https://localhost:8080/"
        }
      },
      "execution_count": 35,
      "outputs": [
        {
          "output_type": "execute_result",
          "data": {
            "text/plain": [
              "0        [{'id': 16, 'name': 'Animation'}, {'id': 35, '...\n",
              "1        [{'id': 12, 'name': 'Adventure'}, {'id': 14, '...\n",
              "2        [{'id': 10749, 'name': 'Romance'}, {'id': 35, ...\n",
              "3        [{'id': 35, 'name': 'Comedy'}, {'id': 18, 'nam...\n",
              "4                           [{'id': 35, 'name': 'Comedy'}]\n",
              "                               ...                        \n",
              "45461    [{'id': 18, 'name': 'Drama'}, {'id': 10751, 'n...\n",
              "45462                        [{'id': 18, 'name': 'Drama'}]\n",
              "45463    [{'id': 28, 'name': 'Action'}, {'id': 18, 'nam...\n",
              "45464                                                   []\n",
              "45465                                                   []\n",
              "Name: genres, Length: 45466, dtype: object"
            ]
          },
          "metadata": {},
          "execution_count": 35
        }
      ]
    },
    {
      "cell_type": "code",
      "source": [
        "print(gen[0])\n",
        "print(type(gen[0]))"
      ],
      "metadata": {
        "id": "u_jWccBHEOEH",
        "outputId": "3cf02c79-2be4-442e-cf97-966f663ddcc9",
        "colab": {
          "base_uri": "https://localhost:8080/"
        }
      },
      "execution_count": 12,
      "outputs": [
        {
          "output_type": "stream",
          "name": "stdout",
          "text": [
            "[{'id': 16, 'name': 'Animation'}, {'id': 35, 'name': 'Comedy'}, {'id': 10751, 'name': 'Family'}]\n",
            "<class 'str'>\n"
          ]
        }
      ]
    },
    {
      "cell_type": "code",
      "source": [
        "for i in range(len(vote_avg)):\n",
        "  vote_avg[i] = int(vote_avg[i])"
      ],
      "metadata": {
        "id": "ixX_ywRoGbfh",
        "outputId": "4a7910eb-f2cd-4ae9-fc30-365a4ee4ed40",
        "colab": {
          "base_uri": "https://localhost:8080/",
          "height": 269
        }
      },
      "execution_count": 13,
      "outputs": [
        {
          "output_type": "stream",
          "name": "stderr",
          "text": [
            "<ipython-input-13-7a00daefad50>:2: SettingWithCopyWarning: \n",
            "A value is trying to be set on a copy of a slice from a DataFrame\n",
            "\n",
            "See the caveats in the documentation: https://pandas.pydata.org/pandas-docs/stable/user_guide/indexing.html#returning-a-view-versus-a-copy\n",
            "  vote_avg[i] = int(vote_avg[i])\n"
          ]
        },
        {
          "output_type": "error",
          "ename": "ValueError",
          "evalue": "ignored",
          "traceback": [
            "\u001b[0;31m---------------------------------------------------------------------------\u001b[0m",
            "\u001b[0;31mValueError\u001b[0m                                Traceback (most recent call last)",
            "\u001b[0;32m<ipython-input-13-7a00daefad50>\u001b[0m in \u001b[0;36m<module>\u001b[0;34m\u001b[0m\n\u001b[1;32m      1\u001b[0m \u001b[0;32mfor\u001b[0m \u001b[0mi\u001b[0m \u001b[0;32min\u001b[0m \u001b[0mrange\u001b[0m\u001b[0;34m(\u001b[0m\u001b[0mlen\u001b[0m\u001b[0;34m(\u001b[0m\u001b[0mvote_avg\u001b[0m\u001b[0;34m)\u001b[0m\u001b[0;34m)\u001b[0m\u001b[0;34m:\u001b[0m\u001b[0;34m\u001b[0m\u001b[0;34m\u001b[0m\u001b[0m\n\u001b[0;32m----> 2\u001b[0;31m   \u001b[0mvote_avg\u001b[0m\u001b[0;34m[\u001b[0m\u001b[0mi\u001b[0m\u001b[0;34m]\u001b[0m \u001b[0;34m=\u001b[0m \u001b[0mint\u001b[0m\u001b[0;34m(\u001b[0m\u001b[0mvote_avg\u001b[0m\u001b[0;34m[\u001b[0m\u001b[0mi\u001b[0m\u001b[0;34m]\u001b[0m\u001b[0;34m)\u001b[0m\u001b[0;34m\u001b[0m\u001b[0;34m\u001b[0m\u001b[0m\n\u001b[0m",
            "\u001b[0;31mValueError\u001b[0m: cannot convert float NaN to integer"
          ]
        }
      ]
    },
    {
      "cell_type": "code",
      "source": [
        "plt.figure(figsize = (8,8))\n",
        "plt.scatter(gen, vote_avg)"
      ],
      "metadata": {
        "id": "8M1CTDd3FpuB"
      },
      "execution_count": null,
      "outputs": []
    },
    {
      "cell_type": "code",
      "source": [
        "# categ = []\n",
        "# for i in gen:\n",
        "#     div = gen[i]\n",
        "#     categ.append(div)\n",
        "# categ"
      ],
      "metadata": {
        "id": "kH57zCnDCiWl",
        "outputId": "62faa467-3c56-4898-b990-30cb0c0e552c",
        "colab": {
          "base_uri": "https://localhost:8080/",
          "height": 390
        }
      },
      "execution_count": null,
      "outputs": [
        {
          "output_type": "error",
          "ename": "KeyError",
          "evalue": "ignored",
          "traceback": [
            "\u001b[0;31m---------------------------------------------------------------------------\u001b[0m",
            "\u001b[0;31mKeyError\u001b[0m                                  Traceback (most recent call last)",
            "\u001b[0;32m<ipython-input-26-a5bc97cbb568>\u001b[0m in \u001b[0;36m<module>\u001b[0;34m\u001b[0m\n\u001b[1;32m      1\u001b[0m \u001b[0mcateg\u001b[0m \u001b[0;34m=\u001b[0m \u001b[0;34m[\u001b[0m\u001b[0;34m]\u001b[0m\u001b[0;34m\u001b[0m\u001b[0;34m\u001b[0m\u001b[0m\n\u001b[1;32m      2\u001b[0m \u001b[0;32mfor\u001b[0m \u001b[0mi\u001b[0m \u001b[0;32min\u001b[0m \u001b[0mgen\u001b[0m\u001b[0;34m:\u001b[0m\u001b[0;34m\u001b[0m\u001b[0;34m\u001b[0m\u001b[0m\n\u001b[0;32m----> 3\u001b[0;31m     \u001b[0mdiv\u001b[0m \u001b[0;34m=\u001b[0m \u001b[0mgen\u001b[0m\u001b[0;34m[\u001b[0m\u001b[0mi\u001b[0m\u001b[0;34m]\u001b[0m\u001b[0;34m\u001b[0m\u001b[0;34m\u001b[0m\u001b[0m\n\u001b[0m\u001b[1;32m      4\u001b[0m     \u001b[0mcateg\u001b[0m\u001b[0;34m.\u001b[0m\u001b[0mappend\u001b[0m\u001b[0;34m(\u001b[0m\u001b[0mdiv\u001b[0m\u001b[0;34m)\u001b[0m\u001b[0;34m\u001b[0m\u001b[0;34m\u001b[0m\u001b[0m\n\u001b[1;32m      5\u001b[0m \u001b[0mcateg\u001b[0m\u001b[0;34m\u001b[0m\u001b[0;34m\u001b[0m\u001b[0m\n",
            "\u001b[0;32m/usr/local/lib/python3.8/dist-packages/pandas/core/series.py\u001b[0m in \u001b[0;36m__getitem__\u001b[0;34m(self, key)\u001b[0m\n\u001b[1;32m    940\u001b[0m \u001b[0;34m\u001b[0m\u001b[0m\n\u001b[1;32m    941\u001b[0m         \u001b[0;32melif\u001b[0m \u001b[0mkey_is_scalar\u001b[0m\u001b[0;34m:\u001b[0m\u001b[0;34m\u001b[0m\u001b[0;34m\u001b[0m\u001b[0m\n\u001b[0;32m--> 942\u001b[0;31m             \u001b[0;32mreturn\u001b[0m \u001b[0mself\u001b[0m\u001b[0;34m.\u001b[0m\u001b[0m_get_value\u001b[0m\u001b[0;34m(\u001b[0m\u001b[0mkey\u001b[0m\u001b[0;34m)\u001b[0m\u001b[0;34m\u001b[0m\u001b[0;34m\u001b[0m\u001b[0m\n\u001b[0m\u001b[1;32m    943\u001b[0m \u001b[0;34m\u001b[0m\u001b[0m\n\u001b[1;32m    944\u001b[0m         \u001b[0;32mif\u001b[0m \u001b[0mis_hashable\u001b[0m\u001b[0;34m(\u001b[0m\u001b[0mkey\u001b[0m\u001b[0;34m)\u001b[0m\u001b[0;34m:\u001b[0m\u001b[0;34m\u001b[0m\u001b[0;34m\u001b[0m\u001b[0m\n",
            "\u001b[0;32m/usr/local/lib/python3.8/dist-packages/pandas/core/series.py\u001b[0m in \u001b[0;36m_get_value\u001b[0;34m(self, label, takeable)\u001b[0m\n\u001b[1;32m   1049\u001b[0m \u001b[0;34m\u001b[0m\u001b[0m\n\u001b[1;32m   1050\u001b[0m         \u001b[0;31m# Similar to Index.get_value, but we do not fall back to positional\u001b[0m\u001b[0;34m\u001b[0m\u001b[0;34m\u001b[0m\u001b[0;34m\u001b[0m\u001b[0m\n\u001b[0;32m-> 1051\u001b[0;31m         \u001b[0mloc\u001b[0m \u001b[0;34m=\u001b[0m \u001b[0mself\u001b[0m\u001b[0;34m.\u001b[0m\u001b[0mindex\u001b[0m\u001b[0;34m.\u001b[0m\u001b[0mget_loc\u001b[0m\u001b[0;34m(\u001b[0m\u001b[0mlabel\u001b[0m\u001b[0;34m)\u001b[0m\u001b[0;34m\u001b[0m\u001b[0;34m\u001b[0m\u001b[0m\n\u001b[0m\u001b[1;32m   1052\u001b[0m         \u001b[0;32mreturn\u001b[0m \u001b[0mself\u001b[0m\u001b[0;34m.\u001b[0m\u001b[0mindex\u001b[0m\u001b[0;34m.\u001b[0m\u001b[0m_get_values_for_loc\u001b[0m\u001b[0;34m(\u001b[0m\u001b[0mself\u001b[0m\u001b[0;34m,\u001b[0m \u001b[0mloc\u001b[0m\u001b[0;34m,\u001b[0m \u001b[0mlabel\u001b[0m\u001b[0;34m)\u001b[0m\u001b[0;34m\u001b[0m\u001b[0;34m\u001b[0m\u001b[0m\n\u001b[1;32m   1053\u001b[0m \u001b[0;34m\u001b[0m\u001b[0m\n",
            "\u001b[0;32m/usr/local/lib/python3.8/dist-packages/pandas/core/indexes/range.py\u001b[0m in \u001b[0;36mget_loc\u001b[0;34m(self, key, method, tolerance)\u001b[0m\n\u001b[1;32m    386\u001b[0m                 \u001b[0;32mexcept\u001b[0m \u001b[0mValueError\u001b[0m \u001b[0;32mas\u001b[0m \u001b[0merr\u001b[0m\u001b[0;34m:\u001b[0m\u001b[0;34m\u001b[0m\u001b[0;34m\u001b[0m\u001b[0m\n\u001b[1;32m    387\u001b[0m                     \u001b[0;32mraise\u001b[0m \u001b[0mKeyError\u001b[0m\u001b[0;34m(\u001b[0m\u001b[0mkey\u001b[0m\u001b[0;34m)\u001b[0m \u001b[0;32mfrom\u001b[0m \u001b[0merr\u001b[0m\u001b[0;34m\u001b[0m\u001b[0;34m\u001b[0m\u001b[0m\n\u001b[0;32m--> 388\u001b[0;31m             \u001b[0;32mraise\u001b[0m \u001b[0mKeyError\u001b[0m\u001b[0;34m(\u001b[0m\u001b[0mkey\u001b[0m\u001b[0;34m)\u001b[0m\u001b[0;34m\u001b[0m\u001b[0;34m\u001b[0m\u001b[0m\n\u001b[0m\u001b[1;32m    389\u001b[0m         \u001b[0;32mreturn\u001b[0m \u001b[0msuper\u001b[0m\u001b[0;34m(\u001b[0m\u001b[0;34m)\u001b[0m\u001b[0;34m.\u001b[0m\u001b[0mget_loc\u001b[0m\u001b[0;34m(\u001b[0m\u001b[0mkey\u001b[0m\u001b[0;34m,\u001b[0m \u001b[0mmethod\u001b[0m\u001b[0;34m=\u001b[0m\u001b[0mmethod\u001b[0m\u001b[0;34m,\u001b[0m \u001b[0mtolerance\u001b[0m\u001b[0;34m=\u001b[0m\u001b[0mtolerance\u001b[0m\u001b[0;34m)\u001b[0m\u001b[0;34m\u001b[0m\u001b[0;34m\u001b[0m\u001b[0m\n\u001b[1;32m    390\u001b[0m \u001b[0;34m\u001b[0m\u001b[0m\n",
            "\u001b[0;31mKeyError\u001b[0m: 'Action-Adventure-Thriller'"
          ]
        }
      ]
    },
    {
      "cell_type": "code",
      "source": [],
      "metadata": {
        "id": "nV457EQbDkFT"
      },
      "execution_count": null,
      "outputs": []
    }
  ]
}