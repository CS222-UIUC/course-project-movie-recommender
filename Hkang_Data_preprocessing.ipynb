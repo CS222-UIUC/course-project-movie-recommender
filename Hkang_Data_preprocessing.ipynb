{
  "nbformat": 4,
  "nbformat_minor": 0,
  "metadata": {
    "colab": {
      "provenance": [],
      "authorship_tag": "ABX9TyOF1y0ik2s8TDu5kgACgOBj",
      "include_colab_link": true
    },
    "kernelspec": {
      "name": "python3",
      "display_name": "Python 3"
    },
    "language_info": {
      "name": "python"
    }
  },
  "cells": [
    {
      "cell_type": "markdown",
      "metadata": {
        "id": "view-in-github",
        "colab_type": "text"
      },
      "source": [
        "<a href=\"https://colab.research.google.com/github/CS222-UIUC/course-project-movie-recommender/blob/main/Hkang_Data_preprocessing.ipynb\" target=\"_parent\"><img src=\"https://colab.research.google.com/assets/colab-badge.svg\" alt=\"Open In Colab\"/></a>"
      ]
    },
    {
      "cell_type": "code",
      "execution_count": 65,
      "metadata": {
        "id": "wZ4YLn6gdHvp"
      },
      "outputs": [],
      "source": [
        "import sklearn as sk\n",
        "import numpy as np\n",
        "import pandas as pd\n",
        "import tensorflow as ts\n",
        "import matplotlib.pyplot as plt\n",
        "import nltk\n",
        "from nltk.stem.porter import PorterStemmer\n",
        "from sklearn.feature_extraction.text import CountVectorizer\n",
        "from sklearn.metrics.pairwise import cosine_similarity"
      ]
    },
    {
      "cell_type": "code",
      "source": [
        "df = pd.read_csv(\"movies.csv\")\n",
        "df.head()"
      ],
      "metadata": {
        "colab": {
          "base_uri": "https://localhost:8080/",
          "height": 774
        },
        "id": "KZqk0df2dnI5",
        "outputId": "c330ec97-1ffb-4669-d3b0-2e656c494fdd"
      },
      "execution_count": 26,
      "outputs": [
        {
          "output_type": "execute_result",
          "data": {
            "text/plain": [
              "       id                           title                             genres  \\\n",
              "0  631842              Knock at the Cabin            Horror-Mystery-Thriller   \n",
              "1  646389                           Plane          Action-Adventure-Thriller   \n",
              "2  315162    Puss in Boots: The Last Wish  Animation-Adventure-Comedy-Family   \n",
              "3  505642  Black Panther: Wakanda Forever   Action-Adventure-Science Fiction   \n",
              "4  956101               The Eighth Clause                           Thriller   \n",
              "\n",
              "  original_language                                           overview  \\\n",
              "0                en  While vacationing at a remote cabin a young gi...   \n",
              "1                en  After a heroic job of successfully landing his...   \n",
              "2                en  Puss in Boots discovers that his passion for a...   \n",
              "3                en  Queen Ramonda Shuri M’Baku Okoye and the Dora ...   \n",
              "4                la  Kat and Borja appear to be a perfect couple bu...   \n",
              "\n",
              "   popularity                               production_companies release_date  \\\n",
              "0    3422.537  Blinding Edge Pictures-Universal Pictures-Film...   2023-02-01   \n",
              "1    2618.646  MadRiver Pictures-Di Bonaventura Pictures-G-BA...   2023-01-12   \n",
              "2    2589.341            DreamWorks Animation-Universal Pictures   2022-12-07   \n",
              "3    2525.408                                     Marvel Studios   2022-11-09   \n",
              "4    2259.303                       SDB Films-El Hombre Orquesta   2022-04-29   \n",
              "\n",
              "        budget      revenue  runtime    status  \\\n",
              "0   20000000.0   52000000.0    100.0  Released   \n",
              "1   25000000.0   51000000.0    107.0  Released   \n",
              "2   90000000.0  442000000.0    103.0  Released   \n",
              "3  250000000.0  858535561.0    162.0  Released   \n",
              "4          0.0          0.0      0.0  Released   \n",
              "\n",
              "                                             tagline  vote_average  \\\n",
              "0  Save your family or save humanity. Make the ch...         6.457   \n",
              "1                     Survive together or die alone.         6.901   \n",
              "2                    Say hola to his little friends.         8.402   \n",
              "3                                           Forever.         7.338   \n",
              "4                                                NaN         4.600   \n",
              "\n",
              "   vote_count                                            credits  \\\n",
              "0       888.0  Dave Bautista-Jonathan Groff-Ben Aldridge-Kris...   \n",
              "1       785.0  Gerard Butler-Mike Colter-Yoson An-Tony Goldwy...   \n",
              "2      4357.0  Antonio Banderas-Salma Hayek-Harvey Guillén-Wa...   \n",
              "3      3922.0  Letitia Wright-Lupita Nyong'o-Danai Gurira-Win...   \n",
              "4        10.0  Maite Perroni-Manuel Vega-Óscar Jaenada-Jessic...   \n",
              "\n",
              "                                            keywords  \\\n",
              "0  based on novel or book-sacrifice-cabin-faith-e...   \n",
              "1  pilot-airplane-philippines-held hostage-plane ...   \n",
              "2  fairy tale-talking dog-spin off-aftercreditsst...   \n",
              "3  loss of loved one-hero-sequel-superhero-based ...   \n",
              "4                                                NaN   \n",
              "\n",
              "                        poster_path                     backdrop_path  \\\n",
              "0  /dm06L9pxDOL9jNSK4Cb6y139rrG.jpg  /zWDMQX0sPaW2u0N2pJaYA8bVVaJ.jpg   \n",
              "1  /qi9r5xBgcc9KTxlOLjssEbDgO0J.jpg  /9Rq14Eyrf7Tu1xk0Pl7VcNbNh1n.jpg   \n",
              "2  /kuf6dutpsT0vSVehic3EZIqkOBt.jpg  /b1Y8SUb12gPHCSSSNlbX4nB3IKy.jpg   \n",
              "3  /sv1xJUazXeYqALzczSZ3O6nkH75.jpg  /xDMIl84Qo5Tsu62c9DGWhmPI67A.jpg   \n",
              "4  /8tc8eMFAX2SDC1TRu987qFQy8Cl.jpg  /kLnqNE9Af5QHyvUxw8cDGhF1ilv.jpg   \n",
              "\n",
              "                                     recommendations  \n",
              "0  1058949-646389-772515-505642-143970-667216-104...  \n",
              "1  505642-758769-864692-631842-1058949-925943-758...  \n",
              "2  536554-76600-816904-653851-899112-985335-83078...  \n",
              "3  436270-829280-76600-56969-312634-1037858-238-5...  \n",
              "4                                                NaN  "
            ],
            "text/html": [
              "\n",
              "  <div id=\"df-06137157-752b-44e4-8261-7c9e3355eade\">\n",
              "    <div class=\"colab-df-container\">\n",
              "      <div>\n",
              "<style scoped>\n",
              "    .dataframe tbody tr th:only-of-type {\n",
              "        vertical-align: middle;\n",
              "    }\n",
              "\n",
              "    .dataframe tbody tr th {\n",
              "        vertical-align: top;\n",
              "    }\n",
              "\n",
              "    .dataframe thead th {\n",
              "        text-align: right;\n",
              "    }\n",
              "</style>\n",
              "<table border=\"1\" class=\"dataframe\">\n",
              "  <thead>\n",
              "    <tr style=\"text-align: right;\">\n",
              "      <th></th>\n",
              "      <th>id</th>\n",
              "      <th>title</th>\n",
              "      <th>genres</th>\n",
              "      <th>original_language</th>\n",
              "      <th>overview</th>\n",
              "      <th>popularity</th>\n",
              "      <th>production_companies</th>\n",
              "      <th>release_date</th>\n",
              "      <th>budget</th>\n",
              "      <th>revenue</th>\n",
              "      <th>runtime</th>\n",
              "      <th>status</th>\n",
              "      <th>tagline</th>\n",
              "      <th>vote_average</th>\n",
              "      <th>vote_count</th>\n",
              "      <th>credits</th>\n",
              "      <th>keywords</th>\n",
              "      <th>poster_path</th>\n",
              "      <th>backdrop_path</th>\n",
              "      <th>recommendations</th>\n",
              "    </tr>\n",
              "  </thead>\n",
              "  <tbody>\n",
              "    <tr>\n",
              "      <th>0</th>\n",
              "      <td>631842</td>\n",
              "      <td>Knock at the Cabin</td>\n",
              "      <td>Horror-Mystery-Thriller</td>\n",
              "      <td>en</td>\n",
              "      <td>While vacationing at a remote cabin a young gi...</td>\n",
              "      <td>3422.537</td>\n",
              "      <td>Blinding Edge Pictures-Universal Pictures-Film...</td>\n",
              "      <td>2023-02-01</td>\n",
              "      <td>20000000.0</td>\n",
              "      <td>52000000.0</td>\n",
              "      <td>100.0</td>\n",
              "      <td>Released</td>\n",
              "      <td>Save your family or save humanity. Make the ch...</td>\n",
              "      <td>6.457</td>\n",
              "      <td>888.0</td>\n",
              "      <td>Dave Bautista-Jonathan Groff-Ben Aldridge-Kris...</td>\n",
              "      <td>based on novel or book-sacrifice-cabin-faith-e...</td>\n",
              "      <td>/dm06L9pxDOL9jNSK4Cb6y139rrG.jpg</td>\n",
              "      <td>/zWDMQX0sPaW2u0N2pJaYA8bVVaJ.jpg</td>\n",
              "      <td>1058949-646389-772515-505642-143970-667216-104...</td>\n",
              "    </tr>\n",
              "    <tr>\n",
              "      <th>1</th>\n",
              "      <td>646389</td>\n",
              "      <td>Plane</td>\n",
              "      <td>Action-Adventure-Thriller</td>\n",
              "      <td>en</td>\n",
              "      <td>After a heroic job of successfully landing his...</td>\n",
              "      <td>2618.646</td>\n",
              "      <td>MadRiver Pictures-Di Bonaventura Pictures-G-BA...</td>\n",
              "      <td>2023-01-12</td>\n",
              "      <td>25000000.0</td>\n",
              "      <td>51000000.0</td>\n",
              "      <td>107.0</td>\n",
              "      <td>Released</td>\n",
              "      <td>Survive together or die alone.</td>\n",
              "      <td>6.901</td>\n",
              "      <td>785.0</td>\n",
              "      <td>Gerard Butler-Mike Colter-Yoson An-Tony Goldwy...</td>\n",
              "      <td>pilot-airplane-philippines-held hostage-plane ...</td>\n",
              "      <td>/qi9r5xBgcc9KTxlOLjssEbDgO0J.jpg</td>\n",
              "      <td>/9Rq14Eyrf7Tu1xk0Pl7VcNbNh1n.jpg</td>\n",
              "      <td>505642-758769-864692-631842-1058949-925943-758...</td>\n",
              "    </tr>\n",
              "    <tr>\n",
              "      <th>2</th>\n",
              "      <td>315162</td>\n",
              "      <td>Puss in Boots: The Last Wish</td>\n",
              "      <td>Animation-Adventure-Comedy-Family</td>\n",
              "      <td>en</td>\n",
              "      <td>Puss in Boots discovers that his passion for a...</td>\n",
              "      <td>2589.341</td>\n",
              "      <td>DreamWorks Animation-Universal Pictures</td>\n",
              "      <td>2022-12-07</td>\n",
              "      <td>90000000.0</td>\n",
              "      <td>442000000.0</td>\n",
              "      <td>103.0</td>\n",
              "      <td>Released</td>\n",
              "      <td>Say hola to his little friends.</td>\n",
              "      <td>8.402</td>\n",
              "      <td>4357.0</td>\n",
              "      <td>Antonio Banderas-Salma Hayek-Harvey Guillén-Wa...</td>\n",
              "      <td>fairy tale-talking dog-spin off-aftercreditsst...</td>\n",
              "      <td>/kuf6dutpsT0vSVehic3EZIqkOBt.jpg</td>\n",
              "      <td>/b1Y8SUb12gPHCSSSNlbX4nB3IKy.jpg</td>\n",
              "      <td>536554-76600-816904-653851-899112-985335-83078...</td>\n",
              "    </tr>\n",
              "    <tr>\n",
              "      <th>3</th>\n",
              "      <td>505642</td>\n",
              "      <td>Black Panther: Wakanda Forever</td>\n",
              "      <td>Action-Adventure-Science Fiction</td>\n",
              "      <td>en</td>\n",
              "      <td>Queen Ramonda Shuri M’Baku Okoye and the Dora ...</td>\n",
              "      <td>2525.408</td>\n",
              "      <td>Marvel Studios</td>\n",
              "      <td>2022-11-09</td>\n",
              "      <td>250000000.0</td>\n",
              "      <td>858535561.0</td>\n",
              "      <td>162.0</td>\n",
              "      <td>Released</td>\n",
              "      <td>Forever.</td>\n",
              "      <td>7.338</td>\n",
              "      <td>3922.0</td>\n",
              "      <td>Letitia Wright-Lupita Nyong'o-Danai Gurira-Win...</td>\n",
              "      <td>loss of loved one-hero-sequel-superhero-based ...</td>\n",
              "      <td>/sv1xJUazXeYqALzczSZ3O6nkH75.jpg</td>\n",
              "      <td>/xDMIl84Qo5Tsu62c9DGWhmPI67A.jpg</td>\n",
              "      <td>436270-829280-76600-56969-312634-1037858-238-5...</td>\n",
              "    </tr>\n",
              "    <tr>\n",
              "      <th>4</th>\n",
              "      <td>956101</td>\n",
              "      <td>The Eighth Clause</td>\n",
              "      <td>Thriller</td>\n",
              "      <td>la</td>\n",
              "      <td>Kat and Borja appear to be a perfect couple bu...</td>\n",
              "      <td>2259.303</td>\n",
              "      <td>SDB Films-El Hombre Orquesta</td>\n",
              "      <td>2022-04-29</td>\n",
              "      <td>0.0</td>\n",
              "      <td>0.0</td>\n",
              "      <td>0.0</td>\n",
              "      <td>Released</td>\n",
              "      <td>NaN</td>\n",
              "      <td>4.600</td>\n",
              "      <td>10.0</td>\n",
              "      <td>Maite Perroni-Manuel Vega-Óscar Jaenada-Jessic...</td>\n",
              "      <td>NaN</td>\n",
              "      <td>/8tc8eMFAX2SDC1TRu987qFQy8Cl.jpg</td>\n",
              "      <td>/kLnqNE9Af5QHyvUxw8cDGhF1ilv.jpg</td>\n",
              "      <td>NaN</td>\n",
              "    </tr>\n",
              "  </tbody>\n",
              "</table>\n",
              "</div>\n",
              "      <button class=\"colab-df-convert\" onclick=\"convertToInteractive('df-06137157-752b-44e4-8261-7c9e3355eade')\"\n",
              "              title=\"Convert this dataframe to an interactive table.\"\n",
              "              style=\"display:none;\">\n",
              "        \n",
              "  <svg xmlns=\"http://www.w3.org/2000/svg\" height=\"24px\"viewBox=\"0 0 24 24\"\n",
              "       width=\"24px\">\n",
              "    <path d=\"M0 0h24v24H0V0z\" fill=\"none\"/>\n",
              "    <path d=\"M18.56 5.44l.94 2.06.94-2.06 2.06-.94-2.06-.94-.94-2.06-.94 2.06-2.06.94zm-11 1L8.5 8.5l.94-2.06 2.06-.94-2.06-.94L8.5 2.5l-.94 2.06-2.06.94zm10 10l.94 2.06.94-2.06 2.06-.94-2.06-.94-.94-2.06-.94 2.06-2.06.94z\"/><path d=\"M17.41 7.96l-1.37-1.37c-.4-.4-.92-.59-1.43-.59-.52 0-1.04.2-1.43.59L10.3 9.45l-7.72 7.72c-.78.78-.78 2.05 0 2.83L4 21.41c.39.39.9.59 1.41.59.51 0 1.02-.2 1.41-.59l7.78-7.78 2.81-2.81c.8-.78.8-2.07 0-2.86zM5.41 20L4 18.59l7.72-7.72 1.47 1.35L5.41 20z\"/>\n",
              "  </svg>\n",
              "      </button>\n",
              "      \n",
              "  <style>\n",
              "    .colab-df-container {\n",
              "      display:flex;\n",
              "      flex-wrap:wrap;\n",
              "      gap: 12px;\n",
              "    }\n",
              "\n",
              "    .colab-df-convert {\n",
              "      background-color: #E8F0FE;\n",
              "      border: none;\n",
              "      border-radius: 50%;\n",
              "      cursor: pointer;\n",
              "      display: none;\n",
              "      fill: #1967D2;\n",
              "      height: 32px;\n",
              "      padding: 0 0 0 0;\n",
              "      width: 32px;\n",
              "    }\n",
              "\n",
              "    .colab-df-convert:hover {\n",
              "      background-color: #E2EBFA;\n",
              "      box-shadow: 0px 1px 2px rgba(60, 64, 67, 0.3), 0px 1px 3px 1px rgba(60, 64, 67, 0.15);\n",
              "      fill: #174EA6;\n",
              "    }\n",
              "\n",
              "    [theme=dark] .colab-df-convert {\n",
              "      background-color: #3B4455;\n",
              "      fill: #D2E3FC;\n",
              "    }\n",
              "\n",
              "    [theme=dark] .colab-df-convert:hover {\n",
              "      background-color: #434B5C;\n",
              "      box-shadow: 0px 1px 3px 1px rgba(0, 0, 0, 0.15);\n",
              "      filter: drop-shadow(0px 1px 2px rgba(0, 0, 0, 0.3));\n",
              "      fill: #FFFFFF;\n",
              "    }\n",
              "  </style>\n",
              "\n",
              "      <script>\n",
              "        const buttonEl =\n",
              "          document.querySelector('#df-06137157-752b-44e4-8261-7c9e3355eade button.colab-df-convert');\n",
              "        buttonEl.style.display =\n",
              "          google.colab.kernel.accessAllowed ? 'block' : 'none';\n",
              "\n",
              "        async function convertToInteractive(key) {\n",
              "          const element = document.querySelector('#df-06137157-752b-44e4-8261-7c9e3355eade');\n",
              "          const dataTable =\n",
              "            await google.colab.kernel.invokeFunction('convertToInteractive',\n",
              "                                                     [key], {});\n",
              "          if (!dataTable) return;\n",
              "\n",
              "          const docLinkHtml = 'Like what you see? Visit the ' +\n",
              "            '<a target=\"_blank\" href=https://colab.research.google.com/notebooks/data_table.ipynb>data table notebook</a>'\n",
              "            + ' to learn more about interactive tables.';\n",
              "          element.innerHTML = '';\n",
              "          dataTable['output_type'] = 'display_data';\n",
              "          await google.colab.output.renderOutput(dataTable, element);\n",
              "          const docLink = document.createElement('div');\n",
              "          docLink.innerHTML = docLinkHtml;\n",
              "          element.appendChild(docLink);\n",
              "        }\n",
              "      </script>\n",
              "    </div>\n",
              "  </div>\n",
              "  "
            ]
          },
          "metadata": {},
          "execution_count": 26
        }
      ]
    },
    {
      "cell_type": "code",
      "source": [
        "print(df.shape)"
      ],
      "metadata": {
        "colab": {
          "base_uri": "https://localhost:8080/"
        },
        "id": "8-q0ZnmedYJC",
        "outputId": "6d8fecfb-c0ac-48fc-ce7e-94f69c382c92"
      },
      "execution_count": 27,
      "outputs": [
        {
          "output_type": "stream",
          "name": "stdout",
          "text": [
            "(723029, 20)\n"
          ]
        }
      ]
    },
    {
      "cell_type": "code",
      "source": [
        "df.info()"
      ],
      "metadata": {
        "colab": {
          "base_uri": "https://localhost:8080/"
        },
        "id": "ms-2vfdldgw0",
        "outputId": "2d9712ae-490d-45ef-b38d-eb564acf3511"
      },
      "execution_count": 28,
      "outputs": [
        {
          "output_type": "stream",
          "name": "stdout",
          "text": [
            "<class 'pandas.core.frame.DataFrame'>\n",
            "RangeIndex: 723029 entries, 0 to 723028\n",
            "Data columns (total 20 columns):\n",
            " #   Column                Non-Null Count   Dtype  \n",
            "---  ------                --------------   -----  \n",
            " 0   id                    723029 non-null  int64  \n",
            " 1   title                 723025 non-null  object \n",
            " 2   genres                511997 non-null  object \n",
            " 3   original_language     723029 non-null  object \n",
            " 4   overview              604350 non-null  object \n",
            " 5   popularity            723029 non-null  float64\n",
            " 6   production_companies  337186 non-null  object \n",
            " 7   release_date          670295 non-null  object \n",
            " 8   budget                723029 non-null  float64\n",
            " 9   revenue               723029 non-null  float64\n",
            " 10  runtime               688534 non-null  float64\n",
            " 11  status                723029 non-null  object \n",
            " 12  tagline               108057 non-null  object \n",
            " 13  vote_average          723029 non-null  float64\n",
            " 14  vote_count            723029 non-null  float64\n",
            " 15  credits               497835 non-null  object \n",
            " 16  keywords              210247 non-null  object \n",
            " 17  poster_path           537560 non-null  object \n",
            " 18  backdrop_path         222390 non-null  object \n",
            " 19  recommendations       34682 non-null   object \n",
            "dtypes: float64(6), int64(1), object(13)\n",
            "memory usage: 110.3+ MB\n"
          ]
        }
      ]
    },
    {
      "cell_type": "code",
      "source": [
        "df.isnull().sum() # check null values"
      ],
      "metadata": {
        "colab": {
          "base_uri": "https://localhost:8080/"
        },
        "id": "ZCXBGZ2JgKof",
        "outputId": "682c29a2-1f20-40d0-a102-45b75127b08b"
      },
      "execution_count": 29,
      "outputs": [
        {
          "output_type": "execute_result",
          "data": {
            "text/plain": [
              "id                           0\n",
              "title                        4\n",
              "genres                  211032\n",
              "original_language            0\n",
              "overview                118679\n",
              "popularity                   0\n",
              "production_companies    385843\n",
              "release_date             52734\n",
              "budget                       0\n",
              "revenue                      0\n",
              "runtime                  34495\n",
              "status                       0\n",
              "tagline                 614972\n",
              "vote_average                 0\n",
              "vote_count                   0\n",
              "credits                 225194\n",
              "keywords                512782\n",
              "poster_path             185469\n",
              "backdrop_path           500639\n",
              "recommendations         688347\n",
              "dtype: int64"
            ]
          },
          "metadata": {},
          "execution_count": 29
        }
      ]
    },
    {
      "cell_type": "code",
      "source": [
        "df.duplicated().sum()"
      ],
      "metadata": {
        "colab": {
          "base_uri": "https://localhost:8080/"
        },
        "id": "qxawRTjHgMaU",
        "outputId": "a11d1891-ad0b-46a6-a93f-4c595012d68c"
      },
      "execution_count": 30,
      "outputs": [
        {
          "output_type": "execute_result",
          "data": {
            "text/plain": [
              "4"
            ]
          },
          "metadata": {},
          "execution_count": 30
        }
      ]
    },
    {
      "cell_type": "code",
      "source": [
        "df = df.drop([\"production_companies\", \"popularity\", \"budget\", \"revenue\", \"status\", \"recommendations\", \"runtime\", \"vote_average\", \"backdrop_path\",'tagline'], axis = 1) #'poster_path'], axis=1)"
      ],
      "metadata": {
        "id": "70X0bEZcgPrM"
      },
      "execution_count": 31,
      "outputs": []
    },
    {
      "cell_type": "code",
      "source": [
        "df.drop_duplicates(inplace=True)"
      ],
      "metadata": {
        "id": "S3aZIt_phBhg"
      },
      "execution_count": 32,
      "outputs": []
    },
    {
      "cell_type": "code",
      "source": [
        "df.title.duplicated().sum()"
      ],
      "metadata": {
        "colab": {
          "base_uri": "https://localhost:8080/"
        },
        "id": "j7L8e-WZhD1-",
        "outputId": "9972c281-1212-45ed-8796-c53aea31ec34"
      },
      "execution_count": 33,
      "outputs": [
        {
          "output_type": "execute_result",
          "data": {
            "text/plain": [
              "86984"
            ]
          },
          "metadata": {},
          "execution_count": 33
        }
      ]
    },
    {
      "cell_type": "code",
      "source": [
        "df[[\"title\", \"release_date\"]].duplicated().sum()# checking for release data with same movie title"
      ],
      "metadata": {
        "colab": {
          "base_uri": "https://localhost:8080/"
        },
        "id": "ZdvwCnXshHAr",
        "outputId": "e9ac6540-1fd0-44a9-d5aa-f1c09bb329ac"
      },
      "execution_count": 34,
      "outputs": [
        {
          "output_type": "execute_result",
          "data": {
            "text/plain": [
              "2271"
            ]
          },
          "metadata": {},
          "execution_count": 34
        }
      ]
    },
    {
      "cell_type": "code",
      "source": [
        "df.drop_duplicates(subset=[\"title\",\"release_date\"], inplace=True)"
      ],
      "metadata": {
        "id": "UPC7j-p4hN8M"
      },
      "execution_count": 35,
      "outputs": []
    },
    {
      "cell_type": "code",
      "source": [
        "df = df[df.vote_count >= 350].reset_index()"
      ],
      "metadata": {
        "id": "TWpG2OFehQ-p"
      },
      "execution_count": 36,
      "outputs": []
    },
    {
      "cell_type": "code",
      "source": [
        "df.isnull().sum()"
      ],
      "metadata": {
        "colab": {
          "base_uri": "https://localhost:8080/"
        },
        "id": "uUwFcXu9hTT0",
        "outputId": "a4dfc544-b269-470b-cff3-493f876c0af8"
      },
      "execution_count": 37,
      "outputs": [
        {
          "output_type": "execute_result",
          "data": {
            "text/plain": [
              "index                  0\n",
              "id                     0\n",
              "title                  0\n",
              "genres                 0\n",
              "original_language      0\n",
              "overview               1\n",
              "release_date           0\n",
              "vote_count             0\n",
              "credits                8\n",
              "keywords             238\n",
              "poster_path            0\n",
              "dtype: int64"
            ]
          },
          "metadata": {},
          "execution_count": 37
        }
      ]
    },
    {
      "cell_type": "code",
      "source": [
        "df.fillna(\"\", inplace = True) # replace the null values with ''\n",
        "# We do have an option filling all the nulls with 0, but since they will have string values, I thought that na -> \"\" will be necessary"
      ],
      "metadata": {
        "id": "5FIBXEGQhUvi"
      },
      "execution_count": 43,
      "outputs": []
    },
    {
      "cell_type": "code",
      "source": [
        "index = df[(df.genres == \"\") & (df.overview == \"\")].index\n",
        "df.drop(index, inplace=True)"
      ],
      "metadata": {
        "id": "vsjBfGU-ha25"
      },
      "execution_count": 44,
      "outputs": []
    },
    {
      "cell_type": "code",
      "source": [
        "df.genres = df.genres.apply(lambda x: \" \".join(x.split(\"-\")))\n",
        "df.keywords = df.keywords.apply(lambda x: \" \".join(x.split(\"-\")))\n",
        "df.credits = df.credits.apply(lambda x: \" \".join(x.replace(\" \", \"\").split(\"-\")[:5]))"
      ],
      "metadata": {
        "id": "bkoeBGqsheDJ"
      },
      "execution_count": 45,
      "outputs": []
    },
    {
      "cell_type": "code",
      "source": [
        "df[\"tags\"] =df.overview + \" \"+ df.genres + \" \"  +df.credits + \" \" +df.keywords + \" \" + df.original_language"
      ],
      "metadata": {
        "id": "QWbOXPDYhiWa"
      },
      "execution_count": 46,
      "outputs": []
    },
    {
      "cell_type": "code",
      "source": [
        "df_new = df[[\"id\", \"title\", \"tags\", 'poster_path']]"
      ],
      "metadata": {
        "id": "RtaSlf2dhk0G"
      },
      "execution_count": 49,
      "outputs": []
    },
    {
      "cell_type": "code",
      "source": [
        "df_new.tags = df_new.tags.apply(lambda x:x.lower())"
      ],
      "metadata": {
        "id": "BGHuRUedhmle"
      },
      "execution_count": 51,
      "outputs": []
    },
    {
      "cell_type": "code",
      "source": [
        "df_new.tags[0]"
      ],
      "metadata": {
        "colab": {
          "base_uri": "https://localhost:8080/",
          "height": 72
        },
        "id": "Rej32U86iHn8",
        "outputId": "bad18640-1187-462e-9920-67a626b033de"
      },
      "execution_count": 52,
      "outputs": [
        {
          "output_type": "execute_result",
          "data": {
            "text/plain": [
              "'while vacationing at a remote cabin a young girl and her two fathers are taken hostage by four armed strangers who demand that the family make an unthinkable choice to avert the apocalypse. with limited access to the outside world the family must decide what they believe before all is lost. horror mystery thriller davebautistajonathangroffbenaldridgekristencuinikkiamuka based on novel or book sacrifice cabin faith end of the world apocalypse home invasion lgbt aftercreditsstinger adopted child adopted daughter shot on film gay same sex relationship religious symbolism en'"
            ],
            "application/vnd.google.colaboratory.intrinsic+json": {
              "type": "string"
            }
          },
          "metadata": {},
          "execution_count": 52
        }
      ]
    },
    {
      "cell_type": "code",
      "source": [
        "df_new.head()"
      ],
      "metadata": {
        "colab": {
          "base_uri": "https://localhost:8080/",
          "height": 206
        },
        "id": "IdmmI806ia-G",
        "outputId": "db864965-6e24-4379-cf60-9bc5593b5b26"
      },
      "execution_count": 54,
      "outputs": [
        {
          "output_type": "execute_result",
          "data": {
            "text/plain": [
              "       id                           title  \\\n",
              "0  631842              Knock at the Cabin   \n",
              "1  646389                           Plane   \n",
              "2  315162    Puss in Boots: The Last Wish   \n",
              "3  505642  Black Panther: Wakanda Forever   \n",
              "4  937278               A Man Called Otto   \n",
              "\n",
              "                                                tags  \\\n",
              "0  while vacationing at a remote cabin a young gi...   \n",
              "1  after a heroic job of successfully landing his...   \n",
              "2  puss in boots discovers that his passion for a...   \n",
              "3  queen ramonda shuri m’baku okoye and the dora ...   \n",
              "4  when a lively young family moves in next door ...   \n",
              "\n",
              "                        poster_path  \n",
              "0  /dm06L9pxDOL9jNSK4Cb6y139rrG.jpg  \n",
              "1  /qi9r5xBgcc9KTxlOLjssEbDgO0J.jpg  \n",
              "2  /kuf6dutpsT0vSVehic3EZIqkOBt.jpg  \n",
              "3  /sv1xJUazXeYqALzczSZ3O6nkH75.jpg  \n",
              "4  /130H1gap9lFfiTF9iDrqNIkFvC9.jpg  "
            ],
            "text/html": [
              "\n",
              "  <div id=\"df-b5e2ec99-757b-49e4-bd09-0a58b0c0ff23\">\n",
              "    <div class=\"colab-df-container\">\n",
              "      <div>\n",
              "<style scoped>\n",
              "    .dataframe tbody tr th:only-of-type {\n",
              "        vertical-align: middle;\n",
              "    }\n",
              "\n",
              "    .dataframe tbody tr th {\n",
              "        vertical-align: top;\n",
              "    }\n",
              "\n",
              "    .dataframe thead th {\n",
              "        text-align: right;\n",
              "    }\n",
              "</style>\n",
              "<table border=\"1\" class=\"dataframe\">\n",
              "  <thead>\n",
              "    <tr style=\"text-align: right;\">\n",
              "      <th></th>\n",
              "      <th>id</th>\n",
              "      <th>title</th>\n",
              "      <th>tags</th>\n",
              "      <th>poster_path</th>\n",
              "    </tr>\n",
              "  </thead>\n",
              "  <tbody>\n",
              "    <tr>\n",
              "      <th>0</th>\n",
              "      <td>631842</td>\n",
              "      <td>Knock at the Cabin</td>\n",
              "      <td>while vacationing at a remote cabin a young gi...</td>\n",
              "      <td>/dm06L9pxDOL9jNSK4Cb6y139rrG.jpg</td>\n",
              "    </tr>\n",
              "    <tr>\n",
              "      <th>1</th>\n",
              "      <td>646389</td>\n",
              "      <td>Plane</td>\n",
              "      <td>after a heroic job of successfully landing his...</td>\n",
              "      <td>/qi9r5xBgcc9KTxlOLjssEbDgO0J.jpg</td>\n",
              "    </tr>\n",
              "    <tr>\n",
              "      <th>2</th>\n",
              "      <td>315162</td>\n",
              "      <td>Puss in Boots: The Last Wish</td>\n",
              "      <td>puss in boots discovers that his passion for a...</td>\n",
              "      <td>/kuf6dutpsT0vSVehic3EZIqkOBt.jpg</td>\n",
              "    </tr>\n",
              "    <tr>\n",
              "      <th>3</th>\n",
              "      <td>505642</td>\n",
              "      <td>Black Panther: Wakanda Forever</td>\n",
              "      <td>queen ramonda shuri m’baku okoye and the dora ...</td>\n",
              "      <td>/sv1xJUazXeYqALzczSZ3O6nkH75.jpg</td>\n",
              "    </tr>\n",
              "    <tr>\n",
              "      <th>4</th>\n",
              "      <td>937278</td>\n",
              "      <td>A Man Called Otto</td>\n",
              "      <td>when a lively young family moves in next door ...</td>\n",
              "      <td>/130H1gap9lFfiTF9iDrqNIkFvC9.jpg</td>\n",
              "    </tr>\n",
              "  </tbody>\n",
              "</table>\n",
              "</div>\n",
              "      <button class=\"colab-df-convert\" onclick=\"convertToInteractive('df-b5e2ec99-757b-49e4-bd09-0a58b0c0ff23')\"\n",
              "              title=\"Convert this dataframe to an interactive table.\"\n",
              "              style=\"display:none;\">\n",
              "        \n",
              "  <svg xmlns=\"http://www.w3.org/2000/svg\" height=\"24px\"viewBox=\"0 0 24 24\"\n",
              "       width=\"24px\">\n",
              "    <path d=\"M0 0h24v24H0V0z\" fill=\"none\"/>\n",
              "    <path d=\"M18.56 5.44l.94 2.06.94-2.06 2.06-.94-2.06-.94-.94-2.06-.94 2.06-2.06.94zm-11 1L8.5 8.5l.94-2.06 2.06-.94-2.06-.94L8.5 2.5l-.94 2.06-2.06.94zm10 10l.94 2.06.94-2.06 2.06-.94-2.06-.94-.94-2.06-.94 2.06-2.06.94z\"/><path d=\"M17.41 7.96l-1.37-1.37c-.4-.4-.92-.59-1.43-.59-.52 0-1.04.2-1.43.59L10.3 9.45l-7.72 7.72c-.78.78-.78 2.05 0 2.83L4 21.41c.39.39.9.59 1.41.59.51 0 1.02-.2 1.41-.59l7.78-7.78 2.81-2.81c.8-.78.8-2.07 0-2.86zM5.41 20L4 18.59l7.72-7.72 1.47 1.35L5.41 20z\"/>\n",
              "  </svg>\n",
              "      </button>\n",
              "      \n",
              "  <style>\n",
              "    .colab-df-container {\n",
              "      display:flex;\n",
              "      flex-wrap:wrap;\n",
              "      gap: 12px;\n",
              "    }\n",
              "\n",
              "    .colab-df-convert {\n",
              "      background-color: #E8F0FE;\n",
              "      border: none;\n",
              "      border-radius: 50%;\n",
              "      cursor: pointer;\n",
              "      display: none;\n",
              "      fill: #1967D2;\n",
              "      height: 32px;\n",
              "      padding: 0 0 0 0;\n",
              "      width: 32px;\n",
              "    }\n",
              "\n",
              "    .colab-df-convert:hover {\n",
              "      background-color: #E2EBFA;\n",
              "      box-shadow: 0px 1px 2px rgba(60, 64, 67, 0.3), 0px 1px 3px 1px rgba(60, 64, 67, 0.15);\n",
              "      fill: #174EA6;\n",
              "    }\n",
              "\n",
              "    [theme=dark] .colab-df-convert {\n",
              "      background-color: #3B4455;\n",
              "      fill: #D2E3FC;\n",
              "    }\n",
              "\n",
              "    [theme=dark] .colab-df-convert:hover {\n",
              "      background-color: #434B5C;\n",
              "      box-shadow: 0px 1px 3px 1px rgba(0, 0, 0, 0.15);\n",
              "      filter: drop-shadow(0px 1px 2px rgba(0, 0, 0, 0.3));\n",
              "      fill: #FFFFFF;\n",
              "    }\n",
              "  </style>\n",
              "\n",
              "      <script>\n",
              "        const buttonEl =\n",
              "          document.querySelector('#df-b5e2ec99-757b-49e4-bd09-0a58b0c0ff23 button.colab-df-convert');\n",
              "        buttonEl.style.display =\n",
              "          google.colab.kernel.accessAllowed ? 'block' : 'none';\n",
              "\n",
              "        async function convertToInteractive(key) {\n",
              "          const element = document.querySelector('#df-b5e2ec99-757b-49e4-bd09-0a58b0c0ff23');\n",
              "          const dataTable =\n",
              "            await google.colab.kernel.invokeFunction('convertToInteractive',\n",
              "                                                     [key], {});\n",
              "          if (!dataTable) return;\n",
              "\n",
              "          const docLinkHtml = 'Like what you see? Visit the ' +\n",
              "            '<a target=\"_blank\" href=https://colab.research.google.com/notebooks/data_table.ipynb>data table notebook</a>'\n",
              "            + ' to learn more about interactive tables.';\n",
              "          element.innerHTML = '';\n",
              "          dataTable['output_type'] = 'display_data';\n",
              "          await google.colab.output.renderOutput(dataTable, element);\n",
              "          const docLink = document.createElement('div');\n",
              "          docLink.innerHTML = docLinkHtml;\n",
              "          element.appendChild(docLink);\n",
              "        }\n",
              "      </script>\n",
              "    </div>\n",
              "  </div>\n",
              "  "
            ]
          },
          "metadata": {},
          "execution_count": 54
        }
      ]
    },
    {
      "cell_type": "code",
      "source": [
        "prts = PorterStemmer()"
      ],
      "metadata": {
        "id": "29PJNYiQidrG"
      },
      "execution_count": 56,
      "outputs": []
    },
    {
      "cell_type": "code",
      "source": [
        "def stem(text):\n",
        "    y = []\n",
        "    for i in text.split():\n",
        "        y.append(prts.stem(i))\n",
        "    \n",
        "    return \" \".join(y)    "
      ],
      "metadata": {
        "id": "A46hoPdYjaEc"
      },
      "execution_count": 57,
      "outputs": []
    },
    {
      "cell_type": "code",
      "source": [
        "df_new[\"tags\"] = df_new[\"tags\"].apply(stem)"
      ],
      "metadata": {
        "colab": {
          "base_uri": "https://localhost:8080/"
        },
        "id": "XNWIF4xIjd7o",
        "outputId": "43050c57-6ad7-411b-e74a-a33ec7dfd78f"
      },
      "execution_count": 58,
      "outputs": [
        {
          "output_type": "stream",
          "name": "stderr",
          "text": [
            "<ipython-input-58-6e8e4450f3ce>:1: SettingWithCopyWarning: \n",
            "A value is trying to be set on a copy of a slice from a DataFrame.\n",
            "Try using .loc[row_indexer,col_indexer] = value instead\n",
            "\n",
            "See the caveats in the documentation: https://pandas.pydata.org/pandas-docs/stable/user_guide/indexing.html#returning-a-view-versus-a-copy\n",
            "  df_new[\"tags\"] = df_new[\"tags\"].apply(stem)\n"
          ]
        }
      ]
    },
    {
      "cell_type": "code",
      "source": [
        "countvec = CountVectorizer(stop_words=\"english\",max_features=5000)"
      ],
      "metadata": {
        "id": "BJqNgiqTji3r"
      },
      "execution_count": 60,
      "outputs": []
    },
    {
      "cell_type": "code",
      "source": [
        "vect = countvec.fit_transform(df_new[\"tags\"]).toarray()"
      ],
      "metadata": {
        "id": "xkIRP4Wwjs86"
      },
      "execution_count": 61,
      "outputs": []
    },
    {
      "cell_type": "code",
      "source": [
        "countvec.get_feature_names_out()"
      ],
      "metadata": {
        "colab": {
          "base_uri": "https://localhost:8080/"
        },
        "id": "zF6exb2BjzG5",
        "outputId": "b5ec5e27-c521-4285-aa43-2af68ba29697"
      },
      "execution_count": 64,
      "outputs": [
        {
          "output_type": "execute_result",
          "data": {
            "text/plain": [
              "array(['10', '100', '1000', ..., 'zombies', 'zone', 'zoo'], dtype=object)"
            ]
          },
          "metadata": {},
          "execution_count": 64
        }
      ]
    },
    {
      "cell_type": "code",
      "source": [
        "sim = cosine_similarity(vect)"
      ],
      "metadata": {
        "id": "tjES_1Fsj3zF"
      },
      "execution_count": 66,
      "outputs": []
    },
    {
      "cell_type": "code",
      "source": [
        "sim.shape"
      ],
      "metadata": {
        "colab": {
          "base_uri": "https://localhost:8080/"
        },
        "id": "Bc6LULQ3kt_-",
        "outputId": "5a165fa1-e1b5-459c-826a-69130e34e4c2"
      },
      "execution_count": 67,
      "outputs": [
        {
          "output_type": "execute_result",
          "data": {
            "text/plain": [
              "(7618, 7618)"
            ]
          },
          "metadata": {},
          "execution_count": 67
        }
      ]
    },
    {
      "cell_type": "code",
      "source": [],
      "metadata": {
        "id": "KrwgFAO_lAXw"
      },
      "execution_count": null,
      "outputs": []
    },
    {
      "cell_type": "code",
      "source": [
        "#now it is time for building recommendation system."
      ],
      "metadata": {
        "id": "UnJ_-P4Mkx_T"
      },
      "execution_count": null,
      "outputs": []
    }
  ]
}