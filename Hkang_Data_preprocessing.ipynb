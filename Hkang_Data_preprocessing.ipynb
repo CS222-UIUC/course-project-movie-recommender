{
  "nbformat": 4,
  "nbformat_minor": 0,
  "metadata": {
    "colab": {
      "provenance": [],
      "authorship_tag": "ABX9TyPc29RCZTuOT1K0fs4GBL/G",
      "include_colab_link": true
    },
    "kernelspec": {
      "name": "python3",
      "display_name": "Python 3"
    },
    "language_info": {
      "name": "python"
    }
  },
  "cells": [
    {
      "cell_type": "markdown",
      "metadata": {
        "id": "view-in-github",
        "colab_type": "text"
      },
      "source": [
        "<a href=\"https://colab.research.google.com/github/CS222-UIUC/course-project-movie-recommender/blob/hangook2/Hkang_Data_preprocessing.ipynb\" target=\"_parent\"><img src=\"https://colab.research.google.com/assets/colab-badge.svg\" alt=\"Open In Colab\"/></a>"
      ]
    },
    {
      "cell_type": "code",
      "execution_count": 4,
      "metadata": {
        "id": "wZ4YLn6gdHvp"
      },
      "outputs": [],
      "source": [
        "import sklearn as sk\n",
        "import numpy as np\n",
        "import pandas as pd\n",
        "import tensorflow as ts\n",
        "import matplotlib.pyplot as plt\n",
        "import nltk\n",
        "from nltk.stem.porter import PorterStemmer\n",
        "from sklearn.feature_extraction.text import CountVectorizer\n",
        "from sklearn.metrics.pairwise import cosine_similarity"
      ]
    },
    {
      "cell_type": "code",
      "source": [
        "df = pd.read_csv(\"movies.csv\")\n",
        "df.head()"
      ],
      "metadata": {
        "colab": {
          "base_uri": "https://localhost:8080/",
          "height": 774
        },
        "id": "KZqk0df2dnI5",
        "outputId": "2c64aa70-0a2f-4f7e-eda5-1a6ec72631c4"
      },
      "execution_count": 5,
      "outputs": [
        {
          "output_type": "execute_result",
          "data": {
            "text/plain": [
              "       id                           title                             genres  \\\n",
              "0  631842              Knock at the Cabin            Horror-Mystery-Thriller   \n",
              "1  646389                           Plane          Action-Adventure-Thriller   \n",
              "2  315162    Puss in Boots: The Last Wish  Animation-Adventure-Comedy-Family   \n",
              "3  505642  Black Panther: Wakanda Forever   Action-Adventure-Science Fiction   \n",
              "4  956101               The Eighth Clause                           Thriller   \n",
              "\n",
              "  original_language                                           overview  \\\n",
              "0                en  While vacationing at a remote cabin a young gi...   \n",
              "1                en  After a heroic job of successfully landing his...   \n",
              "2                en  Puss in Boots discovers that his passion for a...   \n",
              "3                en  Queen Ramonda Shuri M’Baku Okoye and the Dora ...   \n",
              "4                la  Kat and Borja appear to be a perfect couple bu...   \n",
              "\n",
              "   popularity                               production_companies release_date  \\\n",
              "0    3422.537  Blinding Edge Pictures-Universal Pictures-Film...   2023-02-01   \n",
              "1    2618.646  MadRiver Pictures-Di Bonaventura Pictures-G-BA...   2023-01-12   \n",
              "2    2589.341            DreamWorks Animation-Universal Pictures   2022-12-07   \n",
              "3    2525.408                                     Marvel Studios   2022-11-09   \n",
              "4    2259.303                       SDB Films-El Hombre Orquesta   2022-04-29   \n",
              "\n",
              "        budget      revenue  runtime    status  \\\n",
              "0   20000000.0   52000000.0    100.0  Released   \n",
              "1   25000000.0   51000000.0    107.0  Released   \n",
              "2   90000000.0  442000000.0    103.0  Released   \n",
              "3  250000000.0  858535561.0    162.0  Released   \n",
              "4          0.0          0.0      0.0  Released   \n",
              "\n",
              "                                             tagline  vote_average  \\\n",
              "0  Save your family or save humanity. Make the ch...         6.457   \n",
              "1                     Survive together or die alone.         6.901   \n",
              "2                    Say hola to his little friends.         8.402   \n",
              "3                                           Forever.         7.338   \n",
              "4                                                NaN         4.600   \n",
              "\n",
              "   vote_count                                            credits  \\\n",
              "0       888.0  Dave Bautista-Jonathan Groff-Ben Aldridge-Kris...   \n",
              "1       785.0  Gerard Butler-Mike Colter-Yoson An-Tony Goldwy...   \n",
              "2      4357.0  Antonio Banderas-Salma Hayek-Harvey Guillén-Wa...   \n",
              "3      3922.0  Letitia Wright-Lupita Nyong'o-Danai Gurira-Win...   \n",
              "4        10.0  Maite Perroni-Manuel Vega-Óscar Jaenada-Jessic...   \n",
              "\n",
              "                                            keywords  \\\n",
              "0  based on novel or book-sacrifice-cabin-faith-e...   \n",
              "1  pilot-airplane-philippines-held hostage-plane ...   \n",
              "2  fairy tale-talking dog-spin off-aftercreditsst...   \n",
              "3  loss of loved one-hero-sequel-superhero-based ...   \n",
              "4                                                NaN   \n",
              "\n",
              "                        poster_path                     backdrop_path  \\\n",
              "0  /dm06L9pxDOL9jNSK4Cb6y139rrG.jpg  /zWDMQX0sPaW2u0N2pJaYA8bVVaJ.jpg   \n",
              "1  /qi9r5xBgcc9KTxlOLjssEbDgO0J.jpg  /9Rq14Eyrf7Tu1xk0Pl7VcNbNh1n.jpg   \n",
              "2  /kuf6dutpsT0vSVehic3EZIqkOBt.jpg  /b1Y8SUb12gPHCSSSNlbX4nB3IKy.jpg   \n",
              "3  /sv1xJUazXeYqALzczSZ3O6nkH75.jpg  /xDMIl84Qo5Tsu62c9DGWhmPI67A.jpg   \n",
              "4  /8tc8eMFAX2SDC1TRu987qFQy8Cl.jpg  /kLnqNE9Af5QHyvUxw8cDGhF1ilv.jpg   \n",
              "\n",
              "                                     recommendations  \n",
              "0  1058949-646389-772515-505642-143970-667216-104...  \n",
              "1  505642-758769-864692-631842-1058949-925943-758...  \n",
              "2  536554-76600-816904-653851-899112-985335-83078...  \n",
              "3  436270-829280-76600-56969-312634-1037858-238-5...  \n",
              "4                                                NaN  "
            ],
            "text/html": [
              "\n",
              "  <div id=\"df-7bc01dff-a8ed-4fd8-997e-fe258415c4d4\">\n",
              "    <div class=\"colab-df-container\">\n",
              "      <div>\n",
              "<style scoped>\n",
              "    .dataframe tbody tr th:only-of-type {\n",
              "        vertical-align: middle;\n",
              "    }\n",
              "\n",
              "    .dataframe tbody tr th {\n",
              "        vertical-align: top;\n",
              "    }\n",
              "\n",
              "    .dataframe thead th {\n",
              "        text-align: right;\n",
              "    }\n",
              "</style>\n",
              "<table border=\"1\" class=\"dataframe\">\n",
              "  <thead>\n",
              "    <tr style=\"text-align: right;\">\n",
              "      <th></th>\n",
              "      <th>id</th>\n",
              "      <th>title</th>\n",
              "      <th>genres</th>\n",
              "      <th>original_language</th>\n",
              "      <th>overview</th>\n",
              "      <th>popularity</th>\n",
              "      <th>production_companies</th>\n",
              "      <th>release_date</th>\n",
              "      <th>budget</th>\n",
              "      <th>revenue</th>\n",
              "      <th>runtime</th>\n",
              "      <th>status</th>\n",
              "      <th>tagline</th>\n",
              "      <th>vote_average</th>\n",
              "      <th>vote_count</th>\n",
              "      <th>credits</th>\n",
              "      <th>keywords</th>\n",
              "      <th>poster_path</th>\n",
              "      <th>backdrop_path</th>\n",
              "      <th>recommendations</th>\n",
              "    </tr>\n",
              "  </thead>\n",
              "  <tbody>\n",
              "    <tr>\n",
              "      <th>0</th>\n",
              "      <td>631842</td>\n",
              "      <td>Knock at the Cabin</td>\n",
              "      <td>Horror-Mystery-Thriller</td>\n",
              "      <td>en</td>\n",
              "      <td>While vacationing at a remote cabin a young gi...</td>\n",
              "      <td>3422.537</td>\n",
              "      <td>Blinding Edge Pictures-Universal Pictures-Film...</td>\n",
              "      <td>2023-02-01</td>\n",
              "      <td>20000000.0</td>\n",
              "      <td>52000000.0</td>\n",
              "      <td>100.0</td>\n",
              "      <td>Released</td>\n",
              "      <td>Save your family or save humanity. Make the ch...</td>\n",
              "      <td>6.457</td>\n",
              "      <td>888.0</td>\n",
              "      <td>Dave Bautista-Jonathan Groff-Ben Aldridge-Kris...</td>\n",
              "      <td>based on novel or book-sacrifice-cabin-faith-e...</td>\n",
              "      <td>/dm06L9pxDOL9jNSK4Cb6y139rrG.jpg</td>\n",
              "      <td>/zWDMQX0sPaW2u0N2pJaYA8bVVaJ.jpg</td>\n",
              "      <td>1058949-646389-772515-505642-143970-667216-104...</td>\n",
              "    </tr>\n",
              "    <tr>\n",
              "      <th>1</th>\n",
              "      <td>646389</td>\n",
              "      <td>Plane</td>\n",
              "      <td>Action-Adventure-Thriller</td>\n",
              "      <td>en</td>\n",
              "      <td>After a heroic job of successfully landing his...</td>\n",
              "      <td>2618.646</td>\n",
              "      <td>MadRiver Pictures-Di Bonaventura Pictures-G-BA...</td>\n",
              "      <td>2023-01-12</td>\n",
              "      <td>25000000.0</td>\n",
              "      <td>51000000.0</td>\n",
              "      <td>107.0</td>\n",
              "      <td>Released</td>\n",
              "      <td>Survive together or die alone.</td>\n",
              "      <td>6.901</td>\n",
              "      <td>785.0</td>\n",
              "      <td>Gerard Butler-Mike Colter-Yoson An-Tony Goldwy...</td>\n",
              "      <td>pilot-airplane-philippines-held hostage-plane ...</td>\n",
              "      <td>/qi9r5xBgcc9KTxlOLjssEbDgO0J.jpg</td>\n",
              "      <td>/9Rq14Eyrf7Tu1xk0Pl7VcNbNh1n.jpg</td>\n",
              "      <td>505642-758769-864692-631842-1058949-925943-758...</td>\n",
              "    </tr>\n",
              "    <tr>\n",
              "      <th>2</th>\n",
              "      <td>315162</td>\n",
              "      <td>Puss in Boots: The Last Wish</td>\n",
              "      <td>Animation-Adventure-Comedy-Family</td>\n",
              "      <td>en</td>\n",
              "      <td>Puss in Boots discovers that his passion for a...</td>\n",
              "      <td>2589.341</td>\n",
              "      <td>DreamWorks Animation-Universal Pictures</td>\n",
              "      <td>2022-12-07</td>\n",
              "      <td>90000000.0</td>\n",
              "      <td>442000000.0</td>\n",
              "      <td>103.0</td>\n",
              "      <td>Released</td>\n",
              "      <td>Say hola to his little friends.</td>\n",
              "      <td>8.402</td>\n",
              "      <td>4357.0</td>\n",
              "      <td>Antonio Banderas-Salma Hayek-Harvey Guillén-Wa...</td>\n",
              "      <td>fairy tale-talking dog-spin off-aftercreditsst...</td>\n",
              "      <td>/kuf6dutpsT0vSVehic3EZIqkOBt.jpg</td>\n",
              "      <td>/b1Y8SUb12gPHCSSSNlbX4nB3IKy.jpg</td>\n",
              "      <td>536554-76600-816904-653851-899112-985335-83078...</td>\n",
              "    </tr>\n",
              "    <tr>\n",
              "      <th>3</th>\n",
              "      <td>505642</td>\n",
              "      <td>Black Panther: Wakanda Forever</td>\n",
              "      <td>Action-Adventure-Science Fiction</td>\n",
              "      <td>en</td>\n",
              "      <td>Queen Ramonda Shuri M’Baku Okoye and the Dora ...</td>\n",
              "      <td>2525.408</td>\n",
              "      <td>Marvel Studios</td>\n",
              "      <td>2022-11-09</td>\n",
              "      <td>250000000.0</td>\n",
              "      <td>858535561.0</td>\n",
              "      <td>162.0</td>\n",
              "      <td>Released</td>\n",
              "      <td>Forever.</td>\n",
              "      <td>7.338</td>\n",
              "      <td>3922.0</td>\n",
              "      <td>Letitia Wright-Lupita Nyong'o-Danai Gurira-Win...</td>\n",
              "      <td>loss of loved one-hero-sequel-superhero-based ...</td>\n",
              "      <td>/sv1xJUazXeYqALzczSZ3O6nkH75.jpg</td>\n",
              "      <td>/xDMIl84Qo5Tsu62c9DGWhmPI67A.jpg</td>\n",
              "      <td>436270-829280-76600-56969-312634-1037858-238-5...</td>\n",
              "    </tr>\n",
              "    <tr>\n",
              "      <th>4</th>\n",
              "      <td>956101</td>\n",
              "      <td>The Eighth Clause</td>\n",
              "      <td>Thriller</td>\n",
              "      <td>la</td>\n",
              "      <td>Kat and Borja appear to be a perfect couple bu...</td>\n",
              "      <td>2259.303</td>\n",
              "      <td>SDB Films-El Hombre Orquesta</td>\n",
              "      <td>2022-04-29</td>\n",
              "      <td>0.0</td>\n",
              "      <td>0.0</td>\n",
              "      <td>0.0</td>\n",
              "      <td>Released</td>\n",
              "      <td>NaN</td>\n",
              "      <td>4.600</td>\n",
              "      <td>10.0</td>\n",
              "      <td>Maite Perroni-Manuel Vega-Óscar Jaenada-Jessic...</td>\n",
              "      <td>NaN</td>\n",
              "      <td>/8tc8eMFAX2SDC1TRu987qFQy8Cl.jpg</td>\n",
              "      <td>/kLnqNE9Af5QHyvUxw8cDGhF1ilv.jpg</td>\n",
              "      <td>NaN</td>\n",
              "    </tr>\n",
              "  </tbody>\n",
              "</table>\n",
              "</div>\n",
              "      <button class=\"colab-df-convert\" onclick=\"convertToInteractive('df-7bc01dff-a8ed-4fd8-997e-fe258415c4d4')\"\n",
              "              title=\"Convert this dataframe to an interactive table.\"\n",
              "              style=\"display:none;\">\n",
              "        \n",
              "  <svg xmlns=\"http://www.w3.org/2000/svg\" height=\"24px\"viewBox=\"0 0 24 24\"\n",
              "       width=\"24px\">\n",
              "    <path d=\"M0 0h24v24H0V0z\" fill=\"none\"/>\n",
              "    <path d=\"M18.56 5.44l.94 2.06.94-2.06 2.06-.94-2.06-.94-.94-2.06-.94 2.06-2.06.94zm-11 1L8.5 8.5l.94-2.06 2.06-.94-2.06-.94L8.5 2.5l-.94 2.06-2.06.94zm10 10l.94 2.06.94-2.06 2.06-.94-2.06-.94-.94-2.06-.94 2.06-2.06.94z\"/><path d=\"M17.41 7.96l-1.37-1.37c-.4-.4-.92-.59-1.43-.59-.52 0-1.04.2-1.43.59L10.3 9.45l-7.72 7.72c-.78.78-.78 2.05 0 2.83L4 21.41c.39.39.9.59 1.41.59.51 0 1.02-.2 1.41-.59l7.78-7.78 2.81-2.81c.8-.78.8-2.07 0-2.86zM5.41 20L4 18.59l7.72-7.72 1.47 1.35L5.41 20z\"/>\n",
              "  </svg>\n",
              "      </button>\n",
              "      \n",
              "  <style>\n",
              "    .colab-df-container {\n",
              "      display:flex;\n",
              "      flex-wrap:wrap;\n",
              "      gap: 12px;\n",
              "    }\n",
              "\n",
              "    .colab-df-convert {\n",
              "      background-color: #E8F0FE;\n",
              "      border: none;\n",
              "      border-radius: 50%;\n",
              "      cursor: pointer;\n",
              "      display: none;\n",
              "      fill: #1967D2;\n",
              "      height: 32px;\n",
              "      padding: 0 0 0 0;\n",
              "      width: 32px;\n",
              "    }\n",
              "\n",
              "    .colab-df-convert:hover {\n",
              "      background-color: #E2EBFA;\n",
              "      box-shadow: 0px 1px 2px rgba(60, 64, 67, 0.3), 0px 1px 3px 1px rgba(60, 64, 67, 0.15);\n",
              "      fill: #174EA6;\n",
              "    }\n",
              "\n",
              "    [theme=dark] .colab-df-convert {\n",
              "      background-color: #3B4455;\n",
              "      fill: #D2E3FC;\n",
              "    }\n",
              "\n",
              "    [theme=dark] .colab-df-convert:hover {\n",
              "      background-color: #434B5C;\n",
              "      box-shadow: 0px 1px 3px 1px rgba(0, 0, 0, 0.15);\n",
              "      filter: drop-shadow(0px 1px 2px rgba(0, 0, 0, 0.3));\n",
              "      fill: #FFFFFF;\n",
              "    }\n",
              "  </style>\n",
              "\n",
              "      <script>\n",
              "        const buttonEl =\n",
              "          document.querySelector('#df-7bc01dff-a8ed-4fd8-997e-fe258415c4d4 button.colab-df-convert');\n",
              "        buttonEl.style.display =\n",
              "          google.colab.kernel.accessAllowed ? 'block' : 'none';\n",
              "\n",
              "        async function convertToInteractive(key) {\n",
              "          const element = document.querySelector('#df-7bc01dff-a8ed-4fd8-997e-fe258415c4d4');\n",
              "          const dataTable =\n",
              "            await google.colab.kernel.invokeFunction('convertToInteractive',\n",
              "                                                     [key], {});\n",
              "          if (!dataTable) return;\n",
              "\n",
              "          const docLinkHtml = 'Like what you see? Visit the ' +\n",
              "            '<a target=\"_blank\" href=https://colab.research.google.com/notebooks/data_table.ipynb>data table notebook</a>'\n",
              "            + ' to learn more about interactive tables.';\n",
              "          element.innerHTML = '';\n",
              "          dataTable['output_type'] = 'display_data';\n",
              "          await google.colab.output.renderOutput(dataTable, element);\n",
              "          const docLink = document.createElement('div');\n",
              "          docLink.innerHTML = docLinkHtml;\n",
              "          element.appendChild(docLink);\n",
              "        }\n",
              "      </script>\n",
              "    </div>\n",
              "  </div>\n",
              "  "
            ]
          },
          "metadata": {},
          "execution_count": 5
        }
      ]
    },
    {
      "cell_type": "code",
      "source": [
        "print(df.shape)"
      ],
      "metadata": {
        "colab": {
          "base_uri": "https://localhost:8080/"
        },
        "id": "8-q0ZnmedYJC",
        "outputId": "413abf7d-b5dc-48d5-d69e-4f6c987f494b"
      },
      "execution_count": 6,
      "outputs": [
        {
          "output_type": "stream",
          "name": "stdout",
          "text": [
            "(8378, 20)\n"
          ]
        }
      ]
    },
    {
      "cell_type": "code",
      "source": [
        "df.info()"
      ],
      "metadata": {
        "colab": {
          "base_uri": "https://localhost:8080/"
        },
        "id": "ms-2vfdldgw0",
        "outputId": "9d06cbe0-9f9d-4316-f8b3-e7c7dd313c04"
      },
      "execution_count": 7,
      "outputs": [
        {
          "output_type": "stream",
          "name": "stdout",
          "text": [
            "<class 'pandas.core.frame.DataFrame'>\n",
            "RangeIndex: 8378 entries, 0 to 8377\n",
            "Data columns (total 20 columns):\n",
            " #   Column                Non-Null Count  Dtype  \n",
            "---  ------                --------------  -----  \n",
            " 0   id                    8378 non-null   int64  \n",
            " 1   title                 8378 non-null   object \n",
            " 2   genres                8277 non-null   object \n",
            " 3   original_language     8378 non-null   object \n",
            " 4   overview              8288 non-null   object \n",
            " 5   popularity            8377 non-null   float64\n",
            " 6   production_companies  7735 non-null   object \n",
            " 7   release_date          8349 non-null   object \n",
            " 8   budget                8377 non-null   float64\n",
            " 9   revenue               8377 non-null   float64\n",
            " 10  runtime               8370 non-null   float64\n",
            " 11  status                8377 non-null   object \n",
            " 12  tagline               5898 non-null   object \n",
            " 13  vote_average          8377 non-null   float64\n",
            " 14  vote_count            8377 non-null   float64\n",
            " 15  credits               8241 non-null   object \n",
            " 16  keywords              7183 non-null   object \n",
            " 17  poster_path           8346 non-null   object \n",
            " 18  backdrop_path         8019 non-null   object \n",
            " 19  recommendations       7031 non-null   object \n",
            "dtypes: float64(6), int64(1), object(13)\n",
            "memory usage: 1.3+ MB\n"
          ]
        }
      ]
    },
    {
      "cell_type": "code",
      "source": [
        "df.isnull().sum() # check null values"
      ],
      "metadata": {
        "colab": {
          "base_uri": "https://localhost:8080/"
        },
        "id": "ZCXBGZ2JgKof",
        "outputId": "e87edf76-4bad-4a3e-aa7a-0e1ded201ee6"
      },
      "execution_count": 8,
      "outputs": [
        {
          "output_type": "execute_result",
          "data": {
            "text/plain": [
              "id                         0\n",
              "title                      0\n",
              "genres                   101\n",
              "original_language          0\n",
              "overview                  90\n",
              "popularity                 1\n",
              "production_companies     643\n",
              "release_date              29\n",
              "budget                     1\n",
              "revenue                    1\n",
              "runtime                    8\n",
              "status                     1\n",
              "tagline                 2480\n",
              "vote_average               1\n",
              "vote_count                 1\n",
              "credits                  137\n",
              "keywords                1195\n",
              "poster_path               32\n",
              "backdrop_path            359\n",
              "recommendations         1347\n",
              "dtype: int64"
            ]
          },
          "metadata": {},
          "execution_count": 8
        }
      ]
    },
    {
      "cell_type": "code",
      "source": [
        "df.duplicated().sum()"
      ],
      "metadata": {
        "colab": {
          "base_uri": "https://localhost:8080/"
        },
        "id": "qxawRTjHgMaU",
        "outputId": "bc38e296-b6de-4c81-d86d-2983506c4d24"
      },
      "execution_count": 9,
      "outputs": [
        {
          "output_type": "execute_result",
          "data": {
            "text/plain": [
              "0"
            ]
          },
          "metadata": {},
          "execution_count": 9
        }
      ]
    },
    {
      "cell_type": "code",
      "source": [
        "vcounts = df[df['vote_count'].notnull()]['vote_count'].astype('int')\n",
        "vaverages = df[df['vote_average'].notnull()]['vote_average'].astype('int')\n",
        "avg = vaverages.mean()\n",
        "avg"
      ],
      "metadata": {
        "colab": {
          "base_uri": "https://localhost:8080/"
        },
        "id": "ksfP4VZ5mK2d",
        "outputId": "8b8b400a-f982-441c-98e3-6db964c9f1af"
      },
      "execution_count": 10,
      "outputs": [
        {
          "output_type": "execute_result",
          "data": {
            "text/plain": [
              "5.844932553420079"
            ]
          },
          "metadata": {},
          "execution_count": 10
        }
      ]
    },
    {
      "cell_type": "code",
      "source": [
        "df = df.drop([\"production_companies\", \"popularity\", \"budget\", \"revenue\", \"status\", \"recommendations\", \"runtime\", \"vote_average\", \"backdrop_path\",'tagline'], axis = 1) #'poster_path'], axis=1)"
      ],
      "metadata": {
        "id": "70X0bEZcgPrM"
      },
      "execution_count": 11,
      "outputs": []
    },
    {
      "cell_type": "code",
      "source": [
        "df.drop_duplicates(inplace=True)"
      ],
      "metadata": {
        "id": "S3aZIt_phBhg"
      },
      "execution_count": 12,
      "outputs": []
    },
    {
      "cell_type": "code",
      "source": [
        "df.title.duplicated().sum()"
      ],
      "metadata": {
        "colab": {
          "base_uri": "https://localhost:8080/"
        },
        "id": "j7L8e-WZhD1-",
        "outputId": "bd043f76-d331-448a-a4df-17624c82114d"
      },
      "execution_count": 13,
      "outputs": [
        {
          "output_type": "execute_result",
          "data": {
            "text/plain": [
              "254"
            ]
          },
          "metadata": {},
          "execution_count": 13
        }
      ]
    },
    {
      "cell_type": "code",
      "source": [
        "df[[\"title\", \"release_date\"]].duplicated().sum()# checking for release data with same movie title"
      ],
      "metadata": {
        "colab": {
          "base_uri": "https://localhost:8080/"
        },
        "id": "ZdvwCnXshHAr",
        "outputId": "4ac80482-1005-4e90-dbc2-044e3cfbf98e"
      },
      "execution_count": 14,
      "outputs": [
        {
          "output_type": "execute_result",
          "data": {
            "text/plain": [
              "15"
            ]
          },
          "metadata": {},
          "execution_count": 14
        }
      ]
    },
    {
      "cell_type": "code",
      "source": [
        "df.drop_duplicates(subset=[\"title\",\"release_date\"], inplace=True)"
      ],
      "metadata": {
        "id": "UPC7j-p4hN8M"
      },
      "execution_count": 15,
      "outputs": []
    },
    {
      "cell_type": "code",
      "source": [
        "df = df[df.vote_count >= 350].reset_index()"
      ],
      "metadata": {
        "id": "TWpG2OFehQ-p"
      },
      "execution_count": 16,
      "outputs": []
    },
    {
      "cell_type": "code",
      "source": [
        "df.isnull().sum()"
      ],
      "metadata": {
        "colab": {
          "base_uri": "https://localhost:8080/"
        },
        "id": "uUwFcXu9hTT0",
        "outputId": "017b2d7b-c18b-43bc-eef3-38357d9594e1"
      },
      "execution_count": 17,
      "outputs": [
        {
          "output_type": "execute_result",
          "data": {
            "text/plain": [
              "index                 0\n",
              "id                    0\n",
              "title                 0\n",
              "genres                0\n",
              "original_language     0\n",
              "overview              0\n",
              "release_date          0\n",
              "vote_count            0\n",
              "credits               1\n",
              "keywords             75\n",
              "poster_path           0\n",
              "dtype: int64"
            ]
          },
          "metadata": {},
          "execution_count": 17
        }
      ]
    },
    {
      "cell_type": "code",
      "source": [
        "df.fillna(\"\", inplace = True) # replace the null values with ''\n",
        "# We do have an option filling all the nulls with 0, but since they will have string values, I thought that na -> \"\" will be necessary"
      ],
      "metadata": {
        "id": "5FIBXEGQhUvi"
      },
      "execution_count": 18,
      "outputs": []
    },
    {
      "cell_type": "code",
      "source": [
        "df"
      ],
      "metadata": {
        "colab": {
          "base_uri": "https://localhost:8080/",
          "height": 641
        },
        "id": "khd_-UJyoMLC",
        "outputId": "b5316632-0fc3-40f9-f5b7-d26895591494"
      },
      "execution_count": 19,
      "outputs": [
        {
          "output_type": "execute_result",
          "data": {
            "text/plain": [
              "      index      id                           title  \\\n",
              "0         0  631842              Knock at the Cabin   \n",
              "1         1  646389                           Plane   \n",
              "2         2  315162    Puss in Boots: The Last Wish   \n",
              "3         3  505642  Black Panther: Wakanda Forever   \n",
              "4         7  937278               A Man Called Otto   \n",
              "...     ...     ...                             ...   \n",
              "4721   8366     901                     City Lights   \n",
              "4722   8367   23082          The Invention of Lying   \n",
              "4723   8369  277685                      Unfriended   \n",
              "4724   8372   12516                          Dreams   \n",
              "4725   8375    2335                          Taxi 4   \n",
              "\n",
              "                                 genres original_language  \\\n",
              "0               Horror-Mystery-Thriller                en   \n",
              "1             Action-Adventure-Thriller                en   \n",
              "2     Animation-Adventure-Comedy-Family                en   \n",
              "3      Action-Adventure-Science Fiction                en   \n",
              "4                          Comedy-Drama                en   \n",
              "...                                 ...               ...   \n",
              "4721                     Comedy-Romance                en   \n",
              "4722             Comedy-Fantasy-Romance                en   \n",
              "4723            Horror-Thriller-Mystery                en   \n",
              "4724                      Fantasy-Drama                ja   \n",
              "4725                      Action-Comedy                fr   \n",
              "\n",
              "                                               overview release_date  \\\n",
              "0     While vacationing at a remote cabin a young gi...   2023-02-01   \n",
              "1     After a heroic job of successfully landing his...   2023-01-12   \n",
              "2     Puss in Boots discovers that his passion for a...   2022-12-07   \n",
              "3     Queen Ramonda Shuri M’Baku Okoye and the Dora ...   2022-11-09   \n",
              "4     When a lively young family moves in next door ...   2022-12-28   \n",
              "...                                                 ...          ...   \n",
              "4721  In this sound-era silent film a tramp falls in...   1931-02-01   \n",
              "4722  Set in a world where the concept of lying does...   2009-09-13   \n",
              "4723  While video chatting one night six high school...   2014-10-22   \n",
              "4724  A collection of magical tales based upon the a...   1990-05-11   \n",
              "4725  Before being extradited to Africa to stand tri...   2007-02-10   \n",
              "\n",
              "      vote_count                                            credits  \\\n",
              "0          888.0  Dave Bautista-Jonathan Groff-Ben Aldridge-Kris...   \n",
              "1          785.0  Gerard Butler-Mike Colter-Yoson An-Tony Goldwy...   \n",
              "2         4357.0  Antonio Banderas-Salma Hayek-Harvey Guillén-Wa...   \n",
              "3         3922.0  Letitia Wright-Lupita Nyong'o-Danai Gurira-Win...   \n",
              "4          540.0  Tom Hanks-Mariana Treviño-Rachel Keller-Manuel...   \n",
              "...          ...                                                ...   \n",
              "4721      1818.0  Charlie Chaplin-Virginia Cherrill-Harry Myers-...   \n",
              "4722      1792.0  Ricky Gervais-Jennifer Garner-Jonah Hill-Louis...   \n",
              "4723      3059.0  Shelley Hennig-Heather Sossaman-Renee Olstead-...   \n",
              "4724       361.0  Akira Terao-Mitsuko Baisho-Toshie Negishi-Miek...   \n",
              "4725      1067.0  Samy Naceri-Frédéric Diefenthal-Bernard Farcy-...   \n",
              "\n",
              "                                               keywords  \\\n",
              "0     based on novel or book-sacrifice-cabin-faith-e...   \n",
              "1     pilot-airplane-philippines-held hostage-plane ...   \n",
              "2     fairy tale-talking dog-spin off-aftercreditsst...   \n",
              "3     loss of loved one-hero-sequel-superhero-based ...   \n",
              "4     based on novel or book-suicide attempt-remake-...   \n",
              "...                                                 ...   \n",
              "4721  suicide attempt-operation-blindness and impair...   \n",
              "4722                                  lie-religion-lies   \n",
              "4723  computer-bullying-revenge-internet-internet ch...   \n",
              "4724  life and death-artist-volcano-nuclear power pl...   \n",
              "4725                                   marseille france   \n",
              "\n",
              "                           poster_path  \n",
              "0     /dm06L9pxDOL9jNSK4Cb6y139rrG.jpg  \n",
              "1     /qi9r5xBgcc9KTxlOLjssEbDgO0J.jpg  \n",
              "2     /kuf6dutpsT0vSVehic3EZIqkOBt.jpg  \n",
              "3     /sv1xJUazXeYqALzczSZ3O6nkH75.jpg  \n",
              "4     /130H1gap9lFfiTF9iDrqNIkFvC9.jpg  \n",
              "...                                ...  \n",
              "4721  /bXNvzjULc9jrOVhGfjcc64uKZmZ.jpg  \n",
              "4722  /clP8tDZeM9jgnqmu4VBClBDpLtS.jpg  \n",
              "4723  /8byPxREr3BqBNyyij5WHVSOVtYk.jpg  \n",
              "4724  /j0NQsYqnqvhTtBj7vhCa9iKT0NA.jpg  \n",
              "4725  /8OoVXQo23kgMw4ooLfi2mDGVfUE.jpg  \n",
              "\n",
              "[4726 rows x 11 columns]"
            ],
            "text/html": [
              "\n",
              "  <div id=\"df-858524a0-02f1-461e-9aad-a78391aa86fa\">\n",
              "    <div class=\"colab-df-container\">\n",
              "      <div>\n",
              "<style scoped>\n",
              "    .dataframe tbody tr th:only-of-type {\n",
              "        vertical-align: middle;\n",
              "    }\n",
              "\n",
              "    .dataframe tbody tr th {\n",
              "        vertical-align: top;\n",
              "    }\n",
              "\n",
              "    .dataframe thead th {\n",
              "        text-align: right;\n",
              "    }\n",
              "</style>\n",
              "<table border=\"1\" class=\"dataframe\">\n",
              "  <thead>\n",
              "    <tr style=\"text-align: right;\">\n",
              "      <th></th>\n",
              "      <th>index</th>\n",
              "      <th>id</th>\n",
              "      <th>title</th>\n",
              "      <th>genres</th>\n",
              "      <th>original_language</th>\n",
              "      <th>overview</th>\n",
              "      <th>release_date</th>\n",
              "      <th>vote_count</th>\n",
              "      <th>credits</th>\n",
              "      <th>keywords</th>\n",
              "      <th>poster_path</th>\n",
              "    </tr>\n",
              "  </thead>\n",
              "  <tbody>\n",
              "    <tr>\n",
              "      <th>0</th>\n",
              "      <td>0</td>\n",
              "      <td>631842</td>\n",
              "      <td>Knock at the Cabin</td>\n",
              "      <td>Horror-Mystery-Thriller</td>\n",
              "      <td>en</td>\n",
              "      <td>While vacationing at a remote cabin a young gi...</td>\n",
              "      <td>2023-02-01</td>\n",
              "      <td>888.0</td>\n",
              "      <td>Dave Bautista-Jonathan Groff-Ben Aldridge-Kris...</td>\n",
              "      <td>based on novel or book-sacrifice-cabin-faith-e...</td>\n",
              "      <td>/dm06L9pxDOL9jNSK4Cb6y139rrG.jpg</td>\n",
              "    </tr>\n",
              "    <tr>\n",
              "      <th>1</th>\n",
              "      <td>1</td>\n",
              "      <td>646389</td>\n",
              "      <td>Plane</td>\n",
              "      <td>Action-Adventure-Thriller</td>\n",
              "      <td>en</td>\n",
              "      <td>After a heroic job of successfully landing his...</td>\n",
              "      <td>2023-01-12</td>\n",
              "      <td>785.0</td>\n",
              "      <td>Gerard Butler-Mike Colter-Yoson An-Tony Goldwy...</td>\n",
              "      <td>pilot-airplane-philippines-held hostage-plane ...</td>\n",
              "      <td>/qi9r5xBgcc9KTxlOLjssEbDgO0J.jpg</td>\n",
              "    </tr>\n",
              "    <tr>\n",
              "      <th>2</th>\n",
              "      <td>2</td>\n",
              "      <td>315162</td>\n",
              "      <td>Puss in Boots: The Last Wish</td>\n",
              "      <td>Animation-Adventure-Comedy-Family</td>\n",
              "      <td>en</td>\n",
              "      <td>Puss in Boots discovers that his passion for a...</td>\n",
              "      <td>2022-12-07</td>\n",
              "      <td>4357.0</td>\n",
              "      <td>Antonio Banderas-Salma Hayek-Harvey Guillén-Wa...</td>\n",
              "      <td>fairy tale-talking dog-spin off-aftercreditsst...</td>\n",
              "      <td>/kuf6dutpsT0vSVehic3EZIqkOBt.jpg</td>\n",
              "    </tr>\n",
              "    <tr>\n",
              "      <th>3</th>\n",
              "      <td>3</td>\n",
              "      <td>505642</td>\n",
              "      <td>Black Panther: Wakanda Forever</td>\n",
              "      <td>Action-Adventure-Science Fiction</td>\n",
              "      <td>en</td>\n",
              "      <td>Queen Ramonda Shuri M’Baku Okoye and the Dora ...</td>\n",
              "      <td>2022-11-09</td>\n",
              "      <td>3922.0</td>\n",
              "      <td>Letitia Wright-Lupita Nyong'o-Danai Gurira-Win...</td>\n",
              "      <td>loss of loved one-hero-sequel-superhero-based ...</td>\n",
              "      <td>/sv1xJUazXeYqALzczSZ3O6nkH75.jpg</td>\n",
              "    </tr>\n",
              "    <tr>\n",
              "      <th>4</th>\n",
              "      <td>7</td>\n",
              "      <td>937278</td>\n",
              "      <td>A Man Called Otto</td>\n",
              "      <td>Comedy-Drama</td>\n",
              "      <td>en</td>\n",
              "      <td>When a lively young family moves in next door ...</td>\n",
              "      <td>2022-12-28</td>\n",
              "      <td>540.0</td>\n",
              "      <td>Tom Hanks-Mariana Treviño-Rachel Keller-Manuel...</td>\n",
              "      <td>based on novel or book-suicide attempt-remake-...</td>\n",
              "      <td>/130H1gap9lFfiTF9iDrqNIkFvC9.jpg</td>\n",
              "    </tr>\n",
              "    <tr>\n",
              "      <th>...</th>\n",
              "      <td>...</td>\n",
              "      <td>...</td>\n",
              "      <td>...</td>\n",
              "      <td>...</td>\n",
              "      <td>...</td>\n",
              "      <td>...</td>\n",
              "      <td>...</td>\n",
              "      <td>...</td>\n",
              "      <td>...</td>\n",
              "      <td>...</td>\n",
              "      <td>...</td>\n",
              "    </tr>\n",
              "    <tr>\n",
              "      <th>4721</th>\n",
              "      <td>8366</td>\n",
              "      <td>901</td>\n",
              "      <td>City Lights</td>\n",
              "      <td>Comedy-Romance</td>\n",
              "      <td>en</td>\n",
              "      <td>In this sound-era silent film a tramp falls in...</td>\n",
              "      <td>1931-02-01</td>\n",
              "      <td>1818.0</td>\n",
              "      <td>Charlie Chaplin-Virginia Cherrill-Harry Myers-...</td>\n",
              "      <td>suicide attempt-operation-blindness and impair...</td>\n",
              "      <td>/bXNvzjULc9jrOVhGfjcc64uKZmZ.jpg</td>\n",
              "    </tr>\n",
              "    <tr>\n",
              "      <th>4722</th>\n",
              "      <td>8367</td>\n",
              "      <td>23082</td>\n",
              "      <td>The Invention of Lying</td>\n",
              "      <td>Comedy-Fantasy-Romance</td>\n",
              "      <td>en</td>\n",
              "      <td>Set in a world where the concept of lying does...</td>\n",
              "      <td>2009-09-13</td>\n",
              "      <td>1792.0</td>\n",
              "      <td>Ricky Gervais-Jennifer Garner-Jonah Hill-Louis...</td>\n",
              "      <td>lie-religion-lies</td>\n",
              "      <td>/clP8tDZeM9jgnqmu4VBClBDpLtS.jpg</td>\n",
              "    </tr>\n",
              "    <tr>\n",
              "      <th>4723</th>\n",
              "      <td>8369</td>\n",
              "      <td>277685</td>\n",
              "      <td>Unfriended</td>\n",
              "      <td>Horror-Thriller-Mystery</td>\n",
              "      <td>en</td>\n",
              "      <td>While video chatting one night six high school...</td>\n",
              "      <td>2014-10-22</td>\n",
              "      <td>3059.0</td>\n",
              "      <td>Shelley Hennig-Heather Sossaman-Renee Olstead-...</td>\n",
              "      <td>computer-bullying-revenge-internet-internet ch...</td>\n",
              "      <td>/8byPxREr3BqBNyyij5WHVSOVtYk.jpg</td>\n",
              "    </tr>\n",
              "    <tr>\n",
              "      <th>4724</th>\n",
              "      <td>8372</td>\n",
              "      <td>12516</td>\n",
              "      <td>Dreams</td>\n",
              "      <td>Fantasy-Drama</td>\n",
              "      <td>ja</td>\n",
              "      <td>A collection of magical tales based upon the a...</td>\n",
              "      <td>1990-05-11</td>\n",
              "      <td>361.0</td>\n",
              "      <td>Akira Terao-Mitsuko Baisho-Toshie Negishi-Miek...</td>\n",
              "      <td>life and death-artist-volcano-nuclear power pl...</td>\n",
              "      <td>/j0NQsYqnqvhTtBj7vhCa9iKT0NA.jpg</td>\n",
              "    </tr>\n",
              "    <tr>\n",
              "      <th>4725</th>\n",
              "      <td>8375</td>\n",
              "      <td>2335</td>\n",
              "      <td>Taxi 4</td>\n",
              "      <td>Action-Comedy</td>\n",
              "      <td>fr</td>\n",
              "      <td>Before being extradited to Africa to stand tri...</td>\n",
              "      <td>2007-02-10</td>\n",
              "      <td>1067.0</td>\n",
              "      <td>Samy Naceri-Frédéric Diefenthal-Bernard Farcy-...</td>\n",
              "      <td>marseille france</td>\n",
              "      <td>/8OoVXQo23kgMw4ooLfi2mDGVfUE.jpg</td>\n",
              "    </tr>\n",
              "  </tbody>\n",
              "</table>\n",
              "<p>4726 rows × 11 columns</p>\n",
              "</div>\n",
              "      <button class=\"colab-df-convert\" onclick=\"convertToInteractive('df-858524a0-02f1-461e-9aad-a78391aa86fa')\"\n",
              "              title=\"Convert this dataframe to an interactive table.\"\n",
              "              style=\"display:none;\">\n",
              "        \n",
              "  <svg xmlns=\"http://www.w3.org/2000/svg\" height=\"24px\"viewBox=\"0 0 24 24\"\n",
              "       width=\"24px\">\n",
              "    <path d=\"M0 0h24v24H0V0z\" fill=\"none\"/>\n",
              "    <path d=\"M18.56 5.44l.94 2.06.94-2.06 2.06-.94-2.06-.94-.94-2.06-.94 2.06-2.06.94zm-11 1L8.5 8.5l.94-2.06 2.06-.94-2.06-.94L8.5 2.5l-.94 2.06-2.06.94zm10 10l.94 2.06.94-2.06 2.06-.94-2.06-.94-.94-2.06-.94 2.06-2.06.94z\"/><path d=\"M17.41 7.96l-1.37-1.37c-.4-.4-.92-.59-1.43-.59-.52 0-1.04.2-1.43.59L10.3 9.45l-7.72 7.72c-.78.78-.78 2.05 0 2.83L4 21.41c.39.39.9.59 1.41.59.51 0 1.02-.2 1.41-.59l7.78-7.78 2.81-2.81c.8-.78.8-2.07 0-2.86zM5.41 20L4 18.59l7.72-7.72 1.47 1.35L5.41 20z\"/>\n",
              "  </svg>\n",
              "      </button>\n",
              "      \n",
              "  <style>\n",
              "    .colab-df-container {\n",
              "      display:flex;\n",
              "      flex-wrap:wrap;\n",
              "      gap: 12px;\n",
              "    }\n",
              "\n",
              "    .colab-df-convert {\n",
              "      background-color: #E8F0FE;\n",
              "      border: none;\n",
              "      border-radius: 50%;\n",
              "      cursor: pointer;\n",
              "      display: none;\n",
              "      fill: #1967D2;\n",
              "      height: 32px;\n",
              "      padding: 0 0 0 0;\n",
              "      width: 32px;\n",
              "    }\n",
              "\n",
              "    .colab-df-convert:hover {\n",
              "      background-color: #E2EBFA;\n",
              "      box-shadow: 0px 1px 2px rgba(60, 64, 67, 0.3), 0px 1px 3px 1px rgba(60, 64, 67, 0.15);\n",
              "      fill: #174EA6;\n",
              "    }\n",
              "\n",
              "    [theme=dark] .colab-df-convert {\n",
              "      background-color: #3B4455;\n",
              "      fill: #D2E3FC;\n",
              "    }\n",
              "\n",
              "    [theme=dark] .colab-df-convert:hover {\n",
              "      background-color: #434B5C;\n",
              "      box-shadow: 0px 1px 3px 1px rgba(0, 0, 0, 0.15);\n",
              "      filter: drop-shadow(0px 1px 2px rgba(0, 0, 0, 0.3));\n",
              "      fill: #FFFFFF;\n",
              "    }\n",
              "  </style>\n",
              "\n",
              "      <script>\n",
              "        const buttonEl =\n",
              "          document.querySelector('#df-858524a0-02f1-461e-9aad-a78391aa86fa button.colab-df-convert');\n",
              "        buttonEl.style.display =\n",
              "          google.colab.kernel.accessAllowed ? 'block' : 'none';\n",
              "\n",
              "        async function convertToInteractive(key) {\n",
              "          const element = document.querySelector('#df-858524a0-02f1-461e-9aad-a78391aa86fa');\n",
              "          const dataTable =\n",
              "            await google.colab.kernel.invokeFunction('convertToInteractive',\n",
              "                                                     [key], {});\n",
              "          if (!dataTable) return;\n",
              "\n",
              "          const docLinkHtml = 'Like what you see? Visit the ' +\n",
              "            '<a target=\"_blank\" href=https://colab.research.google.com/notebooks/data_table.ipynb>data table notebook</a>'\n",
              "            + ' to learn more about interactive tables.';\n",
              "          element.innerHTML = '';\n",
              "          dataTable['output_type'] = 'display_data';\n",
              "          await google.colab.output.renderOutput(dataTable, element);\n",
              "          const docLink = document.createElement('div');\n",
              "          docLink.innerHTML = docLinkHtml;\n",
              "          element.appendChild(docLink);\n",
              "        }\n",
              "      </script>\n",
              "    </div>\n",
              "  </div>\n",
              "  "
            ]
          },
          "metadata": {},
          "execution_count": 19
        }
      ]
    },
    {
      "cell_type": "code",
      "source": [
        "index = df[(df.genres == \"\") & (df.overview == \"\")].index\n",
        "df.drop(index, inplace=True)"
      ],
      "metadata": {
        "id": "vsjBfGU-ha25"
      },
      "execution_count": 20,
      "outputs": []
    },
    {
      "cell_type": "code",
      "source": [
        "df.shape"
      ],
      "metadata": {
        "colab": {
          "base_uri": "https://localhost:8080/"
        },
        "id": "8XmGYWa0oPCp",
        "outputId": "ad25a4b5-ab42-48eb-e502-69886ad88b86"
      },
      "execution_count": 21,
      "outputs": [
        {
          "output_type": "execute_result",
          "data": {
            "text/plain": [
              "(4726, 11)"
            ]
          },
          "metadata": {},
          "execution_count": 21
        }
      ]
    },
    {
      "cell_type": "code",
      "source": [
        "df.head()"
      ],
      "metadata": {
        "colab": {
          "base_uri": "https://localhost:8080/",
          "height": 337
        },
        "id": "4H6BFUi5oRl5",
        "outputId": "3bee7c36-81d6-4515-d860-842d37b1a4f5"
      },
      "execution_count": 22,
      "outputs": [
        {
          "output_type": "execute_result",
          "data": {
            "text/plain": [
              "   index      id                           title  \\\n",
              "0      0  631842              Knock at the Cabin   \n",
              "1      1  646389                           Plane   \n",
              "2      2  315162    Puss in Boots: The Last Wish   \n",
              "3      3  505642  Black Panther: Wakanda Forever   \n",
              "4      7  937278               A Man Called Otto   \n",
              "\n",
              "                              genres original_language  \\\n",
              "0            Horror-Mystery-Thriller                en   \n",
              "1          Action-Adventure-Thriller                en   \n",
              "2  Animation-Adventure-Comedy-Family                en   \n",
              "3   Action-Adventure-Science Fiction                en   \n",
              "4                       Comedy-Drama                en   \n",
              "\n",
              "                                            overview release_date  vote_count  \\\n",
              "0  While vacationing at a remote cabin a young gi...   2023-02-01       888.0   \n",
              "1  After a heroic job of successfully landing his...   2023-01-12       785.0   \n",
              "2  Puss in Boots discovers that his passion for a...   2022-12-07      4357.0   \n",
              "3  Queen Ramonda Shuri M’Baku Okoye and the Dora ...   2022-11-09      3922.0   \n",
              "4  When a lively young family moves in next door ...   2022-12-28       540.0   \n",
              "\n",
              "                                             credits  \\\n",
              "0  Dave Bautista-Jonathan Groff-Ben Aldridge-Kris...   \n",
              "1  Gerard Butler-Mike Colter-Yoson An-Tony Goldwy...   \n",
              "2  Antonio Banderas-Salma Hayek-Harvey Guillén-Wa...   \n",
              "3  Letitia Wright-Lupita Nyong'o-Danai Gurira-Win...   \n",
              "4  Tom Hanks-Mariana Treviño-Rachel Keller-Manuel...   \n",
              "\n",
              "                                            keywords  \\\n",
              "0  based on novel or book-sacrifice-cabin-faith-e...   \n",
              "1  pilot-airplane-philippines-held hostage-plane ...   \n",
              "2  fairy tale-talking dog-spin off-aftercreditsst...   \n",
              "3  loss of loved one-hero-sequel-superhero-based ...   \n",
              "4  based on novel or book-suicide attempt-remake-...   \n",
              "\n",
              "                        poster_path  \n",
              "0  /dm06L9pxDOL9jNSK4Cb6y139rrG.jpg  \n",
              "1  /qi9r5xBgcc9KTxlOLjssEbDgO0J.jpg  \n",
              "2  /kuf6dutpsT0vSVehic3EZIqkOBt.jpg  \n",
              "3  /sv1xJUazXeYqALzczSZ3O6nkH75.jpg  \n",
              "4  /130H1gap9lFfiTF9iDrqNIkFvC9.jpg  "
            ],
            "text/html": [
              "\n",
              "  <div id=\"df-ba567063-2071-4569-b7c2-f05fee52e49c\">\n",
              "    <div class=\"colab-df-container\">\n",
              "      <div>\n",
              "<style scoped>\n",
              "    .dataframe tbody tr th:only-of-type {\n",
              "        vertical-align: middle;\n",
              "    }\n",
              "\n",
              "    .dataframe tbody tr th {\n",
              "        vertical-align: top;\n",
              "    }\n",
              "\n",
              "    .dataframe thead th {\n",
              "        text-align: right;\n",
              "    }\n",
              "</style>\n",
              "<table border=\"1\" class=\"dataframe\">\n",
              "  <thead>\n",
              "    <tr style=\"text-align: right;\">\n",
              "      <th></th>\n",
              "      <th>index</th>\n",
              "      <th>id</th>\n",
              "      <th>title</th>\n",
              "      <th>genres</th>\n",
              "      <th>original_language</th>\n",
              "      <th>overview</th>\n",
              "      <th>release_date</th>\n",
              "      <th>vote_count</th>\n",
              "      <th>credits</th>\n",
              "      <th>keywords</th>\n",
              "      <th>poster_path</th>\n",
              "    </tr>\n",
              "  </thead>\n",
              "  <tbody>\n",
              "    <tr>\n",
              "      <th>0</th>\n",
              "      <td>0</td>\n",
              "      <td>631842</td>\n",
              "      <td>Knock at the Cabin</td>\n",
              "      <td>Horror-Mystery-Thriller</td>\n",
              "      <td>en</td>\n",
              "      <td>While vacationing at a remote cabin a young gi...</td>\n",
              "      <td>2023-02-01</td>\n",
              "      <td>888.0</td>\n",
              "      <td>Dave Bautista-Jonathan Groff-Ben Aldridge-Kris...</td>\n",
              "      <td>based on novel or book-sacrifice-cabin-faith-e...</td>\n",
              "      <td>/dm06L9pxDOL9jNSK4Cb6y139rrG.jpg</td>\n",
              "    </tr>\n",
              "    <tr>\n",
              "      <th>1</th>\n",
              "      <td>1</td>\n",
              "      <td>646389</td>\n",
              "      <td>Plane</td>\n",
              "      <td>Action-Adventure-Thriller</td>\n",
              "      <td>en</td>\n",
              "      <td>After a heroic job of successfully landing his...</td>\n",
              "      <td>2023-01-12</td>\n",
              "      <td>785.0</td>\n",
              "      <td>Gerard Butler-Mike Colter-Yoson An-Tony Goldwy...</td>\n",
              "      <td>pilot-airplane-philippines-held hostage-plane ...</td>\n",
              "      <td>/qi9r5xBgcc9KTxlOLjssEbDgO0J.jpg</td>\n",
              "    </tr>\n",
              "    <tr>\n",
              "      <th>2</th>\n",
              "      <td>2</td>\n",
              "      <td>315162</td>\n",
              "      <td>Puss in Boots: The Last Wish</td>\n",
              "      <td>Animation-Adventure-Comedy-Family</td>\n",
              "      <td>en</td>\n",
              "      <td>Puss in Boots discovers that his passion for a...</td>\n",
              "      <td>2022-12-07</td>\n",
              "      <td>4357.0</td>\n",
              "      <td>Antonio Banderas-Salma Hayek-Harvey Guillén-Wa...</td>\n",
              "      <td>fairy tale-talking dog-spin off-aftercreditsst...</td>\n",
              "      <td>/kuf6dutpsT0vSVehic3EZIqkOBt.jpg</td>\n",
              "    </tr>\n",
              "    <tr>\n",
              "      <th>3</th>\n",
              "      <td>3</td>\n",
              "      <td>505642</td>\n",
              "      <td>Black Panther: Wakanda Forever</td>\n",
              "      <td>Action-Adventure-Science Fiction</td>\n",
              "      <td>en</td>\n",
              "      <td>Queen Ramonda Shuri M’Baku Okoye and the Dora ...</td>\n",
              "      <td>2022-11-09</td>\n",
              "      <td>3922.0</td>\n",
              "      <td>Letitia Wright-Lupita Nyong'o-Danai Gurira-Win...</td>\n",
              "      <td>loss of loved one-hero-sequel-superhero-based ...</td>\n",
              "      <td>/sv1xJUazXeYqALzczSZ3O6nkH75.jpg</td>\n",
              "    </tr>\n",
              "    <tr>\n",
              "      <th>4</th>\n",
              "      <td>7</td>\n",
              "      <td>937278</td>\n",
              "      <td>A Man Called Otto</td>\n",
              "      <td>Comedy-Drama</td>\n",
              "      <td>en</td>\n",
              "      <td>When a lively young family moves in next door ...</td>\n",
              "      <td>2022-12-28</td>\n",
              "      <td>540.0</td>\n",
              "      <td>Tom Hanks-Mariana Treviño-Rachel Keller-Manuel...</td>\n",
              "      <td>based on novel or book-suicide attempt-remake-...</td>\n",
              "      <td>/130H1gap9lFfiTF9iDrqNIkFvC9.jpg</td>\n",
              "    </tr>\n",
              "  </tbody>\n",
              "</table>\n",
              "</div>\n",
              "      <button class=\"colab-df-convert\" onclick=\"convertToInteractive('df-ba567063-2071-4569-b7c2-f05fee52e49c')\"\n",
              "              title=\"Convert this dataframe to an interactive table.\"\n",
              "              style=\"display:none;\">\n",
              "        \n",
              "  <svg xmlns=\"http://www.w3.org/2000/svg\" height=\"24px\"viewBox=\"0 0 24 24\"\n",
              "       width=\"24px\">\n",
              "    <path d=\"M0 0h24v24H0V0z\" fill=\"none\"/>\n",
              "    <path d=\"M18.56 5.44l.94 2.06.94-2.06 2.06-.94-2.06-.94-.94-2.06-.94 2.06-2.06.94zm-11 1L8.5 8.5l.94-2.06 2.06-.94-2.06-.94L8.5 2.5l-.94 2.06-2.06.94zm10 10l.94 2.06.94-2.06 2.06-.94-2.06-.94-.94-2.06-.94 2.06-2.06.94z\"/><path d=\"M17.41 7.96l-1.37-1.37c-.4-.4-.92-.59-1.43-.59-.52 0-1.04.2-1.43.59L10.3 9.45l-7.72 7.72c-.78.78-.78 2.05 0 2.83L4 21.41c.39.39.9.59 1.41.59.51 0 1.02-.2 1.41-.59l7.78-7.78 2.81-2.81c.8-.78.8-2.07 0-2.86zM5.41 20L4 18.59l7.72-7.72 1.47 1.35L5.41 20z\"/>\n",
              "  </svg>\n",
              "      </button>\n",
              "      \n",
              "  <style>\n",
              "    .colab-df-container {\n",
              "      display:flex;\n",
              "      flex-wrap:wrap;\n",
              "      gap: 12px;\n",
              "    }\n",
              "\n",
              "    .colab-df-convert {\n",
              "      background-color: #E8F0FE;\n",
              "      border: none;\n",
              "      border-radius: 50%;\n",
              "      cursor: pointer;\n",
              "      display: none;\n",
              "      fill: #1967D2;\n",
              "      height: 32px;\n",
              "      padding: 0 0 0 0;\n",
              "      width: 32px;\n",
              "    }\n",
              "\n",
              "    .colab-df-convert:hover {\n",
              "      background-color: #E2EBFA;\n",
              "      box-shadow: 0px 1px 2px rgba(60, 64, 67, 0.3), 0px 1px 3px 1px rgba(60, 64, 67, 0.15);\n",
              "      fill: #174EA6;\n",
              "    }\n",
              "\n",
              "    [theme=dark] .colab-df-convert {\n",
              "      background-color: #3B4455;\n",
              "      fill: #D2E3FC;\n",
              "    }\n",
              "\n",
              "    [theme=dark] .colab-df-convert:hover {\n",
              "      background-color: #434B5C;\n",
              "      box-shadow: 0px 1px 3px 1px rgba(0, 0, 0, 0.15);\n",
              "      filter: drop-shadow(0px 1px 2px rgba(0, 0, 0, 0.3));\n",
              "      fill: #FFFFFF;\n",
              "    }\n",
              "  </style>\n",
              "\n",
              "      <script>\n",
              "        const buttonEl =\n",
              "          document.querySelector('#df-ba567063-2071-4569-b7c2-f05fee52e49c button.colab-df-convert');\n",
              "        buttonEl.style.display =\n",
              "          google.colab.kernel.accessAllowed ? 'block' : 'none';\n",
              "\n",
              "        async function convertToInteractive(key) {\n",
              "          const element = document.querySelector('#df-ba567063-2071-4569-b7c2-f05fee52e49c');\n",
              "          const dataTable =\n",
              "            await google.colab.kernel.invokeFunction('convertToInteractive',\n",
              "                                                     [key], {});\n",
              "          if (!dataTable) return;\n",
              "\n",
              "          const docLinkHtml = 'Like what you see? Visit the ' +\n",
              "            '<a target=\"_blank\" href=https://colab.research.google.com/notebooks/data_table.ipynb>data table notebook</a>'\n",
              "            + ' to learn more about interactive tables.';\n",
              "          element.innerHTML = '';\n",
              "          dataTable['output_type'] = 'display_data';\n",
              "          await google.colab.output.renderOutput(dataTable, element);\n",
              "          const docLink = document.createElement('div');\n",
              "          docLink.innerHTML = docLinkHtml;\n",
              "          element.appendChild(docLink);\n",
              "        }\n",
              "      </script>\n",
              "    </div>\n",
              "  </div>\n",
              "  "
            ]
          },
          "metadata": {},
          "execution_count": 22
        }
      ]
    },
    {
      "cell_type": "code",
      "source": [
        "df.info()"
      ],
      "metadata": {
        "colab": {
          "base_uri": "https://localhost:8080/"
        },
        "id": "V9OI8Lr_oUh6",
        "outputId": "533cfb59-d2a5-496f-caa1-53c80a380dc8"
      },
      "execution_count": 23,
      "outputs": [
        {
          "output_type": "stream",
          "name": "stdout",
          "text": [
            "<class 'pandas.core.frame.DataFrame'>\n",
            "RangeIndex: 4726 entries, 0 to 4725\n",
            "Data columns (total 11 columns):\n",
            " #   Column             Non-Null Count  Dtype  \n",
            "---  ------             --------------  -----  \n",
            " 0   index              4726 non-null   int64  \n",
            " 1   id                 4726 non-null   int64  \n",
            " 2   title              4726 non-null   object \n",
            " 3   genres             4726 non-null   object \n",
            " 4   original_language  4726 non-null   object \n",
            " 5   overview           4726 non-null   object \n",
            " 6   release_date       4726 non-null   object \n",
            " 7   vote_count         4726 non-null   float64\n",
            " 8   credits            4726 non-null   object \n",
            " 9   keywords           4726 non-null   object \n",
            " 10  poster_path        4726 non-null   object \n",
            "dtypes: float64(1), int64(2), object(8)\n",
            "memory usage: 406.3+ KB\n"
          ]
        }
      ]
    },
    {
      "cell_type": "code",
      "source": [
        "df.genres = df.genres.apply(lambda x: \" \".join(x.split(\"-\")))\n",
        "df.keywords = df.keywords.apply(lambda x: \" \".join(x.split(\"-\")))\n",
        "df.credits = df.credits.apply(lambda x: \" \".join(x.replace(\" \", \"\").split(\"-\")[:5]))"
      ],
      "metadata": {
        "id": "bkoeBGqsheDJ"
      },
      "execution_count": 24,
      "outputs": []
    },
    {
      "cell_type": "code",
      "source": [
        "df[\"tags\"] =df.overview + \" \"+ df.genres + \" \"  +df.credits + \" \" +df.keywords + \" \" + df.original_language"
      ],
      "metadata": {
        "id": "QWbOXPDYhiWa"
      },
      "execution_count": 25,
      "outputs": []
    },
    {
      "cell_type": "code",
      "source": [
        "df['tags']"
      ],
      "metadata": {
        "colab": {
          "base_uri": "https://localhost:8080/"
        },
        "id": "2JGD1OwdnsEX",
        "outputId": "2a8ca8aa-68b2-4658-d22f-eafd3d70bf64"
      },
      "execution_count": 26,
      "outputs": [
        {
          "output_type": "execute_result",
          "data": {
            "text/plain": [
              "0       While vacationing at a remote cabin a young gi...\n",
              "1       After a heroic job of successfully landing his...\n",
              "2       Puss in Boots discovers that his passion for a...\n",
              "3       Queen Ramonda Shuri M’Baku Okoye and the Dora ...\n",
              "4       When a lively young family moves in next door ...\n",
              "                              ...                        \n",
              "4721    In this sound-era silent film a tramp falls in...\n",
              "4722    Set in a world where the concept of lying does...\n",
              "4723    While video chatting one night six high school...\n",
              "4724    A collection of magical tales based upon the a...\n",
              "4725    Before being extradited to Africa to stand tri...\n",
              "Name: tags, Length: 4726, dtype: object"
            ]
          },
          "metadata": {},
          "execution_count": 26
        }
      ]
    },
    {
      "cell_type": "code",
      "source": [
        "df_new = df[[\"id\", \"title\", \"tags\", 'poster_path']]"
      ],
      "metadata": {
        "id": "RtaSlf2dhk0G"
      },
      "execution_count": 27,
      "outputs": []
    },
    {
      "cell_type": "code",
      "source": [
        "df_new"
      ],
      "metadata": {
        "colab": {
          "base_uri": "https://localhost:8080/",
          "height": 424
        },
        "id": "poRLx2X6nve2",
        "outputId": "285cc55c-576f-448b-ce2b-43163ba9e6a1"
      },
      "execution_count": 28,
      "outputs": [
        {
          "output_type": "execute_result",
          "data": {
            "text/plain": [
              "          id                           title  \\\n",
              "0     631842              Knock at the Cabin   \n",
              "1     646389                           Plane   \n",
              "2     315162    Puss in Boots: The Last Wish   \n",
              "3     505642  Black Panther: Wakanda Forever   \n",
              "4     937278               A Man Called Otto   \n",
              "...      ...                             ...   \n",
              "4721     901                     City Lights   \n",
              "4722   23082          The Invention of Lying   \n",
              "4723  277685                      Unfriended   \n",
              "4724   12516                          Dreams   \n",
              "4725    2335                          Taxi 4   \n",
              "\n",
              "                                                   tags  \\\n",
              "0     While vacationing at a remote cabin a young gi...   \n",
              "1     After a heroic job of successfully landing his...   \n",
              "2     Puss in Boots discovers that his passion for a...   \n",
              "3     Queen Ramonda Shuri M’Baku Okoye and the Dora ...   \n",
              "4     When a lively young family moves in next door ...   \n",
              "...                                                 ...   \n",
              "4721  In this sound-era silent film a tramp falls in...   \n",
              "4722  Set in a world where the concept of lying does...   \n",
              "4723  While video chatting one night six high school...   \n",
              "4724  A collection of magical tales based upon the a...   \n",
              "4725  Before being extradited to Africa to stand tri...   \n",
              "\n",
              "                           poster_path  \n",
              "0     /dm06L9pxDOL9jNSK4Cb6y139rrG.jpg  \n",
              "1     /qi9r5xBgcc9KTxlOLjssEbDgO0J.jpg  \n",
              "2     /kuf6dutpsT0vSVehic3EZIqkOBt.jpg  \n",
              "3     /sv1xJUazXeYqALzczSZ3O6nkH75.jpg  \n",
              "4     /130H1gap9lFfiTF9iDrqNIkFvC9.jpg  \n",
              "...                                ...  \n",
              "4721  /bXNvzjULc9jrOVhGfjcc64uKZmZ.jpg  \n",
              "4722  /clP8tDZeM9jgnqmu4VBClBDpLtS.jpg  \n",
              "4723  /8byPxREr3BqBNyyij5WHVSOVtYk.jpg  \n",
              "4724  /j0NQsYqnqvhTtBj7vhCa9iKT0NA.jpg  \n",
              "4725  /8OoVXQo23kgMw4ooLfi2mDGVfUE.jpg  \n",
              "\n",
              "[4726 rows x 4 columns]"
            ],
            "text/html": [
              "\n",
              "  <div id=\"df-57e73a81-22cc-4603-af0e-ed3ce66c5eca\">\n",
              "    <div class=\"colab-df-container\">\n",
              "      <div>\n",
              "<style scoped>\n",
              "    .dataframe tbody tr th:only-of-type {\n",
              "        vertical-align: middle;\n",
              "    }\n",
              "\n",
              "    .dataframe tbody tr th {\n",
              "        vertical-align: top;\n",
              "    }\n",
              "\n",
              "    .dataframe thead th {\n",
              "        text-align: right;\n",
              "    }\n",
              "</style>\n",
              "<table border=\"1\" class=\"dataframe\">\n",
              "  <thead>\n",
              "    <tr style=\"text-align: right;\">\n",
              "      <th></th>\n",
              "      <th>id</th>\n",
              "      <th>title</th>\n",
              "      <th>tags</th>\n",
              "      <th>poster_path</th>\n",
              "    </tr>\n",
              "  </thead>\n",
              "  <tbody>\n",
              "    <tr>\n",
              "      <th>0</th>\n",
              "      <td>631842</td>\n",
              "      <td>Knock at the Cabin</td>\n",
              "      <td>While vacationing at a remote cabin a young gi...</td>\n",
              "      <td>/dm06L9pxDOL9jNSK4Cb6y139rrG.jpg</td>\n",
              "    </tr>\n",
              "    <tr>\n",
              "      <th>1</th>\n",
              "      <td>646389</td>\n",
              "      <td>Plane</td>\n",
              "      <td>After a heroic job of successfully landing his...</td>\n",
              "      <td>/qi9r5xBgcc9KTxlOLjssEbDgO0J.jpg</td>\n",
              "    </tr>\n",
              "    <tr>\n",
              "      <th>2</th>\n",
              "      <td>315162</td>\n",
              "      <td>Puss in Boots: The Last Wish</td>\n",
              "      <td>Puss in Boots discovers that his passion for a...</td>\n",
              "      <td>/kuf6dutpsT0vSVehic3EZIqkOBt.jpg</td>\n",
              "    </tr>\n",
              "    <tr>\n",
              "      <th>3</th>\n",
              "      <td>505642</td>\n",
              "      <td>Black Panther: Wakanda Forever</td>\n",
              "      <td>Queen Ramonda Shuri M’Baku Okoye and the Dora ...</td>\n",
              "      <td>/sv1xJUazXeYqALzczSZ3O6nkH75.jpg</td>\n",
              "    </tr>\n",
              "    <tr>\n",
              "      <th>4</th>\n",
              "      <td>937278</td>\n",
              "      <td>A Man Called Otto</td>\n",
              "      <td>When a lively young family moves in next door ...</td>\n",
              "      <td>/130H1gap9lFfiTF9iDrqNIkFvC9.jpg</td>\n",
              "    </tr>\n",
              "    <tr>\n",
              "      <th>...</th>\n",
              "      <td>...</td>\n",
              "      <td>...</td>\n",
              "      <td>...</td>\n",
              "      <td>...</td>\n",
              "    </tr>\n",
              "    <tr>\n",
              "      <th>4721</th>\n",
              "      <td>901</td>\n",
              "      <td>City Lights</td>\n",
              "      <td>In this sound-era silent film a tramp falls in...</td>\n",
              "      <td>/bXNvzjULc9jrOVhGfjcc64uKZmZ.jpg</td>\n",
              "    </tr>\n",
              "    <tr>\n",
              "      <th>4722</th>\n",
              "      <td>23082</td>\n",
              "      <td>The Invention of Lying</td>\n",
              "      <td>Set in a world where the concept of lying does...</td>\n",
              "      <td>/clP8tDZeM9jgnqmu4VBClBDpLtS.jpg</td>\n",
              "    </tr>\n",
              "    <tr>\n",
              "      <th>4723</th>\n",
              "      <td>277685</td>\n",
              "      <td>Unfriended</td>\n",
              "      <td>While video chatting one night six high school...</td>\n",
              "      <td>/8byPxREr3BqBNyyij5WHVSOVtYk.jpg</td>\n",
              "    </tr>\n",
              "    <tr>\n",
              "      <th>4724</th>\n",
              "      <td>12516</td>\n",
              "      <td>Dreams</td>\n",
              "      <td>A collection of magical tales based upon the a...</td>\n",
              "      <td>/j0NQsYqnqvhTtBj7vhCa9iKT0NA.jpg</td>\n",
              "    </tr>\n",
              "    <tr>\n",
              "      <th>4725</th>\n",
              "      <td>2335</td>\n",
              "      <td>Taxi 4</td>\n",
              "      <td>Before being extradited to Africa to stand tri...</td>\n",
              "      <td>/8OoVXQo23kgMw4ooLfi2mDGVfUE.jpg</td>\n",
              "    </tr>\n",
              "  </tbody>\n",
              "</table>\n",
              "<p>4726 rows × 4 columns</p>\n",
              "</div>\n",
              "      <button class=\"colab-df-convert\" onclick=\"convertToInteractive('df-57e73a81-22cc-4603-af0e-ed3ce66c5eca')\"\n",
              "              title=\"Convert this dataframe to an interactive table.\"\n",
              "              style=\"display:none;\">\n",
              "        \n",
              "  <svg xmlns=\"http://www.w3.org/2000/svg\" height=\"24px\"viewBox=\"0 0 24 24\"\n",
              "       width=\"24px\">\n",
              "    <path d=\"M0 0h24v24H0V0z\" fill=\"none\"/>\n",
              "    <path d=\"M18.56 5.44l.94 2.06.94-2.06 2.06-.94-2.06-.94-.94-2.06-.94 2.06-2.06.94zm-11 1L8.5 8.5l.94-2.06 2.06-.94-2.06-.94L8.5 2.5l-.94 2.06-2.06.94zm10 10l.94 2.06.94-2.06 2.06-.94-2.06-.94-.94-2.06-.94 2.06-2.06.94z\"/><path d=\"M17.41 7.96l-1.37-1.37c-.4-.4-.92-.59-1.43-.59-.52 0-1.04.2-1.43.59L10.3 9.45l-7.72 7.72c-.78.78-.78 2.05 0 2.83L4 21.41c.39.39.9.59 1.41.59.51 0 1.02-.2 1.41-.59l7.78-7.78 2.81-2.81c.8-.78.8-2.07 0-2.86zM5.41 20L4 18.59l7.72-7.72 1.47 1.35L5.41 20z\"/>\n",
              "  </svg>\n",
              "      </button>\n",
              "      \n",
              "  <style>\n",
              "    .colab-df-container {\n",
              "      display:flex;\n",
              "      flex-wrap:wrap;\n",
              "      gap: 12px;\n",
              "    }\n",
              "\n",
              "    .colab-df-convert {\n",
              "      background-color: #E8F0FE;\n",
              "      border: none;\n",
              "      border-radius: 50%;\n",
              "      cursor: pointer;\n",
              "      display: none;\n",
              "      fill: #1967D2;\n",
              "      height: 32px;\n",
              "      padding: 0 0 0 0;\n",
              "      width: 32px;\n",
              "    }\n",
              "\n",
              "    .colab-df-convert:hover {\n",
              "      background-color: #E2EBFA;\n",
              "      box-shadow: 0px 1px 2px rgba(60, 64, 67, 0.3), 0px 1px 3px 1px rgba(60, 64, 67, 0.15);\n",
              "      fill: #174EA6;\n",
              "    }\n",
              "\n",
              "    [theme=dark] .colab-df-convert {\n",
              "      background-color: #3B4455;\n",
              "      fill: #D2E3FC;\n",
              "    }\n",
              "\n",
              "    [theme=dark] .colab-df-convert:hover {\n",
              "      background-color: #434B5C;\n",
              "      box-shadow: 0px 1px 3px 1px rgba(0, 0, 0, 0.15);\n",
              "      filter: drop-shadow(0px 1px 2px rgba(0, 0, 0, 0.3));\n",
              "      fill: #FFFFFF;\n",
              "    }\n",
              "  </style>\n",
              "\n",
              "      <script>\n",
              "        const buttonEl =\n",
              "          document.querySelector('#df-57e73a81-22cc-4603-af0e-ed3ce66c5eca button.colab-df-convert');\n",
              "        buttonEl.style.display =\n",
              "          google.colab.kernel.accessAllowed ? 'block' : 'none';\n",
              "\n",
              "        async function convertToInteractive(key) {\n",
              "          const element = document.querySelector('#df-57e73a81-22cc-4603-af0e-ed3ce66c5eca');\n",
              "          const dataTable =\n",
              "            await google.colab.kernel.invokeFunction('convertToInteractive',\n",
              "                                                     [key], {});\n",
              "          if (!dataTable) return;\n",
              "\n",
              "          const docLinkHtml = 'Like what you see? Visit the ' +\n",
              "            '<a target=\"_blank\" href=https://colab.research.google.com/notebooks/data_table.ipynb>data table notebook</a>'\n",
              "            + ' to learn more about interactive tables.';\n",
              "          element.innerHTML = '';\n",
              "          dataTable['output_type'] = 'display_data';\n",
              "          await google.colab.output.renderOutput(dataTable, element);\n",
              "          const docLink = document.createElement('div');\n",
              "          docLink.innerHTML = docLinkHtml;\n",
              "          element.appendChild(docLink);\n",
              "        }\n",
              "      </script>\n",
              "    </div>\n",
              "  </div>\n",
              "  "
            ]
          },
          "metadata": {},
          "execution_count": 28
        }
      ]
    },
    {
      "cell_type": "code",
      "source": [
        "df_new.tags = df_new.tags.apply(lambda x:x.lower())"
      ],
      "metadata": {
        "colab": {
          "base_uri": "https://localhost:8080/"
        },
        "id": "BGHuRUedhmle",
        "outputId": "64e0be56-9c52-49b7-9e9f-fb6f394a4544"
      },
      "execution_count": 29,
      "outputs": [
        {
          "output_type": "stream",
          "name": "stderr",
          "text": [
            "<ipython-input-29-99a8cb577326>:1: SettingWithCopyWarning: \n",
            "A value is trying to be set on a copy of a slice from a DataFrame.\n",
            "Try using .loc[row_indexer,col_indexer] = value instead\n",
            "\n",
            "See the caveats in the documentation: https://pandas.pydata.org/pandas-docs/stable/user_guide/indexing.html#returning-a-view-versus-a-copy\n",
            "  df_new.tags = df_new.tags.apply(lambda x:x.lower())\n"
          ]
        }
      ]
    },
    {
      "cell_type": "code",
      "source": [
        "df_new"
      ],
      "metadata": {
        "colab": {
          "base_uri": "https://localhost:8080/",
          "height": 424
        },
        "id": "tHbcYQQGnx6E",
        "outputId": "647d4968-131c-4ed2-bb9c-a2aafa98d97c"
      },
      "execution_count": 30,
      "outputs": [
        {
          "output_type": "execute_result",
          "data": {
            "text/plain": [
              "          id                           title  \\\n",
              "0     631842              Knock at the Cabin   \n",
              "1     646389                           Plane   \n",
              "2     315162    Puss in Boots: The Last Wish   \n",
              "3     505642  Black Panther: Wakanda Forever   \n",
              "4     937278               A Man Called Otto   \n",
              "...      ...                             ...   \n",
              "4721     901                     City Lights   \n",
              "4722   23082          The Invention of Lying   \n",
              "4723  277685                      Unfriended   \n",
              "4724   12516                          Dreams   \n",
              "4725    2335                          Taxi 4   \n",
              "\n",
              "                                                   tags  \\\n",
              "0     while vacationing at a remote cabin a young gi...   \n",
              "1     after a heroic job of successfully landing his...   \n",
              "2     puss in boots discovers that his passion for a...   \n",
              "3     queen ramonda shuri m’baku okoye and the dora ...   \n",
              "4     when a lively young family moves in next door ...   \n",
              "...                                                 ...   \n",
              "4721  in this sound-era silent film a tramp falls in...   \n",
              "4722  set in a world where the concept of lying does...   \n",
              "4723  while video chatting one night six high school...   \n",
              "4724  a collection of magical tales based upon the a...   \n",
              "4725  before being extradited to africa to stand tri...   \n",
              "\n",
              "                           poster_path  \n",
              "0     /dm06L9pxDOL9jNSK4Cb6y139rrG.jpg  \n",
              "1     /qi9r5xBgcc9KTxlOLjssEbDgO0J.jpg  \n",
              "2     /kuf6dutpsT0vSVehic3EZIqkOBt.jpg  \n",
              "3     /sv1xJUazXeYqALzczSZ3O6nkH75.jpg  \n",
              "4     /130H1gap9lFfiTF9iDrqNIkFvC9.jpg  \n",
              "...                                ...  \n",
              "4721  /bXNvzjULc9jrOVhGfjcc64uKZmZ.jpg  \n",
              "4722  /clP8tDZeM9jgnqmu4VBClBDpLtS.jpg  \n",
              "4723  /8byPxREr3BqBNyyij5WHVSOVtYk.jpg  \n",
              "4724  /j0NQsYqnqvhTtBj7vhCa9iKT0NA.jpg  \n",
              "4725  /8OoVXQo23kgMw4ooLfi2mDGVfUE.jpg  \n",
              "\n",
              "[4726 rows x 4 columns]"
            ],
            "text/html": [
              "\n",
              "  <div id=\"df-f62c984a-fcce-4646-8c4e-e908f66be1ac\">\n",
              "    <div class=\"colab-df-container\">\n",
              "      <div>\n",
              "<style scoped>\n",
              "    .dataframe tbody tr th:only-of-type {\n",
              "        vertical-align: middle;\n",
              "    }\n",
              "\n",
              "    .dataframe tbody tr th {\n",
              "        vertical-align: top;\n",
              "    }\n",
              "\n",
              "    .dataframe thead th {\n",
              "        text-align: right;\n",
              "    }\n",
              "</style>\n",
              "<table border=\"1\" class=\"dataframe\">\n",
              "  <thead>\n",
              "    <tr style=\"text-align: right;\">\n",
              "      <th></th>\n",
              "      <th>id</th>\n",
              "      <th>title</th>\n",
              "      <th>tags</th>\n",
              "      <th>poster_path</th>\n",
              "    </tr>\n",
              "  </thead>\n",
              "  <tbody>\n",
              "    <tr>\n",
              "      <th>0</th>\n",
              "      <td>631842</td>\n",
              "      <td>Knock at the Cabin</td>\n",
              "      <td>while vacationing at a remote cabin a young gi...</td>\n",
              "      <td>/dm06L9pxDOL9jNSK4Cb6y139rrG.jpg</td>\n",
              "    </tr>\n",
              "    <tr>\n",
              "      <th>1</th>\n",
              "      <td>646389</td>\n",
              "      <td>Plane</td>\n",
              "      <td>after a heroic job of successfully landing his...</td>\n",
              "      <td>/qi9r5xBgcc9KTxlOLjssEbDgO0J.jpg</td>\n",
              "    </tr>\n",
              "    <tr>\n",
              "      <th>2</th>\n",
              "      <td>315162</td>\n",
              "      <td>Puss in Boots: The Last Wish</td>\n",
              "      <td>puss in boots discovers that his passion for a...</td>\n",
              "      <td>/kuf6dutpsT0vSVehic3EZIqkOBt.jpg</td>\n",
              "    </tr>\n",
              "    <tr>\n",
              "      <th>3</th>\n",
              "      <td>505642</td>\n",
              "      <td>Black Panther: Wakanda Forever</td>\n",
              "      <td>queen ramonda shuri m’baku okoye and the dora ...</td>\n",
              "      <td>/sv1xJUazXeYqALzczSZ3O6nkH75.jpg</td>\n",
              "    </tr>\n",
              "    <tr>\n",
              "      <th>4</th>\n",
              "      <td>937278</td>\n",
              "      <td>A Man Called Otto</td>\n",
              "      <td>when a lively young family moves in next door ...</td>\n",
              "      <td>/130H1gap9lFfiTF9iDrqNIkFvC9.jpg</td>\n",
              "    </tr>\n",
              "    <tr>\n",
              "      <th>...</th>\n",
              "      <td>...</td>\n",
              "      <td>...</td>\n",
              "      <td>...</td>\n",
              "      <td>...</td>\n",
              "    </tr>\n",
              "    <tr>\n",
              "      <th>4721</th>\n",
              "      <td>901</td>\n",
              "      <td>City Lights</td>\n",
              "      <td>in this sound-era silent film a tramp falls in...</td>\n",
              "      <td>/bXNvzjULc9jrOVhGfjcc64uKZmZ.jpg</td>\n",
              "    </tr>\n",
              "    <tr>\n",
              "      <th>4722</th>\n",
              "      <td>23082</td>\n",
              "      <td>The Invention of Lying</td>\n",
              "      <td>set in a world where the concept of lying does...</td>\n",
              "      <td>/clP8tDZeM9jgnqmu4VBClBDpLtS.jpg</td>\n",
              "    </tr>\n",
              "    <tr>\n",
              "      <th>4723</th>\n",
              "      <td>277685</td>\n",
              "      <td>Unfriended</td>\n",
              "      <td>while video chatting one night six high school...</td>\n",
              "      <td>/8byPxREr3BqBNyyij5WHVSOVtYk.jpg</td>\n",
              "    </tr>\n",
              "    <tr>\n",
              "      <th>4724</th>\n",
              "      <td>12516</td>\n",
              "      <td>Dreams</td>\n",
              "      <td>a collection of magical tales based upon the a...</td>\n",
              "      <td>/j0NQsYqnqvhTtBj7vhCa9iKT0NA.jpg</td>\n",
              "    </tr>\n",
              "    <tr>\n",
              "      <th>4725</th>\n",
              "      <td>2335</td>\n",
              "      <td>Taxi 4</td>\n",
              "      <td>before being extradited to africa to stand tri...</td>\n",
              "      <td>/8OoVXQo23kgMw4ooLfi2mDGVfUE.jpg</td>\n",
              "    </tr>\n",
              "  </tbody>\n",
              "</table>\n",
              "<p>4726 rows × 4 columns</p>\n",
              "</div>\n",
              "      <button class=\"colab-df-convert\" onclick=\"convertToInteractive('df-f62c984a-fcce-4646-8c4e-e908f66be1ac')\"\n",
              "              title=\"Convert this dataframe to an interactive table.\"\n",
              "              style=\"display:none;\">\n",
              "        \n",
              "  <svg xmlns=\"http://www.w3.org/2000/svg\" height=\"24px\"viewBox=\"0 0 24 24\"\n",
              "       width=\"24px\">\n",
              "    <path d=\"M0 0h24v24H0V0z\" fill=\"none\"/>\n",
              "    <path d=\"M18.56 5.44l.94 2.06.94-2.06 2.06-.94-2.06-.94-.94-2.06-.94 2.06-2.06.94zm-11 1L8.5 8.5l.94-2.06 2.06-.94-2.06-.94L8.5 2.5l-.94 2.06-2.06.94zm10 10l.94 2.06.94-2.06 2.06-.94-2.06-.94-.94-2.06-.94 2.06-2.06.94z\"/><path d=\"M17.41 7.96l-1.37-1.37c-.4-.4-.92-.59-1.43-.59-.52 0-1.04.2-1.43.59L10.3 9.45l-7.72 7.72c-.78.78-.78 2.05 0 2.83L4 21.41c.39.39.9.59 1.41.59.51 0 1.02-.2 1.41-.59l7.78-7.78 2.81-2.81c.8-.78.8-2.07 0-2.86zM5.41 20L4 18.59l7.72-7.72 1.47 1.35L5.41 20z\"/>\n",
              "  </svg>\n",
              "      </button>\n",
              "      \n",
              "  <style>\n",
              "    .colab-df-container {\n",
              "      display:flex;\n",
              "      flex-wrap:wrap;\n",
              "      gap: 12px;\n",
              "    }\n",
              "\n",
              "    .colab-df-convert {\n",
              "      background-color: #E8F0FE;\n",
              "      border: none;\n",
              "      border-radius: 50%;\n",
              "      cursor: pointer;\n",
              "      display: none;\n",
              "      fill: #1967D2;\n",
              "      height: 32px;\n",
              "      padding: 0 0 0 0;\n",
              "      width: 32px;\n",
              "    }\n",
              "\n",
              "    .colab-df-convert:hover {\n",
              "      background-color: #E2EBFA;\n",
              "      box-shadow: 0px 1px 2px rgba(60, 64, 67, 0.3), 0px 1px 3px 1px rgba(60, 64, 67, 0.15);\n",
              "      fill: #174EA6;\n",
              "    }\n",
              "\n",
              "    [theme=dark] .colab-df-convert {\n",
              "      background-color: #3B4455;\n",
              "      fill: #D2E3FC;\n",
              "    }\n",
              "\n",
              "    [theme=dark] .colab-df-convert:hover {\n",
              "      background-color: #434B5C;\n",
              "      box-shadow: 0px 1px 3px 1px rgba(0, 0, 0, 0.15);\n",
              "      filter: drop-shadow(0px 1px 2px rgba(0, 0, 0, 0.3));\n",
              "      fill: #FFFFFF;\n",
              "    }\n",
              "  </style>\n",
              "\n",
              "      <script>\n",
              "        const buttonEl =\n",
              "          document.querySelector('#df-f62c984a-fcce-4646-8c4e-e908f66be1ac button.colab-df-convert');\n",
              "        buttonEl.style.display =\n",
              "          google.colab.kernel.accessAllowed ? 'block' : 'none';\n",
              "\n",
              "        async function convertToInteractive(key) {\n",
              "          const element = document.querySelector('#df-f62c984a-fcce-4646-8c4e-e908f66be1ac');\n",
              "          const dataTable =\n",
              "            await google.colab.kernel.invokeFunction('convertToInteractive',\n",
              "                                                     [key], {});\n",
              "          if (!dataTable) return;\n",
              "\n",
              "          const docLinkHtml = 'Like what you see? Visit the ' +\n",
              "            '<a target=\"_blank\" href=https://colab.research.google.com/notebooks/data_table.ipynb>data table notebook</a>'\n",
              "            + ' to learn more about interactive tables.';\n",
              "          element.innerHTML = '';\n",
              "          dataTable['output_type'] = 'display_data';\n",
              "          await google.colab.output.renderOutput(dataTable, element);\n",
              "          const docLink = document.createElement('div');\n",
              "          docLink.innerHTML = docLinkHtml;\n",
              "          element.appendChild(docLink);\n",
              "        }\n",
              "      </script>\n",
              "    </div>\n",
              "  </div>\n",
              "  "
            ]
          },
          "metadata": {},
          "execution_count": 30
        }
      ]
    },
    {
      "cell_type": "code",
      "source": [
        "df_new.tags"
      ],
      "metadata": {
        "colab": {
          "base_uri": "https://localhost:8080/"
        },
        "id": "xJzzeXJUn2H2",
        "outputId": "93a556be-55ca-4288-883c-6b340ec1e9a6"
      },
      "execution_count": 31,
      "outputs": [
        {
          "output_type": "execute_result",
          "data": {
            "text/plain": [
              "0       while vacationing at a remote cabin a young gi...\n",
              "1       after a heroic job of successfully landing his...\n",
              "2       puss in boots discovers that his passion for a...\n",
              "3       queen ramonda shuri m’baku okoye and the dora ...\n",
              "4       when a lively young family moves in next door ...\n",
              "                              ...                        \n",
              "4721    in this sound-era silent film a tramp falls in...\n",
              "4722    set in a world where the concept of lying does...\n",
              "4723    while video chatting one night six high school...\n",
              "4724    a collection of magical tales based upon the a...\n",
              "4725    before being extradited to africa to stand tri...\n",
              "Name: tags, Length: 4726, dtype: object"
            ]
          },
          "metadata": {},
          "execution_count": 31
        }
      ]
    },
    {
      "cell_type": "code",
      "source": [
        "df_new.tags[0]"
      ],
      "metadata": {
        "colab": {
          "base_uri": "https://localhost:8080/",
          "height": 72
        },
        "id": "Rej32U86iHn8",
        "outputId": "28792a51-f68c-48be-d806-60cf03c5bae5"
      },
      "execution_count": 32,
      "outputs": [
        {
          "output_type": "execute_result",
          "data": {
            "text/plain": [
              "'while vacationing at a remote cabin a young girl and her two fathers are taken hostage by four armed strangers who demand that the family make an unthinkable choice to avert the apocalypse. with limited access to the outside world the family must decide what they believe before all is lost. horror mystery thriller davebautista jonathangroff benaldridge kristencui nikkiamuka based on novel or book sacrifice cabin faith end of the world apocalypse home invasion lgbt aftercreditsstinger adopted child adopted daughter shot on film gay same sex relationship religious symbolism en'"
            ],
            "application/vnd.google.colaboratory.intrinsic+json": {
              "type": "string"
            }
          },
          "metadata": {},
          "execution_count": 32
        }
      ]
    },
    {
      "cell_type": "code",
      "source": [
        "df_new.head()"
      ],
      "metadata": {
        "colab": {
          "base_uri": "https://localhost:8080/",
          "height": 206
        },
        "id": "IdmmI806ia-G",
        "outputId": "a31543e1-7d72-4b42-bcd3-246ec681ed6b"
      },
      "execution_count": 33,
      "outputs": [
        {
          "output_type": "execute_result",
          "data": {
            "text/plain": [
              "       id                           title  \\\n",
              "0  631842              Knock at the Cabin   \n",
              "1  646389                           Plane   \n",
              "2  315162    Puss in Boots: The Last Wish   \n",
              "3  505642  Black Panther: Wakanda Forever   \n",
              "4  937278               A Man Called Otto   \n",
              "\n",
              "                                                tags  \\\n",
              "0  while vacationing at a remote cabin a young gi...   \n",
              "1  after a heroic job of successfully landing his...   \n",
              "2  puss in boots discovers that his passion for a...   \n",
              "3  queen ramonda shuri m’baku okoye and the dora ...   \n",
              "4  when a lively young family moves in next door ...   \n",
              "\n",
              "                        poster_path  \n",
              "0  /dm06L9pxDOL9jNSK4Cb6y139rrG.jpg  \n",
              "1  /qi9r5xBgcc9KTxlOLjssEbDgO0J.jpg  \n",
              "2  /kuf6dutpsT0vSVehic3EZIqkOBt.jpg  \n",
              "3  /sv1xJUazXeYqALzczSZ3O6nkH75.jpg  \n",
              "4  /130H1gap9lFfiTF9iDrqNIkFvC9.jpg  "
            ],
            "text/html": [
              "\n",
              "  <div id=\"df-be29fb57-1c40-4bd6-bd7f-eca8e351f67e\">\n",
              "    <div class=\"colab-df-container\">\n",
              "      <div>\n",
              "<style scoped>\n",
              "    .dataframe tbody tr th:only-of-type {\n",
              "        vertical-align: middle;\n",
              "    }\n",
              "\n",
              "    .dataframe tbody tr th {\n",
              "        vertical-align: top;\n",
              "    }\n",
              "\n",
              "    .dataframe thead th {\n",
              "        text-align: right;\n",
              "    }\n",
              "</style>\n",
              "<table border=\"1\" class=\"dataframe\">\n",
              "  <thead>\n",
              "    <tr style=\"text-align: right;\">\n",
              "      <th></th>\n",
              "      <th>id</th>\n",
              "      <th>title</th>\n",
              "      <th>tags</th>\n",
              "      <th>poster_path</th>\n",
              "    </tr>\n",
              "  </thead>\n",
              "  <tbody>\n",
              "    <tr>\n",
              "      <th>0</th>\n",
              "      <td>631842</td>\n",
              "      <td>Knock at the Cabin</td>\n",
              "      <td>while vacationing at a remote cabin a young gi...</td>\n",
              "      <td>/dm06L9pxDOL9jNSK4Cb6y139rrG.jpg</td>\n",
              "    </tr>\n",
              "    <tr>\n",
              "      <th>1</th>\n",
              "      <td>646389</td>\n",
              "      <td>Plane</td>\n",
              "      <td>after a heroic job of successfully landing his...</td>\n",
              "      <td>/qi9r5xBgcc9KTxlOLjssEbDgO0J.jpg</td>\n",
              "    </tr>\n",
              "    <tr>\n",
              "      <th>2</th>\n",
              "      <td>315162</td>\n",
              "      <td>Puss in Boots: The Last Wish</td>\n",
              "      <td>puss in boots discovers that his passion for a...</td>\n",
              "      <td>/kuf6dutpsT0vSVehic3EZIqkOBt.jpg</td>\n",
              "    </tr>\n",
              "    <tr>\n",
              "      <th>3</th>\n",
              "      <td>505642</td>\n",
              "      <td>Black Panther: Wakanda Forever</td>\n",
              "      <td>queen ramonda shuri m’baku okoye and the dora ...</td>\n",
              "      <td>/sv1xJUazXeYqALzczSZ3O6nkH75.jpg</td>\n",
              "    </tr>\n",
              "    <tr>\n",
              "      <th>4</th>\n",
              "      <td>937278</td>\n",
              "      <td>A Man Called Otto</td>\n",
              "      <td>when a lively young family moves in next door ...</td>\n",
              "      <td>/130H1gap9lFfiTF9iDrqNIkFvC9.jpg</td>\n",
              "    </tr>\n",
              "  </tbody>\n",
              "</table>\n",
              "</div>\n",
              "      <button class=\"colab-df-convert\" onclick=\"convertToInteractive('df-be29fb57-1c40-4bd6-bd7f-eca8e351f67e')\"\n",
              "              title=\"Convert this dataframe to an interactive table.\"\n",
              "              style=\"display:none;\">\n",
              "        \n",
              "  <svg xmlns=\"http://www.w3.org/2000/svg\" height=\"24px\"viewBox=\"0 0 24 24\"\n",
              "       width=\"24px\">\n",
              "    <path d=\"M0 0h24v24H0V0z\" fill=\"none\"/>\n",
              "    <path d=\"M18.56 5.44l.94 2.06.94-2.06 2.06-.94-2.06-.94-.94-2.06-.94 2.06-2.06.94zm-11 1L8.5 8.5l.94-2.06 2.06-.94-2.06-.94L8.5 2.5l-.94 2.06-2.06.94zm10 10l.94 2.06.94-2.06 2.06-.94-2.06-.94-.94-2.06-.94 2.06-2.06.94z\"/><path d=\"M17.41 7.96l-1.37-1.37c-.4-.4-.92-.59-1.43-.59-.52 0-1.04.2-1.43.59L10.3 9.45l-7.72 7.72c-.78.78-.78 2.05 0 2.83L4 21.41c.39.39.9.59 1.41.59.51 0 1.02-.2 1.41-.59l7.78-7.78 2.81-2.81c.8-.78.8-2.07 0-2.86zM5.41 20L4 18.59l7.72-7.72 1.47 1.35L5.41 20z\"/>\n",
              "  </svg>\n",
              "      </button>\n",
              "      \n",
              "  <style>\n",
              "    .colab-df-container {\n",
              "      display:flex;\n",
              "      flex-wrap:wrap;\n",
              "      gap: 12px;\n",
              "    }\n",
              "\n",
              "    .colab-df-convert {\n",
              "      background-color: #E8F0FE;\n",
              "      border: none;\n",
              "      border-radius: 50%;\n",
              "      cursor: pointer;\n",
              "      display: none;\n",
              "      fill: #1967D2;\n",
              "      height: 32px;\n",
              "      padding: 0 0 0 0;\n",
              "      width: 32px;\n",
              "    }\n",
              "\n",
              "    .colab-df-convert:hover {\n",
              "      background-color: #E2EBFA;\n",
              "      box-shadow: 0px 1px 2px rgba(60, 64, 67, 0.3), 0px 1px 3px 1px rgba(60, 64, 67, 0.15);\n",
              "      fill: #174EA6;\n",
              "    }\n",
              "\n",
              "    [theme=dark] .colab-df-convert {\n",
              "      background-color: #3B4455;\n",
              "      fill: #D2E3FC;\n",
              "    }\n",
              "\n",
              "    [theme=dark] .colab-df-convert:hover {\n",
              "      background-color: #434B5C;\n",
              "      box-shadow: 0px 1px 3px 1px rgba(0, 0, 0, 0.15);\n",
              "      filter: drop-shadow(0px 1px 2px rgba(0, 0, 0, 0.3));\n",
              "      fill: #FFFFFF;\n",
              "    }\n",
              "  </style>\n",
              "\n",
              "      <script>\n",
              "        const buttonEl =\n",
              "          document.querySelector('#df-be29fb57-1c40-4bd6-bd7f-eca8e351f67e button.colab-df-convert');\n",
              "        buttonEl.style.display =\n",
              "          google.colab.kernel.accessAllowed ? 'block' : 'none';\n",
              "\n",
              "        async function convertToInteractive(key) {\n",
              "          const element = document.querySelector('#df-be29fb57-1c40-4bd6-bd7f-eca8e351f67e');\n",
              "          const dataTable =\n",
              "            await google.colab.kernel.invokeFunction('convertToInteractive',\n",
              "                                                     [key], {});\n",
              "          if (!dataTable) return;\n",
              "\n",
              "          const docLinkHtml = 'Like what you see? Visit the ' +\n",
              "            '<a target=\"_blank\" href=https://colab.research.google.com/notebooks/data_table.ipynb>data table notebook</a>'\n",
              "            + ' to learn more about interactive tables.';\n",
              "          element.innerHTML = '';\n",
              "          dataTable['output_type'] = 'display_data';\n",
              "          await google.colab.output.renderOutput(dataTable, element);\n",
              "          const docLink = document.createElement('div');\n",
              "          docLink.innerHTML = docLinkHtml;\n",
              "          element.appendChild(docLink);\n",
              "        }\n",
              "      </script>\n",
              "    </div>\n",
              "  </div>\n",
              "  "
            ]
          },
          "metadata": {},
          "execution_count": 33
        }
      ]
    },
    {
      "cell_type": "code",
      "source": [
        "prts = PorterStemmer()"
      ],
      "metadata": {
        "id": "29PJNYiQidrG"
      },
      "execution_count": 34,
      "outputs": []
    },
    {
      "cell_type": "code",
      "source": [
        "def stem(text):\n",
        "    y = []\n",
        "    for i in text.split():\n",
        "        y.append(prts.stem(i))\n",
        "    \n",
        "    return \" \".join(y)    "
      ],
      "metadata": {
        "id": "A46hoPdYjaEc"
      },
      "execution_count": 35,
      "outputs": []
    },
    {
      "cell_type": "code",
      "source": [
        "df_new[\"tags\"] = df_new[\"tags\"].apply(stem)"
      ],
      "metadata": {
        "colab": {
          "base_uri": "https://localhost:8080/"
        },
        "id": "XNWIF4xIjd7o",
        "outputId": "3bf1c95a-ac54-4503-ec2c-fd56708d2d23"
      },
      "execution_count": 36,
      "outputs": [
        {
          "output_type": "stream",
          "name": "stderr",
          "text": [
            "<ipython-input-36-6e8e4450f3ce>:1: SettingWithCopyWarning: \n",
            "A value is trying to be set on a copy of a slice from a DataFrame.\n",
            "Try using .loc[row_indexer,col_indexer] = value instead\n",
            "\n",
            "See the caveats in the documentation: https://pandas.pydata.org/pandas-docs/stable/user_guide/indexing.html#returning-a-view-versus-a-copy\n",
            "  df_new[\"tags\"] = df_new[\"tags\"].apply(stem)\n"
          ]
        }
      ]
    },
    {
      "cell_type": "code",
      "source": [
        "countvec = CountVectorizer(stop_words=\"english\",max_features=5000)"
      ],
      "metadata": {
        "id": "BJqNgiqTji3r"
      },
      "execution_count": 37,
      "outputs": []
    },
    {
      "cell_type": "code",
      "source": [
        "countvec"
      ],
      "metadata": {
        "colab": {
          "base_uri": "https://localhost:8080/",
          "height": 75
        },
        "id": "Mhvw5r_nn-yS",
        "outputId": "2418a9e7-c285-486b-db1a-278ad17c06a2"
      },
      "execution_count": 38,
      "outputs": [
        {
          "output_type": "execute_result",
          "data": {
            "text/plain": [
              "CountVectorizer(max_features=5000, stop_words='english')"
            ],
            "text/html": [
              "<style>#sk-container-id-1 {color: black;background-color: white;}#sk-container-id-1 pre{padding: 0;}#sk-container-id-1 div.sk-toggleable {background-color: white;}#sk-container-id-1 label.sk-toggleable__label {cursor: pointer;display: block;width: 100%;margin-bottom: 0;padding: 0.3em;box-sizing: border-box;text-align: center;}#sk-container-id-1 label.sk-toggleable__label-arrow:before {content: \"▸\";float: left;margin-right: 0.25em;color: #696969;}#sk-container-id-1 label.sk-toggleable__label-arrow:hover:before {color: black;}#sk-container-id-1 div.sk-estimator:hover label.sk-toggleable__label-arrow:before {color: black;}#sk-container-id-1 div.sk-toggleable__content {max-height: 0;max-width: 0;overflow: hidden;text-align: left;background-color: #f0f8ff;}#sk-container-id-1 div.sk-toggleable__content pre {margin: 0.2em;color: black;border-radius: 0.25em;background-color: #f0f8ff;}#sk-container-id-1 input.sk-toggleable__control:checked~div.sk-toggleable__content {max-height: 200px;max-width: 100%;overflow: auto;}#sk-container-id-1 input.sk-toggleable__control:checked~label.sk-toggleable__label-arrow:before {content: \"▾\";}#sk-container-id-1 div.sk-estimator input.sk-toggleable__control:checked~label.sk-toggleable__label {background-color: #d4ebff;}#sk-container-id-1 div.sk-label input.sk-toggleable__control:checked~label.sk-toggleable__label {background-color: #d4ebff;}#sk-container-id-1 input.sk-hidden--visually {border: 0;clip: rect(1px 1px 1px 1px);clip: rect(1px, 1px, 1px, 1px);height: 1px;margin: -1px;overflow: hidden;padding: 0;position: absolute;width: 1px;}#sk-container-id-1 div.sk-estimator {font-family: monospace;background-color: #f0f8ff;border: 1px dotted black;border-radius: 0.25em;box-sizing: border-box;margin-bottom: 0.5em;}#sk-container-id-1 div.sk-estimator:hover {background-color: #d4ebff;}#sk-container-id-1 div.sk-parallel-item::after {content: \"\";width: 100%;border-bottom: 1px solid gray;flex-grow: 1;}#sk-container-id-1 div.sk-label:hover label.sk-toggleable__label {background-color: #d4ebff;}#sk-container-id-1 div.sk-serial::before {content: \"\";position: absolute;border-left: 1px solid gray;box-sizing: border-box;top: 0;bottom: 0;left: 50%;z-index: 0;}#sk-container-id-1 div.sk-serial {display: flex;flex-direction: column;align-items: center;background-color: white;padding-right: 0.2em;padding-left: 0.2em;position: relative;}#sk-container-id-1 div.sk-item {position: relative;z-index: 1;}#sk-container-id-1 div.sk-parallel {display: flex;align-items: stretch;justify-content: center;background-color: white;position: relative;}#sk-container-id-1 div.sk-item::before, #sk-container-id-1 div.sk-parallel-item::before {content: \"\";position: absolute;border-left: 1px solid gray;box-sizing: border-box;top: 0;bottom: 0;left: 50%;z-index: -1;}#sk-container-id-1 div.sk-parallel-item {display: flex;flex-direction: column;z-index: 1;position: relative;background-color: white;}#sk-container-id-1 div.sk-parallel-item:first-child::after {align-self: flex-end;width: 50%;}#sk-container-id-1 div.sk-parallel-item:last-child::after {align-self: flex-start;width: 50%;}#sk-container-id-1 div.sk-parallel-item:only-child::after {width: 0;}#sk-container-id-1 div.sk-dashed-wrapped {border: 1px dashed gray;margin: 0 0.4em 0.5em 0.4em;box-sizing: border-box;padding-bottom: 0.4em;background-color: white;}#sk-container-id-1 div.sk-label label {font-family: monospace;font-weight: bold;display: inline-block;line-height: 1.2em;}#sk-container-id-1 div.sk-label-container {text-align: center;}#sk-container-id-1 div.sk-container {/* jupyter's `normalize.less` sets `[hidden] { display: none; }` but bootstrap.min.css set `[hidden] { display: none !important; }` so we also need the `!important` here to be able to override the default hidden behavior on the sphinx rendered scikit-learn.org. See: https://github.com/scikit-learn/scikit-learn/issues/21755 */display: inline-block !important;position: relative;}#sk-container-id-1 div.sk-text-repr-fallback {display: none;}</style><div id=\"sk-container-id-1\" class=\"sk-top-container\"><div class=\"sk-text-repr-fallback\"><pre>CountVectorizer(max_features=5000, stop_words=&#x27;english&#x27;)</pre><b>In a Jupyter environment, please rerun this cell to show the HTML representation or trust the notebook. <br />On GitHub, the HTML representation is unable to render, please try loading this page with nbviewer.org.</b></div><div class=\"sk-container\" hidden><div class=\"sk-item\"><div class=\"sk-estimator sk-toggleable\"><input class=\"sk-toggleable__control sk-hidden--visually\" id=\"sk-estimator-id-1\" type=\"checkbox\" checked><label for=\"sk-estimator-id-1\" class=\"sk-toggleable__label sk-toggleable__label-arrow\">CountVectorizer</label><div class=\"sk-toggleable__content\"><pre>CountVectorizer(max_features=5000, stop_words=&#x27;english&#x27;)</pre></div></div></div></div></div>"
            ]
          },
          "metadata": {},
          "execution_count": 38
        }
      ]
    },
    {
      "cell_type": "code",
      "source": [
        "vect = countvec.fit_transform(df_new[\"tags\"]).toarray()"
      ],
      "metadata": {
        "id": "xkIRP4Wwjs86"
      },
      "execution_count": 39,
      "outputs": []
    },
    {
      "cell_type": "code",
      "source": [
        "vect"
      ],
      "metadata": {
        "colab": {
          "base_uri": "https://localhost:8080/"
        },
        "id": "_GZXPK1XoA32",
        "outputId": "ef3b22d1-ed67-4c0e-c043-e49adba74157"
      },
      "execution_count": 40,
      "outputs": [
        {
          "output_type": "execute_result",
          "data": {
            "text/plain": [
              "array([[0, 0, 0, ..., 0, 0, 0],\n",
              "       [0, 0, 0, ..., 0, 0, 0],\n",
              "       [0, 0, 0, ..., 0, 0, 0],\n",
              "       ...,\n",
              "       [0, 0, 0, ..., 0, 0, 0],\n",
              "       [0, 0, 0, ..., 0, 0, 0],\n",
              "       [0, 0, 0, ..., 0, 0, 0]])"
            ]
          },
          "metadata": {},
          "execution_count": 40
        }
      ]
    },
    {
      "cell_type": "code",
      "source": [
        "countvec.get_feature_names_out()"
      ],
      "metadata": {
        "colab": {
          "base_uri": "https://localhost:8080/"
        },
        "id": "zF6exb2BjzG5",
        "outputId": "5c9cca62-1ada-45e5-e3c4-ae78da4d1a81"
      },
      "execution_count": 41,
      "outputs": [
        {
          "output_type": "execute_result",
          "data": {
            "text/plain": [
              "array(['10', '1000', '11', ..., 'zoo', 'zooeydeschanel', 'zoëkravitz'],\n",
              "      dtype=object)"
            ]
          },
          "metadata": {},
          "execution_count": 41
        }
      ]
    },
    {
      "cell_type": "code",
      "source": [
        "sim = cosine_similarity(vect)"
      ],
      "metadata": {
        "id": "tjES_1Fsj3zF"
      },
      "execution_count": 42,
      "outputs": []
    },
    {
      "cell_type": "code",
      "source": [
        "sim"
      ],
      "metadata": {
        "colab": {
          "base_uri": "https://localhost:8080/"
        },
        "id": "H9EDf8a0oFyL",
        "outputId": "4fb0eb2f-7fcd-46a5-a3dd-63aefda0a8f9"
      },
      "execution_count": 43,
      "outputs": [
        {
          "output_type": "execute_result",
          "data": {
            "text/plain": [
              "array([[1.        , 0.06686508, 0.08711806, ..., 0.11291791, 0.09350492,\n",
              "        0.02263394],\n",
              "       [0.06686508, 1.        , 0.14213381, ..., 0.04386345, 0.        ,\n",
              "        0.03077287],\n",
              "       [0.08711806, 0.14213381, 1.        , ..., 0.03428963, 0.0745356 ,\n",
              "        0.02405626],\n",
              "       ...,\n",
              "       [0.11291791, 0.04386345, 0.03428963, ..., 1.        , 0.04600437,\n",
              "        0.        ],\n",
              "       [0.09350492, 0.        , 0.0745356 , ..., 0.04600437, 1.        ,\n",
              "        0.        ],\n",
              "       [0.02263394, 0.03077287, 0.02405626, ..., 0.        , 0.        ,\n",
              "        1.        ]])"
            ]
          },
          "metadata": {},
          "execution_count": 43
        }
      ]
    },
    {
      "cell_type": "code",
      "source": [
        "sim.shape"
      ],
      "metadata": {
        "colab": {
          "base_uri": "https://localhost:8080/"
        },
        "id": "Bc6LULQ3kt_-",
        "outputId": "69f6cf2d-741d-456b-b55e-18f2533b2e12"
      },
      "execution_count": 44,
      "outputs": [
        {
          "output_type": "execute_result",
          "data": {
            "text/plain": [
              "(4726, 4726)"
            ]
          },
          "metadata": {},
          "execution_count": 44
        }
      ]
    },
    {
      "cell_type": "code",
      "source": [],
      "metadata": {
        "id": "KrwgFAO_lAXw"
      },
      "execution_count": 44,
      "outputs": []
    },
    {
      "cell_type": "code",
      "source": [
        "#now it is time for building recommendation system."
      ],
      "metadata": {
        "id": "UnJ_-P4Mkx_T"
      },
      "execution_count": 45,
      "outputs": []
    },
    {
      "cell_type": "code",
      "source": [
        "# by using how much the input is far from other data, we recommend the closest movie. -> similar movie\n",
        "\n",
        "def recommend(movies):\n",
        "    movie_index = df_new[df_new.title == movies].index[0]\n",
        "    distances = sim[movie_index]\n",
        "    movies_list = sorted(list(enumerate(distances)), reverse=True, key= lambda x:x[1])[1:6]\n",
        "    \n",
        "    for i in movies_list:\n",
        "        print(df_new.iloc[i[0]].title)"
      ],
      "metadata": {
        "id": "agGiBWM2cIQ5"
      },
      "execution_count": 55,
      "outputs": []
    },
    {
      "cell_type": "code",
      "source": [
        "#test 1\n",
        "\n",
        "recommend(\"Batman\")"
      ],
      "metadata": {
        "id": "VyOvFeh9cyLD",
        "outputId": "4208d7bd-6621-4655-9201-2a6d20e5a4f4",
        "colab": {
          "base_uri": "https://localhost:8080/"
        }
      },
      "execution_count": 56,
      "outputs": [
        {
          "output_type": "stream",
          "name": "stdout",
          "text": [
            "Batman: Mask of the Phantasm\n",
            "The Dark Knight\n",
            "Batman & Robin\n",
            "Batman Returns\n",
            "Batman Begins\n"
          ]
        }
      ]
    },
    {
      "cell_type": "code",
      "source": [
        "#test 2\n",
        "while True:\n",
        "  name = input(\"Plug in the movie that you want: \")\n",
        "  if name.lower() == \"done\":\n",
        "    break\n",
        "  elif name in df_new[\"title\"]:\n",
        "    recommend(name)\n",
        "  else:\n",
        "    print(\"That movie is not in our program. Sorry, please choose a different movie\")"
      ],
      "metadata": {
        "id": "Dbaqv4YwdwvB",
        "outputId": "8a11eb56-e4fa-40f2-9e04-31ad46c62ebe",
        "colab": {
          "base_uri": "https://localhost:8080/",
          "height": 259
        }
      },
      "execution_count": 69,
      "outputs": [
        {
          "name": "stdout",
          "output_type": "stream",
          "text": [
            "Plug in the movie that you want: Batman\n"
          ]
        },
        {
          "output_type": "error",
          "ename": "TypeError",
          "evalue": "ignored",
          "traceback": [
            "\u001b[0;31m---------------------------------------------------------------------------\u001b[0m",
            "\u001b[0;31mTypeError\u001b[0m                                 Traceback (most recent call last)",
            "\u001b[0;32m<ipython-input-69-be3d43c4be70>\u001b[0m in \u001b[0;36m<module>\u001b[0;34m\u001b[0m\n\u001b[1;32m      4\u001b[0m   \u001b[0;32mif\u001b[0m \u001b[0mname\u001b[0m\u001b[0;34m.\u001b[0m\u001b[0mlower\u001b[0m\u001b[0;34m(\u001b[0m\u001b[0;34m)\u001b[0m \u001b[0;34m==\u001b[0m \u001b[0;34m\"done\"\u001b[0m\u001b[0;34m:\u001b[0m\u001b[0;34m\u001b[0m\u001b[0;34m\u001b[0m\u001b[0m\n\u001b[1;32m      5\u001b[0m     \u001b[0;32mbreak\u001b[0m\u001b[0;34m\u001b[0m\u001b[0;34m\u001b[0m\u001b[0m\n\u001b[0;32m----> 6\u001b[0;31m   \u001b[0;32melif\u001b[0m \u001b[0mname\u001b[0m \u001b[0;32min\u001b[0m \u001b[0mdf_new\u001b[0m\u001b[0;34m[\u001b[0m\u001b[0;34m\"title\"\u001b[0m\u001b[0;34m]\u001b[0m\u001b[0;34m.\u001b[0m\u001b[0mvalues\u001b[0m\u001b[0;34m(\u001b[0m\u001b[0;34m)\u001b[0m\u001b[0;34m:\u001b[0m\u001b[0;34m\u001b[0m\u001b[0;34m\u001b[0m\u001b[0m\n\u001b[0m\u001b[1;32m      7\u001b[0m     \u001b[0mrecommend\u001b[0m\u001b[0;34m(\u001b[0m\u001b[0mname\u001b[0m\u001b[0;34m)\u001b[0m\u001b[0;34m\u001b[0m\u001b[0;34m\u001b[0m\u001b[0m\n\u001b[1;32m      8\u001b[0m   \u001b[0;32melse\u001b[0m\u001b[0;34m:\u001b[0m\u001b[0;34m\u001b[0m\u001b[0;34m\u001b[0m\u001b[0m\n",
            "\u001b[0;31mTypeError\u001b[0m: 'numpy.ndarray' object is not callable"
          ]
        }
      ]
    },
    {
      "cell_type": "code",
      "source": [
        "print(df_new[\"title\"])\n",
        "print(type(df_new[\"title\"].get(0)))\n",
        "print(type(df_new[\"title\"]))\n",
        "print(df_new[\"title\"].get(0) == \"Knock at the Cabin\")"
      ],
      "metadata": {
        "id": "LmM0xbjMfwRB",
        "outputId": "b4abf4da-082e-40c4-9faf-c7937c165577",
        "colab": {
          "base_uri": "https://localhost:8080/"
        }
      },
      "execution_count": 70,
      "outputs": [
        {
          "output_type": "stream",
          "name": "stdout",
          "text": [
            "0                   Knock at the Cabin\n",
            "1                                Plane\n",
            "2         Puss in Boots: The Last Wish\n",
            "3       Black Panther: Wakanda Forever\n",
            "4                    A Man Called Otto\n",
            "                     ...              \n",
            "4721                       City Lights\n",
            "4722            The Invention of Lying\n",
            "4723                        Unfriended\n",
            "4724                            Dreams\n",
            "4725                            Taxi 4\n",
            "Name: title, Length: 4726, dtype: object\n",
            "<class 'str'>\n",
            "<class 'pandas.core.series.Series'>\n",
            "True\n"
          ]
        }
      ]
    },
    {
      "cell_type": "code",
      "source": [
        "print(\"Knock at the Cabin\" in df_new[\"title\"][0])"
      ],
      "metadata": {
        "id": "ZqiPniqId4ae",
        "outputId": "83daa978-b385-4719-b16f-bc8a8bce54e4",
        "colab": {
          "base_uri": "https://localhost:8080/"
        }
      },
      "execution_count": 74,
      "outputs": [
        {
          "output_type": "stream",
          "name": "stdout",
          "text": [
            "True\n"
          ]
        }
      ]
    },
    {
      "cell_type": "code",
      "source": [
        "print(df_new[\"title\"])"
      ],
      "metadata": {
        "id": "HWdYtGUZfaBm",
        "outputId": "0842efe4-9073-4ff7-9a80-757701d393b3",
        "colab": {
          "base_uri": "https://localhost:8080/"
        }
      },
      "execution_count": 75,
      "outputs": [
        {
          "output_type": "stream",
          "name": "stdout",
          "text": [
            "Knock at the Cabin\n"
          ]
        }
      ]
    },
    {
      "cell_type": "code",
      "source": [],
      "metadata": {
        "id": "xXu9uiKzhV0v"
      },
      "execution_count": null,
      "outputs": []
    }
  ]
}