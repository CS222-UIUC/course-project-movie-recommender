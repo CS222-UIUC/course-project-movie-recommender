{
  "nbformat": 4,
  "nbformat_minor": 0,
  "metadata": {
    "colab": {
      "provenance": [],
      "authorship_tag": "ABX9TyNvzM8ZOOQtshxP3zQftY8t",
      "include_colab_link": true
    },
    "kernelspec": {
      "name": "python3",
      "display_name": "Python 3"
    },
    "language_info": {
      "name": "python"
    }
  },
  "cells": [
    {
      "cell_type": "markdown",
      "metadata": {
        "id": "view-in-github",
        "colab_type": "text"
      },
      "source": [
        "<a href=\"https://colab.research.google.com/github/CS222-UIUC/course-project-movie-recommender/blob/main/Hkang_Data_preprocessing.ipynb\" target=\"_parent\"><img src=\"https://colab.research.google.com/assets/colab-badge.svg\" alt=\"Open In Colab\"/></a>"
      ]
    },
    {
      "cell_type": "code",
      "execution_count": 1,
      "metadata": {
        "id": "wZ4YLn6gdHvp"
      },
      "outputs": [],
      "source": [
        "import sklearn as sk\n",
        "import numpy as np\n",
        "import pandas as pd\n",
        "import tensorflow as ts\n",
        "import matplotlib.pyplot as plt\n",
        "import nltk\n",
        "from nltk.stem.porter import PorterStemmer\n",
        "from sklearn.feature_extraction.text import CountVectorizer\n",
        "from sklearn.metrics.pairwise import cosine_similarity"
      ]
    },
    {
      "cell_type": "code",
      "source": [
        "df = pd.read_csv(\"movies.csv\")\n",
        "df.head()"
      ],
      "metadata": {
        "colab": {
          "base_uri": "https://localhost:8080/",
          "height": 774
        },
        "id": "KZqk0df2dnI5",
        "outputId": "2b7ec7fb-c54b-47f1-d346-5f6f496325f2"
      },
      "execution_count": null,
      "outputs": [
        {
          "output_type": "execute_result",
          "data": {
            "text/plain": [
              "       id                           title                             genres  \\\n",
              "0  631842              Knock at the Cabin            Horror-Mystery-Thriller   \n",
              "1  646389                           Plane          Action-Adventure-Thriller   \n",
              "2  315162    Puss in Boots: The Last Wish  Animation-Adventure-Comedy-Family   \n",
              "3  505642  Black Panther: Wakanda Forever   Action-Adventure-Science Fiction   \n",
              "4  956101               The Eighth Clause                           Thriller   \n",
              "\n",
              "  original_language                                           overview  \\\n",
              "0                en  While vacationing at a remote cabin a young gi...   \n",
              "1                en  After a heroic job of successfully landing his...   \n",
              "2                en  Puss in Boots discovers that his passion for a...   \n",
              "3                en  Queen Ramonda Shuri M’Baku Okoye and the Dora ...   \n",
              "4                la  Kat and Borja appear to be a perfect couple bu...   \n",
              "\n",
              "   popularity                               production_companies release_date  \\\n",
              "0    3422.537  Blinding Edge Pictures-Universal Pictures-Film...   2023-02-01   \n",
              "1    2618.646  MadRiver Pictures-Di Bonaventura Pictures-G-BA...   2023-01-12   \n",
              "2    2589.341            DreamWorks Animation-Universal Pictures   2022-12-07   \n",
              "3    2525.408                                     Marvel Studios   2022-11-09   \n",
              "4    2259.303                       SDB Films-El Hombre Orquesta   2022-04-29   \n",
              "\n",
              "        budget      revenue  runtime    status  \\\n",
              "0   20000000.0   52000000.0    100.0  Released   \n",
              "1   25000000.0   51000000.0    107.0  Released   \n",
              "2   90000000.0  442000000.0    103.0  Released   \n",
              "3  250000000.0  858535561.0    162.0  Released   \n",
              "4          0.0          0.0      0.0  Released   \n",
              "\n",
              "                                             tagline  vote_average  \\\n",
              "0  Save your family or save humanity. Make the ch...         6.457   \n",
              "1                     Survive together or die alone.         6.901   \n",
              "2                    Say hola to his little friends.         8.402   \n",
              "3                                           Forever.         7.338   \n",
              "4                                                NaN         4.600   \n",
              "\n",
              "   vote_count                                            credits  \\\n",
              "0       888.0  Dave Bautista-Jonathan Groff-Ben Aldridge-Kris...   \n",
              "1       785.0  Gerard Butler-Mike Colter-Yoson An-Tony Goldwy...   \n",
              "2      4357.0  Antonio Banderas-Salma Hayek-Harvey Guillén-Wa...   \n",
              "3      3922.0  Letitia Wright-Lupita Nyong'o-Danai Gurira-Win...   \n",
              "4        10.0  Maite Perroni-Manuel Vega-Óscar Jaenada-Jessic...   \n",
              "\n",
              "                                            keywords  \\\n",
              "0  based on novel or book-sacrifice-cabin-faith-e...   \n",
              "1  pilot-airplane-philippines-held hostage-plane ...   \n",
              "2  fairy tale-talking dog-spin off-aftercreditsst...   \n",
              "3  loss of loved one-hero-sequel-superhero-based ...   \n",
              "4                                                NaN   \n",
              "\n",
              "                        poster_path                     backdrop_path  \\\n",
              "0  /dm06L9pxDOL9jNSK4Cb6y139rrG.jpg  /zWDMQX0sPaW2u0N2pJaYA8bVVaJ.jpg   \n",
              "1  /qi9r5xBgcc9KTxlOLjssEbDgO0J.jpg  /9Rq14Eyrf7Tu1xk0Pl7VcNbNh1n.jpg   \n",
              "2  /kuf6dutpsT0vSVehic3EZIqkOBt.jpg  /b1Y8SUb12gPHCSSSNlbX4nB3IKy.jpg   \n",
              "3  /sv1xJUazXeYqALzczSZ3O6nkH75.jpg  /xDMIl84Qo5Tsu62c9DGWhmPI67A.jpg   \n",
              "4  /8tc8eMFAX2SDC1TRu987qFQy8Cl.jpg  /kLnqNE9Af5QHyvUxw8cDGhF1ilv.jpg   \n",
              "\n",
              "                                     recommendations  \n",
              "0  1058949-646389-772515-505642-143970-667216-104...  \n",
              "1  505642-758769-864692-631842-1058949-925943-758...  \n",
              "2  536554-76600-816904-653851-899112-985335-83078...  \n",
              "3  436270-829280-76600-56969-312634-1037858-238-5...  \n",
              "4                                                NaN  "
            ],
            "text/html": [
              "\n",
              "  <div id=\"df-c84b886c-588d-43b7-89ba-0adee68055cd\">\n",
              "    <div class=\"colab-df-container\">\n",
              "      <div>\n",
              "<style scoped>\n",
              "    .dataframe tbody tr th:only-of-type {\n",
              "        vertical-align: middle;\n",
              "    }\n",
              "\n",
              "    .dataframe tbody tr th {\n",
              "        vertical-align: top;\n",
              "    }\n",
              "\n",
              "    .dataframe thead th {\n",
              "        text-align: right;\n",
              "    }\n",
              "</style>\n",
              "<table border=\"1\" class=\"dataframe\">\n",
              "  <thead>\n",
              "    <tr style=\"text-align: right;\">\n",
              "      <th></th>\n",
              "      <th>id</th>\n",
              "      <th>title</th>\n",
              "      <th>genres</th>\n",
              "      <th>original_language</th>\n",
              "      <th>overview</th>\n",
              "      <th>popularity</th>\n",
              "      <th>production_companies</th>\n",
              "      <th>release_date</th>\n",
              "      <th>budget</th>\n",
              "      <th>revenue</th>\n",
              "      <th>runtime</th>\n",
              "      <th>status</th>\n",
              "      <th>tagline</th>\n",
              "      <th>vote_average</th>\n",
              "      <th>vote_count</th>\n",
              "      <th>credits</th>\n",
              "      <th>keywords</th>\n",
              "      <th>poster_path</th>\n",
              "      <th>backdrop_path</th>\n",
              "      <th>recommendations</th>\n",
              "    </tr>\n",
              "  </thead>\n",
              "  <tbody>\n",
              "    <tr>\n",
              "      <th>0</th>\n",
              "      <td>631842</td>\n",
              "      <td>Knock at the Cabin</td>\n",
              "      <td>Horror-Mystery-Thriller</td>\n",
              "      <td>en</td>\n",
              "      <td>While vacationing at a remote cabin a young gi...</td>\n",
              "      <td>3422.537</td>\n",
              "      <td>Blinding Edge Pictures-Universal Pictures-Film...</td>\n",
              "      <td>2023-02-01</td>\n",
              "      <td>20000000.0</td>\n",
              "      <td>52000000.0</td>\n",
              "      <td>100.0</td>\n",
              "      <td>Released</td>\n",
              "      <td>Save your family or save humanity. Make the ch...</td>\n",
              "      <td>6.457</td>\n",
              "      <td>888.0</td>\n",
              "      <td>Dave Bautista-Jonathan Groff-Ben Aldridge-Kris...</td>\n",
              "      <td>based on novel or book-sacrifice-cabin-faith-e...</td>\n",
              "      <td>/dm06L9pxDOL9jNSK4Cb6y139rrG.jpg</td>\n",
              "      <td>/zWDMQX0sPaW2u0N2pJaYA8bVVaJ.jpg</td>\n",
              "      <td>1058949-646389-772515-505642-143970-667216-104...</td>\n",
              "    </tr>\n",
              "    <tr>\n",
              "      <th>1</th>\n",
              "      <td>646389</td>\n",
              "      <td>Plane</td>\n",
              "      <td>Action-Adventure-Thriller</td>\n",
              "      <td>en</td>\n",
              "      <td>After a heroic job of successfully landing his...</td>\n",
              "      <td>2618.646</td>\n",
              "      <td>MadRiver Pictures-Di Bonaventura Pictures-G-BA...</td>\n",
              "      <td>2023-01-12</td>\n",
              "      <td>25000000.0</td>\n",
              "      <td>51000000.0</td>\n",
              "      <td>107.0</td>\n",
              "      <td>Released</td>\n",
              "      <td>Survive together or die alone.</td>\n",
              "      <td>6.901</td>\n",
              "      <td>785.0</td>\n",
              "      <td>Gerard Butler-Mike Colter-Yoson An-Tony Goldwy...</td>\n",
              "      <td>pilot-airplane-philippines-held hostage-plane ...</td>\n",
              "      <td>/qi9r5xBgcc9KTxlOLjssEbDgO0J.jpg</td>\n",
              "      <td>/9Rq14Eyrf7Tu1xk0Pl7VcNbNh1n.jpg</td>\n",
              "      <td>505642-758769-864692-631842-1058949-925943-758...</td>\n",
              "    </tr>\n",
              "    <tr>\n",
              "      <th>2</th>\n",
              "      <td>315162</td>\n",
              "      <td>Puss in Boots: The Last Wish</td>\n",
              "      <td>Animation-Adventure-Comedy-Family</td>\n",
              "      <td>en</td>\n",
              "      <td>Puss in Boots discovers that his passion for a...</td>\n",
              "      <td>2589.341</td>\n",
              "      <td>DreamWorks Animation-Universal Pictures</td>\n",
              "      <td>2022-12-07</td>\n",
              "      <td>90000000.0</td>\n",
              "      <td>442000000.0</td>\n",
              "      <td>103.0</td>\n",
              "      <td>Released</td>\n",
              "      <td>Say hola to his little friends.</td>\n",
              "      <td>8.402</td>\n",
              "      <td>4357.0</td>\n",
              "      <td>Antonio Banderas-Salma Hayek-Harvey Guillén-Wa...</td>\n",
              "      <td>fairy tale-talking dog-spin off-aftercreditsst...</td>\n",
              "      <td>/kuf6dutpsT0vSVehic3EZIqkOBt.jpg</td>\n",
              "      <td>/b1Y8SUb12gPHCSSSNlbX4nB3IKy.jpg</td>\n",
              "      <td>536554-76600-816904-653851-899112-985335-83078...</td>\n",
              "    </tr>\n",
              "    <tr>\n",
              "      <th>3</th>\n",
              "      <td>505642</td>\n",
              "      <td>Black Panther: Wakanda Forever</td>\n",
              "      <td>Action-Adventure-Science Fiction</td>\n",
              "      <td>en</td>\n",
              "      <td>Queen Ramonda Shuri M’Baku Okoye and the Dora ...</td>\n",
              "      <td>2525.408</td>\n",
              "      <td>Marvel Studios</td>\n",
              "      <td>2022-11-09</td>\n",
              "      <td>250000000.0</td>\n",
              "      <td>858535561.0</td>\n",
              "      <td>162.0</td>\n",
              "      <td>Released</td>\n",
              "      <td>Forever.</td>\n",
              "      <td>7.338</td>\n",
              "      <td>3922.0</td>\n",
              "      <td>Letitia Wright-Lupita Nyong'o-Danai Gurira-Win...</td>\n",
              "      <td>loss of loved one-hero-sequel-superhero-based ...</td>\n",
              "      <td>/sv1xJUazXeYqALzczSZ3O6nkH75.jpg</td>\n",
              "      <td>/xDMIl84Qo5Tsu62c9DGWhmPI67A.jpg</td>\n",
              "      <td>436270-829280-76600-56969-312634-1037858-238-5...</td>\n",
              "    </tr>\n",
              "    <tr>\n",
              "      <th>4</th>\n",
              "      <td>956101</td>\n",
              "      <td>The Eighth Clause</td>\n",
              "      <td>Thriller</td>\n",
              "      <td>la</td>\n",
              "      <td>Kat and Borja appear to be a perfect couple bu...</td>\n",
              "      <td>2259.303</td>\n",
              "      <td>SDB Films-El Hombre Orquesta</td>\n",
              "      <td>2022-04-29</td>\n",
              "      <td>0.0</td>\n",
              "      <td>0.0</td>\n",
              "      <td>0.0</td>\n",
              "      <td>Released</td>\n",
              "      <td>NaN</td>\n",
              "      <td>4.600</td>\n",
              "      <td>10.0</td>\n",
              "      <td>Maite Perroni-Manuel Vega-Óscar Jaenada-Jessic...</td>\n",
              "      <td>NaN</td>\n",
              "      <td>/8tc8eMFAX2SDC1TRu987qFQy8Cl.jpg</td>\n",
              "      <td>/kLnqNE9Af5QHyvUxw8cDGhF1ilv.jpg</td>\n",
              "      <td>NaN</td>\n",
              "    </tr>\n",
              "  </tbody>\n",
              "</table>\n",
              "</div>\n",
              "      <button class=\"colab-df-convert\" onclick=\"convertToInteractive('df-c84b886c-588d-43b7-89ba-0adee68055cd')\"\n",
              "              title=\"Convert this dataframe to an interactive table.\"\n",
              "              style=\"display:none;\">\n",
              "        \n",
              "  <svg xmlns=\"http://www.w3.org/2000/svg\" height=\"24px\"viewBox=\"0 0 24 24\"\n",
              "       width=\"24px\">\n",
              "    <path d=\"M0 0h24v24H0V0z\" fill=\"none\"/>\n",
              "    <path d=\"M18.56 5.44l.94 2.06.94-2.06 2.06-.94-2.06-.94-.94-2.06-.94 2.06-2.06.94zm-11 1L8.5 8.5l.94-2.06 2.06-.94-2.06-.94L8.5 2.5l-.94 2.06-2.06.94zm10 10l.94 2.06.94-2.06 2.06-.94-2.06-.94-.94-2.06-.94 2.06-2.06.94z\"/><path d=\"M17.41 7.96l-1.37-1.37c-.4-.4-.92-.59-1.43-.59-.52 0-1.04.2-1.43.59L10.3 9.45l-7.72 7.72c-.78.78-.78 2.05 0 2.83L4 21.41c.39.39.9.59 1.41.59.51 0 1.02-.2 1.41-.59l7.78-7.78 2.81-2.81c.8-.78.8-2.07 0-2.86zM5.41 20L4 18.59l7.72-7.72 1.47 1.35L5.41 20z\"/>\n",
              "  </svg>\n",
              "      </button>\n",
              "      \n",
              "  <style>\n",
              "    .colab-df-container {\n",
              "      display:flex;\n",
              "      flex-wrap:wrap;\n",
              "      gap: 12px;\n",
              "    }\n",
              "\n",
              "    .colab-df-convert {\n",
              "      background-color: #E8F0FE;\n",
              "      border: none;\n",
              "      border-radius: 50%;\n",
              "      cursor: pointer;\n",
              "      display: none;\n",
              "      fill: #1967D2;\n",
              "      height: 32px;\n",
              "      padding: 0 0 0 0;\n",
              "      width: 32px;\n",
              "    }\n",
              "\n",
              "    .colab-df-convert:hover {\n",
              "      background-color: #E2EBFA;\n",
              "      box-shadow: 0px 1px 2px rgba(60, 64, 67, 0.3), 0px 1px 3px 1px rgba(60, 64, 67, 0.15);\n",
              "      fill: #174EA6;\n",
              "    }\n",
              "\n",
              "    [theme=dark] .colab-df-convert {\n",
              "      background-color: #3B4455;\n",
              "      fill: #D2E3FC;\n",
              "    }\n",
              "\n",
              "    [theme=dark] .colab-df-convert:hover {\n",
              "      background-color: #434B5C;\n",
              "      box-shadow: 0px 1px 3px 1px rgba(0, 0, 0, 0.15);\n",
              "      filter: drop-shadow(0px 1px 2px rgba(0, 0, 0, 0.3));\n",
              "      fill: #FFFFFF;\n",
              "    }\n",
              "  </style>\n",
              "\n",
              "      <script>\n",
              "        const buttonEl =\n",
              "          document.querySelector('#df-c84b886c-588d-43b7-89ba-0adee68055cd button.colab-df-convert');\n",
              "        buttonEl.style.display =\n",
              "          google.colab.kernel.accessAllowed ? 'block' : 'none';\n",
              "\n",
              "        async function convertToInteractive(key) {\n",
              "          const element = document.querySelector('#df-c84b886c-588d-43b7-89ba-0adee68055cd');\n",
              "          const dataTable =\n",
              "            await google.colab.kernel.invokeFunction('convertToInteractive',\n",
              "                                                     [key], {});\n",
              "          if (!dataTable) return;\n",
              "\n",
              "          const docLinkHtml = 'Like what you see? Visit the ' +\n",
              "            '<a target=\"_blank\" href=https://colab.research.google.com/notebooks/data_table.ipynb>data table notebook</a>'\n",
              "            + ' to learn more about interactive tables.';\n",
              "          element.innerHTML = '';\n",
              "          dataTable['output_type'] = 'display_data';\n",
              "          await google.colab.output.renderOutput(dataTable, element);\n",
              "          const docLink = document.createElement('div');\n",
              "          docLink.innerHTML = docLinkHtml;\n",
              "          element.appendChild(docLink);\n",
              "        }\n",
              "      </script>\n",
              "    </div>\n",
              "  </div>\n",
              "  "
            ]
          },
          "metadata": {},
          "execution_count": 114
        }
      ]
    },
    {
      "cell_type": "code",
      "source": [
        "print(df.shape)"
      ],
      "metadata": {
        "colab": {
          "base_uri": "https://localhost:8080/"
        },
        "id": "8-q0ZnmedYJC",
        "outputId": "2cc0e4d5-31cd-4dbe-bf3e-3a2c9dfa2aaa"
      },
      "execution_count": null,
      "outputs": [
        {
          "output_type": "stream",
          "name": "stdout",
          "text": [
            "(723029, 20)\n"
          ]
        }
      ]
    },
    {
      "cell_type": "code",
      "source": [
        "df.info()"
      ],
      "metadata": {
        "colab": {
          "base_uri": "https://localhost:8080/"
        },
        "id": "ms-2vfdldgw0",
        "outputId": "01c09471-dcda-4ead-d321-90e439194fcb"
      },
      "execution_count": null,
      "outputs": [
        {
          "output_type": "stream",
          "name": "stdout",
          "text": [
            "<class 'pandas.core.frame.DataFrame'>\n",
            "RangeIndex: 723029 entries, 0 to 723028\n",
            "Data columns (total 20 columns):\n",
            " #   Column                Non-Null Count   Dtype  \n",
            "---  ------                --------------   -----  \n",
            " 0   id                    723029 non-null  int64  \n",
            " 1   title                 723025 non-null  object \n",
            " 2   genres                511997 non-null  object \n",
            " 3   original_language     723029 non-null  object \n",
            " 4   overview              604350 non-null  object \n",
            " 5   popularity            723029 non-null  float64\n",
            " 6   production_companies  337186 non-null  object \n",
            " 7   release_date          670295 non-null  object \n",
            " 8   budget                723029 non-null  float64\n",
            " 9   revenue               723029 non-null  float64\n",
            " 10  runtime               688534 non-null  float64\n",
            " 11  status                723029 non-null  object \n",
            " 12  tagline               108057 non-null  object \n",
            " 13  vote_average          723029 non-null  float64\n",
            " 14  vote_count            723029 non-null  float64\n",
            " 15  credits               497835 non-null  object \n",
            " 16  keywords              210247 non-null  object \n",
            " 17  poster_path           537560 non-null  object \n",
            " 18  backdrop_path         222390 non-null  object \n",
            " 19  recommendations       34682 non-null   object \n",
            "dtypes: float64(6), int64(1), object(13)\n",
            "memory usage: 110.3+ MB\n"
          ]
        }
      ]
    },
    {
      "cell_type": "code",
      "source": [
        "df.isnull().sum() # check null values"
      ],
      "metadata": {
        "colab": {
          "base_uri": "https://localhost:8080/"
        },
        "id": "ZCXBGZ2JgKof",
        "outputId": "7e2c90d0-39a1-4729-a505-a537f9f32e6b"
      },
      "execution_count": null,
      "outputs": [
        {
          "output_type": "execute_result",
          "data": {
            "text/plain": [
              "id                           0\n",
              "title                        4\n",
              "genres                  211032\n",
              "original_language            0\n",
              "overview                118679\n",
              "popularity                   0\n",
              "production_companies    385843\n",
              "release_date             52734\n",
              "budget                       0\n",
              "revenue                      0\n",
              "runtime                  34495\n",
              "status                       0\n",
              "tagline                 614972\n",
              "vote_average                 0\n",
              "vote_count                   0\n",
              "credits                 225194\n",
              "keywords                512782\n",
              "poster_path             185469\n",
              "backdrop_path           500639\n",
              "recommendations         688347\n",
              "dtype: int64"
            ]
          },
          "metadata": {},
          "execution_count": 117
        }
      ]
    },
    {
      "cell_type": "code",
      "source": [
        "df.duplicated().sum()"
      ],
      "metadata": {
        "colab": {
          "base_uri": "https://localhost:8080/"
        },
        "id": "qxawRTjHgMaU",
        "outputId": "25cb0e59-7bae-4ab8-d723-59f131d7e9f5"
      },
      "execution_count": null,
      "outputs": [
        {
          "output_type": "execute_result",
          "data": {
            "text/plain": [
              "4"
            ]
          },
          "metadata": {},
          "execution_count": 118
        }
      ]
    },
    {
      "cell_type": "code",
      "source": [
        "vcounts = df[df['vote_count'].notnull()]['vote_count'].astype('int')\n",
        "vaverages = df[df['vote_average'].notnull()]['vote_average'].astype('int')\n",
        "avg = vaverages.mean()\n",
        "avg"
      ],
      "metadata": {
        "colab": {
          "base_uri": "https://localhost:8080/"
        },
        "id": "ksfP4VZ5mK2d",
        "outputId": "46a71a1e-953e-4c62-cab4-c97ed6a7573d"
      },
      "execution_count": null,
      "outputs": [
        {
          "output_type": "execute_result",
          "data": {
            "text/plain": [
              "2.3339050024272887"
            ]
          },
          "metadata": {},
          "execution_count": 119
        }
      ]
    },
    {
      "cell_type": "code",
      "source": [
        "df = df.drop([\"production_companies\", \"popularity\", \"budget\", \"revenue\", \"status\", \"recommendations\", \"runtime\", \"vote_average\", \"backdrop_path\",'tagline'], axis = 1) #'poster_path'], axis=1)"
      ],
      "metadata": {
        "id": "70X0bEZcgPrM"
      },
      "execution_count": null,
      "outputs": []
    },
    {
      "cell_type": "code",
      "source": [
        "df.drop_duplicates(inplace=True)"
      ],
      "metadata": {
        "id": "S3aZIt_phBhg"
      },
      "execution_count": null,
      "outputs": []
    },
    {
      "cell_type": "code",
      "source": [
        "df.title.duplicated().sum()"
      ],
      "metadata": {
        "colab": {
          "base_uri": "https://localhost:8080/"
        },
        "id": "j7L8e-WZhD1-",
        "outputId": "d55a0d50-7c12-4aba-d51b-cb8508ad873f"
      },
      "execution_count": null,
      "outputs": [
        {
          "output_type": "execute_result",
          "data": {
            "text/plain": [
              "86984"
            ]
          },
          "metadata": {},
          "execution_count": 122
        }
      ]
    },
    {
      "cell_type": "code",
      "source": [
        "df[[\"title\", \"release_date\"]].duplicated().sum()# checking for release data with same movie title"
      ],
      "metadata": {
        "colab": {
          "base_uri": "https://localhost:8080/"
        },
        "id": "ZdvwCnXshHAr",
        "outputId": "c54a021a-153b-46a9-cf11-14e7996fb49f"
      },
      "execution_count": null,
      "outputs": [
        {
          "output_type": "execute_result",
          "data": {
            "text/plain": [
              "2271"
            ]
          },
          "metadata": {},
          "execution_count": 123
        }
      ]
    },
    {
      "cell_type": "code",
      "source": [
        "df.drop_duplicates(subset=[\"title\",\"release_date\"], inplace=True)"
      ],
      "metadata": {
        "id": "UPC7j-p4hN8M"
      },
      "execution_count": null,
      "outputs": []
    },
    {
      "cell_type": "code",
      "source": [
        "df = df[df.vote_count >= 350].reset_index()"
      ],
      "metadata": {
        "id": "TWpG2OFehQ-p"
      },
      "execution_count": null,
      "outputs": []
    },
    {
      "cell_type": "code",
      "source": [
        "df.isnull().sum()"
      ],
      "metadata": {
        "colab": {
          "base_uri": "https://localhost:8080/"
        },
        "id": "uUwFcXu9hTT0",
        "outputId": "08181f80-d915-4e2f-d124-c324c02fe869"
      },
      "execution_count": null,
      "outputs": [
        {
          "output_type": "execute_result",
          "data": {
            "text/plain": [
              "index                  0\n",
              "id                     0\n",
              "title                  0\n",
              "genres                 0\n",
              "original_language      0\n",
              "overview               1\n",
              "release_date           0\n",
              "vote_count             0\n",
              "credits                8\n",
              "keywords             238\n",
              "poster_path            0\n",
              "dtype: int64"
            ]
          },
          "metadata": {},
          "execution_count": 126
        }
      ]
    },
    {
      "cell_type": "code",
      "source": [
        "df.fillna(\"\", inplace = True) # replace the null values with ''\n",
        "# We do have an option filling all the nulls with 0, but since they will have string values, I thought that na -> \"\" will be necessary"
      ],
      "metadata": {
        "id": "5FIBXEGQhUvi"
      },
      "execution_count": null,
      "outputs": []
    },
    {
      "cell_type": "code",
      "source": [
        "df"
      ],
      "metadata": {
        "colab": {
          "base_uri": "https://localhost:8080/",
          "height": 641
        },
        "id": "khd_-UJyoMLC",
        "outputId": "31a252fc-bcd5-4b13-d398-1fc22c8e2cd4"
      },
      "execution_count": null,
      "outputs": [
        {
          "output_type": "execute_result",
          "data": {
            "text/plain": [
              "       index      id                           title  \\\n",
              "0          0  631842              Knock at the Cabin   \n",
              "1          1  646389                           Plane   \n",
              "2          2  315162    Puss in Boots: The Last Wish   \n",
              "3          3  505642  Black Panther: Wakanda Forever   \n",
              "4          7  937278               A Man Called Otto   \n",
              "...      ...     ...                             ...   \n",
              "7613  243943  225703              The Starving Games   \n",
              "7614  286374  116741                  The Internship   \n",
              "7615  346892  203819                          Tracks   \n",
              "7616  569282  182219                 Serial Teachers   \n",
              "7617  578000  174323                          G.B.F.   \n",
              "\n",
              "                                 genres original_language  \\\n",
              "0               Horror-Mystery-Thriller                en   \n",
              "1             Action-Adventure-Thriller                en   \n",
              "2     Animation-Adventure-Comedy-Family                en   \n",
              "3      Action-Adventure-Science Fiction                en   \n",
              "4                          Comedy-Drama                en   \n",
              "...                                 ...               ...   \n",
              "7613                             Comedy                en   \n",
              "7614                             Comedy                en   \n",
              "7615                    Adventure-Drama                en   \n",
              "7616                             Comedy                fr   \n",
              "7617                       Comedy-Drama                en   \n",
              "\n",
              "                                               overview release_date  \\\n",
              "0     While vacationing at a remote cabin a young gi...   2023-02-01   \n",
              "1     After a heroic job of successfully landing his...   2023-01-12   \n",
              "2     Puss in Boots discovers that his passion for a...   2022-12-07   \n",
              "3     Queen Ramonda Shuri M’Baku Okoye and the Dora ...   2022-11-09   \n",
              "4     When a lively young family moves in next door ...   2022-12-28   \n",
              "...                                                 ...          ...   \n",
              "7613  In this Hunger Games spoof Kantmiss Evershot m...   2013-11-07   \n",
              "7614  Two recently laid-off men in their 40s try to ...   2013-06-07   \n",
              "7615  Accompanied only by her faithful dog and four ...   2013-12-19   \n",
              "7616  With only 12 percent of its pupils obtaining t...   2013-04-17   \n",
              "7617  The bitter fight for supremacy between the thr...   2013-04-19   \n",
              "\n",
              "      vote_count                                            credits  \\\n",
              "0          888.0  Dave Bautista-Jonathan Groff-Ben Aldridge-Kris...   \n",
              "1          785.0  Gerard Butler-Mike Colter-Yoson An-Tony Goldwy...   \n",
              "2         4357.0  Antonio Banderas-Salma Hayek-Harvey Guillén-Wa...   \n",
              "3         3922.0  Letitia Wright-Lupita Nyong'o-Danai Gurira-Win...   \n",
              "4          540.0  Tom Hanks-Mariana Treviño-Rachel Keller-Manuel...   \n",
              "...          ...                                                ...   \n",
              "7613       556.0  Maiara Walsh-Lauren Bowles-Ashton Leigh-Diedri...   \n",
              "7614      3781.0  Vince Vaughn-Owen Wilson-Rose Byrne-Aasif Mand...   \n",
              "7615       451.0  Mia Wasikowska-Adam Driver-Emma Booth-Jessica ...   \n",
              "7616      1112.0  Christian Clavier-Isabelle Nanty-Pierre-Franço...   \n",
              "7617       377.0  Michael J. Willett-Paul Iacono-Sasha Pieterse-...   \n",
              "\n",
              "                                               keywords  \\\n",
              "0     based on novel or book-sacrifice-cabin-faith-e...   \n",
              "1     pilot-airplane-philippines-held hostage-plane ...   \n",
              "2     fairy tale-talking dog-spin off-aftercreditsst...   \n",
              "3     loss of loved one-hero-sequel-superhero-based ...   \n",
              "4     based on novel or book-suicide attempt-remake-...   \n",
              "...                                                 ...   \n",
              "7613                                             parody   \n",
              "7614  competition-california-mattress shop-job inter...   \n",
              "7615  camel-biography-australia-based on true story-...   \n",
              "7616                         high school-school teacher   \n",
              "7617  coming out-high school-friends-best friend-mor...   \n",
              "\n",
              "                           poster_path  \n",
              "0     /dm06L9pxDOL9jNSK4Cb6y139rrG.jpg  \n",
              "1     /qi9r5xBgcc9KTxlOLjssEbDgO0J.jpg  \n",
              "2     /kuf6dutpsT0vSVehic3EZIqkOBt.jpg  \n",
              "3     /sv1xJUazXeYqALzczSZ3O6nkH75.jpg  \n",
              "4     /130H1gap9lFfiTF9iDrqNIkFvC9.jpg  \n",
              "...                                ...  \n",
              "7613  /oHTNil93kpVQ6TOE4pzypgxPKLb.jpg  \n",
              "7614  /hIh3ZgsZ31nbUAGn5SKIZGKiKCX.jpg  \n",
              "7615  /qDSA80DC8BmBrErQsiL23qwoeCw.jpg  \n",
              "7616  /59Bi4wtdoxXV9eaPat7em2ahISI.jpg  \n",
              "7617  /f4fR1WMgSv7K93ZPoJlPyvaApdE.jpg  \n",
              "\n",
              "[7618 rows x 11 columns]"
            ],
            "text/html": [
              "\n",
              "  <div id=\"df-9fbf100c-d154-4b91-9354-c5a9362b0bd6\">\n",
              "    <div class=\"colab-df-container\">\n",
              "      <div>\n",
              "<style scoped>\n",
              "    .dataframe tbody tr th:only-of-type {\n",
              "        vertical-align: middle;\n",
              "    }\n",
              "\n",
              "    .dataframe tbody tr th {\n",
              "        vertical-align: top;\n",
              "    }\n",
              "\n",
              "    .dataframe thead th {\n",
              "        text-align: right;\n",
              "    }\n",
              "</style>\n",
              "<table border=\"1\" class=\"dataframe\">\n",
              "  <thead>\n",
              "    <tr style=\"text-align: right;\">\n",
              "      <th></th>\n",
              "      <th>index</th>\n",
              "      <th>id</th>\n",
              "      <th>title</th>\n",
              "      <th>genres</th>\n",
              "      <th>original_language</th>\n",
              "      <th>overview</th>\n",
              "      <th>release_date</th>\n",
              "      <th>vote_count</th>\n",
              "      <th>credits</th>\n",
              "      <th>keywords</th>\n",
              "      <th>poster_path</th>\n",
              "    </tr>\n",
              "  </thead>\n",
              "  <tbody>\n",
              "    <tr>\n",
              "      <th>0</th>\n",
              "      <td>0</td>\n",
              "      <td>631842</td>\n",
              "      <td>Knock at the Cabin</td>\n",
              "      <td>Horror-Mystery-Thriller</td>\n",
              "      <td>en</td>\n",
              "      <td>While vacationing at a remote cabin a young gi...</td>\n",
              "      <td>2023-02-01</td>\n",
              "      <td>888.0</td>\n",
              "      <td>Dave Bautista-Jonathan Groff-Ben Aldridge-Kris...</td>\n",
              "      <td>based on novel or book-sacrifice-cabin-faith-e...</td>\n",
              "      <td>/dm06L9pxDOL9jNSK4Cb6y139rrG.jpg</td>\n",
              "    </tr>\n",
              "    <tr>\n",
              "      <th>1</th>\n",
              "      <td>1</td>\n",
              "      <td>646389</td>\n",
              "      <td>Plane</td>\n",
              "      <td>Action-Adventure-Thriller</td>\n",
              "      <td>en</td>\n",
              "      <td>After a heroic job of successfully landing his...</td>\n",
              "      <td>2023-01-12</td>\n",
              "      <td>785.0</td>\n",
              "      <td>Gerard Butler-Mike Colter-Yoson An-Tony Goldwy...</td>\n",
              "      <td>pilot-airplane-philippines-held hostage-plane ...</td>\n",
              "      <td>/qi9r5xBgcc9KTxlOLjssEbDgO0J.jpg</td>\n",
              "    </tr>\n",
              "    <tr>\n",
              "      <th>2</th>\n",
              "      <td>2</td>\n",
              "      <td>315162</td>\n",
              "      <td>Puss in Boots: The Last Wish</td>\n",
              "      <td>Animation-Adventure-Comedy-Family</td>\n",
              "      <td>en</td>\n",
              "      <td>Puss in Boots discovers that his passion for a...</td>\n",
              "      <td>2022-12-07</td>\n",
              "      <td>4357.0</td>\n",
              "      <td>Antonio Banderas-Salma Hayek-Harvey Guillén-Wa...</td>\n",
              "      <td>fairy tale-talking dog-spin off-aftercreditsst...</td>\n",
              "      <td>/kuf6dutpsT0vSVehic3EZIqkOBt.jpg</td>\n",
              "    </tr>\n",
              "    <tr>\n",
              "      <th>3</th>\n",
              "      <td>3</td>\n",
              "      <td>505642</td>\n",
              "      <td>Black Panther: Wakanda Forever</td>\n",
              "      <td>Action-Adventure-Science Fiction</td>\n",
              "      <td>en</td>\n",
              "      <td>Queen Ramonda Shuri M’Baku Okoye and the Dora ...</td>\n",
              "      <td>2022-11-09</td>\n",
              "      <td>3922.0</td>\n",
              "      <td>Letitia Wright-Lupita Nyong'o-Danai Gurira-Win...</td>\n",
              "      <td>loss of loved one-hero-sequel-superhero-based ...</td>\n",
              "      <td>/sv1xJUazXeYqALzczSZ3O6nkH75.jpg</td>\n",
              "    </tr>\n",
              "    <tr>\n",
              "      <th>4</th>\n",
              "      <td>7</td>\n",
              "      <td>937278</td>\n",
              "      <td>A Man Called Otto</td>\n",
              "      <td>Comedy-Drama</td>\n",
              "      <td>en</td>\n",
              "      <td>When a lively young family moves in next door ...</td>\n",
              "      <td>2022-12-28</td>\n",
              "      <td>540.0</td>\n",
              "      <td>Tom Hanks-Mariana Treviño-Rachel Keller-Manuel...</td>\n",
              "      <td>based on novel or book-suicide attempt-remake-...</td>\n",
              "      <td>/130H1gap9lFfiTF9iDrqNIkFvC9.jpg</td>\n",
              "    </tr>\n",
              "    <tr>\n",
              "      <th>...</th>\n",
              "      <td>...</td>\n",
              "      <td>...</td>\n",
              "      <td>...</td>\n",
              "      <td>...</td>\n",
              "      <td>...</td>\n",
              "      <td>...</td>\n",
              "      <td>...</td>\n",
              "      <td>...</td>\n",
              "      <td>...</td>\n",
              "      <td>...</td>\n",
              "      <td>...</td>\n",
              "    </tr>\n",
              "    <tr>\n",
              "      <th>7613</th>\n",
              "      <td>243943</td>\n",
              "      <td>225703</td>\n",
              "      <td>The Starving Games</td>\n",
              "      <td>Comedy</td>\n",
              "      <td>en</td>\n",
              "      <td>In this Hunger Games spoof Kantmiss Evershot m...</td>\n",
              "      <td>2013-11-07</td>\n",
              "      <td>556.0</td>\n",
              "      <td>Maiara Walsh-Lauren Bowles-Ashton Leigh-Diedri...</td>\n",
              "      <td>parody</td>\n",
              "      <td>/oHTNil93kpVQ6TOE4pzypgxPKLb.jpg</td>\n",
              "    </tr>\n",
              "    <tr>\n",
              "      <th>7614</th>\n",
              "      <td>286374</td>\n",
              "      <td>116741</td>\n",
              "      <td>The Internship</td>\n",
              "      <td>Comedy</td>\n",
              "      <td>en</td>\n",
              "      <td>Two recently laid-off men in their 40s try to ...</td>\n",
              "      <td>2013-06-07</td>\n",
              "      <td>3781.0</td>\n",
              "      <td>Vince Vaughn-Owen Wilson-Rose Byrne-Aasif Mand...</td>\n",
              "      <td>competition-california-mattress shop-job inter...</td>\n",
              "      <td>/hIh3ZgsZ31nbUAGn5SKIZGKiKCX.jpg</td>\n",
              "    </tr>\n",
              "    <tr>\n",
              "      <th>7615</th>\n",
              "      <td>346892</td>\n",
              "      <td>203819</td>\n",
              "      <td>Tracks</td>\n",
              "      <td>Adventure-Drama</td>\n",
              "      <td>en</td>\n",
              "      <td>Accompanied only by her faithful dog and four ...</td>\n",
              "      <td>2013-12-19</td>\n",
              "      <td>451.0</td>\n",
              "      <td>Mia Wasikowska-Adam Driver-Emma Booth-Jessica ...</td>\n",
              "      <td>camel-biography-australia-based on true story-...</td>\n",
              "      <td>/qDSA80DC8BmBrErQsiL23qwoeCw.jpg</td>\n",
              "    </tr>\n",
              "    <tr>\n",
              "      <th>7616</th>\n",
              "      <td>569282</td>\n",
              "      <td>182219</td>\n",
              "      <td>Serial Teachers</td>\n",
              "      <td>Comedy</td>\n",
              "      <td>fr</td>\n",
              "      <td>With only 12 percent of its pupils obtaining t...</td>\n",
              "      <td>2013-04-17</td>\n",
              "      <td>1112.0</td>\n",
              "      <td>Christian Clavier-Isabelle Nanty-Pierre-Franço...</td>\n",
              "      <td>high school-school teacher</td>\n",
              "      <td>/59Bi4wtdoxXV9eaPat7em2ahISI.jpg</td>\n",
              "    </tr>\n",
              "    <tr>\n",
              "      <th>7617</th>\n",
              "      <td>578000</td>\n",
              "      <td>174323</td>\n",
              "      <td>G.B.F.</td>\n",
              "      <td>Comedy-Drama</td>\n",
              "      <td>en</td>\n",
              "      <td>The bitter fight for supremacy between the thr...</td>\n",
              "      <td>2013-04-19</td>\n",
              "      <td>377.0</td>\n",
              "      <td>Michael J. Willett-Paul Iacono-Sasha Pieterse-...</td>\n",
              "      <td>coming out-high school-friends-best friend-mor...</td>\n",
              "      <td>/f4fR1WMgSv7K93ZPoJlPyvaApdE.jpg</td>\n",
              "    </tr>\n",
              "  </tbody>\n",
              "</table>\n",
              "<p>7618 rows × 11 columns</p>\n",
              "</div>\n",
              "      <button class=\"colab-df-convert\" onclick=\"convertToInteractive('df-9fbf100c-d154-4b91-9354-c5a9362b0bd6')\"\n",
              "              title=\"Convert this dataframe to an interactive table.\"\n",
              "              style=\"display:none;\">\n",
              "        \n",
              "  <svg xmlns=\"http://www.w3.org/2000/svg\" height=\"24px\"viewBox=\"0 0 24 24\"\n",
              "       width=\"24px\">\n",
              "    <path d=\"M0 0h24v24H0V0z\" fill=\"none\"/>\n",
              "    <path d=\"M18.56 5.44l.94 2.06.94-2.06 2.06-.94-2.06-.94-.94-2.06-.94 2.06-2.06.94zm-11 1L8.5 8.5l.94-2.06 2.06-.94-2.06-.94L8.5 2.5l-.94 2.06-2.06.94zm10 10l.94 2.06.94-2.06 2.06-.94-2.06-.94-.94-2.06-.94 2.06-2.06.94z\"/><path d=\"M17.41 7.96l-1.37-1.37c-.4-.4-.92-.59-1.43-.59-.52 0-1.04.2-1.43.59L10.3 9.45l-7.72 7.72c-.78.78-.78 2.05 0 2.83L4 21.41c.39.39.9.59 1.41.59.51 0 1.02-.2 1.41-.59l7.78-7.78 2.81-2.81c.8-.78.8-2.07 0-2.86zM5.41 20L4 18.59l7.72-7.72 1.47 1.35L5.41 20z\"/>\n",
              "  </svg>\n",
              "      </button>\n",
              "      \n",
              "  <style>\n",
              "    .colab-df-container {\n",
              "      display:flex;\n",
              "      flex-wrap:wrap;\n",
              "      gap: 12px;\n",
              "    }\n",
              "\n",
              "    .colab-df-convert {\n",
              "      background-color: #E8F0FE;\n",
              "      border: none;\n",
              "      border-radius: 50%;\n",
              "      cursor: pointer;\n",
              "      display: none;\n",
              "      fill: #1967D2;\n",
              "      height: 32px;\n",
              "      padding: 0 0 0 0;\n",
              "      width: 32px;\n",
              "    }\n",
              "\n",
              "    .colab-df-convert:hover {\n",
              "      background-color: #E2EBFA;\n",
              "      box-shadow: 0px 1px 2px rgba(60, 64, 67, 0.3), 0px 1px 3px 1px rgba(60, 64, 67, 0.15);\n",
              "      fill: #174EA6;\n",
              "    }\n",
              "\n",
              "    [theme=dark] .colab-df-convert {\n",
              "      background-color: #3B4455;\n",
              "      fill: #D2E3FC;\n",
              "    }\n",
              "\n",
              "    [theme=dark] .colab-df-convert:hover {\n",
              "      background-color: #434B5C;\n",
              "      box-shadow: 0px 1px 3px 1px rgba(0, 0, 0, 0.15);\n",
              "      filter: drop-shadow(0px 1px 2px rgba(0, 0, 0, 0.3));\n",
              "      fill: #FFFFFF;\n",
              "    }\n",
              "  </style>\n",
              "\n",
              "      <script>\n",
              "        const buttonEl =\n",
              "          document.querySelector('#df-9fbf100c-d154-4b91-9354-c5a9362b0bd6 button.colab-df-convert');\n",
              "        buttonEl.style.display =\n",
              "          google.colab.kernel.accessAllowed ? 'block' : 'none';\n",
              "\n",
              "        async function convertToInteractive(key) {\n",
              "          const element = document.querySelector('#df-9fbf100c-d154-4b91-9354-c5a9362b0bd6');\n",
              "          const dataTable =\n",
              "            await google.colab.kernel.invokeFunction('convertToInteractive',\n",
              "                                                     [key], {});\n",
              "          if (!dataTable) return;\n",
              "\n",
              "          const docLinkHtml = 'Like what you see? Visit the ' +\n",
              "            '<a target=\"_blank\" href=https://colab.research.google.com/notebooks/data_table.ipynb>data table notebook</a>'\n",
              "            + ' to learn more about interactive tables.';\n",
              "          element.innerHTML = '';\n",
              "          dataTable['output_type'] = 'display_data';\n",
              "          await google.colab.output.renderOutput(dataTable, element);\n",
              "          const docLink = document.createElement('div');\n",
              "          docLink.innerHTML = docLinkHtml;\n",
              "          element.appendChild(docLink);\n",
              "        }\n",
              "      </script>\n",
              "    </div>\n",
              "  </div>\n",
              "  "
            ]
          },
          "metadata": {},
          "execution_count": 128
        }
      ]
    },
    {
      "cell_type": "code",
      "source": [
        "index = df[(df.genres == \"\") & (df.overview == \"\")].index\n",
        "df.drop(index, inplace=True)"
      ],
      "metadata": {
        "id": "vsjBfGU-ha25"
      },
      "execution_count": null,
      "outputs": []
    },
    {
      "cell_type": "code",
      "source": [
        "df.shape"
      ],
      "metadata": {
        "colab": {
          "base_uri": "https://localhost:8080/"
        },
        "id": "8XmGYWa0oPCp",
        "outputId": "365a22e4-7bb6-46e3-c995-fbc35eeb29e0"
      },
      "execution_count": null,
      "outputs": [
        {
          "output_type": "execute_result",
          "data": {
            "text/plain": [
              "(7618, 11)"
            ]
          },
          "metadata": {},
          "execution_count": 130
        }
      ]
    },
    {
      "cell_type": "code",
      "source": [
        "df.head()"
      ],
      "metadata": {
        "colab": {
          "base_uri": "https://localhost:8080/",
          "height": 337
        },
        "id": "4H6BFUi5oRl5",
        "outputId": "7ac1e4df-d593-4a25-a8b0-fdce6a721704"
      },
      "execution_count": null,
      "outputs": [
        {
          "output_type": "execute_result",
          "data": {
            "text/plain": [
              "   index      id                           title  \\\n",
              "0      0  631842              Knock at the Cabin   \n",
              "1      1  646389                           Plane   \n",
              "2      2  315162    Puss in Boots: The Last Wish   \n",
              "3      3  505642  Black Panther: Wakanda Forever   \n",
              "4      7  937278               A Man Called Otto   \n",
              "\n",
              "                              genres original_language  \\\n",
              "0            Horror-Mystery-Thriller                en   \n",
              "1          Action-Adventure-Thriller                en   \n",
              "2  Animation-Adventure-Comedy-Family                en   \n",
              "3   Action-Adventure-Science Fiction                en   \n",
              "4                       Comedy-Drama                en   \n",
              "\n",
              "                                            overview release_date  vote_count  \\\n",
              "0  While vacationing at a remote cabin a young gi...   2023-02-01       888.0   \n",
              "1  After a heroic job of successfully landing his...   2023-01-12       785.0   \n",
              "2  Puss in Boots discovers that his passion for a...   2022-12-07      4357.0   \n",
              "3  Queen Ramonda Shuri M’Baku Okoye and the Dora ...   2022-11-09      3922.0   \n",
              "4  When a lively young family moves in next door ...   2022-12-28       540.0   \n",
              "\n",
              "                                             credits  \\\n",
              "0  Dave Bautista-Jonathan Groff-Ben Aldridge-Kris...   \n",
              "1  Gerard Butler-Mike Colter-Yoson An-Tony Goldwy...   \n",
              "2  Antonio Banderas-Salma Hayek-Harvey Guillén-Wa...   \n",
              "3  Letitia Wright-Lupita Nyong'o-Danai Gurira-Win...   \n",
              "4  Tom Hanks-Mariana Treviño-Rachel Keller-Manuel...   \n",
              "\n",
              "                                            keywords  \\\n",
              "0  based on novel or book-sacrifice-cabin-faith-e...   \n",
              "1  pilot-airplane-philippines-held hostage-plane ...   \n",
              "2  fairy tale-talking dog-spin off-aftercreditsst...   \n",
              "3  loss of loved one-hero-sequel-superhero-based ...   \n",
              "4  based on novel or book-suicide attempt-remake-...   \n",
              "\n",
              "                        poster_path  \n",
              "0  /dm06L9pxDOL9jNSK4Cb6y139rrG.jpg  \n",
              "1  /qi9r5xBgcc9KTxlOLjssEbDgO0J.jpg  \n",
              "2  /kuf6dutpsT0vSVehic3EZIqkOBt.jpg  \n",
              "3  /sv1xJUazXeYqALzczSZ3O6nkH75.jpg  \n",
              "4  /130H1gap9lFfiTF9iDrqNIkFvC9.jpg  "
            ],
            "text/html": [
              "\n",
              "  <div id=\"df-bb64fb42-8111-4a4a-9b04-cf8900a06be4\">\n",
              "    <div class=\"colab-df-container\">\n",
              "      <div>\n",
              "<style scoped>\n",
              "    .dataframe tbody tr th:only-of-type {\n",
              "        vertical-align: middle;\n",
              "    }\n",
              "\n",
              "    .dataframe tbody tr th {\n",
              "        vertical-align: top;\n",
              "    }\n",
              "\n",
              "    .dataframe thead th {\n",
              "        text-align: right;\n",
              "    }\n",
              "</style>\n",
              "<table border=\"1\" class=\"dataframe\">\n",
              "  <thead>\n",
              "    <tr style=\"text-align: right;\">\n",
              "      <th></th>\n",
              "      <th>index</th>\n",
              "      <th>id</th>\n",
              "      <th>title</th>\n",
              "      <th>genres</th>\n",
              "      <th>original_language</th>\n",
              "      <th>overview</th>\n",
              "      <th>release_date</th>\n",
              "      <th>vote_count</th>\n",
              "      <th>credits</th>\n",
              "      <th>keywords</th>\n",
              "      <th>poster_path</th>\n",
              "    </tr>\n",
              "  </thead>\n",
              "  <tbody>\n",
              "    <tr>\n",
              "      <th>0</th>\n",
              "      <td>0</td>\n",
              "      <td>631842</td>\n",
              "      <td>Knock at the Cabin</td>\n",
              "      <td>Horror-Mystery-Thriller</td>\n",
              "      <td>en</td>\n",
              "      <td>While vacationing at a remote cabin a young gi...</td>\n",
              "      <td>2023-02-01</td>\n",
              "      <td>888.0</td>\n",
              "      <td>Dave Bautista-Jonathan Groff-Ben Aldridge-Kris...</td>\n",
              "      <td>based on novel or book-sacrifice-cabin-faith-e...</td>\n",
              "      <td>/dm06L9pxDOL9jNSK4Cb6y139rrG.jpg</td>\n",
              "    </tr>\n",
              "    <tr>\n",
              "      <th>1</th>\n",
              "      <td>1</td>\n",
              "      <td>646389</td>\n",
              "      <td>Plane</td>\n",
              "      <td>Action-Adventure-Thriller</td>\n",
              "      <td>en</td>\n",
              "      <td>After a heroic job of successfully landing his...</td>\n",
              "      <td>2023-01-12</td>\n",
              "      <td>785.0</td>\n",
              "      <td>Gerard Butler-Mike Colter-Yoson An-Tony Goldwy...</td>\n",
              "      <td>pilot-airplane-philippines-held hostage-plane ...</td>\n",
              "      <td>/qi9r5xBgcc9KTxlOLjssEbDgO0J.jpg</td>\n",
              "    </tr>\n",
              "    <tr>\n",
              "      <th>2</th>\n",
              "      <td>2</td>\n",
              "      <td>315162</td>\n",
              "      <td>Puss in Boots: The Last Wish</td>\n",
              "      <td>Animation-Adventure-Comedy-Family</td>\n",
              "      <td>en</td>\n",
              "      <td>Puss in Boots discovers that his passion for a...</td>\n",
              "      <td>2022-12-07</td>\n",
              "      <td>4357.0</td>\n",
              "      <td>Antonio Banderas-Salma Hayek-Harvey Guillén-Wa...</td>\n",
              "      <td>fairy tale-talking dog-spin off-aftercreditsst...</td>\n",
              "      <td>/kuf6dutpsT0vSVehic3EZIqkOBt.jpg</td>\n",
              "    </tr>\n",
              "    <tr>\n",
              "      <th>3</th>\n",
              "      <td>3</td>\n",
              "      <td>505642</td>\n",
              "      <td>Black Panther: Wakanda Forever</td>\n",
              "      <td>Action-Adventure-Science Fiction</td>\n",
              "      <td>en</td>\n",
              "      <td>Queen Ramonda Shuri M’Baku Okoye and the Dora ...</td>\n",
              "      <td>2022-11-09</td>\n",
              "      <td>3922.0</td>\n",
              "      <td>Letitia Wright-Lupita Nyong'o-Danai Gurira-Win...</td>\n",
              "      <td>loss of loved one-hero-sequel-superhero-based ...</td>\n",
              "      <td>/sv1xJUazXeYqALzczSZ3O6nkH75.jpg</td>\n",
              "    </tr>\n",
              "    <tr>\n",
              "      <th>4</th>\n",
              "      <td>7</td>\n",
              "      <td>937278</td>\n",
              "      <td>A Man Called Otto</td>\n",
              "      <td>Comedy-Drama</td>\n",
              "      <td>en</td>\n",
              "      <td>When a lively young family moves in next door ...</td>\n",
              "      <td>2022-12-28</td>\n",
              "      <td>540.0</td>\n",
              "      <td>Tom Hanks-Mariana Treviño-Rachel Keller-Manuel...</td>\n",
              "      <td>based on novel or book-suicide attempt-remake-...</td>\n",
              "      <td>/130H1gap9lFfiTF9iDrqNIkFvC9.jpg</td>\n",
              "    </tr>\n",
              "  </tbody>\n",
              "</table>\n",
              "</div>\n",
              "      <button class=\"colab-df-convert\" onclick=\"convertToInteractive('df-bb64fb42-8111-4a4a-9b04-cf8900a06be4')\"\n",
              "              title=\"Convert this dataframe to an interactive table.\"\n",
              "              style=\"display:none;\">\n",
              "        \n",
              "  <svg xmlns=\"http://www.w3.org/2000/svg\" height=\"24px\"viewBox=\"0 0 24 24\"\n",
              "       width=\"24px\">\n",
              "    <path d=\"M0 0h24v24H0V0z\" fill=\"none\"/>\n",
              "    <path d=\"M18.56 5.44l.94 2.06.94-2.06 2.06-.94-2.06-.94-.94-2.06-.94 2.06-2.06.94zm-11 1L8.5 8.5l.94-2.06 2.06-.94-2.06-.94L8.5 2.5l-.94 2.06-2.06.94zm10 10l.94 2.06.94-2.06 2.06-.94-2.06-.94-.94-2.06-.94 2.06-2.06.94z\"/><path d=\"M17.41 7.96l-1.37-1.37c-.4-.4-.92-.59-1.43-.59-.52 0-1.04.2-1.43.59L10.3 9.45l-7.72 7.72c-.78.78-.78 2.05 0 2.83L4 21.41c.39.39.9.59 1.41.59.51 0 1.02-.2 1.41-.59l7.78-7.78 2.81-2.81c.8-.78.8-2.07 0-2.86zM5.41 20L4 18.59l7.72-7.72 1.47 1.35L5.41 20z\"/>\n",
              "  </svg>\n",
              "      </button>\n",
              "      \n",
              "  <style>\n",
              "    .colab-df-container {\n",
              "      display:flex;\n",
              "      flex-wrap:wrap;\n",
              "      gap: 12px;\n",
              "    }\n",
              "\n",
              "    .colab-df-convert {\n",
              "      background-color: #E8F0FE;\n",
              "      border: none;\n",
              "      border-radius: 50%;\n",
              "      cursor: pointer;\n",
              "      display: none;\n",
              "      fill: #1967D2;\n",
              "      height: 32px;\n",
              "      padding: 0 0 0 0;\n",
              "      width: 32px;\n",
              "    }\n",
              "\n",
              "    .colab-df-convert:hover {\n",
              "      background-color: #E2EBFA;\n",
              "      box-shadow: 0px 1px 2px rgba(60, 64, 67, 0.3), 0px 1px 3px 1px rgba(60, 64, 67, 0.15);\n",
              "      fill: #174EA6;\n",
              "    }\n",
              "\n",
              "    [theme=dark] .colab-df-convert {\n",
              "      background-color: #3B4455;\n",
              "      fill: #D2E3FC;\n",
              "    }\n",
              "\n",
              "    [theme=dark] .colab-df-convert:hover {\n",
              "      background-color: #434B5C;\n",
              "      box-shadow: 0px 1px 3px 1px rgba(0, 0, 0, 0.15);\n",
              "      filter: drop-shadow(0px 1px 2px rgba(0, 0, 0, 0.3));\n",
              "      fill: #FFFFFF;\n",
              "    }\n",
              "  </style>\n",
              "\n",
              "      <script>\n",
              "        const buttonEl =\n",
              "          document.querySelector('#df-bb64fb42-8111-4a4a-9b04-cf8900a06be4 button.colab-df-convert');\n",
              "        buttonEl.style.display =\n",
              "          google.colab.kernel.accessAllowed ? 'block' : 'none';\n",
              "\n",
              "        async function convertToInteractive(key) {\n",
              "          const element = document.querySelector('#df-bb64fb42-8111-4a4a-9b04-cf8900a06be4');\n",
              "          const dataTable =\n",
              "            await google.colab.kernel.invokeFunction('convertToInteractive',\n",
              "                                                     [key], {});\n",
              "          if (!dataTable) return;\n",
              "\n",
              "          const docLinkHtml = 'Like what you see? Visit the ' +\n",
              "            '<a target=\"_blank\" href=https://colab.research.google.com/notebooks/data_table.ipynb>data table notebook</a>'\n",
              "            + ' to learn more about interactive tables.';\n",
              "          element.innerHTML = '';\n",
              "          dataTable['output_type'] = 'display_data';\n",
              "          await google.colab.output.renderOutput(dataTable, element);\n",
              "          const docLink = document.createElement('div');\n",
              "          docLink.innerHTML = docLinkHtml;\n",
              "          element.appendChild(docLink);\n",
              "        }\n",
              "      </script>\n",
              "    </div>\n",
              "  </div>\n",
              "  "
            ]
          },
          "metadata": {},
          "execution_count": 131
        }
      ]
    },
    {
      "cell_type": "code",
      "source": [
        "df.info()"
      ],
      "metadata": {
        "colab": {
          "base_uri": "https://localhost:8080/"
        },
        "id": "V9OI8Lr_oUh6",
        "outputId": "1053c57d-37ce-41a3-d1ad-c73a50c52310"
      },
      "execution_count": null,
      "outputs": [
        {
          "output_type": "stream",
          "name": "stdout",
          "text": [
            "<class 'pandas.core.frame.DataFrame'>\n",
            "Int64Index: 7618 entries, 0 to 7617\n",
            "Data columns (total 11 columns):\n",
            " #   Column             Non-Null Count  Dtype  \n",
            "---  ------             --------------  -----  \n",
            " 0   index              7618 non-null   int64  \n",
            " 1   id                 7618 non-null   int64  \n",
            " 2   title              7618 non-null   object \n",
            " 3   genres             7618 non-null   object \n",
            " 4   original_language  7618 non-null   object \n",
            " 5   overview           7618 non-null   object \n",
            " 6   release_date       7618 non-null   object \n",
            " 7   vote_count         7618 non-null   float64\n",
            " 8   credits            7618 non-null   object \n",
            " 9   keywords           7618 non-null   object \n",
            " 10  poster_path        7618 non-null   object \n",
            "dtypes: float64(1), int64(2), object(8)\n",
            "memory usage: 714.2+ KB\n"
          ]
        }
      ]
    },
    {
      "cell_type": "code",
      "source": [
        "df.genres = df.genres.apply(lambda x: \" \".join(x.split(\"-\")))\n",
        "df.keywords = df.keywords.apply(lambda x: \" \".join(x.split(\"-\")))\n",
        "df.credits = df.credits.apply(lambda x: \" \".join(x.replace(\" \", \"\").split(\"-\")[:5]))"
      ],
      "metadata": {
        "id": "bkoeBGqsheDJ"
      },
      "execution_count": null,
      "outputs": []
    },
    {
      "cell_type": "code",
      "source": [
        "df[\"tags\"] =df.overview + \" \"+ df.genres + \" \"  +df.credits + \" \" +df.keywords + \" \" + df.original_language"
      ],
      "metadata": {
        "id": "QWbOXPDYhiWa"
      },
      "execution_count": null,
      "outputs": []
    },
    {
      "cell_type": "code",
      "source": [
        "df['tags']"
      ],
      "metadata": {
        "colab": {
          "base_uri": "https://localhost:8080/"
        },
        "id": "2JGD1OwdnsEX",
        "outputId": "b227595c-09ca-4408-dc1c-ff3ba5494dc0"
      },
      "execution_count": null,
      "outputs": [
        {
          "output_type": "execute_result",
          "data": {
            "text/plain": [
              "0       While vacationing at a remote cabin a young gi...\n",
              "1       After a heroic job of successfully landing his...\n",
              "2       Puss in Boots discovers that his passion for a...\n",
              "3       Queen Ramonda Shuri M’Baku Okoye and the Dora ...\n",
              "4       When a lively young family moves in next door ...\n",
              "                              ...                        \n",
              "7613    In this Hunger Games spoof Kantmiss Evershot m...\n",
              "7614    Two recently laid-off men in their 40s try to ...\n",
              "7615    Accompanied only by her faithful dog and four ...\n",
              "7616    With only 12 percent of its pupils obtaining t...\n",
              "7617    The bitter fight for supremacy between the thr...\n",
              "Name: tags, Length: 7618, dtype: object"
            ]
          },
          "metadata": {},
          "execution_count": 135
        }
      ]
    },
    {
      "cell_type": "code",
      "source": [
        "df_new = df[[\"id\", \"title\", \"tags\", 'poster_path']]"
      ],
      "metadata": {
        "id": "RtaSlf2dhk0G"
      },
      "execution_count": null,
      "outputs": []
    },
    {
      "cell_type": "code",
      "source": [
        "df_new"
      ],
      "metadata": {
        "colab": {
          "base_uri": "https://localhost:8080/",
          "height": 424
        },
        "id": "poRLx2X6nve2",
        "outputId": "d96da11e-e3f7-4a51-f888-0e9fe53d7c77"
      },
      "execution_count": null,
      "outputs": [
        {
          "output_type": "execute_result",
          "data": {
            "text/plain": [
              "          id                           title  \\\n",
              "0     631842              Knock at the Cabin   \n",
              "1     646389                           Plane   \n",
              "2     315162    Puss in Boots: The Last Wish   \n",
              "3     505642  Black Panther: Wakanda Forever   \n",
              "4     937278               A Man Called Otto   \n",
              "...      ...                             ...   \n",
              "7613  225703              The Starving Games   \n",
              "7614  116741                  The Internship   \n",
              "7615  203819                          Tracks   \n",
              "7616  182219                 Serial Teachers   \n",
              "7617  174323                          G.B.F.   \n",
              "\n",
              "                                                   tags  \\\n",
              "0     While vacationing at a remote cabin a young gi...   \n",
              "1     After a heroic job of successfully landing his...   \n",
              "2     Puss in Boots discovers that his passion for a...   \n",
              "3     Queen Ramonda Shuri M’Baku Okoye and the Dora ...   \n",
              "4     When a lively young family moves in next door ...   \n",
              "...                                                 ...   \n",
              "7613  In this Hunger Games spoof Kantmiss Evershot m...   \n",
              "7614  Two recently laid-off men in their 40s try to ...   \n",
              "7615  Accompanied only by her faithful dog and four ...   \n",
              "7616  With only 12 percent of its pupils obtaining t...   \n",
              "7617  The bitter fight for supremacy between the thr...   \n",
              "\n",
              "                           poster_path  \n",
              "0     /dm06L9pxDOL9jNSK4Cb6y139rrG.jpg  \n",
              "1     /qi9r5xBgcc9KTxlOLjssEbDgO0J.jpg  \n",
              "2     /kuf6dutpsT0vSVehic3EZIqkOBt.jpg  \n",
              "3     /sv1xJUazXeYqALzczSZ3O6nkH75.jpg  \n",
              "4     /130H1gap9lFfiTF9iDrqNIkFvC9.jpg  \n",
              "...                                ...  \n",
              "7613  /oHTNil93kpVQ6TOE4pzypgxPKLb.jpg  \n",
              "7614  /hIh3ZgsZ31nbUAGn5SKIZGKiKCX.jpg  \n",
              "7615  /qDSA80DC8BmBrErQsiL23qwoeCw.jpg  \n",
              "7616  /59Bi4wtdoxXV9eaPat7em2ahISI.jpg  \n",
              "7617  /f4fR1WMgSv7K93ZPoJlPyvaApdE.jpg  \n",
              "\n",
              "[7618 rows x 4 columns]"
            ],
            "text/html": [
              "\n",
              "  <div id=\"df-0e562d2e-20e4-4497-bfa9-bf9fc99ddba8\">\n",
              "    <div class=\"colab-df-container\">\n",
              "      <div>\n",
              "<style scoped>\n",
              "    .dataframe tbody tr th:only-of-type {\n",
              "        vertical-align: middle;\n",
              "    }\n",
              "\n",
              "    .dataframe tbody tr th {\n",
              "        vertical-align: top;\n",
              "    }\n",
              "\n",
              "    .dataframe thead th {\n",
              "        text-align: right;\n",
              "    }\n",
              "</style>\n",
              "<table border=\"1\" class=\"dataframe\">\n",
              "  <thead>\n",
              "    <tr style=\"text-align: right;\">\n",
              "      <th></th>\n",
              "      <th>id</th>\n",
              "      <th>title</th>\n",
              "      <th>tags</th>\n",
              "      <th>poster_path</th>\n",
              "    </tr>\n",
              "  </thead>\n",
              "  <tbody>\n",
              "    <tr>\n",
              "      <th>0</th>\n",
              "      <td>631842</td>\n",
              "      <td>Knock at the Cabin</td>\n",
              "      <td>While vacationing at a remote cabin a young gi...</td>\n",
              "      <td>/dm06L9pxDOL9jNSK4Cb6y139rrG.jpg</td>\n",
              "    </tr>\n",
              "    <tr>\n",
              "      <th>1</th>\n",
              "      <td>646389</td>\n",
              "      <td>Plane</td>\n",
              "      <td>After a heroic job of successfully landing his...</td>\n",
              "      <td>/qi9r5xBgcc9KTxlOLjssEbDgO0J.jpg</td>\n",
              "    </tr>\n",
              "    <tr>\n",
              "      <th>2</th>\n",
              "      <td>315162</td>\n",
              "      <td>Puss in Boots: The Last Wish</td>\n",
              "      <td>Puss in Boots discovers that his passion for a...</td>\n",
              "      <td>/kuf6dutpsT0vSVehic3EZIqkOBt.jpg</td>\n",
              "    </tr>\n",
              "    <tr>\n",
              "      <th>3</th>\n",
              "      <td>505642</td>\n",
              "      <td>Black Panther: Wakanda Forever</td>\n",
              "      <td>Queen Ramonda Shuri M’Baku Okoye and the Dora ...</td>\n",
              "      <td>/sv1xJUazXeYqALzczSZ3O6nkH75.jpg</td>\n",
              "    </tr>\n",
              "    <tr>\n",
              "      <th>4</th>\n",
              "      <td>937278</td>\n",
              "      <td>A Man Called Otto</td>\n",
              "      <td>When a lively young family moves in next door ...</td>\n",
              "      <td>/130H1gap9lFfiTF9iDrqNIkFvC9.jpg</td>\n",
              "    </tr>\n",
              "    <tr>\n",
              "      <th>...</th>\n",
              "      <td>...</td>\n",
              "      <td>...</td>\n",
              "      <td>...</td>\n",
              "      <td>...</td>\n",
              "    </tr>\n",
              "    <tr>\n",
              "      <th>7613</th>\n",
              "      <td>225703</td>\n",
              "      <td>The Starving Games</td>\n",
              "      <td>In this Hunger Games spoof Kantmiss Evershot m...</td>\n",
              "      <td>/oHTNil93kpVQ6TOE4pzypgxPKLb.jpg</td>\n",
              "    </tr>\n",
              "    <tr>\n",
              "      <th>7614</th>\n",
              "      <td>116741</td>\n",
              "      <td>The Internship</td>\n",
              "      <td>Two recently laid-off men in their 40s try to ...</td>\n",
              "      <td>/hIh3ZgsZ31nbUAGn5SKIZGKiKCX.jpg</td>\n",
              "    </tr>\n",
              "    <tr>\n",
              "      <th>7615</th>\n",
              "      <td>203819</td>\n",
              "      <td>Tracks</td>\n",
              "      <td>Accompanied only by her faithful dog and four ...</td>\n",
              "      <td>/qDSA80DC8BmBrErQsiL23qwoeCw.jpg</td>\n",
              "    </tr>\n",
              "    <tr>\n",
              "      <th>7616</th>\n",
              "      <td>182219</td>\n",
              "      <td>Serial Teachers</td>\n",
              "      <td>With only 12 percent of its pupils obtaining t...</td>\n",
              "      <td>/59Bi4wtdoxXV9eaPat7em2ahISI.jpg</td>\n",
              "    </tr>\n",
              "    <tr>\n",
              "      <th>7617</th>\n",
              "      <td>174323</td>\n",
              "      <td>G.B.F.</td>\n",
              "      <td>The bitter fight for supremacy between the thr...</td>\n",
              "      <td>/f4fR1WMgSv7K93ZPoJlPyvaApdE.jpg</td>\n",
              "    </tr>\n",
              "  </tbody>\n",
              "</table>\n",
              "<p>7618 rows × 4 columns</p>\n",
              "</div>\n",
              "      <button class=\"colab-df-convert\" onclick=\"convertToInteractive('df-0e562d2e-20e4-4497-bfa9-bf9fc99ddba8')\"\n",
              "              title=\"Convert this dataframe to an interactive table.\"\n",
              "              style=\"display:none;\">\n",
              "        \n",
              "  <svg xmlns=\"http://www.w3.org/2000/svg\" height=\"24px\"viewBox=\"0 0 24 24\"\n",
              "       width=\"24px\">\n",
              "    <path d=\"M0 0h24v24H0V0z\" fill=\"none\"/>\n",
              "    <path d=\"M18.56 5.44l.94 2.06.94-2.06 2.06-.94-2.06-.94-.94-2.06-.94 2.06-2.06.94zm-11 1L8.5 8.5l.94-2.06 2.06-.94-2.06-.94L8.5 2.5l-.94 2.06-2.06.94zm10 10l.94 2.06.94-2.06 2.06-.94-2.06-.94-.94-2.06-.94 2.06-2.06.94z\"/><path d=\"M17.41 7.96l-1.37-1.37c-.4-.4-.92-.59-1.43-.59-.52 0-1.04.2-1.43.59L10.3 9.45l-7.72 7.72c-.78.78-.78 2.05 0 2.83L4 21.41c.39.39.9.59 1.41.59.51 0 1.02-.2 1.41-.59l7.78-7.78 2.81-2.81c.8-.78.8-2.07 0-2.86zM5.41 20L4 18.59l7.72-7.72 1.47 1.35L5.41 20z\"/>\n",
              "  </svg>\n",
              "      </button>\n",
              "      \n",
              "  <style>\n",
              "    .colab-df-container {\n",
              "      display:flex;\n",
              "      flex-wrap:wrap;\n",
              "      gap: 12px;\n",
              "    }\n",
              "\n",
              "    .colab-df-convert {\n",
              "      background-color: #E8F0FE;\n",
              "      border: none;\n",
              "      border-radius: 50%;\n",
              "      cursor: pointer;\n",
              "      display: none;\n",
              "      fill: #1967D2;\n",
              "      height: 32px;\n",
              "      padding: 0 0 0 0;\n",
              "      width: 32px;\n",
              "    }\n",
              "\n",
              "    .colab-df-convert:hover {\n",
              "      background-color: #E2EBFA;\n",
              "      box-shadow: 0px 1px 2px rgba(60, 64, 67, 0.3), 0px 1px 3px 1px rgba(60, 64, 67, 0.15);\n",
              "      fill: #174EA6;\n",
              "    }\n",
              "\n",
              "    [theme=dark] .colab-df-convert {\n",
              "      background-color: #3B4455;\n",
              "      fill: #D2E3FC;\n",
              "    }\n",
              "\n",
              "    [theme=dark] .colab-df-convert:hover {\n",
              "      background-color: #434B5C;\n",
              "      box-shadow: 0px 1px 3px 1px rgba(0, 0, 0, 0.15);\n",
              "      filter: drop-shadow(0px 1px 2px rgba(0, 0, 0, 0.3));\n",
              "      fill: #FFFFFF;\n",
              "    }\n",
              "  </style>\n",
              "\n",
              "      <script>\n",
              "        const buttonEl =\n",
              "          document.querySelector('#df-0e562d2e-20e4-4497-bfa9-bf9fc99ddba8 button.colab-df-convert');\n",
              "        buttonEl.style.display =\n",
              "          google.colab.kernel.accessAllowed ? 'block' : 'none';\n",
              "\n",
              "        async function convertToInteractive(key) {\n",
              "          const element = document.querySelector('#df-0e562d2e-20e4-4497-bfa9-bf9fc99ddba8');\n",
              "          const dataTable =\n",
              "            await google.colab.kernel.invokeFunction('convertToInteractive',\n",
              "                                                     [key], {});\n",
              "          if (!dataTable) return;\n",
              "\n",
              "          const docLinkHtml = 'Like what you see? Visit the ' +\n",
              "            '<a target=\"_blank\" href=https://colab.research.google.com/notebooks/data_table.ipynb>data table notebook</a>'\n",
              "            + ' to learn more about interactive tables.';\n",
              "          element.innerHTML = '';\n",
              "          dataTable['output_type'] = 'display_data';\n",
              "          await google.colab.output.renderOutput(dataTable, element);\n",
              "          const docLink = document.createElement('div');\n",
              "          docLink.innerHTML = docLinkHtml;\n",
              "          element.appendChild(docLink);\n",
              "        }\n",
              "      </script>\n",
              "    </div>\n",
              "  </div>\n",
              "  "
            ]
          },
          "metadata": {},
          "execution_count": 137
        }
      ]
    },
    {
      "cell_type": "code",
      "source": [
        "df_new.tags = df_new.tags.apply(lambda x:x.lower())"
      ],
      "metadata": {
        "colab": {
          "base_uri": "https://localhost:8080/"
        },
        "id": "BGHuRUedhmle",
        "outputId": "71d1d73f-ff78-43d5-c677-305846a715af"
      },
      "execution_count": null,
      "outputs": [
        {
          "output_type": "stream",
          "name": "stderr",
          "text": [
            "/usr/local/lib/python3.9/dist-packages/pandas/core/generic.py:5516: SettingWithCopyWarning: \n",
            "A value is trying to be set on a copy of a slice from a DataFrame.\n",
            "Try using .loc[row_indexer,col_indexer] = value instead\n",
            "\n",
            "See the caveats in the documentation: https://pandas.pydata.org/pandas-docs/stable/user_guide/indexing.html#returning-a-view-versus-a-copy\n",
            "  self[name] = value\n"
          ]
        }
      ]
    },
    {
      "cell_type": "code",
      "source": [
        "df_new"
      ],
      "metadata": {
        "colab": {
          "base_uri": "https://localhost:8080/",
          "height": 424
        },
        "id": "tHbcYQQGnx6E",
        "outputId": "cb39032c-aff3-4344-f0fa-e44f8996e135"
      },
      "execution_count": null,
      "outputs": [
        {
          "output_type": "execute_result",
          "data": {
            "text/plain": [
              "          id                           title  \\\n",
              "0     631842              Knock at the Cabin   \n",
              "1     646389                           Plane   \n",
              "2     315162    Puss in Boots: The Last Wish   \n",
              "3     505642  Black Panther: Wakanda Forever   \n",
              "4     937278               A Man Called Otto   \n",
              "...      ...                             ...   \n",
              "7613  225703              The Starving Games   \n",
              "7614  116741                  The Internship   \n",
              "7615  203819                          Tracks   \n",
              "7616  182219                 Serial Teachers   \n",
              "7617  174323                          G.B.F.   \n",
              "\n",
              "                                                   tags  \\\n",
              "0     while vacationing at a remote cabin a young gi...   \n",
              "1     after a heroic job of successfully landing his...   \n",
              "2     puss in boots discovers that his passion for a...   \n",
              "3     queen ramonda shuri m’baku okoye and the dora ...   \n",
              "4     when a lively young family moves in next door ...   \n",
              "...                                                 ...   \n",
              "7613  in this hunger games spoof kantmiss evershot m...   \n",
              "7614  two recently laid-off men in their 40s try to ...   \n",
              "7615  accompanied only by her faithful dog and four ...   \n",
              "7616  with only 12 percent of its pupils obtaining t...   \n",
              "7617  the bitter fight for supremacy between the thr...   \n",
              "\n",
              "                           poster_path  \n",
              "0     /dm06L9pxDOL9jNSK4Cb6y139rrG.jpg  \n",
              "1     /qi9r5xBgcc9KTxlOLjssEbDgO0J.jpg  \n",
              "2     /kuf6dutpsT0vSVehic3EZIqkOBt.jpg  \n",
              "3     /sv1xJUazXeYqALzczSZ3O6nkH75.jpg  \n",
              "4     /130H1gap9lFfiTF9iDrqNIkFvC9.jpg  \n",
              "...                                ...  \n",
              "7613  /oHTNil93kpVQ6TOE4pzypgxPKLb.jpg  \n",
              "7614  /hIh3ZgsZ31nbUAGn5SKIZGKiKCX.jpg  \n",
              "7615  /qDSA80DC8BmBrErQsiL23qwoeCw.jpg  \n",
              "7616  /59Bi4wtdoxXV9eaPat7em2ahISI.jpg  \n",
              "7617  /f4fR1WMgSv7K93ZPoJlPyvaApdE.jpg  \n",
              "\n",
              "[7618 rows x 4 columns]"
            ],
            "text/html": [
              "\n",
              "  <div id=\"df-b9bc3a82-f904-41ca-b738-3e5489c040c1\">\n",
              "    <div class=\"colab-df-container\">\n",
              "      <div>\n",
              "<style scoped>\n",
              "    .dataframe tbody tr th:only-of-type {\n",
              "        vertical-align: middle;\n",
              "    }\n",
              "\n",
              "    .dataframe tbody tr th {\n",
              "        vertical-align: top;\n",
              "    }\n",
              "\n",
              "    .dataframe thead th {\n",
              "        text-align: right;\n",
              "    }\n",
              "</style>\n",
              "<table border=\"1\" class=\"dataframe\">\n",
              "  <thead>\n",
              "    <tr style=\"text-align: right;\">\n",
              "      <th></th>\n",
              "      <th>id</th>\n",
              "      <th>title</th>\n",
              "      <th>tags</th>\n",
              "      <th>poster_path</th>\n",
              "    </tr>\n",
              "  </thead>\n",
              "  <tbody>\n",
              "    <tr>\n",
              "      <th>0</th>\n",
              "      <td>631842</td>\n",
              "      <td>Knock at the Cabin</td>\n",
              "      <td>while vacationing at a remote cabin a young gi...</td>\n",
              "      <td>/dm06L9pxDOL9jNSK4Cb6y139rrG.jpg</td>\n",
              "    </tr>\n",
              "    <tr>\n",
              "      <th>1</th>\n",
              "      <td>646389</td>\n",
              "      <td>Plane</td>\n",
              "      <td>after a heroic job of successfully landing his...</td>\n",
              "      <td>/qi9r5xBgcc9KTxlOLjssEbDgO0J.jpg</td>\n",
              "    </tr>\n",
              "    <tr>\n",
              "      <th>2</th>\n",
              "      <td>315162</td>\n",
              "      <td>Puss in Boots: The Last Wish</td>\n",
              "      <td>puss in boots discovers that his passion for a...</td>\n",
              "      <td>/kuf6dutpsT0vSVehic3EZIqkOBt.jpg</td>\n",
              "    </tr>\n",
              "    <tr>\n",
              "      <th>3</th>\n",
              "      <td>505642</td>\n",
              "      <td>Black Panther: Wakanda Forever</td>\n",
              "      <td>queen ramonda shuri m’baku okoye and the dora ...</td>\n",
              "      <td>/sv1xJUazXeYqALzczSZ3O6nkH75.jpg</td>\n",
              "    </tr>\n",
              "    <tr>\n",
              "      <th>4</th>\n",
              "      <td>937278</td>\n",
              "      <td>A Man Called Otto</td>\n",
              "      <td>when a lively young family moves in next door ...</td>\n",
              "      <td>/130H1gap9lFfiTF9iDrqNIkFvC9.jpg</td>\n",
              "    </tr>\n",
              "    <tr>\n",
              "      <th>...</th>\n",
              "      <td>...</td>\n",
              "      <td>...</td>\n",
              "      <td>...</td>\n",
              "      <td>...</td>\n",
              "    </tr>\n",
              "    <tr>\n",
              "      <th>7613</th>\n",
              "      <td>225703</td>\n",
              "      <td>The Starving Games</td>\n",
              "      <td>in this hunger games spoof kantmiss evershot m...</td>\n",
              "      <td>/oHTNil93kpVQ6TOE4pzypgxPKLb.jpg</td>\n",
              "    </tr>\n",
              "    <tr>\n",
              "      <th>7614</th>\n",
              "      <td>116741</td>\n",
              "      <td>The Internship</td>\n",
              "      <td>two recently laid-off men in their 40s try to ...</td>\n",
              "      <td>/hIh3ZgsZ31nbUAGn5SKIZGKiKCX.jpg</td>\n",
              "    </tr>\n",
              "    <tr>\n",
              "      <th>7615</th>\n",
              "      <td>203819</td>\n",
              "      <td>Tracks</td>\n",
              "      <td>accompanied only by her faithful dog and four ...</td>\n",
              "      <td>/qDSA80DC8BmBrErQsiL23qwoeCw.jpg</td>\n",
              "    </tr>\n",
              "    <tr>\n",
              "      <th>7616</th>\n",
              "      <td>182219</td>\n",
              "      <td>Serial Teachers</td>\n",
              "      <td>with only 12 percent of its pupils obtaining t...</td>\n",
              "      <td>/59Bi4wtdoxXV9eaPat7em2ahISI.jpg</td>\n",
              "    </tr>\n",
              "    <tr>\n",
              "      <th>7617</th>\n",
              "      <td>174323</td>\n",
              "      <td>G.B.F.</td>\n",
              "      <td>the bitter fight for supremacy between the thr...</td>\n",
              "      <td>/f4fR1WMgSv7K93ZPoJlPyvaApdE.jpg</td>\n",
              "    </tr>\n",
              "  </tbody>\n",
              "</table>\n",
              "<p>7618 rows × 4 columns</p>\n",
              "</div>\n",
              "      <button class=\"colab-df-convert\" onclick=\"convertToInteractive('df-b9bc3a82-f904-41ca-b738-3e5489c040c1')\"\n",
              "              title=\"Convert this dataframe to an interactive table.\"\n",
              "              style=\"display:none;\">\n",
              "        \n",
              "  <svg xmlns=\"http://www.w3.org/2000/svg\" height=\"24px\"viewBox=\"0 0 24 24\"\n",
              "       width=\"24px\">\n",
              "    <path d=\"M0 0h24v24H0V0z\" fill=\"none\"/>\n",
              "    <path d=\"M18.56 5.44l.94 2.06.94-2.06 2.06-.94-2.06-.94-.94-2.06-.94 2.06-2.06.94zm-11 1L8.5 8.5l.94-2.06 2.06-.94-2.06-.94L8.5 2.5l-.94 2.06-2.06.94zm10 10l.94 2.06.94-2.06 2.06-.94-2.06-.94-.94-2.06-.94 2.06-2.06.94z\"/><path d=\"M17.41 7.96l-1.37-1.37c-.4-.4-.92-.59-1.43-.59-.52 0-1.04.2-1.43.59L10.3 9.45l-7.72 7.72c-.78.78-.78 2.05 0 2.83L4 21.41c.39.39.9.59 1.41.59.51 0 1.02-.2 1.41-.59l7.78-7.78 2.81-2.81c.8-.78.8-2.07 0-2.86zM5.41 20L4 18.59l7.72-7.72 1.47 1.35L5.41 20z\"/>\n",
              "  </svg>\n",
              "      </button>\n",
              "      \n",
              "  <style>\n",
              "    .colab-df-container {\n",
              "      display:flex;\n",
              "      flex-wrap:wrap;\n",
              "      gap: 12px;\n",
              "    }\n",
              "\n",
              "    .colab-df-convert {\n",
              "      background-color: #E8F0FE;\n",
              "      border: none;\n",
              "      border-radius: 50%;\n",
              "      cursor: pointer;\n",
              "      display: none;\n",
              "      fill: #1967D2;\n",
              "      height: 32px;\n",
              "      padding: 0 0 0 0;\n",
              "      width: 32px;\n",
              "    }\n",
              "\n",
              "    .colab-df-convert:hover {\n",
              "      background-color: #E2EBFA;\n",
              "      box-shadow: 0px 1px 2px rgba(60, 64, 67, 0.3), 0px 1px 3px 1px rgba(60, 64, 67, 0.15);\n",
              "      fill: #174EA6;\n",
              "    }\n",
              "\n",
              "    [theme=dark] .colab-df-convert {\n",
              "      background-color: #3B4455;\n",
              "      fill: #D2E3FC;\n",
              "    }\n",
              "\n",
              "    [theme=dark] .colab-df-convert:hover {\n",
              "      background-color: #434B5C;\n",
              "      box-shadow: 0px 1px 3px 1px rgba(0, 0, 0, 0.15);\n",
              "      filter: drop-shadow(0px 1px 2px rgba(0, 0, 0, 0.3));\n",
              "      fill: #FFFFFF;\n",
              "    }\n",
              "  </style>\n",
              "\n",
              "      <script>\n",
              "        const buttonEl =\n",
              "          document.querySelector('#df-b9bc3a82-f904-41ca-b738-3e5489c040c1 button.colab-df-convert');\n",
              "        buttonEl.style.display =\n",
              "          google.colab.kernel.accessAllowed ? 'block' : 'none';\n",
              "\n",
              "        async function convertToInteractive(key) {\n",
              "          const element = document.querySelector('#df-b9bc3a82-f904-41ca-b738-3e5489c040c1');\n",
              "          const dataTable =\n",
              "            await google.colab.kernel.invokeFunction('convertToInteractive',\n",
              "                                                     [key], {});\n",
              "          if (!dataTable) return;\n",
              "\n",
              "          const docLinkHtml = 'Like what you see? Visit the ' +\n",
              "            '<a target=\"_blank\" href=https://colab.research.google.com/notebooks/data_table.ipynb>data table notebook</a>'\n",
              "            + ' to learn more about interactive tables.';\n",
              "          element.innerHTML = '';\n",
              "          dataTable['output_type'] = 'display_data';\n",
              "          await google.colab.output.renderOutput(dataTable, element);\n",
              "          const docLink = document.createElement('div');\n",
              "          docLink.innerHTML = docLinkHtml;\n",
              "          element.appendChild(docLink);\n",
              "        }\n",
              "      </script>\n",
              "    </div>\n",
              "  </div>\n",
              "  "
            ]
          },
          "metadata": {},
          "execution_count": 139
        }
      ]
    },
    {
      "cell_type": "code",
      "source": [
        "df_new.tags"
      ],
      "metadata": {
        "colab": {
          "base_uri": "https://localhost:8080/"
        },
        "id": "xJzzeXJUn2H2",
        "outputId": "96c2b3c5-e5c4-4100-c740-fb7571c02630"
      },
      "execution_count": null,
      "outputs": [
        {
          "output_type": "execute_result",
          "data": {
            "text/plain": [
              "0       while vacationing at a remote cabin a young gi...\n",
              "1       after a heroic job of successfully landing his...\n",
              "2       puss in boots discovers that his passion for a...\n",
              "3       queen ramonda shuri m’baku okoye and the dora ...\n",
              "4       when a lively young family moves in next door ...\n",
              "                              ...                        \n",
              "7613    in this hunger games spoof kantmiss evershot m...\n",
              "7614    two recently laid-off men in their 40s try to ...\n",
              "7615    accompanied only by her faithful dog and four ...\n",
              "7616    with only 12 percent of its pupils obtaining t...\n",
              "7617    the bitter fight for supremacy between the thr...\n",
              "Name: tags, Length: 7618, dtype: object"
            ]
          },
          "metadata": {},
          "execution_count": 140
        }
      ]
    },
    {
      "cell_type": "code",
      "source": [
        "df_new.tags[0]"
      ],
      "metadata": {
        "colab": {
          "base_uri": "https://localhost:8080/",
          "height": 72
        },
        "id": "Rej32U86iHn8",
        "outputId": "9df56b46-5b14-491f-d5dd-0f40805bc91c"
      },
      "execution_count": null,
      "outputs": [
        {
          "output_type": "execute_result",
          "data": {
            "text/plain": [
              "'while vacationing at a remote cabin a young girl and her two fathers are taken hostage by four armed strangers who demand that the family make an unthinkable choice to avert the apocalypse. with limited access to the outside world the family must decide what they believe before all is lost. horror mystery thriller davebautista jonathangroff benaldridge kristencui nikkiamuka based on novel or book sacrifice cabin faith end of the world apocalypse home invasion lgbt aftercreditsstinger adopted child adopted daughter shot on film gay same sex relationship religious symbolism en'"
            ],
            "application/vnd.google.colaboratory.intrinsic+json": {
              "type": "string"
            }
          },
          "metadata": {},
          "execution_count": 141
        }
      ]
    },
    {
      "cell_type": "code",
      "source": [
        "df_new.head()"
      ],
      "metadata": {
        "colab": {
          "base_uri": "https://localhost:8080/",
          "height": 206
        },
        "id": "IdmmI806ia-G",
        "outputId": "5e443778-860e-4f49-852a-4c3ac1945e02"
      },
      "execution_count": null,
      "outputs": [
        {
          "output_type": "execute_result",
          "data": {
            "text/plain": [
              "       id                           title  \\\n",
              "0  631842              Knock at the Cabin   \n",
              "1  646389                           Plane   \n",
              "2  315162    Puss in Boots: The Last Wish   \n",
              "3  505642  Black Panther: Wakanda Forever   \n",
              "4  937278               A Man Called Otto   \n",
              "\n",
              "                                                tags  \\\n",
              "0  while vacationing at a remote cabin a young gi...   \n",
              "1  after a heroic job of successfully landing his...   \n",
              "2  puss in boots discovers that his passion for a...   \n",
              "3  queen ramonda shuri m’baku okoye and the dora ...   \n",
              "4  when a lively young family moves in next door ...   \n",
              "\n",
              "                        poster_path  \n",
              "0  /dm06L9pxDOL9jNSK4Cb6y139rrG.jpg  \n",
              "1  /qi9r5xBgcc9KTxlOLjssEbDgO0J.jpg  \n",
              "2  /kuf6dutpsT0vSVehic3EZIqkOBt.jpg  \n",
              "3  /sv1xJUazXeYqALzczSZ3O6nkH75.jpg  \n",
              "4  /130H1gap9lFfiTF9iDrqNIkFvC9.jpg  "
            ],
            "text/html": [
              "\n",
              "  <div id=\"df-e1e74ad0-abe4-4e33-9445-39c8dbd58cdc\">\n",
              "    <div class=\"colab-df-container\">\n",
              "      <div>\n",
              "<style scoped>\n",
              "    .dataframe tbody tr th:only-of-type {\n",
              "        vertical-align: middle;\n",
              "    }\n",
              "\n",
              "    .dataframe tbody tr th {\n",
              "        vertical-align: top;\n",
              "    }\n",
              "\n",
              "    .dataframe thead th {\n",
              "        text-align: right;\n",
              "    }\n",
              "</style>\n",
              "<table border=\"1\" class=\"dataframe\">\n",
              "  <thead>\n",
              "    <tr style=\"text-align: right;\">\n",
              "      <th></th>\n",
              "      <th>id</th>\n",
              "      <th>title</th>\n",
              "      <th>tags</th>\n",
              "      <th>poster_path</th>\n",
              "    </tr>\n",
              "  </thead>\n",
              "  <tbody>\n",
              "    <tr>\n",
              "      <th>0</th>\n",
              "      <td>631842</td>\n",
              "      <td>Knock at the Cabin</td>\n",
              "      <td>while vacationing at a remote cabin a young gi...</td>\n",
              "      <td>/dm06L9pxDOL9jNSK4Cb6y139rrG.jpg</td>\n",
              "    </tr>\n",
              "    <tr>\n",
              "      <th>1</th>\n",
              "      <td>646389</td>\n",
              "      <td>Plane</td>\n",
              "      <td>after a heroic job of successfully landing his...</td>\n",
              "      <td>/qi9r5xBgcc9KTxlOLjssEbDgO0J.jpg</td>\n",
              "    </tr>\n",
              "    <tr>\n",
              "      <th>2</th>\n",
              "      <td>315162</td>\n",
              "      <td>Puss in Boots: The Last Wish</td>\n",
              "      <td>puss in boots discovers that his passion for a...</td>\n",
              "      <td>/kuf6dutpsT0vSVehic3EZIqkOBt.jpg</td>\n",
              "    </tr>\n",
              "    <tr>\n",
              "      <th>3</th>\n",
              "      <td>505642</td>\n",
              "      <td>Black Panther: Wakanda Forever</td>\n",
              "      <td>queen ramonda shuri m’baku okoye and the dora ...</td>\n",
              "      <td>/sv1xJUazXeYqALzczSZ3O6nkH75.jpg</td>\n",
              "    </tr>\n",
              "    <tr>\n",
              "      <th>4</th>\n",
              "      <td>937278</td>\n",
              "      <td>A Man Called Otto</td>\n",
              "      <td>when a lively young family moves in next door ...</td>\n",
              "      <td>/130H1gap9lFfiTF9iDrqNIkFvC9.jpg</td>\n",
              "    </tr>\n",
              "  </tbody>\n",
              "</table>\n",
              "</div>\n",
              "      <button class=\"colab-df-convert\" onclick=\"convertToInteractive('df-e1e74ad0-abe4-4e33-9445-39c8dbd58cdc')\"\n",
              "              title=\"Convert this dataframe to an interactive table.\"\n",
              "              style=\"display:none;\">\n",
              "        \n",
              "  <svg xmlns=\"http://www.w3.org/2000/svg\" height=\"24px\"viewBox=\"0 0 24 24\"\n",
              "       width=\"24px\">\n",
              "    <path d=\"M0 0h24v24H0V0z\" fill=\"none\"/>\n",
              "    <path d=\"M18.56 5.44l.94 2.06.94-2.06 2.06-.94-2.06-.94-.94-2.06-.94 2.06-2.06.94zm-11 1L8.5 8.5l.94-2.06 2.06-.94-2.06-.94L8.5 2.5l-.94 2.06-2.06.94zm10 10l.94 2.06.94-2.06 2.06-.94-2.06-.94-.94-2.06-.94 2.06-2.06.94z\"/><path d=\"M17.41 7.96l-1.37-1.37c-.4-.4-.92-.59-1.43-.59-.52 0-1.04.2-1.43.59L10.3 9.45l-7.72 7.72c-.78.78-.78 2.05 0 2.83L4 21.41c.39.39.9.59 1.41.59.51 0 1.02-.2 1.41-.59l7.78-7.78 2.81-2.81c.8-.78.8-2.07 0-2.86zM5.41 20L4 18.59l7.72-7.72 1.47 1.35L5.41 20z\"/>\n",
              "  </svg>\n",
              "      </button>\n",
              "      \n",
              "  <style>\n",
              "    .colab-df-container {\n",
              "      display:flex;\n",
              "      flex-wrap:wrap;\n",
              "      gap: 12px;\n",
              "    }\n",
              "\n",
              "    .colab-df-convert {\n",
              "      background-color: #E8F0FE;\n",
              "      border: none;\n",
              "      border-radius: 50%;\n",
              "      cursor: pointer;\n",
              "      display: none;\n",
              "      fill: #1967D2;\n",
              "      height: 32px;\n",
              "      padding: 0 0 0 0;\n",
              "      width: 32px;\n",
              "    }\n",
              "\n",
              "    .colab-df-convert:hover {\n",
              "      background-color: #E2EBFA;\n",
              "      box-shadow: 0px 1px 2px rgba(60, 64, 67, 0.3), 0px 1px 3px 1px rgba(60, 64, 67, 0.15);\n",
              "      fill: #174EA6;\n",
              "    }\n",
              "\n",
              "    [theme=dark] .colab-df-convert {\n",
              "      background-color: #3B4455;\n",
              "      fill: #D2E3FC;\n",
              "    }\n",
              "\n",
              "    [theme=dark] .colab-df-convert:hover {\n",
              "      background-color: #434B5C;\n",
              "      box-shadow: 0px 1px 3px 1px rgba(0, 0, 0, 0.15);\n",
              "      filter: drop-shadow(0px 1px 2px rgba(0, 0, 0, 0.3));\n",
              "      fill: #FFFFFF;\n",
              "    }\n",
              "  </style>\n",
              "\n",
              "      <script>\n",
              "        const buttonEl =\n",
              "          document.querySelector('#df-e1e74ad0-abe4-4e33-9445-39c8dbd58cdc button.colab-df-convert');\n",
              "        buttonEl.style.display =\n",
              "          google.colab.kernel.accessAllowed ? 'block' : 'none';\n",
              "\n",
              "        async function convertToInteractive(key) {\n",
              "          const element = document.querySelector('#df-e1e74ad0-abe4-4e33-9445-39c8dbd58cdc');\n",
              "          const dataTable =\n",
              "            await google.colab.kernel.invokeFunction('convertToInteractive',\n",
              "                                                     [key], {});\n",
              "          if (!dataTable) return;\n",
              "\n",
              "          const docLinkHtml = 'Like what you see? Visit the ' +\n",
              "            '<a target=\"_blank\" href=https://colab.research.google.com/notebooks/data_table.ipynb>data table notebook</a>'\n",
              "            + ' to learn more about interactive tables.';\n",
              "          element.innerHTML = '';\n",
              "          dataTable['output_type'] = 'display_data';\n",
              "          await google.colab.output.renderOutput(dataTable, element);\n",
              "          const docLink = document.createElement('div');\n",
              "          docLink.innerHTML = docLinkHtml;\n",
              "          element.appendChild(docLink);\n",
              "        }\n",
              "      </script>\n",
              "    </div>\n",
              "  </div>\n",
              "  "
            ]
          },
          "metadata": {},
          "execution_count": 142
        }
      ]
    },
    {
      "cell_type": "code",
      "source": [
        "prts = PorterStemmer()"
      ],
      "metadata": {
        "id": "29PJNYiQidrG"
      },
      "execution_count": null,
      "outputs": []
    },
    {
      "cell_type": "code",
      "source": [
        "def stem(text):\n",
        "    y = []\n",
        "    for i in text.split():\n",
        "        y.append(prts.stem(i))\n",
        "    \n",
        "    return \" \".join(y)    "
      ],
      "metadata": {
        "id": "A46hoPdYjaEc"
      },
      "execution_count": null,
      "outputs": []
    },
    {
      "cell_type": "code",
      "source": [
        "df_new[\"tags\"] = df_new[\"tags\"].apply(stem)"
      ],
      "metadata": {
        "colab": {
          "base_uri": "https://localhost:8080/"
        },
        "id": "XNWIF4xIjd7o",
        "outputId": "aaa64450-144e-4b16-da7d-1d441d7a7a12"
      },
      "execution_count": null,
      "outputs": [
        {
          "output_type": "stream",
          "name": "stderr",
          "text": [
            "<ipython-input-145-6e8e4450f3ce>:1: SettingWithCopyWarning: \n",
            "A value is trying to be set on a copy of a slice from a DataFrame.\n",
            "Try using .loc[row_indexer,col_indexer] = value instead\n",
            "\n",
            "See the caveats in the documentation: https://pandas.pydata.org/pandas-docs/stable/user_guide/indexing.html#returning-a-view-versus-a-copy\n",
            "  df_new[\"tags\"] = df_new[\"tags\"].apply(stem)\n"
          ]
        }
      ]
    },
    {
      "cell_type": "code",
      "source": [
        "countvec = CountVectorizer(stop_words=\"english\",max_features=5000)"
      ],
      "metadata": {
        "id": "BJqNgiqTji3r"
      },
      "execution_count": null,
      "outputs": []
    },
    {
      "cell_type": "code",
      "source": [
        "countvec"
      ],
      "metadata": {
        "colab": {
          "base_uri": "https://localhost:8080/",
          "height": 75
        },
        "id": "Mhvw5r_nn-yS",
        "outputId": "d917f1d5-85e1-44da-8561-5edc9f1270e0"
      },
      "execution_count": null,
      "outputs": [
        {
          "output_type": "execute_result",
          "data": {
            "text/plain": [
              "CountVectorizer(max_features=5000, stop_words='english')"
            ],
            "text/html": [
              "<style>#sk-container-id-3 {color: black;background-color: white;}#sk-container-id-3 pre{padding: 0;}#sk-container-id-3 div.sk-toggleable {background-color: white;}#sk-container-id-3 label.sk-toggleable__label {cursor: pointer;display: block;width: 100%;margin-bottom: 0;padding: 0.3em;box-sizing: border-box;text-align: center;}#sk-container-id-3 label.sk-toggleable__label-arrow:before {content: \"▸\";float: left;margin-right: 0.25em;color: #696969;}#sk-container-id-3 label.sk-toggleable__label-arrow:hover:before {color: black;}#sk-container-id-3 div.sk-estimator:hover label.sk-toggleable__label-arrow:before {color: black;}#sk-container-id-3 div.sk-toggleable__content {max-height: 0;max-width: 0;overflow: hidden;text-align: left;background-color: #f0f8ff;}#sk-container-id-3 div.sk-toggleable__content pre {margin: 0.2em;color: black;border-radius: 0.25em;background-color: #f0f8ff;}#sk-container-id-3 input.sk-toggleable__control:checked~div.sk-toggleable__content {max-height: 200px;max-width: 100%;overflow: auto;}#sk-container-id-3 input.sk-toggleable__control:checked~label.sk-toggleable__label-arrow:before {content: \"▾\";}#sk-container-id-3 div.sk-estimator input.sk-toggleable__control:checked~label.sk-toggleable__label {background-color: #d4ebff;}#sk-container-id-3 div.sk-label input.sk-toggleable__control:checked~label.sk-toggleable__label {background-color: #d4ebff;}#sk-container-id-3 input.sk-hidden--visually {border: 0;clip: rect(1px 1px 1px 1px);clip: rect(1px, 1px, 1px, 1px);height: 1px;margin: -1px;overflow: hidden;padding: 0;position: absolute;width: 1px;}#sk-container-id-3 div.sk-estimator {font-family: monospace;background-color: #f0f8ff;border: 1px dotted black;border-radius: 0.25em;box-sizing: border-box;margin-bottom: 0.5em;}#sk-container-id-3 div.sk-estimator:hover {background-color: #d4ebff;}#sk-container-id-3 div.sk-parallel-item::after {content: \"\";width: 100%;border-bottom: 1px solid gray;flex-grow: 1;}#sk-container-id-3 div.sk-label:hover label.sk-toggleable__label {background-color: #d4ebff;}#sk-container-id-3 div.sk-serial::before {content: \"\";position: absolute;border-left: 1px solid gray;box-sizing: border-box;top: 0;bottom: 0;left: 50%;z-index: 0;}#sk-container-id-3 div.sk-serial {display: flex;flex-direction: column;align-items: center;background-color: white;padding-right: 0.2em;padding-left: 0.2em;position: relative;}#sk-container-id-3 div.sk-item {position: relative;z-index: 1;}#sk-container-id-3 div.sk-parallel {display: flex;align-items: stretch;justify-content: center;background-color: white;position: relative;}#sk-container-id-3 div.sk-item::before, #sk-container-id-3 div.sk-parallel-item::before {content: \"\";position: absolute;border-left: 1px solid gray;box-sizing: border-box;top: 0;bottom: 0;left: 50%;z-index: -1;}#sk-container-id-3 div.sk-parallel-item {display: flex;flex-direction: column;z-index: 1;position: relative;background-color: white;}#sk-container-id-3 div.sk-parallel-item:first-child::after {align-self: flex-end;width: 50%;}#sk-container-id-3 div.sk-parallel-item:last-child::after {align-self: flex-start;width: 50%;}#sk-container-id-3 div.sk-parallel-item:only-child::after {width: 0;}#sk-container-id-3 div.sk-dashed-wrapped {border: 1px dashed gray;margin: 0 0.4em 0.5em 0.4em;box-sizing: border-box;padding-bottom: 0.4em;background-color: white;}#sk-container-id-3 div.sk-label label {font-family: monospace;font-weight: bold;display: inline-block;line-height: 1.2em;}#sk-container-id-3 div.sk-label-container {text-align: center;}#sk-container-id-3 div.sk-container {/* jupyter's `normalize.less` sets `[hidden] { display: none; }` but bootstrap.min.css set `[hidden] { display: none !important; }` so we also need the `!important` here to be able to override the default hidden behavior on the sphinx rendered scikit-learn.org. See: https://github.com/scikit-learn/scikit-learn/issues/21755 */display: inline-block !important;position: relative;}#sk-container-id-3 div.sk-text-repr-fallback {display: none;}</style><div id=\"sk-container-id-3\" class=\"sk-top-container\"><div class=\"sk-text-repr-fallback\"><pre>CountVectorizer(max_features=5000, stop_words=&#x27;english&#x27;)</pre><b>In a Jupyter environment, please rerun this cell to show the HTML representation or trust the notebook. <br />On GitHub, the HTML representation is unable to render, please try loading this page with nbviewer.org.</b></div><div class=\"sk-container\" hidden><div class=\"sk-item\"><div class=\"sk-estimator sk-toggleable\"><input class=\"sk-toggleable__control sk-hidden--visually\" id=\"sk-estimator-id-3\" type=\"checkbox\" checked><label for=\"sk-estimator-id-3\" class=\"sk-toggleable__label sk-toggleable__label-arrow\">CountVectorizer</label><div class=\"sk-toggleable__content\"><pre>CountVectorizer(max_features=5000, stop_words=&#x27;english&#x27;)</pre></div></div></div></div></div>"
            ]
          },
          "metadata": {},
          "execution_count": 147
        }
      ]
    },
    {
      "cell_type": "code",
      "source": [
        "vect = countvec.fit_transform(df_new[\"tags\"]).toarray()"
      ],
      "metadata": {
        "id": "xkIRP4Wwjs86"
      },
      "execution_count": null,
      "outputs": []
    },
    {
      "cell_type": "code",
      "source": [
        "vect"
      ],
      "metadata": {
        "colab": {
          "base_uri": "https://localhost:8080/"
        },
        "id": "_GZXPK1XoA32",
        "outputId": "abe90245-18b7-4efa-b287-a07760fd906f"
      },
      "execution_count": null,
      "outputs": [
        {
          "output_type": "execute_result",
          "data": {
            "text/plain": [
              "array([[0, 0, 0, ..., 0, 0, 0],\n",
              "       [0, 0, 0, ..., 1, 0, 0],\n",
              "       [0, 0, 0, ..., 0, 0, 0],\n",
              "       ...,\n",
              "       [0, 0, 0, ..., 0, 0, 0],\n",
              "       [0, 0, 0, ..., 0, 0, 0],\n",
              "       [0, 0, 0, ..., 0, 0, 0]])"
            ]
          },
          "metadata": {},
          "execution_count": 149
        }
      ]
    },
    {
      "cell_type": "code",
      "source": [
        "countvec.get_feature_names_out()"
      ],
      "metadata": {
        "colab": {
          "base_uri": "https://localhost:8080/"
        },
        "id": "zF6exb2BjzG5",
        "outputId": "5bd745c9-59c0-474a-fa2c-19ee902b7b63"
      },
      "execution_count": null,
      "outputs": [
        {
          "output_type": "execute_result",
          "data": {
            "text/plain": [
              "array(['10', '1000', '11', ..., 'zone', 'zoo', 'zooeydeschanel'],\n",
              "      dtype=object)"
            ]
          },
          "metadata": {},
          "execution_count": 150
        }
      ]
    },
    {
      "cell_type": "code",
      "source": [
        "sim = cosine_similarity(vect)"
      ],
      "metadata": {
        "id": "tjES_1Fsj3zF"
      },
      "execution_count": null,
      "outputs": []
    },
    {
      "cell_type": "code",
      "source": [
        "sim"
      ],
      "metadata": {
        "colab": {
          "base_uri": "https://localhost:8080/"
        },
        "id": "H9EDf8a0oFyL",
        "outputId": "6732b03c-f385-4431-8308-92be1d41ca5f"
      },
      "execution_count": null,
      "outputs": [
        {
          "output_type": "execute_result",
          "data": {
            "text/plain": [
              "array([[1.        , 0.06686508, 0.08711806, ..., 0.07012869, 0.01488398,\n",
              "        0.11768446],\n",
              "       [0.06686508, 1.        , 0.14213381, ..., 0.06356417, 0.02023612,\n",
              "        0.04571503],\n",
              "       [0.08711806, 0.14213381, 1.        , ..., 0.1490712 , 0.1423737 ,\n",
              "        0.10721125],\n",
              "       ...,\n",
              "       [0.07012869, 0.06356417, 0.1490712 , ..., 1.        , 0.02122382,\n",
              "        0.04794633],\n",
              "       [0.01488398, 0.02023612, 0.1423737 , ..., 0.02122382, 1.        ,\n",
              "        0.29001719],\n",
              "       [0.11768446, 0.04571503, 0.10721125, ..., 0.04794633, 0.29001719,\n",
              "        1.        ]])"
            ]
          },
          "metadata": {},
          "execution_count": 152
        }
      ]
    },
    {
      "cell_type": "code",
      "source": [
        "sim.shape"
      ],
      "metadata": {
        "colab": {
          "base_uri": "https://localhost:8080/"
        },
        "id": "Bc6LULQ3kt_-",
        "outputId": "94a16c8a-8c24-43bc-f9a1-96b8da1a02a1"
      },
      "execution_count": null,
      "outputs": [
        {
          "output_type": "execute_result",
          "data": {
            "text/plain": [
              "(7618, 7618)"
            ]
          },
          "metadata": {},
          "execution_count": 153
        }
      ]
    },
    {
      "cell_type": "code",
      "source": [
        "def recommend(movies):\n",
        "    movie_index = new_df[new_df.title == movies].index[0]\n",
        "    distances = similarity[movie_index]\n",
        "    movies_list = sorted(list(enumerate(distances)), reverse=True, key= lambda x:x[1])[1:6]\n",
        "    \n",
        "    for i in movies_list:\n",
        "        print(new_df.iloc[i[0]].title)"
      ],
      "metadata": {
        "id": "KrwgFAO_lAXw"
      },
      "execution_count": null,
      "outputs": []
    },
    {
      "cell_type": "code",
      "source": [
        "recommend(\"Batman\")"
      ],
      "metadata": {
        "id": "Fx7W-NJup-eP"
      },
      "execution_count": null,
      "outputs": []
    },
    {
      "cell_type": "code",
      "source": [
        "#now it is time for building recommendation system."
      ],
      "metadata": {
        "id": "UnJ_-P4Mkx_T"
      },
      "execution_count": null,
      "outputs": []
    },
    {
      "cell_type": "code",
      "source": [
        "input = input(\"Plug in the movie: \")\n",
        "\n",
        "recommend(input)"
      ],
      "metadata": {
        "id": "1H1xpZUwu8_0"
      },
      "execution_count": null,
      "outputs": []
    }
  ]
}